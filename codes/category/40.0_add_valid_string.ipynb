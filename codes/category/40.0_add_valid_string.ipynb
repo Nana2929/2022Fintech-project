{
 "cells": [
  {
   "cell_type": "markdown",
   "id": "8b4cef1c-4689-45f0-8e6e-02cad04c68be",
   "metadata": {},
   "source": [
    "## 40.0 Post-hoc\n",
    "\n",
    "    Author: Nana\n",
    "    Date: 2022.5.15\n",
    "1. Run inference on valid set, save the softmaxed probability vectors.\n",
    "2. Identify the categories with low f1 score.\n",
    "3. Run fasttext keywords string matching; add up the probabilites of the matched keywords\n",
    "and re-select the classes based on new probability vector.\n",
    "    "
   ]
  },
  {
   "cell_type": "code",
   "execution_count": 1,
   "id": "b5cbd35e-98bb-4441-892e-4d0397f79859",
   "metadata": {},
   "outputs": [
    {
     "name": "stderr",
     "output_type": "stream",
     "text": [
      "/home/avo727/.local/lib/python3.8/site-packages/tqdm/auto.py:22: TqdmWarning: IProgress not found. Please update jupyter and ipywidgets. See https://ipywidgets.readthedocs.io/en/stable/user_install.html\n",
      "  from .autonotebook import tqdm as notebook_tqdm\n"
     ]
    }
   ],
   "source": [
    "import joblib, sys\n",
    "import numpy as np\n",
    "import pandas as pd\n",
    "import random\n",
    "import torch \n",
    "import os\n",
    "import torch.nn as nn\n",
    "import torch.nn.functional as F\n",
    "checkpoint_path = './checkpoints/0510-0939/model.ckpt'\n",
    "dataset_path = './dataset/encoded_dataset_30.0'"
   ]
  },
  {
   "cell_type": "code",
   "execution_count": 2,
   "id": "ea56bda3-899c-466f-8f00-6a395112c7d8",
   "metadata": {},
   "outputs": [],
   "source": [
    "import datasets\n",
    "from datasets import Dataset, load_metric"
   ]
  },
  {
   "cell_type": "code",
   "execution_count": 4,
   "id": "6063f93b-46ba-4f43-ae2d-424733c776b6",
   "metadata": {},
   "outputs": [],
   "source": [
    "dataset = datasets.load_from_disk(dataset_path)\n",
    "valset = dataset['test']"
   ]
  },
  {
   "cell_type": "code",
   "execution_count": 5,
   "id": "b0986707-efc8-4e43-b929-3e3754a5b93a",
   "metadata": {},
   "outputs": [
    {
     "name": "stdout",
     "output_type": "stream",
     "text": [
      "cuda\n"
     ]
    }
   ],
   "source": [
    "# load the fine-tuned model for inference\n",
    "device = torch.device('cuda' if torch.cuda.is_available() else 'cpu')\n",
    "print(device)"
   ]
  },
  {
   "cell_type": "code",
   "execution_count": 123,
   "id": "e790e95c-26c1-4fb7-aece-080164f6a7a1",
   "metadata": {},
   "outputs": [
    {
     "name": "stdout",
     "output_type": "stream",
     "text": [
      "\n"
     ]
    }
   ],
   "source": [
    "model = torch.load(checkpoint_path)\n",
    "model.to(device)\n",
    "print()"
   ]
  },
  {
   "cell_type": "code",
   "execution_count": 4,
   "id": "cdee0e5a-631d-4519-aafa-5dbb0e5b7836",
   "metadata": {},
   "outputs": [
    {
     "name": "stdout",
     "output_type": "stream",
     "text": [
      "Sat May 14 13:17:58 2022       \n",
      "+-----------------------------------------------------------------------------+\n",
      "| NVIDIA-SMI 495.46       Driver Version: 495.46       CUDA Version: 11.5     |\n",
      "|-------------------------------+----------------------+----------------------+\n",
      "| GPU  Name        Persistence-M| Bus-Id        Disp.A | Volatile Uncorr. ECC |\n",
      "| Fan  Temp  Perf  Pwr:Usage/Cap|         Memory-Usage | GPU-Util  Compute M. |\n",
      "|                               |                      |               MIG M. |\n",
      "|===============================+======================+======================|\n",
      "|   0  NVIDIA RTX A5000    Off  | 00000000:3E:00.0  On |                  Off |\n",
      "| 30%   33C    P8    17W / 230W |     43MiB / 24248MiB |      0%      Default |\n",
      "|                               |                      |                  N/A |\n",
      "+-------------------------------+----------------------+----------------------+\n",
      "                                                                               \n",
      "+-----------------------------------------------------------------------------+\n",
      "| Processes:                                                                  |\n",
      "|  GPU   GI   CI        PID   Type   Process name                  GPU Memory |\n",
      "|        ID   ID                                                   Usage      |\n",
      "|=============================================================================|\n",
      "|    0   N/A  N/A      1612      G   /usr/lib/xorg/Xorg                 24MiB |\n",
      "+-----------------------------------------------------------------------------+\n"
     ]
    }
   ],
   "source": [
    "!nvidia-smi"
   ]
  },
  {
   "cell_type": "code",
   "execution_count": 56,
   "id": "ce4d8af3-f456-4760-859f-ee7170982711",
   "metadata": {},
   "outputs": [],
   "source": [
    "MODELNAME = 'bert-base-chinese'\n",
    "from transformers import BertTokenizerFast\n",
    "tokenizer = BertTokenizerFast.from_pretrained(MODELNAME)\n",
    "def collate_fn(batch):\n",
    "    keys = batch[0].keys()\n",
    "    # print(keys)\n",
    "    # 'id', 'name', 'label', 'seg_name', 'label_name', 'input_ids', 'token_type_ids', 'attention_mask', 'labels'\n",
    "    to_tensor = ['input_ids', 'token_type_ids', 'attention_mask']\n",
    "    new_batch = {k:[d[k] for d in batch] for k in keys if k in to_tensor}\n",
    "    new_batch = tokenizer.pad(\n",
    "        new_batch,\n",
    "        padding= \"max_length\",\n",
    "        max_length= 100,\n",
    "        return_tensors=\"pt\",\n",
    "    )\n",
    "    label = [d['label'] for d in batch]\n",
    "    ids = [d['id'] for d in batch]\n",
    "    new_batch['label'] = torch.tensor(label, dtype=torch.float32)\n",
    "    new_batch[\"id\"] = torch.tensor(ids, dtype=torch.int64)\n",
    "    return new_batch"
   ]
  },
  {
   "cell_type": "code",
   "execution_count": 41,
   "id": "88764eb3-2a3e-4fb6-b5f3-ba0df24e45f0",
   "metadata": {},
   "outputs": [],
   "source": [
    "from torch.utils.data import DataLoader\n",
    "batch_size = 20\n",
    "val_loader = DataLoader(valset, \n",
    "                        batch_size = batch_size, \n",
    "                        collate_fn=collate_fn, \n",
    "                        shuffle = False)"
   ]
  },
  {
   "cell_type": "code",
   "execution_count": 113,
   "id": "ef8edcfd-e815-4c67-9220-b576e75a5e99",
   "metadata": {},
   "outputs": [],
   "source": [
    "from sklearn.metrics import f1_score, classification_report\n",
    "def compute_accuracy(labels, preds, threshold = 0.5, zd = 1):\n",
    "    preds = np.where(preds <= threshold, 0, 1)\n",
    "    return {'macro f1': f1_score(labels, preds, average = 'macro', zero_division = zd), \n",
    "            'weighted f1': f1_score(labels, preds, average = 'weighted', zero_division = zd)}"
   ]
  },
  {
   "cell_type": "code",
   "execution_count": 57,
   "id": "d339fe01-02af-41e8-9bd7-ef2970113c22",
   "metadata": {},
   "outputs": [
    {
     "name": "stdout",
     "output_type": "stream",
     "text": [
      "🍎 Finished inferencing.\n",
      "[info]|VAL F1 macro: 0.629, weighted: 0.856\n"
     ]
    }
   ],
   "source": [
    "model.to(device)\n",
    "model.eval()\n",
    "with torch.no_grad():\n",
    "    val_pairs = {'preds': [], \n",
    "                'labels': []}\n",
    "    for id, batch in enumerate(val_loader):\n",
    "        inputs = batch['input_ids'].to(device)\n",
    "        attnmasks = batch['attention_mask'].to(device)\n",
    "        labels = batch['label'].to(device)\n",
    "        logits = model(inputs, attnmasks).logits\n",
    "        # storing results \n",
    "        preds = F.softmax(logits, dim = 1)\n",
    "\n",
    "        preds = preds.detach().cpu().numpy()\n",
    "        labels = labels.detach().cpu().numpy()\n",
    "        val_pairs['labels'].append(labels)\n",
    "        val_pairs['preds'].append(preds)\n",
    "\n",
    "    # Note that we need to compute by dataset instead of by batch\n",
    "    val_preds = np.vstack(val_pairs['preds'])\n",
    "    val_labels = np.vstack(val_pairs['labels'])\n",
    "    val_acc = compute_accuracy(labels = val_labels, \n",
    "                                   preds = val_preds)\n",
    "    raw_val_preds = val_preds\n",
    "    validation_predictions = np.where(val_preds <= 0.5, 0, 1)\n",
    "    \n",
    "    print(\"🍎 Finished inferencing.\")\n",
    "    print(f\"[info]|VAL F1 macro: {val_acc['macro f1']:.3f}, weighted: {val_acc['weighted f1']:.3f}\")\n",
    "    "
   ]
  },
  {
   "cell_type": "code",
   "execution_count": 31,
   "id": "a638226f-aee8-4d31-9abc-823f6ae72ed3",
   "metadata": {},
   "outputs": [
    {
     "data": {
      "text/plain": [
       "True"
      ]
     },
     "execution_count": 31,
     "metadata": {},
     "output_type": "execute_result"
    }
   ],
   "source": [
    "len(validation_predictions)==len(valset)"
   ]
  },
  {
   "cell_type": "code",
   "execution_count": 59,
   "id": "e08adf5a-c796-4776-980a-299dbd3cad18",
   "metadata": {},
   "outputs": [],
   "source": [
    "predpath = './predictions/0.63_val_predictions.pkl'\n",
    "labelspath = './predictions/encoded_30.0_labels.pkl'\n",
    "probspath = './predictions//0.63_val_predictions_probs.pkl'\n",
    "# joblib.dump(validation_predictions, predpath)\n",
    "# joblib.dump(val_labels, labelspath)\n",
    "# joblib.dump(raw_val_preds, probspath)\n",
    "valpreds = joblib.load(predpath)\n",
    "vallabels = joblib.load(labelspath)\n"
   ]
  },
  {
   "cell_type": "markdown",
   "id": "b28ad6d8-2074-4519-8527-311a98f0c4d1",
   "metadata": {},
   "source": [
    "### Run afterwards"
   ]
  },
  {
   "cell_type": "code",
   "execution_count": 16,
   "id": "0a0f3093-be4a-489f-a036-3b6ea3e20247",
   "metadata": {},
   "outputs": [],
   "source": [
    "# hyperparams\n",
    "N = 217 # category數量"
   ]
  },
  {
   "cell_type": "code",
   "execution_count": 12,
   "id": "a0d91f95-b340-4a90-a11c-4f70399d8fa9",
   "metadata": {},
   "outputs": [],
   "source": [
    "## f1_score(y_true, y_pred, average=None)\n",
    "from sklearn.metrics import precision_recall_fscore_support as score\n",
    "_, _,f1byclass, support = score(y_true = vallabels, y_pred = valpreds, zero_division = 1,  # no testing sample的class其f1取1\n",
    "                     average = None)"
   ]
  },
  {
   "cell_type": "code",
   "execution_count": 13,
   "id": "ffb276d5-ec9e-44c2-834b-9f38b6e3efab",
   "metadata": {},
   "outputs": [],
   "source": [
    "# !conda install scikit-learn --yes"
   ]
  },
  {
   "cell_type": "code",
   "execution_count": 14,
   "id": "f015d0fd-d043-4646-a956-d31c371b1a61",
   "metadata": {},
   "outputs": [],
   "source": [
    "cat2idx = joblib.load(f'./category/cat2idx.pkl')\n",
    "idx2cat = {v:k for k, v in cat2idx.items()}"
   ]
  },
  {
   "cell_type": "code",
   "execution_count": 17,
   "id": "96c0e427-d920-4aee-a024-20f6e38d67b5",
   "metadata": {},
   "outputs": [],
   "source": [
    "poors = []\n",
    "for i in range(N):\n",
    "    if f1byclass[i] < 0.1:\n",
    "        poors.append((idx2cat[i], f1byclass[i], support[i]))"
   ]
  },
  {
   "cell_type": "code",
   "execution_count": 18,
   "id": "4d7b0cca-c0a8-4265-8cc1-edeb81fd0769",
   "metadata": {},
   "outputs": [
    {
     "data": {
      "text/plain": [
       "[('巧拼地墊', 0.0, 4),\n",
       " ('瓦斯爐(廚房用)', 0.0, 14),\n",
       " ('甲油膠', 0.0, 3),\n",
       " ('兒童牙刷', 0.0, 86),\n",
       " ('成長幼兒奶粉', 0.0, 21),\n",
       " ('媽媽奶粉', 0.0, 9),\n",
       " ('羊乳', 0.0, 6),\n",
       " ('西式香腸', 0.0, 23),\n",
       " ('即飲無糖茶', 0.0, 81),\n",
       " ('快煮麵/乾拌麵', 0.0, 109),\n",
       " ('洗衣粉', 0.0, 73),\n",
       " ('洗髮精(嬰幼童/孕婦)', 0.0, 65),\n",
       " ('豆奶/豆乳', 0.0, 41),\n",
       " ('乳酸菌', 0.0, 8),\n",
       " ('兒童牙膏', 0.0, 69),\n",
       " ('卸甲液', 0.0, 1),\n",
       " ('卸妝乳', 0.0, 50),\n",
       " ('卸妝油', 0.0, 47),\n",
       " ('卸妝濕巾', 0.0, 5),\n",
       " ('卸妝霜', 0.0, 10),\n",
       " ('卸妝露', 0.0, 2),\n",
       " ('保溫杯', 0.0, 1),\n",
       " ('前導精華', 0.0, 3),\n",
       " ('眼部精華', 0.0, 15),\n",
       " ('按摩椅', 0.0, 2),\n",
       " ('洗衣球', 0.0, 97),\n",
       " ('洗碗機', 0.0, 4),\n",
       " ('眉膠筆', 0.0, 17),\n",
       " ('香氛機', 0.0, 5),\n",
       " ('BB霜', 0.0, 24),\n",
       " ('CC霜', 0.0, 14),\n",
       " ('原味牛乳', 0.0, 2),\n",
       " ('唇彩盤', 0.0, 4),\n",
       " ('唇膏', 0.0, 242),\n",
       " ('唇蜜', 0.0, 34),\n",
       " ('唇線筆', 0.0, 5),\n",
       " ('桌上電腦', 0.0, 11),\n",
       " ('氣炸鍋', 0.0, 21),\n",
       " ('消毒鍋', 0.0, 7),\n",
       " ('烘衣機/乾衣機', 0.0, 12),\n",
       " ('烤肉架', 0.0, 5),\n",
       " ('健腹器', 0.0, 8),\n",
       " ('熱水器', 0.0, 14),\n",
       " ('精華油', 0.0, 18),\n",
       " ('眼唇卸妝', 0.0, 34),\n",
       " ('眼影打底', 0.0, 5),\n",
       " ('眼影筆', 0.0, 12),\n",
       " ('眼影蜜', 0.0, 6),\n",
       " ('眼影霜', 0.0, 3),\n",
       " ('眼線液筆', 0.0, 25),\n",
       " ('野餐墊', 0.0, 8),\n",
       " ('棉褲/安睡褲', 0.0, 20),\n",
       " ('媽媽茶(哺乳茶)', 0.0, 5),\n",
       " ('溫奶器', 0.0, 2),\n",
       " ('瑜珈墊', 0.0, 4),\n",
       " ('維他命B+C', 0.0, 8),\n",
       " ('葉酸', 0.0, 11),\n",
       " ('電子鍋', 0.0, 39),\n",
       " ('電鍋', 0.0, 50),\n",
       " ('維他命D', 0.0, 18),\n",
       " ('維他命C', 0.0, 53),\n",
       " ('維他命E', 0.0, 16),\n",
       " ('調味豆漿', 0.0, 9),\n",
       " ('遮瑕蜜', 0.0, 9),\n",
       " ('遮瑕盤', 0.0, 6),\n",
       " ('機能牛乳', 0.0, 14),\n",
       " ('嬰幼手推車', 0.0, 1),\n",
       " ('嬰幼乳液', 0.0, 1),\n",
       " ('雞精', 0.0, 30),\n",
       " ('護唇精華', 0.0, 10),\n",
       " ('DD霜', 0.0, 1)]"
      ]
     },
     "execution_count": 18,
     "metadata": {},
     "output_type": "execute_result"
    }
   ],
   "source": [
    "poors # 71類 (category, category f1, support)\n",
    "# support: number of this category in validation set "
   ]
  },
  {
   "cell_type": "markdown",
   "id": "faa24d1b-0b6e-4b29-a7a8-520a2ffbaf18",
   "metadata": {},
   "source": [
    "### Add 23.0 Attempt 1: String Exact Match"
   ]
  },
  {
   "cell_type": "code",
   "execution_count": 19,
   "id": "903219d3-7802-4264-b1bf-09e0caeae574",
   "metadata": {},
   "outputs": [],
   "source": [
    "## load fasttext model \n",
    "from gensim.models import FastText\n",
    "fmodelpath = f'./fasttext/fasttext.model'\n",
    "fm = FastText.load(fmodelpath) "
   ]
  },
  {
   "cell_type": "code",
   "execution_count": 20,
   "id": "65b6745e-41fe-4c37-ba7b-084dcdabe5fe",
   "metadata": {},
   "outputs": [],
   "source": [
    "#!conda install gensim==3.8.3\n",
    "import gensim\n",
    "# downgrade the hecking gensim for model loading compatibility "
   ]
  },
  {
   "cell_type": "code",
   "execution_count": 21,
   "id": "86b065ed-1065-404b-bd88-59ea141ace57",
   "metadata": {},
   "outputs": [
    {
     "name": "stdout",
     "output_type": "stream",
     "text": [
      "3.8.3\n"
     ]
    }
   ],
   "source": [
    "print(gensim.__version__)"
   ]
  },
  {
   "cell_type": "code",
   "execution_count": 34,
   "id": "706cbca7-1724-4e0e-8927-b6bbf38e007f",
   "metadata": {},
   "outputs": [],
   "source": [
    "## get category keywords dictionary \n",
    "TOPN = 10\n",
    "from collections import defaultdict\n",
    "cat2keywords= defaultdict(list)\n",
    "for cat in cat2idx.keys():\n",
    "    if cat in fm.wv:\n",
    "        cat2keywords[cat] = fm.wv.most_similar(cat, topn = TOPN)\n",
    "        for subcat in cat.split('/'):\n",
    "            # 有些會有 快煮麵/乾拌麵 形式\n",
    "            cat2keywords[cat].append((subcat, 1))\n",
    "    else:\n",
    "        tokens = cat2keywords[cat]\n",
    "        for token in tokens:\n",
    "            cat2keywords.extend(fm.wv.most_similar(token, topn = TOPN))"
   ]
  },
  {
   "cell_type": "code",
   "execution_count": 42,
   "id": "4550e008-bfea-4b86-89c1-1d18294e1d1d",
   "metadata": {},
   "outputs": [],
   "source": [
    "# for (poorclass, f1, sup) in poors:\n",
    "#     print(poorclass)\n",
    "#     print(cat2keywords[poorclass])"
   ]
  },
  {
   "cell_type": "code",
   "execution_count": 36,
   "id": "45a067b6-137d-4709-8e90-739c117b1952",
   "metadata": {},
   "outputs": [
    {
     "data": {
      "text/plain": [
       "['./category/cat2kw.pkl']"
      ]
     },
     "execution_count": 36,
     "metadata": {},
     "output_type": "execute_result"
    }
   ],
   "source": [
    "poorpath = './category/poor_classf1.pkl'\n",
    "joblib.dump(poors, poorpath)\n",
    "cat2keywordspath = './category/cat2kw.pkl'\n",
    "joblib.dump(cat2keywords, cat2keywordspath)"
   ]
  },
  {
   "cell_type": "code",
   "execution_count": null,
   "id": "51a11006-95da-41e6-a9dc-e235b5204cb4",
   "metadata": {},
   "outputs": [],
   "source": [
    "for i, sample in enumerate(samples):\n",
    "    hit_vector = np.zeros(N)\n",
    "    name = sample['name']\n",
    "    for cat, pair in cat2kw.items():\n",
    "        ph_list, ph_probs = pair\n",
    "        pat = re.compile(r'(?:{})'.format('|'.join(map(re.escape, ph_list))))\n",
    "        found = re.findall(pat, name)\n",
    "        cat_hit_probs = sum(ph_probs[x] for x in found)\n",
    "        catid = cat2idx[cat]\n",
    "        hit_vector[catid] = cat_hit_probs\n",
    "    samples[i]['hitsprobs'] = hit_vector \n",
    "    "
   ]
  },
  {
   "cell_type": "code",
   "execution_count": 49,
   "id": "355f4a58-c21d-4f72-a58b-954952fec759",
   "metadata": {},
   "outputs": [],
   "source": [
    "poors_ = [x[0] for x in poors]"
   ]
  },
  {
   "cell_type": "code",
   "execution_count": 50,
   "id": "f8ec8e52-b1aa-4ddc-a6b6-d5b4441cb077",
   "metadata": {},
   "outputs": [],
   "source": [
    "poor_cat2kw = {k:v for k, v in cat2keywords.items() if k in poors_}"
   ]
  },
  {
   "cell_type": "code",
   "execution_count": 97,
   "id": "ddb31e23-70e4-4f84-9c4d-781b95cf1ddf",
   "metadata": {},
   "outputs": [],
   "source": [
    "def getclass(vec, THR):\n",
    "    classes = set()\n",
    "    pred = np.where(vec >= THR)[0].tolist()\n",
    "    for cls in pred:\n",
    "        classes.add(idx2cat[cls])\n",
    "    return classes"
   ]
  },
  {
   "cell_type": "code",
   "execution_count": 132,
   "id": "aabd4f12-0776-471a-85c9-9b407efcb5b5",
   "metadata": {},
   "outputs": [],
   "source": [
    "valprobs = joblib.load(probspath)"
   ]
  },
  {
   "cell_type": "markdown",
   "id": "7000ace1-7d11-43d6-9a2e-7b4aa9bd3ea6",
   "metadata": {},
   "source": [
    "#### string matching..."
   ]
  },
  {
   "cell_type": "code",
   "execution_count": 133,
   "id": "336800ef-735e-43dd-a655-3f95f34a5ac9",
   "metadata": {},
   "outputs": [],
   "source": [
    "import re\n",
    "THR = 0.99\n",
    "# use valprobs\n",
    "changed = 0\n",
    "val_names = valset['name']\n",
    "for i, name in enumerate(val_names):\n",
    "    pred_vector = valprobs[i, :]\n",
    "    beforeclass = getclass(pred_vector)\n",
    "    # print('before string match:', beforeclass)\n",
    "    for cat, pairs in poor_cat2kw.items():\n",
    "        kws = [x[0] for x in pairs]\n",
    "        kwprobs = [x[1] for x in pairs]\n",
    "        kwdict = {kw:kwprob for kw, kwprob in zip(kws, kwprobs)}\n",
    "        pat = re.compile(r'(?:{})'.format('|'.join(map(re.escape, kws))))\n",
    "        hits = re.findall(pat, name)\n",
    "        # print('hit keywords:', hits)\n",
    "        cat_hit_probs = sum(kwdict[hit] for hit in hits)\n",
    "        catid = cat2idx[cat]\n",
    "        \n",
    "        pred_vector[catid] = cat_hit_probs\n",
    "        afterclass = getclass(pred_vector)\n",
    "    # print('after string match:', afterclass)\n",
    "    if beforeclass != afterclass:\n",
    "        changed += 1\n",
    "        # print(f'Validation instance {i}:')\n",
    "        # print('* before string match:', beforeclass)\n",
    "        # print('* after string match:', afterclass)  "
   ]
  },
  {
   "cell_type": "code",
   "execution_count": null,
   "id": "d2f33500-8802-4316-b996-c7e1f7e39571",
   "metadata": {},
   "outputs": [],
   "source": [
    "idx2cat[np.argmax(valprobs[0])] # 預測"
   ]
  },
  {
   "cell_type": "code",
   "execution_count": 71,
   "id": "13a8a08d-934f-413f-bb71-f179751c2f25",
   "metadata": {},
   "outputs": [
    {
     "data": {
      "text/plain": [
       "'貓零食'"
      ]
     },
     "execution_count": 71,
     "metadata": {},
     "output_type": "execute_result"
    }
   ],
   "source": [
    "idx2cat[np.argmax(vallabels[0])] # 實際標記"
   ]
  },
  {
   "cell_type": "code",
   "execution_count": 134,
   "id": "fd88413a-01a2-449b-8b4c-debae42d02d6",
   "metadata": {},
   "outputs": [
    {
     "data": {
      "text/plain": [
       "5100"
      ]
     },
     "execution_count": 134,
     "metadata": {},
     "output_type": "execute_result"
    }
   ],
   "source": [
    "# number of predictions changed: \n",
    "changed"
   ]
  },
  {
   "cell_type": "markdown",
   "id": "5de6f28c-4471-437d-9236-64173602ead1",
   "metadata": {},
   "source": [
    "## 🏆 probability threshold ＝= 0.5\n",
    "當初訓練的門檻也是調0.5，macro f1可至0.71左右"
   ]
  },
  {
   "cell_type": "code",
   "execution_count": 108,
   "id": "36237cc9-7fde-433b-b7fe-00234193fc88",
   "metadata": {},
   "outputs": [
    {
     "data": {
      "text/plain": [
       "{'macro f1': 0.7053355365535308, 'weighted f1': 0.8918203239915521}"
      ]
     },
     "execution_count": 108,
     "metadata": {},
     "output_type": "execute_result"
    }
   ],
   "source": [
    "### np.where的threshold設0.5： \n",
    "compute_accuracy(vallabels, valprobs, threshold = 0.5)"
   ]
  },
  {
   "cell_type": "markdown",
   "id": "7faf555a-43a7-4b54-835b-efb207a2dc01",
   "metadata": {},
   "source": [
    "比較：$ BERT訓練成果\n",
    "🍎 VAL F1 macro: 0.629, weighted: 0.856"
   ]
  },
  {
   "cell_type": "code",
   "execution_count": 118,
   "id": "cdbcdcac-fc60-44ca-acda-94e6eac776eb",
   "metadata": {},
   "outputs": [],
   "source": [
    "labels = sorted(cat2idx.items(), key = lambda x:x[1])\n",
    "keys = [x[0] for x in labels]"
   ]
  },
  {
   "cell_type": "code",
   "execution_count": 120,
   "id": "872f6bd8-57b4-40bb-8141-bfd179fdccd8",
   "metadata": {},
   "outputs": [
    {
     "name": "stdout",
     "output_type": "stream",
     "text": [
      "              precision    recall  f1-score   support\n",
      "\n",
      "        人工淚液       0.95      0.95      0.95        21\n",
      "        中式香腸       0.71      1.00      0.83        57\n",
      "         化妝水       0.98      0.98      0.98       173\n",
      "        成人牙膏       0.85      1.00      0.92       403\n",
      "      水路/健行鞋       1.00      1.00      1.00         0\n",
      "         火鍋料       0.98      1.00      0.99        57\n",
      "          奶瓶       0.98      0.98      0.98        44\n",
      "        巧拼地墊       0.02      0.75      0.04         4\n",
      "        平板電腦       0.95      0.62      0.75        34\n",
      "       筆記型電腦       0.83      0.92      0.87        48\n",
      "       智慧型手機       0.85      0.93      0.89       148\n",
      "    瓦斯爐(廚房用)       0.00      0.00      0.00        14\n",
      "    瓦斯爐(攜帶式)       0.50      1.00      0.67        13\n",
      "       甲片/甲貼       0.98      1.00      0.99        41\n",
      "         甲油膠       0.75      1.00      0.86         3\n",
      "          冰箱       1.00      1.00      1.00        38\n",
      "        安全汽座       0.87      0.93      0.90        14\n",
      "        成人牙刷       0.74      1.00      0.85       239\n",
      "        成人奶粉       0.77      1.00      0.87        92\n",
      "        兒童牙刷       0.24      0.58      0.34        86\n",
      "       成人紙尿褲       1.00      1.00      1.00        45\n",
      "      成長幼兒奶粉       0.11      1.00      0.19        21\n",
      "        媽媽奶粉       0.04      0.89      0.07         9\n",
      "         收納櫃       0.95      1.00      0.97        52\n",
      "      米漿/豆米漿       0.97      1.00      0.98        28\n",
      "          羊乳       0.05      1.00      0.09         6\n",
      "        西式香腸       0.00      0.00      0.00        23\n",
      "     冷氣/冷暖空調       0.88      1.00      0.94        15\n",
      "        即食雞胸       0.91      1.00      0.95        20\n",
      "        即飲奶茶       1.00      1.00      1.00       107\n",
      "        即飲咖啡       1.00      0.99      0.99        76\n",
      "         洗髮精       0.94      0.99      0.97       754\n",
      "         咖啡豆       1.00      1.00      1.00        46\n",
      "        即飲紅茶       0.93      1.00      0.96       112\n",
      "       即飲無糖茶       0.00      0.00      0.00        81\n",
      "       即飲烏龍茶       0.69      1.00      0.81        24\n",
      "        即飲綠茶       0.79      0.99      0.88       107\n",
      "        即溶咖啡       0.98      0.98      0.98       132\n",
      "          眉筆       0.91      1.00      0.95       169\n",
      "         吸塵器       1.00      0.99      1.00       126\n",
      "         洗衣機       0.86      1.00      0.93        70\n",
      "         吹風機       1.00      0.99      0.99        86\n",
      "     妝前乳/隔離霜       0.99      0.94      0.96       131\n",
      "         快煮壺       0.96      1.00      0.98        51\n",
      "     快煮麵/乾拌麵       0.57      0.12      0.20       109\n",
      "         杏仁奶       1.00      1.00      1.00        14\n",
      "         沐浴乳       0.98      1.00      0.99       574\n",
      "         洗面乳       0.97      0.99      0.98       570\n",
      "         卸妝水       0.40      0.98      0.57        88\n",
      "         洗衣精       0.69      1.00      0.81       415\n",
      "         洗衣粉       0.84      0.97      0.90        73\n",
      " 洗髮精(嬰幼童/孕婦)       0.46      0.26      0.33        65\n",
      "          面膜       1.00      1.00      1.00       378\n",
      "       豆奶/豆乳       0.23      0.95      0.37        41\n",
      "      豆漿/黑豆漿       0.66      0.99      0.79        78\n",
      "        身體乳液       0.96      1.00      0.98        88\n",
      "          防曬       0.95      0.88      0.91       106\n",
      "         乳酸菌       0.20      1.00      0.33         8\n",
      "        兒童牙膏       0.33      1.00      0.50        69\n",
      "       兒童漱口水       0.96      1.00      0.98        26\n",
      "    其他地墊(家用)       0.67      1.00      0.80        36\n",
      "         卸甲液       0.00      0.00      0.00         1\n",
      "         卸妝乳       0.16      0.68      0.26        50\n",
      "         卸妝油       0.14      0.34      0.19        47\n",
      "         卸妝棉       1.00      1.00      1.00        58\n",
      "        卸妝凝膠       0.82      0.85      0.84        27\n",
      "        卸妝濕巾       0.04      1.00      0.07         5\n",
      "         卸妝霜       0.04      0.80      0.07        10\n",
      "         卸妝露       0.01      1.00      0.02         2\n",
      "         咖啡機       1.00      1.00      1.00        32\n",
      "          鍋具       0.73      0.98      0.84       324\n",
      "         果汁機       1.00      1.00      1.00        18\n",
      "       狗乾糧罐頭       0.89      1.00      0.94       278\n",
      "         狗零食       0.96      0.62      0.75        89\n",
      "         芳香豆       1.00      1.00      1.00        52\n",
      "         保久乳       1.00      0.71      0.83        63\n",
      "         保溫杯       0.09      1.00      0.17         1\n",
      "         保險套       0.99      0.99      0.99       100\n",
      "        前導精華       0.01      1.00      0.02         3\n",
      "        眼部精華       0.03      0.73      0.06        15\n",
      "         精華液       0.82      0.98      0.89       149\n",
      "         指甲油       0.98      1.00      0.99       167\n",
      "         按摩椅       0.07      0.50      0.12         2\n",
      "         染眉膏       1.00      1.00      1.00        28\n",
      "         柔軟精       0.99      0.98      0.98        84\n",
      "         洗衣皂       1.00      0.40      0.57        20\n",
      "         洗衣球       0.89      1.00      0.94        97\n",
      "          眼霜       0.92      1.00      0.96        58\n",
      "         洗碗機       0.03      1.00      0.07         4\n",
      "          眉粉       0.94      0.94      0.94        33\n",
      "         眉膠筆       0.10      0.94      0.18        17\n",
      "       面霜/乳霜       0.83      1.00      0.91       228\n",
      "         香氛機       0.00      0.00      0.00         5\n",
      "        香氛蠟燭       1.00      1.00      1.00        19\n",
      "          修容       1.00      1.00      1.00        36\n",
      "         粉底液       0.99      0.99      0.99       173\n",
      "          粉餅       0.99      1.00      0.99       141\n",
      "         BB霜       0.26      1.00      0.41        24\n",
      "         CC霜       0.11      1.00      0.19        14\n",
      "        原味牛乳       0.01      1.00      0.01         2\n",
      "          唇彩       0.58      0.88      0.70        16\n",
      "         染唇液       1.00      1.00      1.00         0\n",
      "          唇釉       1.00      0.98      0.99        65\n",
      "         唇彩盤       0.04      0.75      0.08         4\n",
      "          唇膏       0.49      1.00      0.66       242\n",
      "          唇蜜       0.07      0.21      0.10        34\n",
      "         護唇膏       0.46      1.00      0.63       241\n",
      "         護手霜       0.99      1.00      0.99       192\n",
      "         唇線筆       0.04      1.00      0.09         5\n",
      "          唇露       1.00      1.00      1.00        17\n",
      "        桌上電腦       0.03      0.36      0.05        11\n",
      "         氣泡水       0.98      1.00      0.99       100\n",
      "         氣炸鍋       0.25      1.00      0.40        21\n",
      "         消毒鍋       0.08      1.00      0.15         7\n",
      "     烘衣機/乾衣機       0.08      1.00      0.15        12\n",
      "         烘碗機       0.88      1.00      0.94        30\n",
      "         烤肉架       0.44      0.80      0.57         5\n",
      "          烤箱       0.92      1.00      0.96        36\n",
      "       珪藻土地墊       1.00      1.00      1.00        29\n",
      "         益生菌       0.90      0.99      0.94        70\n",
      "         除濕機       0.99      1.00      1.00       127\n",
      "         健腹器       0.21      0.75      0.33         8\n",
      "       啞鈴/槓鈴       0.94      0.94      0.94        17\n",
      "          槓片       1.00      1.00      1.00         0\n",
      "          啤酒       0.99      0.91      0.95       416\n",
      "         熱水器       0.12      0.86      0.21        14\n",
      "       RTD調酒       0.97      0.95      0.96       123\n",
      "         眼影盤       0.84      1.00      0.91       151\n",
      "      速食麵/泡麵       0.81      1.00      0.90       482\n",
      "         醬油類       0.99      0.97      0.98       162\n",
      "       貓乾糧罐頭       0.94      0.99      0.96       398\n",
      "         精華油       0.27      0.94      0.41        18\n",
      "         貓零食       0.96      0.68      0.80        76\n",
      "        常溫醬包       0.97      1.00      0.99       246\n",
      "         掃地機       0.96      1.00      0.98        24\n",
      "        排油煙機       1.00      1.00      1.00         7\n",
      "        液晶電視       0.96      0.99      0.97        76\n",
      "       電視遊戲機       0.94      1.00      0.97        30\n",
      "     淨水器/濾水器       0.96      0.87      0.91        30\n",
      "         濕紙巾       0.98      1.00      0.99       321\n",
      "        眼唇卸妝       0.15      0.97      0.27        34\n",
      "        眼影打底       0.03      0.20      0.06         5\n",
      "       眼影刷/棒       1.00      0.67      0.80        36\n",
      "         眼影筆       0.32      0.75      0.45        12\n",
      "         眼影蜜       0.14      0.67      0.24         6\n",
      "          腮紅       1.00      0.99      0.99        85\n",
      "         眼影霜       0.07      1.00      0.14         3\n",
      "         眼線液       0.95      1.00      0.97        36\n",
      "        眼線膠筆       0.96      1.00      0.98        44\n",
      "        眼線液筆       0.16      1.00      0.27        25\n",
      "         眼線筆       0.54      1.00      0.70        39\n",
      "         野餐墊       0.09      0.75      0.15         8\n",
      "        麥片穀類       1.00      1.00      1.00       131\n",
      "         燕麥奶       0.98      1.00      0.99        52\n",
      "         智慧錶       1.00      0.97      0.99        37\n",
      "          棉條       1.00      1.00      1.00        56\n",
      "      棉褲/安睡褲       0.22      0.70      0.34        20\n",
      "          湯圓       1.00      1.00      1.00        32\n",
      "           菸       0.95      0.97      0.96       345\n",
      "        碳酸飲料       0.84      1.00      0.91       193\n",
      "         跑步機       1.00      1.00      1.00         7\n",
      "    媽媽茶(哺乳茶)       0.00      0.00      0.00         5\n",
      "         微波爐       1.00      0.98      0.99        53\n",
      "          椰奶       1.00      1.00      1.00         6\n",
      "         溫奶器       0.50      1.00      0.67         2\n",
      "          滑鼠       1.00      1.00      1.00       218\n",
      "         瑜珈墊       0.20      0.75      0.32         4\n",
      "         睫毛膏       1.00      1.00      1.00        90\n",
      "          睡袋       0.72      1.00      0.84        39\n",
      "         葉黃素       1.00      0.99      0.99        96\n",
      "      維他命B+C       0.03      0.50      0.06         8\n",
      "          葉酸       0.10      1.00      0.19        11\n",
      "      運動/機能服       0.98      0.99      0.98       395\n",
      "        維他命B       0.50      0.99      0.66        93\n",
      "         運動鞋       0.97      0.97      0.97       433\n",
      "         電子鍋       0.23      1.00      0.37        39\n",
      "          電鍋       0.56      1.00      0.71        50\n",
      "         電風扇       1.00      0.97      0.99        40\n",
      "         電暖器       0.99      1.00      1.00       320\n",
      "         電磁爐       0.96      1.00      0.98        24\n",
      "        電熱水瓶       0.78      1.00      0.88        46\n",
      "         滴雞精       0.64      1.00      0.78        51\n",
      "          精油       1.00      1.00      1.00        28\n",
      "       維他命飲料       0.75      0.77      0.76        47\n",
      "        維他命D       0.08      0.56      0.14        18\n",
      "        維他命C       0.33      0.79      0.46        53\n",
      "          薑黃       0.94      1.00      0.97        32\n",
      "        維他命E       0.09      0.75      0.17        16\n",
      "        膠原蛋白       0.98      0.98      0.98        53\n",
      "          蜜粉       0.94      1.00      0.97        83\n",
      "         遮瑕膏       0.97      1.00      0.99        37\n",
      "        廚房紙巾       1.00      0.94      0.97        49\n",
      "         潤髮乳       0.99      1.00      0.99       132\n",
      "         護髮乳       1.00      0.96      0.98       354\n",
      "         衛生紙       1.00      1.00      1.00       226\n",
      "         衛生棉       0.96      1.00      0.98       132\n",
      "        調味牛乳       0.61      0.96      0.74        68\n",
      "        調味豆漿       0.08      0.78      0.15         9\n",
      "         調理機       0.85      1.00      0.92        11\n",
      "         遮瑕液       0.62      0.87      0.72        15\n",
      "         遮瑕筆       0.92      1.00      0.96        11\n",
      "         遮瑕蜜       0.14      0.78      0.24         9\n",
      "         遮瑕盤       0.06      1.00      0.12         6\n",
      "        機能牛乳       0.09      1.00      0.17        14\n",
      "          鮮乳       0.97      0.97      0.97       158\n",
      "          優格       0.98      0.99      0.99       112\n",
      "         優酪乳       0.99      0.97      0.98        73\n",
      "       嬰幼手推車       0.11      1.00      0.20         1\n",
      "        嬰幼乳液       0.00      0.00      0.00         1\n",
      "        臉部乳液       0.99      0.96      0.98       168\n",
      "          鍵盤       1.00      0.94      0.97       104\n",
      "         擴香瓶       0.91      1.00      0.95        30\n",
      "     濾掛/耳掛咖啡       1.00      1.00      1.00        86\n",
      "          雞精       0.36      1.00      0.53        30\n",
      "         礦泉水       1.00      1.00      1.00       234\n",
      "        護唇精華       0.03      1.00      0.05        10\n",
      "         DD霜       0.00      1.00      0.00         1\n",
      "\n",
      "   micro avg       0.64      0.96      0.77     18537\n",
      "   macro avg       0.67      0.90      0.71     18537\n",
      "weighted avg       0.86      0.96      0.89     18537\n",
      " samples avg       0.80      0.96      0.84     18537\n",
      "\n"
     ]
    }
   ],
   "source": [
    "revised_preds = np.where(valprobs <= 0.5, 0, 1)\n",
    "print(classification_report(y_true=vallabels, \n",
    "                            y_pred = revised_preds, \n",
    "                            zero_division = 1, \n",
    "                            target_names=keys))"
   ]
  },
  {
   "cell_type": "markdown",
   "id": "cb4421b7-d605-433a-99ce-2cddced25265",
   "metadata": {},
   "source": [
    "## 🏆 probability threshold ＝0.97\n",
    "我有試過0.7, 0.8, 0.999, ...目前看起來最佳的threshold如上，macro f1可至0.74左右。\n",
    "\n",
    "簡單來說這個演算法流程就是**訓練多標籤BERT（macro f1=0.639），以其預測結果輔以fasttext所訓練出的top 10關鍵字matching（macro f1 = 0.738）**。\n",
    "都是以資料集本身餵入處理與切割train test，未經過class數量的篩選與人為操作，如test set分布和valid set相似，可預估最後表現應該也是落在**0.63 ~0.74**之間。\n",
    "\n",
    "🍀 我這邊應該就做到這一步，接下來我會開始把這些步驟串在一起寫inference script。"
   ]
  },
  {
   "cell_type": "code",
   "execution_count": 142,
   "id": "c8a06603-2b4e-412d-9512-580fa0ede0f3",
   "metadata": {},
   "outputs": [
    {
     "data": {
      "text/plain": [
       "{'macro f1': 0.7416363784578881, 'weighted f1': 0.8963302546593493}"
      ]
     },
     "execution_count": 142,
     "metadata": {},
     "output_type": "execute_result"
    }
   ],
   "source": [
    "THR = 0.97\n",
    "compute_accuracy(vallabels, valprobs, threshold = THR)"
   ]
  },
  {
   "cell_type": "code",
   "execution_count": 143,
   "id": "c2d099db-13e8-451f-b40f-06f2ba971153",
   "metadata": {},
   "outputs": [
    {
     "name": "stdout",
     "output_type": "stream",
     "text": [
      "              precision    recall  f1-score   support\n",
      "\n",
      "        人工淚液       0.95      0.95      0.95        21\n",
      "        中式香腸       0.71      1.00      0.83        57\n",
      "         化妝水       0.98      0.97      0.98       173\n",
      "        成人牙膏       0.85      1.00      0.92       403\n",
      "      水路/健行鞋       1.00      1.00      1.00         0\n",
      "         火鍋料       1.00      1.00      1.00        57\n",
      "          奶瓶       0.98      0.98      0.98        44\n",
      "        巧拼地墊       0.06      0.75      0.11         4\n",
      "        平板電腦       1.00      0.59      0.74        34\n",
      "       筆記型電腦       0.85      0.92      0.88        48\n",
      "       智慧型手機       0.85      0.93      0.89       148\n",
      "    瓦斯爐(廚房用)       0.00      0.00      0.00        14\n",
      "    瓦斯爐(攜帶式)       0.50      1.00      0.67        13\n",
      "       甲片/甲貼       0.98      1.00      0.99        41\n",
      "         甲油膠       1.00      1.00      1.00         3\n",
      "          冰箱       1.00      0.95      0.97        38\n",
      "        安全汽座       0.93      0.93      0.93        14\n",
      "        成人牙刷       0.74      1.00      0.85       239\n",
      "        成人奶粉       0.77      1.00      0.87        92\n",
      "        兒童牙刷       0.25      0.58      0.35        86\n",
      "       成人紙尿褲       1.00      1.00      1.00        45\n",
      "      成長幼兒奶粉       0.71      0.48      0.57        21\n",
      "        媽媽奶粉       0.06      0.78      0.11         9\n",
      "         收納櫃       0.95      1.00      0.97        52\n",
      "      米漿/豆米漿       0.97      1.00      0.98        28\n",
      "          羊乳       0.00      0.00      0.00         6\n",
      "        西式香腸       1.00      0.00      0.00        23\n",
      "     冷氣/冷暖空調       0.94      1.00      0.97        15\n",
      "        即食雞胸       1.00      1.00      1.00        20\n",
      "        即飲奶茶       1.00      1.00      1.00       107\n",
      "        即飲咖啡       1.00      0.99      0.99        76\n",
      "         洗髮精       0.94      0.99      0.97       754\n",
      "         咖啡豆       1.00      1.00      1.00        46\n",
      "        即飲紅茶       0.93      1.00      0.96       112\n",
      "       即飲無糖茶       0.00      0.00      0.00        81\n",
      "       即飲烏龍茶       0.73      1.00      0.84        24\n",
      "        即飲綠茶       0.79      0.99      0.88       107\n",
      "        即溶咖啡       0.98      0.98      0.98       132\n",
      "          眉筆       0.91      1.00      0.95       169\n",
      "         吸塵器       1.00      0.99      1.00       126\n",
      "         洗衣機       0.88      1.00      0.93        70\n",
      "         吹風機       1.00      0.99      0.99        86\n",
      "     妝前乳/隔離霜       1.00      0.94      0.97       131\n",
      "         快煮壺       0.96      1.00      0.98        51\n",
      "     快煮麵/乾拌麵       1.00      0.06      0.10       109\n",
      "         杏仁奶       1.00      1.00      1.00        14\n",
      "         沐浴乳       0.98      1.00      0.99       574\n",
      "         洗面乳       0.97      0.99      0.98       570\n",
      "         卸妝水       0.40      0.98      0.57        88\n",
      "         洗衣精       0.69      1.00      0.82       415\n",
      "         洗衣粉       1.00      0.97      0.99        73\n",
      " 洗髮精(嬰幼童/孕婦)       0.47      0.26      0.34        65\n",
      "          面膜       1.00      1.00      1.00       378\n",
      "       豆奶/豆乳       0.40      0.83      0.54        41\n",
      "      豆漿/黑豆漿       0.69      0.99      0.81        78\n",
      "        身體乳液       0.96      1.00      0.98        88\n",
      "          防曬       0.95      0.88      0.91       106\n",
      "         乳酸菌       0.54      0.88      0.67         8\n",
      "        兒童牙膏       0.34      1.00      0.51        69\n",
      "       兒童漱口水       1.00      1.00      1.00        26\n",
      "    其他地墊(家用)       0.67      1.00      0.80        36\n",
      "         卸甲液       1.00      0.00      0.00         1\n",
      "         卸妝乳       0.17      0.02      0.04        50\n",
      "         卸妝油       0.89      0.34      0.49        47\n",
      "         卸妝棉       1.00      1.00      1.00        58\n",
      "        卸妝凝膠       1.00      0.33      0.50        27\n",
      "        卸妝濕巾       0.56      1.00      0.71         5\n",
      "         卸妝霜       0.33      0.50      0.40        10\n",
      "         卸妝露       0.00      0.00      0.00         2\n",
      "         咖啡機       1.00      1.00      1.00        32\n",
      "          鍋具       0.73      0.98      0.84       324\n",
      "         果汁機       1.00      1.00      1.00        18\n",
      "       狗乾糧罐頭       0.89      1.00      0.94       278\n",
      "         狗零食       0.96      0.62      0.75        89\n",
      "         芳香豆       1.00      1.00      1.00        52\n",
      "         保久乳       1.00      0.71      0.83        63\n",
      "         保溫杯       0.33      1.00      0.50         1\n",
      "         保險套       0.99      0.99      0.99       100\n",
      "        前導精華       0.01      1.00      0.02         3\n",
      "        眼部精華       0.03      0.73      0.06        15\n",
      "         精華液       0.82      0.98      0.89       149\n",
      "         指甲油       0.98      1.00      0.99       167\n",
      "         按摩椅       1.00      0.50      0.67         2\n",
      "         染眉膏       1.00      1.00      1.00        28\n",
      "         柔軟精       0.99      0.98      0.98        84\n",
      "         洗衣皂       1.00      0.10      0.18        20\n",
      "         洗衣球       0.98      0.51      0.67        97\n",
      "          眼霜       0.94      1.00      0.97        58\n",
      "         洗碗機       0.00      0.00      0.00         4\n",
      "          眉粉       0.94      0.94      0.94        33\n",
      "         眉膠筆       0.62      0.88      0.73        17\n",
      "       面霜/乳霜       0.84      1.00      0.91       228\n",
      "         香氛機       1.00      0.00      0.00         5\n",
      "        香氛蠟燭       1.00      1.00      1.00        19\n",
      "          修容       1.00      1.00      1.00        36\n",
      "         粉底液       0.99      0.99      0.99       173\n",
      "          粉餅       0.99      1.00      0.99       141\n",
      "         BB霜       0.14      0.04      0.06        24\n",
      "         CC霜       0.78      1.00      0.88        14\n",
      "        原味牛乳       0.00      0.00      0.00         2\n",
      "          唇彩       0.64      0.88      0.74        16\n",
      "         染唇液       1.00      1.00      1.00         0\n",
      "          唇釉       1.00      0.98      0.99        65\n",
      "         唇彩盤       0.05      0.75      0.09         4\n",
      "          唇膏       0.42      0.76      0.54       242\n",
      "          唇蜜       0.54      0.21      0.30        34\n",
      "         護唇膏       0.46      1.00      0.63       241\n",
      "         護手霜       0.99      1.00      0.99       192\n",
      "         唇線筆       0.29      1.00      0.45         5\n",
      "          唇露       1.00      1.00      1.00        17\n",
      "        桌上電腦       0.00      0.00      0.00        11\n",
      "         氣泡水       0.99      1.00      1.00       100\n",
      "         氣炸鍋       0.67      0.29      0.40        21\n",
      "         消毒鍋       0.60      0.86      0.71         7\n",
      "     烘衣機/乾衣機       0.13      1.00      0.24        12\n",
      "         烘碗機       0.88      1.00      0.94        30\n",
      "         烤肉架       1.00      0.80      0.89         5\n",
      "          烤箱       0.95      1.00      0.97        36\n",
      "       珪藻土地墊       1.00      1.00      1.00        29\n",
      "         益生菌       0.90      0.99      0.94        70\n",
      "         除濕機       0.99      1.00      1.00       127\n",
      "         健腹器       1.00      0.25      0.40         8\n",
      "       啞鈴/槓鈴       0.94      0.94      0.94        17\n",
      "          槓片       1.00      1.00      1.00         0\n",
      "          啤酒       0.99      0.91      0.95       416\n",
      "         熱水器       0.26      0.50      0.34        14\n",
      "       RTD調酒       0.97      0.94      0.95       123\n",
      "         眼影盤       0.86      1.00      0.92       151\n",
      "      速食麵/泡麵       0.81      1.00      0.90       482\n",
      "         醬油類       0.99      0.96      0.97       162\n",
      "       貓乾糧罐頭       0.94      0.99      0.97       398\n",
      "         精華油       0.30      0.94      0.46        18\n",
      "         貓零食       0.98      0.68      0.81        76\n",
      "        常溫醬包       0.97      1.00      0.99       246\n",
      "         掃地機       0.96      1.00      0.98        24\n",
      "        排油煙機       1.00      1.00      1.00         7\n",
      "        液晶電視       0.96      0.99      0.97        76\n",
      "       電視遊戲機       0.94      1.00      0.97        30\n",
      "     淨水器/濾水器       1.00      0.87      0.93        30\n",
      "         濕紙巾       0.98      1.00      0.99       321\n",
      "        眼唇卸妝       0.88      0.82      0.85        34\n",
      "        眼影打底       0.03      0.20      0.06         5\n",
      "       眼影刷/棒       1.00      0.67      0.80        36\n",
      "         眼影筆       0.32      0.75      0.45        12\n",
      "         眼影蜜       0.14      0.67      0.24         6\n",
      "          腮紅       1.00      0.99      0.99        85\n",
      "         眼影霜       0.07      1.00      0.14         3\n",
      "         眼線液       0.95      1.00      0.97        36\n",
      "        眼線膠筆       0.98      1.00      0.99        44\n",
      "        眼線液筆       0.19      1.00      0.32        25\n",
      "         眼線筆       0.56      1.00      0.72        39\n",
      "         野餐墊       0.50      0.12      0.20         8\n",
      "        麥片穀類       1.00      1.00      1.00       131\n",
      "         燕麥奶       0.98      1.00      0.99        52\n",
      "         智慧錶       1.00      0.97      0.99        37\n",
      "          棉條       1.00      1.00      1.00        56\n",
      "      棉褲/安睡褲       0.64      0.70      0.67        20\n",
      "          湯圓       1.00      1.00      1.00        32\n",
      "           菸       0.97      0.97      0.97       345\n",
      "        碳酸飲料       0.88      1.00      0.93       193\n",
      "         跑步機       1.00      1.00      1.00         7\n",
      "    媽媽茶(哺乳茶)       0.00      0.00      0.00         5\n",
      "         微波爐       1.00      0.98      0.99        53\n",
      "          椰奶       1.00      1.00      1.00         6\n",
      "         溫奶器       1.00      0.00      0.00         2\n",
      "          滑鼠       1.00      1.00      1.00       218\n",
      "         瑜珈墊       0.30      0.75      0.43         4\n",
      "         睫毛膏       1.00      1.00      1.00        90\n",
      "          睡袋       0.74      1.00      0.85        39\n",
      "         葉黃素       1.00      0.99      0.99        96\n",
      "      維他命B+C       0.03      0.50      0.06         8\n",
      "          葉酸       0.37      0.91      0.53        11\n",
      "      運動/機能服       0.98      0.99      0.98       395\n",
      "        維他命B       0.52      0.96      0.67        93\n",
      "         運動鞋       0.98      0.97      0.98       433\n",
      "         電子鍋       0.75      1.00      0.86        39\n",
      "          電鍋       0.98      0.96      0.97        50\n",
      "         電風扇       1.00      0.97      0.99        40\n",
      "         電暖器       0.99      1.00      1.00       320\n",
      "         電磁爐       0.96      1.00      0.98        24\n",
      "        電熱水瓶       0.79      1.00      0.88        46\n",
      "         滴雞精       0.64      1.00      0.78        51\n",
      "          精油       1.00      1.00      1.00        28\n",
      "       維他命飲料       0.90      0.77      0.83        47\n",
      "        維他命D       0.08      0.56      0.14        18\n",
      "        維他命C       0.33      0.79      0.46        53\n",
      "          薑黃       0.94      1.00      0.97        32\n",
      "        維他命E       0.09      0.75      0.17        16\n",
      "        膠原蛋白       1.00      0.98      0.99        53\n",
      "          蜜粉       0.94      1.00      0.97        83\n",
      "         遮瑕膏       1.00      1.00      1.00        37\n",
      "        廚房紙巾       1.00      0.94      0.97        49\n",
      "         潤髮乳       0.99      1.00      0.99       132\n",
      "         護髮乳       1.00      0.96      0.98       354\n",
      "         衛生紙       1.00      1.00      1.00       226\n",
      "         衛生棉       0.96      1.00      0.98       132\n",
      "        調味牛乳       0.60      0.94      0.74        68\n",
      "        調味豆漿       0.08      0.67      0.14         9\n",
      "         調理機       0.85      1.00      0.92        11\n",
      "         遮瑕液       0.81      0.87      0.84        15\n",
      "         遮瑕筆       0.92      1.00      0.96        11\n",
      "         遮瑕蜜       0.88      0.78      0.82         9\n",
      "         遮瑕盤       0.00      0.00      0.00         6\n",
      "        機能牛乳       0.15      1.00      0.26        14\n",
      "          鮮乳       0.98      0.97      0.97       158\n",
      "          優格       0.98      0.99      0.99       112\n",
      "         優酪乳       0.99      0.97      0.98        73\n",
      "       嬰幼手推車       1.00      1.00      1.00         1\n",
      "        嬰幼乳液       0.00      0.00      0.00         1\n",
      "        臉部乳液       0.99      0.96      0.98       168\n",
      "          鍵盤       1.00      0.94      0.97       104\n",
      "         擴香瓶       0.94      1.00      0.97        30\n",
      "     濾掛/耳掛咖啡       1.00      1.00      1.00        86\n",
      "          雞精       0.38      0.90      0.53        30\n",
      "         礦泉水       1.00      1.00      1.00       234\n",
      "        護唇精華       0.03      1.00      0.05        10\n",
      "         DD霜       0.01      1.00      0.03         1\n",
      "\n",
      "   micro avg       0.77      0.94      0.85     18537\n",
      "   macro avg       0.76      0.83      0.74     18537\n",
      "weighted avg       0.88      0.94      0.90     18537\n",
      " samples avg       0.87      0.94      0.89     18537\n",
      "\n"
     ]
    }
   ],
   "source": [
    "revised_preds = np.where(valprobs <= THR, 0, 1)\n",
    "print(classification_report(y_true=vallabels, \n",
    "                            y_pred = revised_preds, \n",
    "                            zero_division = 1, \n",
    "                            target_names=keys))"
   ]
  }
 ],
 "metadata": {
  "kernelspec": {
   "display_name": "Python 3 (ipykernel)",
   "language": "python",
   "name": "python3"
  },
  "language_info": {
   "codemirror_mode": {
    "name": "ipython",
    "version": 3
   },
   "file_extension": ".py",
   "mimetype": "text/x-python",
   "name": "python",
   "nbconvert_exporter": "python",
   "pygments_lexer": "ipython3",
   "version": "3.8.13"
  }
 },
 "nbformat": 4,
 "nbformat_minor": 5
}
