{
  "nbformat": 4,
  "nbformat_minor": 0,
  "metadata": {
    "colab": {
      "name": "23.0-category-fasttext-clustering.ipynb",
      "provenance": [],
      "collapsed_sections": [
        "mea7jGiqPIo-",
        "hEHYDO7qI7dI",
        "pJMV-4lJJfZe",
        "ulRhFKFnaGg7"
      ]
    },
    "kernelspec": {
      "name": "python3",
      "display_name": "Python 3"
    },
    "language_info": {
      "name": "python"
    },
    "widgets": {
      "application/vnd.jupyter.widget-state+json": {
        "f3a2923f41ab408a81aa3c350d2e8881": {
          "model_module": "@jupyter-widgets/controls",
          "model_name": "HBoxModel",
          "model_module_version": "1.5.0",
          "state": {
            "_dom_classes": [],
            "_model_module": "@jupyter-widgets/controls",
            "_model_module_version": "1.5.0",
            "_model_name": "HBoxModel",
            "_view_count": null,
            "_view_module": "@jupyter-widgets/controls",
            "_view_module_version": "1.5.0",
            "_view_name": "HBoxView",
            "box_style": "",
            "children": [
              "IPY_MODEL_61740e5ba122482db4b095638b416177",
              "IPY_MODEL_c4b1812539b0495aadcef886f4d6bbcd",
              "IPY_MODEL_319987663ff845899c3579c585864281"
            ],
            "layout": "IPY_MODEL_3b298483a24940f9a37db343d0703534"
          }
        },
        "61740e5ba122482db4b095638b416177": {
          "model_module": "@jupyter-widgets/controls",
          "model_name": "HTMLModel",
          "model_module_version": "1.5.0",
          "state": {
            "_dom_classes": [],
            "_model_module": "@jupyter-widgets/controls",
            "_model_module_version": "1.5.0",
            "_model_name": "HTMLModel",
            "_view_count": null,
            "_view_module": "@jupyter-widgets/controls",
            "_view_module_version": "1.5.0",
            "_view_name": "HTMLView",
            "description": "",
            "description_tooltip": null,
            "layout": "IPY_MODEL_e194b6378d024107863d49f54bd42230",
            "placeholder": "​",
            "style": "IPY_MODEL_51d7edb07c734593aa71dada33ee0db5",
            "value": "Downloading: 100%"
          }
        },
        "c4b1812539b0495aadcef886f4d6bbcd": {
          "model_module": "@jupyter-widgets/controls",
          "model_name": "FloatProgressModel",
          "model_module_version": "1.5.0",
          "state": {
            "_dom_classes": [],
            "_model_module": "@jupyter-widgets/controls",
            "_model_module_version": "1.5.0",
            "_model_name": "FloatProgressModel",
            "_view_count": null,
            "_view_module": "@jupyter-widgets/controls",
            "_view_module_version": "1.5.0",
            "_view_name": "ProgressView",
            "bar_style": "success",
            "description": "",
            "description_tooltip": null,
            "layout": "IPY_MODEL_23e9a0c696e3459ea0aa5a1b9d60fec0",
            "max": 804,
            "min": 0,
            "orientation": "horizontal",
            "style": "IPY_MODEL_5becc3518b794ed4a073e7fc25c4f8e7",
            "value": 804
          }
        },
        "319987663ff845899c3579c585864281": {
          "model_module": "@jupyter-widgets/controls",
          "model_name": "HTMLModel",
          "model_module_version": "1.5.0",
          "state": {
            "_dom_classes": [],
            "_model_module": "@jupyter-widgets/controls",
            "_model_module_version": "1.5.0",
            "_model_name": "HTMLModel",
            "_view_count": null,
            "_view_module": "@jupyter-widgets/controls",
            "_view_module_version": "1.5.0",
            "_view_name": "HTMLView",
            "description": "",
            "description_tooltip": null,
            "layout": "IPY_MODEL_0be64c5608324650acfed0839c00f54b",
            "placeholder": "​",
            "style": "IPY_MODEL_1bcdfb1263c04709a613e5da60d88b2f",
            "value": " 804/804 [00:00&lt;00:00, 15.8kB/s]"
          }
        },
        "3b298483a24940f9a37db343d0703534": {
          "model_module": "@jupyter-widgets/base",
          "model_name": "LayoutModel",
          "model_module_version": "1.2.0",
          "state": {
            "_model_module": "@jupyter-widgets/base",
            "_model_module_version": "1.2.0",
            "_model_name": "LayoutModel",
            "_view_count": null,
            "_view_module": "@jupyter-widgets/base",
            "_view_module_version": "1.2.0",
            "_view_name": "LayoutView",
            "align_content": null,
            "align_items": null,
            "align_self": null,
            "border": null,
            "bottom": null,
            "display": null,
            "flex": null,
            "flex_flow": null,
            "grid_area": null,
            "grid_auto_columns": null,
            "grid_auto_flow": null,
            "grid_auto_rows": null,
            "grid_column": null,
            "grid_gap": null,
            "grid_row": null,
            "grid_template_areas": null,
            "grid_template_columns": null,
            "grid_template_rows": null,
            "height": null,
            "justify_content": null,
            "justify_items": null,
            "left": null,
            "margin": null,
            "max_height": null,
            "max_width": null,
            "min_height": null,
            "min_width": null,
            "object_fit": null,
            "object_position": null,
            "order": null,
            "overflow": null,
            "overflow_x": null,
            "overflow_y": null,
            "padding": null,
            "right": null,
            "top": null,
            "visibility": null,
            "width": null
          }
        },
        "e194b6378d024107863d49f54bd42230": {
          "model_module": "@jupyter-widgets/base",
          "model_name": "LayoutModel",
          "model_module_version": "1.2.0",
          "state": {
            "_model_module": "@jupyter-widgets/base",
            "_model_module_version": "1.2.0",
            "_model_name": "LayoutModel",
            "_view_count": null,
            "_view_module": "@jupyter-widgets/base",
            "_view_module_version": "1.2.0",
            "_view_name": "LayoutView",
            "align_content": null,
            "align_items": null,
            "align_self": null,
            "border": null,
            "bottom": null,
            "display": null,
            "flex": null,
            "flex_flow": null,
            "grid_area": null,
            "grid_auto_columns": null,
            "grid_auto_flow": null,
            "grid_auto_rows": null,
            "grid_column": null,
            "grid_gap": null,
            "grid_row": null,
            "grid_template_areas": null,
            "grid_template_columns": null,
            "grid_template_rows": null,
            "height": null,
            "justify_content": null,
            "justify_items": null,
            "left": null,
            "margin": null,
            "max_height": null,
            "max_width": null,
            "min_height": null,
            "min_width": null,
            "object_fit": null,
            "object_position": null,
            "order": null,
            "overflow": null,
            "overflow_x": null,
            "overflow_y": null,
            "padding": null,
            "right": null,
            "top": null,
            "visibility": null,
            "width": null
          }
        },
        "51d7edb07c734593aa71dada33ee0db5": {
          "model_module": "@jupyter-widgets/controls",
          "model_name": "DescriptionStyleModel",
          "model_module_version": "1.5.0",
          "state": {
            "_model_module": "@jupyter-widgets/controls",
            "_model_module_version": "1.5.0",
            "_model_name": "DescriptionStyleModel",
            "_view_count": null,
            "_view_module": "@jupyter-widgets/base",
            "_view_module_version": "1.2.0",
            "_view_name": "StyleView",
            "description_width": ""
          }
        },
        "23e9a0c696e3459ea0aa5a1b9d60fec0": {
          "model_module": "@jupyter-widgets/base",
          "model_name": "LayoutModel",
          "model_module_version": "1.2.0",
          "state": {
            "_model_module": "@jupyter-widgets/base",
            "_model_module_version": "1.2.0",
            "_model_name": "LayoutModel",
            "_view_count": null,
            "_view_module": "@jupyter-widgets/base",
            "_view_module_version": "1.2.0",
            "_view_name": "LayoutView",
            "align_content": null,
            "align_items": null,
            "align_self": null,
            "border": null,
            "bottom": null,
            "display": null,
            "flex": null,
            "flex_flow": null,
            "grid_area": null,
            "grid_auto_columns": null,
            "grid_auto_flow": null,
            "grid_auto_rows": null,
            "grid_column": null,
            "grid_gap": null,
            "grid_row": null,
            "grid_template_areas": null,
            "grid_template_columns": null,
            "grid_template_rows": null,
            "height": null,
            "justify_content": null,
            "justify_items": null,
            "left": null,
            "margin": null,
            "max_height": null,
            "max_width": null,
            "min_height": null,
            "min_width": null,
            "object_fit": null,
            "object_position": null,
            "order": null,
            "overflow": null,
            "overflow_x": null,
            "overflow_y": null,
            "padding": null,
            "right": null,
            "top": null,
            "visibility": null,
            "width": null
          }
        },
        "5becc3518b794ed4a073e7fc25c4f8e7": {
          "model_module": "@jupyter-widgets/controls",
          "model_name": "ProgressStyleModel",
          "model_module_version": "1.5.0",
          "state": {
            "_model_module": "@jupyter-widgets/controls",
            "_model_module_version": "1.5.0",
            "_model_name": "ProgressStyleModel",
            "_view_count": null,
            "_view_module": "@jupyter-widgets/base",
            "_view_module_version": "1.2.0",
            "_view_name": "StyleView",
            "bar_color": null,
            "description_width": ""
          }
        },
        "0be64c5608324650acfed0839c00f54b": {
          "model_module": "@jupyter-widgets/base",
          "model_name": "LayoutModel",
          "model_module_version": "1.2.0",
          "state": {
            "_model_module": "@jupyter-widgets/base",
            "_model_module_version": "1.2.0",
            "_model_name": "LayoutModel",
            "_view_count": null,
            "_view_module": "@jupyter-widgets/base",
            "_view_module_version": "1.2.0",
            "_view_name": "LayoutView",
            "align_content": null,
            "align_items": null,
            "align_self": null,
            "border": null,
            "bottom": null,
            "display": null,
            "flex": null,
            "flex_flow": null,
            "grid_area": null,
            "grid_auto_columns": null,
            "grid_auto_flow": null,
            "grid_auto_rows": null,
            "grid_column": null,
            "grid_gap": null,
            "grid_row": null,
            "grid_template_areas": null,
            "grid_template_columns": null,
            "grid_template_rows": null,
            "height": null,
            "justify_content": null,
            "justify_items": null,
            "left": null,
            "margin": null,
            "max_height": null,
            "max_width": null,
            "min_height": null,
            "min_width": null,
            "object_fit": null,
            "object_position": null,
            "order": null,
            "overflow": null,
            "overflow_x": null,
            "overflow_y": null,
            "padding": null,
            "right": null,
            "top": null,
            "visibility": null,
            "width": null
          }
        },
        "1bcdfb1263c04709a613e5da60d88b2f": {
          "model_module": "@jupyter-widgets/controls",
          "model_name": "DescriptionStyleModel",
          "model_module_version": "1.5.0",
          "state": {
            "_model_module": "@jupyter-widgets/controls",
            "_model_module_version": "1.5.0",
            "_model_name": "DescriptionStyleModel",
            "_view_count": null,
            "_view_module": "@jupyter-widgets/base",
            "_view_module_version": "1.2.0",
            "_view_name": "StyleView",
            "description_width": ""
          }
        },
        "6c2b58c418e445c7a914ea877b818167": {
          "model_module": "@jupyter-widgets/controls",
          "model_name": "HBoxModel",
          "model_module_version": "1.5.0",
          "state": {
            "_dom_classes": [],
            "_model_module": "@jupyter-widgets/controls",
            "_model_module_version": "1.5.0",
            "_model_name": "HBoxModel",
            "_view_count": null,
            "_view_module": "@jupyter-widgets/controls",
            "_view_module_version": "1.5.0",
            "_view_name": "HBoxView",
            "box_style": "",
            "children": [
              "IPY_MODEL_f86c0f2c22a948b39083c137a5a6e30b",
              "IPY_MODEL_24d046842f0a48c7a12fa81a9b7149d9",
              "IPY_MODEL_cf8a16451bd84c41bb4ff3f4d30ac4e8"
            ],
            "layout": "IPY_MODEL_5bbb55410789405a9f8485d261ef72e8"
          }
        },
        "f86c0f2c22a948b39083c137a5a6e30b": {
          "model_module": "@jupyter-widgets/controls",
          "model_name": "HTMLModel",
          "model_module_version": "1.5.0",
          "state": {
            "_dom_classes": [],
            "_model_module": "@jupyter-widgets/controls",
            "_model_module_version": "1.5.0",
            "_model_name": "HTMLModel",
            "_view_count": null,
            "_view_module": "@jupyter-widgets/controls",
            "_view_module_version": "1.5.0",
            "_view_name": "HTMLView",
            "description": "",
            "description_tooltip": null,
            "layout": "IPY_MODEL_5ed1bb670dc04590a32bf92bbdae94fa",
            "placeholder": "​",
            "style": "IPY_MODEL_e436f85553884d5e9b04e34114f4ebe5",
            "value": "Downloading: 100%"
          }
        },
        "24d046842f0a48c7a12fa81a9b7149d9": {
          "model_module": "@jupyter-widgets/controls",
          "model_name": "FloatProgressModel",
          "model_module_version": "1.5.0",
          "state": {
            "_dom_classes": [],
            "_model_module": "@jupyter-widgets/controls",
            "_model_module_version": "1.5.0",
            "_model_name": "FloatProgressModel",
            "_view_count": null,
            "_view_module": "@jupyter-widgets/controls",
            "_view_module_version": "1.5.0",
            "_view_name": "ProgressView",
            "bar_style": "success",
            "description": "",
            "description_tooltip": null,
            "layout": "IPY_MODEL_f1a2597895be446db8d21b6fe251f236",
            "max": 406802935,
            "min": 0,
            "orientation": "horizontal",
            "style": "IPY_MODEL_e0c0746a3cec4909befe22af54c37dcf",
            "value": 406802935
          }
        },
        "cf8a16451bd84c41bb4ff3f4d30ac4e8": {
          "model_module": "@jupyter-widgets/controls",
          "model_name": "HTMLModel",
          "model_module_version": "1.5.0",
          "state": {
            "_dom_classes": [],
            "_model_module": "@jupyter-widgets/controls",
            "_model_module_version": "1.5.0",
            "_model_name": "HTMLModel",
            "_view_count": null,
            "_view_module": "@jupyter-widgets/controls",
            "_view_module_version": "1.5.0",
            "_view_name": "HTMLView",
            "description": "",
            "description_tooltip": null,
            "layout": "IPY_MODEL_6e480b6c11234874bb3b6b04d21ce702",
            "placeholder": "​",
            "style": "IPY_MODEL_ed44600b09034a43826f57580996c1ca",
            "value": " 388M/388M [00:16&lt;00:00, 11.4MB/s]"
          }
        },
        "5bbb55410789405a9f8485d261ef72e8": {
          "model_module": "@jupyter-widgets/base",
          "model_name": "LayoutModel",
          "model_module_version": "1.2.0",
          "state": {
            "_model_module": "@jupyter-widgets/base",
            "_model_module_version": "1.2.0",
            "_model_name": "LayoutModel",
            "_view_count": null,
            "_view_module": "@jupyter-widgets/base",
            "_view_module_version": "1.2.0",
            "_view_name": "LayoutView",
            "align_content": null,
            "align_items": null,
            "align_self": null,
            "border": null,
            "bottom": null,
            "display": null,
            "flex": null,
            "flex_flow": null,
            "grid_area": null,
            "grid_auto_columns": null,
            "grid_auto_flow": null,
            "grid_auto_rows": null,
            "grid_column": null,
            "grid_gap": null,
            "grid_row": null,
            "grid_template_areas": null,
            "grid_template_columns": null,
            "grid_template_rows": null,
            "height": null,
            "justify_content": null,
            "justify_items": null,
            "left": null,
            "margin": null,
            "max_height": null,
            "max_width": null,
            "min_height": null,
            "min_width": null,
            "object_fit": null,
            "object_position": null,
            "order": null,
            "overflow": null,
            "overflow_x": null,
            "overflow_y": null,
            "padding": null,
            "right": null,
            "top": null,
            "visibility": null,
            "width": null
          }
        },
        "5ed1bb670dc04590a32bf92bbdae94fa": {
          "model_module": "@jupyter-widgets/base",
          "model_name": "LayoutModel",
          "model_module_version": "1.2.0",
          "state": {
            "_model_module": "@jupyter-widgets/base",
            "_model_module_version": "1.2.0",
            "_model_name": "LayoutModel",
            "_view_count": null,
            "_view_module": "@jupyter-widgets/base",
            "_view_module_version": "1.2.0",
            "_view_name": "LayoutView",
            "align_content": null,
            "align_items": null,
            "align_self": null,
            "border": null,
            "bottom": null,
            "display": null,
            "flex": null,
            "flex_flow": null,
            "grid_area": null,
            "grid_auto_columns": null,
            "grid_auto_flow": null,
            "grid_auto_rows": null,
            "grid_column": null,
            "grid_gap": null,
            "grid_row": null,
            "grid_template_areas": null,
            "grid_template_columns": null,
            "grid_template_rows": null,
            "height": null,
            "justify_content": null,
            "justify_items": null,
            "left": null,
            "margin": null,
            "max_height": null,
            "max_width": null,
            "min_height": null,
            "min_width": null,
            "object_fit": null,
            "object_position": null,
            "order": null,
            "overflow": null,
            "overflow_x": null,
            "overflow_y": null,
            "padding": null,
            "right": null,
            "top": null,
            "visibility": null,
            "width": null
          }
        },
        "e436f85553884d5e9b04e34114f4ebe5": {
          "model_module": "@jupyter-widgets/controls",
          "model_name": "DescriptionStyleModel",
          "model_module_version": "1.5.0",
          "state": {
            "_model_module": "@jupyter-widgets/controls",
            "_model_module_version": "1.5.0",
            "_model_name": "DescriptionStyleModel",
            "_view_count": null,
            "_view_module": "@jupyter-widgets/base",
            "_view_module_version": "1.2.0",
            "_view_name": "StyleView",
            "description_width": ""
          }
        },
        "f1a2597895be446db8d21b6fe251f236": {
          "model_module": "@jupyter-widgets/base",
          "model_name": "LayoutModel",
          "model_module_version": "1.2.0",
          "state": {
            "_model_module": "@jupyter-widgets/base",
            "_model_module_version": "1.2.0",
            "_model_name": "LayoutModel",
            "_view_count": null,
            "_view_module": "@jupyter-widgets/base",
            "_view_module_version": "1.2.0",
            "_view_name": "LayoutView",
            "align_content": null,
            "align_items": null,
            "align_self": null,
            "border": null,
            "bottom": null,
            "display": null,
            "flex": null,
            "flex_flow": null,
            "grid_area": null,
            "grid_auto_columns": null,
            "grid_auto_flow": null,
            "grid_auto_rows": null,
            "grid_column": null,
            "grid_gap": null,
            "grid_row": null,
            "grid_template_areas": null,
            "grid_template_columns": null,
            "grid_template_rows": null,
            "height": null,
            "justify_content": null,
            "justify_items": null,
            "left": null,
            "margin": null,
            "max_height": null,
            "max_width": null,
            "min_height": null,
            "min_width": null,
            "object_fit": null,
            "object_position": null,
            "order": null,
            "overflow": null,
            "overflow_x": null,
            "overflow_y": null,
            "padding": null,
            "right": null,
            "top": null,
            "visibility": null,
            "width": null
          }
        },
        "e0c0746a3cec4909befe22af54c37dcf": {
          "model_module": "@jupyter-widgets/controls",
          "model_name": "ProgressStyleModel",
          "model_module_version": "1.5.0",
          "state": {
            "_model_module": "@jupyter-widgets/controls",
            "_model_module_version": "1.5.0",
            "_model_name": "ProgressStyleModel",
            "_view_count": null,
            "_view_module": "@jupyter-widgets/base",
            "_view_module_version": "1.2.0",
            "_view_name": "StyleView",
            "bar_color": null,
            "description_width": ""
          }
        },
        "6e480b6c11234874bb3b6b04d21ce702": {
          "model_module": "@jupyter-widgets/base",
          "model_name": "LayoutModel",
          "model_module_version": "1.2.0",
          "state": {
            "_model_module": "@jupyter-widgets/base",
            "_model_module_version": "1.2.0",
            "_model_name": "LayoutModel",
            "_view_count": null,
            "_view_module": "@jupyter-widgets/base",
            "_view_module_version": "1.2.0",
            "_view_name": "LayoutView",
            "align_content": null,
            "align_items": null,
            "align_self": null,
            "border": null,
            "bottom": null,
            "display": null,
            "flex": null,
            "flex_flow": null,
            "grid_area": null,
            "grid_auto_columns": null,
            "grid_auto_flow": null,
            "grid_auto_rows": null,
            "grid_column": null,
            "grid_gap": null,
            "grid_row": null,
            "grid_template_areas": null,
            "grid_template_columns": null,
            "grid_template_rows": null,
            "height": null,
            "justify_content": null,
            "justify_items": null,
            "left": null,
            "margin": null,
            "max_height": null,
            "max_width": null,
            "min_height": null,
            "min_width": null,
            "object_fit": null,
            "object_position": null,
            "order": null,
            "overflow": null,
            "overflow_x": null,
            "overflow_y": null,
            "padding": null,
            "right": null,
            "top": null,
            "visibility": null,
            "width": null
          }
        },
        "ed44600b09034a43826f57580996c1ca": {
          "model_module": "@jupyter-widgets/controls",
          "model_name": "DescriptionStyleModel",
          "model_module_version": "1.5.0",
          "state": {
            "_model_module": "@jupyter-widgets/controls",
            "_model_module_version": "1.5.0",
            "_model_name": "DescriptionStyleModel",
            "_view_count": null,
            "_view_module": "@jupyter-widgets/base",
            "_view_module_version": "1.2.0",
            "_view_name": "StyleView",
            "description_width": ""
          }
        },
        "600e4b66260344488461631a4d74f2e7": {
          "model_module": "@jupyter-widgets/controls",
          "model_name": "HBoxModel",
          "model_module_version": "1.5.0",
          "state": {
            "_dom_classes": [],
            "_model_module": "@jupyter-widgets/controls",
            "_model_module_version": "1.5.0",
            "_model_name": "HBoxModel",
            "_view_count": null,
            "_view_module": "@jupyter-widgets/controls",
            "_view_module_version": "1.5.0",
            "_view_name": "HBoxView",
            "box_style": "",
            "children": [
              "IPY_MODEL_15ad709f819d408abcb055bab5c63ec8",
              "IPY_MODEL_b433eb721a09449199e450387ec7234e",
              "IPY_MODEL_7dca2e83fe1f41fa8f31a5c3f40fcffc"
            ],
            "layout": "IPY_MODEL_5326e8d42366425db20fb32390e924ac"
          }
        },
        "15ad709f819d408abcb055bab5c63ec8": {
          "model_module": "@jupyter-widgets/controls",
          "model_name": "HTMLModel",
          "model_module_version": "1.5.0",
          "state": {
            "_dom_classes": [],
            "_model_module": "@jupyter-widgets/controls",
            "_model_module_version": "1.5.0",
            "_model_name": "HTMLModel",
            "_view_count": null,
            "_view_module": "@jupyter-widgets/controls",
            "_view_module_version": "1.5.0",
            "_view_name": "HTMLView",
            "description": "",
            "description_tooltip": null,
            "layout": "IPY_MODEL_09addda222d44618aa902c35694991aa",
            "placeholder": "​",
            "style": "IPY_MODEL_5bd70cb64f23417c8b0cf78903debda6",
            "value": "Downloading: 100%"
          }
        },
        "b433eb721a09449199e450387ec7234e": {
          "model_module": "@jupyter-widgets/controls",
          "model_name": "FloatProgressModel",
          "model_module_version": "1.5.0",
          "state": {
            "_dom_classes": [],
            "_model_module": "@jupyter-widgets/controls",
            "_model_module_version": "1.5.0",
            "_model_name": "FloatProgressModel",
            "_view_count": null,
            "_view_module": "@jupyter-widgets/controls",
            "_view_module_version": "1.5.0",
            "_view_name": "ProgressView",
            "bar_style": "success",
            "description": "",
            "description_tooltip": null,
            "layout": "IPY_MODEL_6a72bd1b4cb74eab8f8997fdece3ebc8",
            "max": 301,
            "min": 0,
            "orientation": "horizontal",
            "style": "IPY_MODEL_6d2029a73b6b490683c445b4ebebb50a",
            "value": 301
          }
        },
        "7dca2e83fe1f41fa8f31a5c3f40fcffc": {
          "model_module": "@jupyter-widgets/controls",
          "model_name": "HTMLModel",
          "model_module_version": "1.5.0",
          "state": {
            "_dom_classes": [],
            "_model_module": "@jupyter-widgets/controls",
            "_model_module_version": "1.5.0",
            "_model_name": "HTMLModel",
            "_view_count": null,
            "_view_module": "@jupyter-widgets/controls",
            "_view_module_version": "1.5.0",
            "_view_name": "HTMLView",
            "description": "",
            "description_tooltip": null,
            "layout": "IPY_MODEL_f9e2acafac5b4156899f66dab6f8e702",
            "placeholder": "​",
            "style": "IPY_MODEL_a031df7e5ab3414ea84aa914d4b0842f",
            "value": " 301/301 [00:00&lt;00:00, 3.04kB/s]"
          }
        },
        "5326e8d42366425db20fb32390e924ac": {
          "model_module": "@jupyter-widgets/base",
          "model_name": "LayoutModel",
          "model_module_version": "1.2.0",
          "state": {
            "_model_module": "@jupyter-widgets/base",
            "_model_module_version": "1.2.0",
            "_model_name": "LayoutModel",
            "_view_count": null,
            "_view_module": "@jupyter-widgets/base",
            "_view_module_version": "1.2.0",
            "_view_name": "LayoutView",
            "align_content": null,
            "align_items": null,
            "align_self": null,
            "border": null,
            "bottom": null,
            "display": null,
            "flex": null,
            "flex_flow": null,
            "grid_area": null,
            "grid_auto_columns": null,
            "grid_auto_flow": null,
            "grid_auto_rows": null,
            "grid_column": null,
            "grid_gap": null,
            "grid_row": null,
            "grid_template_areas": null,
            "grid_template_columns": null,
            "grid_template_rows": null,
            "height": null,
            "justify_content": null,
            "justify_items": null,
            "left": null,
            "margin": null,
            "max_height": null,
            "max_width": null,
            "min_height": null,
            "min_width": null,
            "object_fit": null,
            "object_position": null,
            "order": null,
            "overflow": null,
            "overflow_x": null,
            "overflow_y": null,
            "padding": null,
            "right": null,
            "top": null,
            "visibility": null,
            "width": null
          }
        },
        "09addda222d44618aa902c35694991aa": {
          "model_module": "@jupyter-widgets/base",
          "model_name": "LayoutModel",
          "model_module_version": "1.2.0",
          "state": {
            "_model_module": "@jupyter-widgets/base",
            "_model_module_version": "1.2.0",
            "_model_name": "LayoutModel",
            "_view_count": null,
            "_view_module": "@jupyter-widgets/base",
            "_view_module_version": "1.2.0",
            "_view_name": "LayoutView",
            "align_content": null,
            "align_items": null,
            "align_self": null,
            "border": null,
            "bottom": null,
            "display": null,
            "flex": null,
            "flex_flow": null,
            "grid_area": null,
            "grid_auto_columns": null,
            "grid_auto_flow": null,
            "grid_auto_rows": null,
            "grid_column": null,
            "grid_gap": null,
            "grid_row": null,
            "grid_template_areas": null,
            "grid_template_columns": null,
            "grid_template_rows": null,
            "height": null,
            "justify_content": null,
            "justify_items": null,
            "left": null,
            "margin": null,
            "max_height": null,
            "max_width": null,
            "min_height": null,
            "min_width": null,
            "object_fit": null,
            "object_position": null,
            "order": null,
            "overflow": null,
            "overflow_x": null,
            "overflow_y": null,
            "padding": null,
            "right": null,
            "top": null,
            "visibility": null,
            "width": null
          }
        },
        "5bd70cb64f23417c8b0cf78903debda6": {
          "model_module": "@jupyter-widgets/controls",
          "model_name": "DescriptionStyleModel",
          "model_module_version": "1.5.0",
          "state": {
            "_model_module": "@jupyter-widgets/controls",
            "_model_module_version": "1.5.0",
            "_model_name": "DescriptionStyleModel",
            "_view_count": null,
            "_view_module": "@jupyter-widgets/base",
            "_view_module_version": "1.2.0",
            "_view_name": "StyleView",
            "description_width": ""
          }
        },
        "6a72bd1b4cb74eab8f8997fdece3ebc8": {
          "model_module": "@jupyter-widgets/base",
          "model_name": "LayoutModel",
          "model_module_version": "1.2.0",
          "state": {
            "_model_module": "@jupyter-widgets/base",
            "_model_module_version": "1.2.0",
            "_model_name": "LayoutModel",
            "_view_count": null,
            "_view_module": "@jupyter-widgets/base",
            "_view_module_version": "1.2.0",
            "_view_name": "LayoutView",
            "align_content": null,
            "align_items": null,
            "align_self": null,
            "border": null,
            "bottom": null,
            "display": null,
            "flex": null,
            "flex_flow": null,
            "grid_area": null,
            "grid_auto_columns": null,
            "grid_auto_flow": null,
            "grid_auto_rows": null,
            "grid_column": null,
            "grid_gap": null,
            "grid_row": null,
            "grid_template_areas": null,
            "grid_template_columns": null,
            "grid_template_rows": null,
            "height": null,
            "justify_content": null,
            "justify_items": null,
            "left": null,
            "margin": null,
            "max_height": null,
            "max_width": null,
            "min_height": null,
            "min_width": null,
            "object_fit": null,
            "object_position": null,
            "order": null,
            "overflow": null,
            "overflow_x": null,
            "overflow_y": null,
            "padding": null,
            "right": null,
            "top": null,
            "visibility": null,
            "width": null
          }
        },
        "6d2029a73b6b490683c445b4ebebb50a": {
          "model_module": "@jupyter-widgets/controls",
          "model_name": "ProgressStyleModel",
          "model_module_version": "1.5.0",
          "state": {
            "_model_module": "@jupyter-widgets/controls",
            "_model_module_version": "1.5.0",
            "_model_name": "ProgressStyleModel",
            "_view_count": null,
            "_view_module": "@jupyter-widgets/base",
            "_view_module_version": "1.2.0",
            "_view_name": "StyleView",
            "bar_color": null,
            "description_width": ""
          }
        },
        "f9e2acafac5b4156899f66dab6f8e702": {
          "model_module": "@jupyter-widgets/base",
          "model_name": "LayoutModel",
          "model_module_version": "1.2.0",
          "state": {
            "_model_module": "@jupyter-widgets/base",
            "_model_module_version": "1.2.0",
            "_model_name": "LayoutModel",
            "_view_count": null,
            "_view_module": "@jupyter-widgets/base",
            "_view_module_version": "1.2.0",
            "_view_name": "LayoutView",
            "align_content": null,
            "align_items": null,
            "align_self": null,
            "border": null,
            "bottom": null,
            "display": null,
            "flex": null,
            "flex_flow": null,
            "grid_area": null,
            "grid_auto_columns": null,
            "grid_auto_flow": null,
            "grid_auto_rows": null,
            "grid_column": null,
            "grid_gap": null,
            "grid_row": null,
            "grid_template_areas": null,
            "grid_template_columns": null,
            "grid_template_rows": null,
            "height": null,
            "justify_content": null,
            "justify_items": null,
            "left": null,
            "margin": null,
            "max_height": null,
            "max_width": null,
            "min_height": null,
            "min_width": null,
            "object_fit": null,
            "object_position": null,
            "order": null,
            "overflow": null,
            "overflow_x": null,
            "overflow_y": null,
            "padding": null,
            "right": null,
            "top": null,
            "visibility": null,
            "width": null
          }
        },
        "a031df7e5ab3414ea84aa914d4b0842f": {
          "model_module": "@jupyter-widgets/controls",
          "model_name": "DescriptionStyleModel",
          "model_module_version": "1.5.0",
          "state": {
            "_model_module": "@jupyter-widgets/controls",
            "_model_module_version": "1.5.0",
            "_model_name": "DescriptionStyleModel",
            "_view_count": null,
            "_view_module": "@jupyter-widgets/base",
            "_view_module_version": "1.2.0",
            "_view_name": "StyleView",
            "description_width": ""
          }
        },
        "c09ecdf548b14eb2a4ebf8a4e455eeb0": {
          "model_module": "@jupyter-widgets/controls",
          "model_name": "HBoxModel",
          "model_module_version": "1.5.0",
          "state": {
            "_dom_classes": [],
            "_model_module": "@jupyter-widgets/controls",
            "_model_module_version": "1.5.0",
            "_model_name": "HBoxModel",
            "_view_count": null,
            "_view_module": "@jupyter-widgets/controls",
            "_view_module_version": "1.5.0",
            "_view_name": "HBoxView",
            "box_style": "",
            "children": [
              "IPY_MODEL_a803f7383aa54cd4af25e0d7518a1366",
              "IPY_MODEL_ee0ba2560ec9457fb7ddaaa25f239b41",
              "IPY_MODEL_b214c36fd8224783a92c2e35f8b9f2f2"
            ],
            "layout": "IPY_MODEL_66e57dc55af7414cb8f4c31df3e878c7"
          }
        },
        "a803f7383aa54cd4af25e0d7518a1366": {
          "model_module": "@jupyter-widgets/controls",
          "model_name": "HTMLModel",
          "model_module_version": "1.5.0",
          "state": {
            "_dom_classes": [],
            "_model_module": "@jupyter-widgets/controls",
            "_model_module_version": "1.5.0",
            "_model_name": "HTMLModel",
            "_view_count": null,
            "_view_module": "@jupyter-widgets/controls",
            "_view_module_version": "1.5.0",
            "_view_name": "HTMLView",
            "description": "",
            "description_tooltip": null,
            "layout": "IPY_MODEL_2a24e061d23d4053a051e7e8d6e1184b",
            "placeholder": "​",
            "style": "IPY_MODEL_1af1033fc3e045fd928a00fb20bb45c5",
            "value": "Downloading: 100%"
          }
        },
        "ee0ba2560ec9457fb7ddaaa25f239b41": {
          "model_module": "@jupyter-widgets/controls",
          "model_name": "FloatProgressModel",
          "model_module_version": "1.5.0",
          "state": {
            "_dom_classes": [],
            "_model_module": "@jupyter-widgets/controls",
            "_model_module_version": "1.5.0",
            "_model_name": "FloatProgressModel",
            "_view_count": null,
            "_view_module": "@jupyter-widgets/controls",
            "_view_module_version": "1.5.0",
            "_view_name": "ProgressView",
            "bar_style": "success",
            "description": "",
            "description_tooltip": null,
            "layout": "IPY_MODEL_aafd9614b0bd420893c7756c74b0504f",
            "max": 109540,
            "min": 0,
            "orientation": "horizontal",
            "style": "IPY_MODEL_30e3762a161546a08bcfecf6d5e055e9",
            "value": 109540
          }
        },
        "b214c36fd8224783a92c2e35f8b9f2f2": {
          "model_module": "@jupyter-widgets/controls",
          "model_name": "HTMLModel",
          "model_module_version": "1.5.0",
          "state": {
            "_dom_classes": [],
            "_model_module": "@jupyter-widgets/controls",
            "_model_module_version": "1.5.0",
            "_model_name": "HTMLModel",
            "_view_count": null,
            "_view_module": "@jupyter-widgets/controls",
            "_view_module_version": "1.5.0",
            "_view_name": "HTMLView",
            "description": "",
            "description_tooltip": null,
            "layout": "IPY_MODEL_9e53091ebfd84218afd6191f01a9b32c",
            "placeholder": "​",
            "style": "IPY_MODEL_02cbf0cbe4f3476087b7a821f951fe99",
            "value": " 107k/107k [00:00&lt;00:00, 8.93kB/s]"
          }
        },
        "66e57dc55af7414cb8f4c31df3e878c7": {
          "model_module": "@jupyter-widgets/base",
          "model_name": "LayoutModel",
          "model_module_version": "1.2.0",
          "state": {
            "_model_module": "@jupyter-widgets/base",
            "_model_module_version": "1.2.0",
            "_model_name": "LayoutModel",
            "_view_count": null,
            "_view_module": "@jupyter-widgets/base",
            "_view_module_version": "1.2.0",
            "_view_name": "LayoutView",
            "align_content": null,
            "align_items": null,
            "align_self": null,
            "border": null,
            "bottom": null,
            "display": null,
            "flex": null,
            "flex_flow": null,
            "grid_area": null,
            "grid_auto_columns": null,
            "grid_auto_flow": null,
            "grid_auto_rows": null,
            "grid_column": null,
            "grid_gap": null,
            "grid_row": null,
            "grid_template_areas": null,
            "grid_template_columns": null,
            "grid_template_rows": null,
            "height": null,
            "justify_content": null,
            "justify_items": null,
            "left": null,
            "margin": null,
            "max_height": null,
            "max_width": null,
            "min_height": null,
            "min_width": null,
            "object_fit": null,
            "object_position": null,
            "order": null,
            "overflow": null,
            "overflow_x": null,
            "overflow_y": null,
            "padding": null,
            "right": null,
            "top": null,
            "visibility": null,
            "width": null
          }
        },
        "2a24e061d23d4053a051e7e8d6e1184b": {
          "model_module": "@jupyter-widgets/base",
          "model_name": "LayoutModel",
          "model_module_version": "1.2.0",
          "state": {
            "_model_module": "@jupyter-widgets/base",
            "_model_module_version": "1.2.0",
            "_model_name": "LayoutModel",
            "_view_count": null,
            "_view_module": "@jupyter-widgets/base",
            "_view_module_version": "1.2.0",
            "_view_name": "LayoutView",
            "align_content": null,
            "align_items": null,
            "align_self": null,
            "border": null,
            "bottom": null,
            "display": null,
            "flex": null,
            "flex_flow": null,
            "grid_area": null,
            "grid_auto_columns": null,
            "grid_auto_flow": null,
            "grid_auto_rows": null,
            "grid_column": null,
            "grid_gap": null,
            "grid_row": null,
            "grid_template_areas": null,
            "grid_template_columns": null,
            "grid_template_rows": null,
            "height": null,
            "justify_content": null,
            "justify_items": null,
            "left": null,
            "margin": null,
            "max_height": null,
            "max_width": null,
            "min_height": null,
            "min_width": null,
            "object_fit": null,
            "object_position": null,
            "order": null,
            "overflow": null,
            "overflow_x": null,
            "overflow_y": null,
            "padding": null,
            "right": null,
            "top": null,
            "visibility": null,
            "width": null
          }
        },
        "1af1033fc3e045fd928a00fb20bb45c5": {
          "model_module": "@jupyter-widgets/controls",
          "model_name": "DescriptionStyleModel",
          "model_module_version": "1.5.0",
          "state": {
            "_model_module": "@jupyter-widgets/controls",
            "_model_module_version": "1.5.0",
            "_model_name": "DescriptionStyleModel",
            "_view_count": null,
            "_view_module": "@jupyter-widgets/base",
            "_view_module_version": "1.2.0",
            "_view_name": "StyleView",
            "description_width": ""
          }
        },
        "aafd9614b0bd420893c7756c74b0504f": {
          "model_module": "@jupyter-widgets/base",
          "model_name": "LayoutModel",
          "model_module_version": "1.2.0",
          "state": {
            "_model_module": "@jupyter-widgets/base",
            "_model_module_version": "1.2.0",
            "_model_name": "LayoutModel",
            "_view_count": null,
            "_view_module": "@jupyter-widgets/base",
            "_view_module_version": "1.2.0",
            "_view_name": "LayoutView",
            "align_content": null,
            "align_items": null,
            "align_self": null,
            "border": null,
            "bottom": null,
            "display": null,
            "flex": null,
            "flex_flow": null,
            "grid_area": null,
            "grid_auto_columns": null,
            "grid_auto_flow": null,
            "grid_auto_rows": null,
            "grid_column": null,
            "grid_gap": null,
            "grid_row": null,
            "grid_template_areas": null,
            "grid_template_columns": null,
            "grid_template_rows": null,
            "height": null,
            "justify_content": null,
            "justify_items": null,
            "left": null,
            "margin": null,
            "max_height": null,
            "max_width": null,
            "min_height": null,
            "min_width": null,
            "object_fit": null,
            "object_position": null,
            "order": null,
            "overflow": null,
            "overflow_x": null,
            "overflow_y": null,
            "padding": null,
            "right": null,
            "top": null,
            "visibility": null,
            "width": null
          }
        },
        "30e3762a161546a08bcfecf6d5e055e9": {
          "model_module": "@jupyter-widgets/controls",
          "model_name": "ProgressStyleModel",
          "model_module_version": "1.5.0",
          "state": {
            "_model_module": "@jupyter-widgets/controls",
            "_model_module_version": "1.5.0",
            "_model_name": "ProgressStyleModel",
            "_view_count": null,
            "_view_module": "@jupyter-widgets/base",
            "_view_module_version": "1.2.0",
            "_view_name": "StyleView",
            "bar_color": null,
            "description_width": ""
          }
        },
        "9e53091ebfd84218afd6191f01a9b32c": {
          "model_module": "@jupyter-widgets/base",
          "model_name": "LayoutModel",
          "model_module_version": "1.2.0",
          "state": {
            "_model_module": "@jupyter-widgets/base",
            "_model_module_version": "1.2.0",
            "_model_name": "LayoutModel",
            "_view_count": null,
            "_view_module": "@jupyter-widgets/base",
            "_view_module_version": "1.2.0",
            "_view_name": "LayoutView",
            "align_content": null,
            "align_items": null,
            "align_self": null,
            "border": null,
            "bottom": null,
            "display": null,
            "flex": null,
            "flex_flow": null,
            "grid_area": null,
            "grid_auto_columns": null,
            "grid_auto_flow": null,
            "grid_auto_rows": null,
            "grid_column": null,
            "grid_gap": null,
            "grid_row": null,
            "grid_template_areas": null,
            "grid_template_columns": null,
            "grid_template_rows": null,
            "height": null,
            "justify_content": null,
            "justify_items": null,
            "left": null,
            "margin": null,
            "max_height": null,
            "max_width": null,
            "min_height": null,
            "min_width": null,
            "object_fit": null,
            "object_position": null,
            "order": null,
            "overflow": null,
            "overflow_x": null,
            "overflow_y": null,
            "padding": null,
            "right": null,
            "top": null,
            "visibility": null,
            "width": null
          }
        },
        "02cbf0cbe4f3476087b7a821f951fe99": {
          "model_module": "@jupyter-widgets/controls",
          "model_name": "DescriptionStyleModel",
          "model_module_version": "1.5.0",
          "state": {
            "_model_module": "@jupyter-widgets/controls",
            "_model_module_version": "1.5.0",
            "_model_name": "DescriptionStyleModel",
            "_view_count": null,
            "_view_module": "@jupyter-widgets/base",
            "_view_module_version": "1.2.0",
            "_view_name": "StyleView",
            "description_width": ""
          }
        },
        "f7acc73b13314a728ff9734bc3975898": {
          "model_module": "@jupyter-widgets/controls",
          "model_name": "HBoxModel",
          "model_module_version": "1.5.0",
          "state": {
            "_dom_classes": [],
            "_model_module": "@jupyter-widgets/controls",
            "_model_module_version": "1.5.0",
            "_model_name": "HBoxModel",
            "_view_count": null,
            "_view_module": "@jupyter-widgets/controls",
            "_view_module_version": "1.5.0",
            "_view_name": "HBoxView",
            "box_style": "",
            "children": [
              "IPY_MODEL_acb907bf6474412f800b931c89ebd58e",
              "IPY_MODEL_e1f38a603c9b4048ab5db02ef6fe5606",
              "IPY_MODEL_fe373572d46a4a32a5c6a1a1478d48cc"
            ],
            "layout": "IPY_MODEL_67471213f91a4ee3b4d07901b6053196"
          }
        },
        "acb907bf6474412f800b931c89ebd58e": {
          "model_module": "@jupyter-widgets/controls",
          "model_name": "HTMLModel",
          "model_module_version": "1.5.0",
          "state": {
            "_dom_classes": [],
            "_model_module": "@jupyter-widgets/controls",
            "_model_module_version": "1.5.0",
            "_model_name": "HTMLModel",
            "_view_count": null,
            "_view_module": "@jupyter-widgets/controls",
            "_view_module_version": "1.5.0",
            "_view_name": "HTMLView",
            "description": "",
            "description_tooltip": null,
            "layout": "IPY_MODEL_7e688f97ba0b4653b77765491e643b95",
            "placeholder": "​",
            "style": "IPY_MODEL_b827c62157ea435fa029f86658e26845",
            "value": "Downloading: 100%"
          }
        },
        "e1f38a603c9b4048ab5db02ef6fe5606": {
          "model_module": "@jupyter-widgets/controls",
          "model_name": "FloatProgressModel",
          "model_module_version": "1.5.0",
          "state": {
            "_dom_classes": [],
            "_model_module": "@jupyter-widgets/controls",
            "_model_module_version": "1.5.0",
            "_model_name": "FloatProgressModel",
            "_view_count": null,
            "_view_module": "@jupyter-widgets/controls",
            "_view_module_version": "1.5.0",
            "_view_name": "ProgressView",
            "bar_style": "success",
            "description": "",
            "description_tooltip": null,
            "layout": "IPY_MODEL_2ef47a3f4a4245c9ba6f0648d981924b",
            "max": 112,
            "min": 0,
            "orientation": "horizontal",
            "style": "IPY_MODEL_e494b4073bbc439cbf67e155c8649065",
            "value": 112
          }
        },
        "fe373572d46a4a32a5c6a1a1478d48cc": {
          "model_module": "@jupyter-widgets/controls",
          "model_name": "HTMLModel",
          "model_module_version": "1.5.0",
          "state": {
            "_dom_classes": [],
            "_model_module": "@jupyter-widgets/controls",
            "_model_module_version": "1.5.0",
            "_model_name": "HTMLModel",
            "_view_count": null,
            "_view_module": "@jupyter-widgets/controls",
            "_view_module_version": "1.5.0",
            "_view_name": "HTMLView",
            "description": "",
            "description_tooltip": null,
            "layout": "IPY_MODEL_14fdaa68496e42908ec3836b55fbf2a8",
            "placeholder": "​",
            "style": "IPY_MODEL_6eeaaf80db7741d393b7a6a55ca74722",
            "value": " 112/112 [00:00&lt;00:00, 1.18kB/s]"
          }
        },
        "67471213f91a4ee3b4d07901b6053196": {
          "model_module": "@jupyter-widgets/base",
          "model_name": "LayoutModel",
          "model_module_version": "1.2.0",
          "state": {
            "_model_module": "@jupyter-widgets/base",
            "_model_module_version": "1.2.0",
            "_model_name": "LayoutModel",
            "_view_count": null,
            "_view_module": "@jupyter-widgets/base",
            "_view_module_version": "1.2.0",
            "_view_name": "LayoutView",
            "align_content": null,
            "align_items": null,
            "align_self": null,
            "border": null,
            "bottom": null,
            "display": null,
            "flex": null,
            "flex_flow": null,
            "grid_area": null,
            "grid_auto_columns": null,
            "grid_auto_flow": null,
            "grid_auto_rows": null,
            "grid_column": null,
            "grid_gap": null,
            "grid_row": null,
            "grid_template_areas": null,
            "grid_template_columns": null,
            "grid_template_rows": null,
            "height": null,
            "justify_content": null,
            "justify_items": null,
            "left": null,
            "margin": null,
            "max_height": null,
            "max_width": null,
            "min_height": null,
            "min_width": null,
            "object_fit": null,
            "object_position": null,
            "order": null,
            "overflow": null,
            "overflow_x": null,
            "overflow_y": null,
            "padding": null,
            "right": null,
            "top": null,
            "visibility": null,
            "width": null
          }
        },
        "7e688f97ba0b4653b77765491e643b95": {
          "model_module": "@jupyter-widgets/base",
          "model_name": "LayoutModel",
          "model_module_version": "1.2.0",
          "state": {
            "_model_module": "@jupyter-widgets/base",
            "_model_module_version": "1.2.0",
            "_model_name": "LayoutModel",
            "_view_count": null,
            "_view_module": "@jupyter-widgets/base",
            "_view_module_version": "1.2.0",
            "_view_name": "LayoutView",
            "align_content": null,
            "align_items": null,
            "align_self": null,
            "border": null,
            "bottom": null,
            "display": null,
            "flex": null,
            "flex_flow": null,
            "grid_area": null,
            "grid_auto_columns": null,
            "grid_auto_flow": null,
            "grid_auto_rows": null,
            "grid_column": null,
            "grid_gap": null,
            "grid_row": null,
            "grid_template_areas": null,
            "grid_template_columns": null,
            "grid_template_rows": null,
            "height": null,
            "justify_content": null,
            "justify_items": null,
            "left": null,
            "margin": null,
            "max_height": null,
            "max_width": null,
            "min_height": null,
            "min_width": null,
            "object_fit": null,
            "object_position": null,
            "order": null,
            "overflow": null,
            "overflow_x": null,
            "overflow_y": null,
            "padding": null,
            "right": null,
            "top": null,
            "visibility": null,
            "width": null
          }
        },
        "b827c62157ea435fa029f86658e26845": {
          "model_module": "@jupyter-widgets/controls",
          "model_name": "DescriptionStyleModel",
          "model_module_version": "1.5.0",
          "state": {
            "_model_module": "@jupyter-widgets/controls",
            "_model_module_version": "1.5.0",
            "_model_name": "DescriptionStyleModel",
            "_view_count": null,
            "_view_module": "@jupyter-widgets/base",
            "_view_module_version": "1.2.0",
            "_view_name": "StyleView",
            "description_width": ""
          }
        },
        "2ef47a3f4a4245c9ba6f0648d981924b": {
          "model_module": "@jupyter-widgets/base",
          "model_name": "LayoutModel",
          "model_module_version": "1.2.0",
          "state": {
            "_model_module": "@jupyter-widgets/base",
            "_model_module_version": "1.2.0",
            "_model_name": "LayoutModel",
            "_view_count": null,
            "_view_module": "@jupyter-widgets/base",
            "_view_module_version": "1.2.0",
            "_view_name": "LayoutView",
            "align_content": null,
            "align_items": null,
            "align_self": null,
            "border": null,
            "bottom": null,
            "display": null,
            "flex": null,
            "flex_flow": null,
            "grid_area": null,
            "grid_auto_columns": null,
            "grid_auto_flow": null,
            "grid_auto_rows": null,
            "grid_column": null,
            "grid_gap": null,
            "grid_row": null,
            "grid_template_areas": null,
            "grid_template_columns": null,
            "grid_template_rows": null,
            "height": null,
            "justify_content": null,
            "justify_items": null,
            "left": null,
            "margin": null,
            "max_height": null,
            "max_width": null,
            "min_height": null,
            "min_width": null,
            "object_fit": null,
            "object_position": null,
            "order": null,
            "overflow": null,
            "overflow_x": null,
            "overflow_y": null,
            "padding": null,
            "right": null,
            "top": null,
            "visibility": null,
            "width": null
          }
        },
        "e494b4073bbc439cbf67e155c8649065": {
          "model_module": "@jupyter-widgets/controls",
          "model_name": "ProgressStyleModel",
          "model_module_version": "1.5.0",
          "state": {
            "_model_module": "@jupyter-widgets/controls",
            "_model_module_version": "1.5.0",
            "_model_name": "ProgressStyleModel",
            "_view_count": null,
            "_view_module": "@jupyter-widgets/base",
            "_view_module_version": "1.2.0",
            "_view_name": "StyleView",
            "bar_color": null,
            "description_width": ""
          }
        },
        "14fdaa68496e42908ec3836b55fbf2a8": {
          "model_module": "@jupyter-widgets/base",
          "model_name": "LayoutModel",
          "model_module_version": "1.2.0",
          "state": {
            "_model_module": "@jupyter-widgets/base",
            "_model_module_version": "1.2.0",
            "_model_name": "LayoutModel",
            "_view_count": null,
            "_view_module": "@jupyter-widgets/base",
            "_view_module_version": "1.2.0",
            "_view_name": "LayoutView",
            "align_content": null,
            "align_items": null,
            "align_self": null,
            "border": null,
            "bottom": null,
            "display": null,
            "flex": null,
            "flex_flow": null,
            "grid_area": null,
            "grid_auto_columns": null,
            "grid_auto_flow": null,
            "grid_auto_rows": null,
            "grid_column": null,
            "grid_gap": null,
            "grid_row": null,
            "grid_template_areas": null,
            "grid_template_columns": null,
            "grid_template_rows": null,
            "height": null,
            "justify_content": null,
            "justify_items": null,
            "left": null,
            "margin": null,
            "max_height": null,
            "max_width": null,
            "min_height": null,
            "min_width": null,
            "object_fit": null,
            "object_position": null,
            "order": null,
            "overflow": null,
            "overflow_x": null,
            "overflow_y": null,
            "padding": null,
            "right": null,
            "top": null,
            "visibility": null,
            "width": null
          }
        },
        "6eeaaf80db7741d393b7a6a55ca74722": {
          "model_module": "@jupyter-widgets/controls",
          "model_name": "DescriptionStyleModel",
          "model_module_version": "1.5.0",
          "state": {
            "_model_module": "@jupyter-widgets/controls",
            "_model_module_version": "1.5.0",
            "_model_name": "DescriptionStyleModel",
            "_view_count": null,
            "_view_module": "@jupyter-widgets/base",
            "_view_module_version": "1.2.0",
            "_view_name": "StyleView",
            "description_width": ""
          }
        }
      }
    }
  },
  "cells": [
    {
      "cell_type": "markdown",
      "source": [
        "## Category: nn之前的做法\n",
        "\n",
        "Author: Nana\n",
        "\n",
        "Date: Created at 2022.4.16\n"
      ],
      "metadata": {
        "id": "mea7jGiqPIo-"
      }
    },
    {
      "cell_type": "code",
      "source": [
        "# hyperparams\n",
        "TOPN = 20 \n",
        "N = 217 # category數量"
      ],
      "metadata": {
        "id": "NLfQkFhme36p"
      },
      "execution_count": 1,
      "outputs": []
    },
    {
      "cell_type": "code",
      "execution_count": 2,
      "metadata": {
        "colab": {
          "base_uri": "https://localhost:8080/"
        },
        "id": "IA5WFOGg-YHl",
        "outputId": "311310df-8657-44d0-e49c-a0fe4151b2c1"
      },
      "outputs": [
        {
          "output_type": "stream",
          "name": "stdout",
          "text": [
            "Mounted at /content/drive\n"
          ]
        }
      ],
      "source": [
        "from google.colab import drive\n",
        "drive.mount('/content/drive')\n",
        "maindir = '/content/drive/MyDrive/FinTech-final-project'\n",
        "datadir = f'{maindir}/data'\n",
        "spmdir = f'{maindir}/spm'\n",
        "modeldir = f'{maindir}/models'\n",
        "cat_df_path = f'{maindir}/東吳課程_發票資料集/品類資料集/cat_train_v2.csv'"
      ]
    },
    {
      "cell_type": "code",
      "source": [
        "from collections import defaultdict\n",
        "import numpy as np\n",
        "import pandas as pd\n",
        "import joblib\n",
        "import random"
      ],
      "metadata": {
        "id": "KAV01UWDZlq9"
      },
      "execution_count": 3,
      "outputs": []
    },
    {
      "cell_type": "markdown",
      "source": [
        "## Fixing some bugs in pickled files"
      ],
      "metadata": {
        "id": "hEHYDO7qI7dI"
      }
    },
    {
      "cell_type": "code",
      "source": [
        "catdf = pd.read_csv(cat_df_path)\n",
        "catD = defaultdict(int)\n",
        "for k in catdf['product']:\n",
        "  for x in k.split(';'):\n",
        "    catD[x] += 1 \n",
        "\n",
        "N = len(catD)\n",
        "cat2idx = {} # a mapping that maps category to its corresponding (arbitray) index\n",
        "for i, k in zip(range(N), catD.keys()):\n",
        "  cat2idx[k] = i\n",
        "prod_labels = []\n",
        "# labs is the v1 category_labels.pkl, now deleted \n",
        "# for p, n, l in zip(catdf['product'], catdf['name'], labs):\n",
        "#   segn = l['seg_name']\n",
        "#   labels = np.zeros(N)\n",
        "#   for x in p.split(';'):\n",
        "#     if len(x.strip()) > 0:\n",
        "#       catid = cat2idx[x]\n",
        "#       labels[catid] = 1\n",
        "#   prod_labels.append({'name':n, 'labels': labels, 'seg_name':segn, 'product': p.split(';')})"
      ],
      "metadata": {
        "id": "ux81-sHY-zVv"
      },
      "execution_count": 4,
      "outputs": []
    },
    {
      "cell_type": "code",
      "source": [
        "# check category number \n",
        "all(len(x['labels']) == 217 for x in prod_labels)"
      ],
      "metadata": {
        "colab": {
          "base_uri": "https://localhost:8080/"
        },
        "id": "yEZ2RPd-HjXx",
        "outputId": "3819684a-0827-45e0-b53d-74ac069435e1"
      },
      "execution_count": 5,
      "outputs": [
        {
          "output_type": "execute_result",
          "data": {
            "text/plain": [
              "True"
            ]
          },
          "metadata": {},
          "execution_count": 5
        }
      ]
    },
    {
      "cell_type": "code",
      "source": [
        "## fixing the category number bug\n",
        "# import joblib\n",
        "# joblib.dump(prod_labels, f'{datadir}/category/category_labels_v2.pkl')\n",
        "# joblib.dump(cat2idx, f'{datadir}/category/cat2idx.pkl')"
      ],
      "metadata": {
        "id": "GCWdpVlMGtzh"
      },
      "execution_count": 6,
      "outputs": []
    },
    {
      "cell_type": "markdown",
      "source": [
        "## Loading Fasttext model\n",
        "`model.wv.most_similar()`\n",
        "\n",
        "This method computes cosine similarity between a simple mean of the projection weight vectors of the given words and the vectors for each word in the model. The method corresponds to the word-analogy and distance scripts in the original word2vec implementation."
      ],
      "metadata": {
        "id": "eQv0vCpK_mX3"
      }
    },
    {
      "cell_type": "code",
      "source": [
        "fmodelpath = f'{modeldir}/fasttext.model'\n",
        "from gensim.models import FastText\n",
        "model = FastText.load(fmodelpath) "
      ],
      "metadata": {
        "id": "Qt4AAn1r-nR1"
      },
      "execution_count": 7,
      "outputs": []
    },
    {
      "cell_type": "code",
      "source": [
        "model.wv.most_similar('人工淚液')"
      ],
      "metadata": {
        "colab": {
          "base_uri": "https://localhost:8080/"
        },
        "id": "AKc9eTii_l0S",
        "outputId": "85631a1c-615e-4499-edd3-39f49ea0bd5f"
      },
      "execution_count": 8,
      "outputs": [
        {
          "output_type": "execute_result",
          "data": {
            "text/plain": [
              "[('人工', 0.8812408447265625),\n",
              " ('舒點眼液', 0.8710706830024719),\n",
              " ('淚液', 0.866841197013855),\n",
              " ('參天', 0.8561886548995972),\n",
              " ('賜眼康點眼液', 0.8525574207305908),\n",
              " ('海滴', 0.8522036075592041),\n",
              " ('舒坦', 0.8486995697021484),\n",
              " ('朗點眼液', 0.8437364101409912),\n",
              " ('優點眼液', 0.8399668335914612),\n",
              " ('樂眼液', 0.8392975926399231)]"
            ]
          },
          "metadata": {},
          "execution_count": 8
        }
      ]
    },
    {
      "cell_type": "code",
      "source": [
        "model.wv.most_similar('筆記型電腦')"
      ],
      "metadata": {
        "colab": {
          "base_uri": "https://localhost:8080/"
        },
        "id": "PQQJzzWZ_vvY",
        "outputId": "7543a8f8-ced4-4dac-c6a0-f1c017c6c474"
      },
      "execution_count": 9,
      "outputs": [
        {
          "output_type": "execute_result",
          "data": {
            "text/plain": [
              "[('SM-G', 0.9681061506271362),\n",
              " ('FZSGBRI', 0.9648809432983398),\n",
              " ('慕南', 0.9646647572517395),\n",
              " ('NZSABRI', 0.964486837387085),\n",
              " ('FZIGBRI', 0.9633705019950867),\n",
              " ('FZKGBRI', 0.9629587531089783),\n",
              " ('NZDEBRI', 0.9622004628181458),\n",
              " ('A515-55G-59', 0.9602923393249512),\n",
              " ('TCL', 0.957550585269928),\n",
              " ('LENOVOIdeaPad', 0.9565285444259644)]"
            ]
          },
          "metadata": {},
          "execution_count": 9
        }
      ]
    },
    {
      "cell_type": "markdown",
      "source": [
        "### Attempt 1: String exact match \n",
        "may serve as a baseline \n",
        "\n",
        "以FastText內建的`model.wv.most_similar(c)` ∀ category c，存下最相似的前20個(`TOPN`) 詞彙與對應的機率（as recorded in model.wv）作為關鍵詞表（存在`cat2kw`）。隨後對每個product name，string match所有category對應的詞表（手動加入category本身詞彙，權重設定為100，以機率來看= 10000%，幾乎等於一定選它），然後將有match到的詞彙對應的機率加總（cat_hit_probs）。\n",
        "對每個name，argmax cat_hit_probs最大者作為所屬category。\n",
        "1. 只選單一category（argmax）。\n",
        "2. 以下只random sample了10%的資料約9000筆來實驗。\n",
        "\n",
        "Macro F1 Result: 0.39"
      ],
      "metadata": {
        "id": "pJMV-4lJJfZe"
      }
    },
    {
      "cell_type": "code",
      "source": [
        "!pip install -q -U ckip-transformers\n",
        "from ckip_transformers.nlp import CkipWordSegmenter"
      ],
      "metadata": {
        "id": "S9YSc-T0KjjU",
        "colab": {
          "base_uri": "https://localhost:8080/"
        },
        "outputId": "6f82d293-f44c-4aa8-b71d-98d6a5b2cc6b"
      },
      "execution_count": 10,
      "outputs": [
        {
          "output_type": "stream",
          "name": "stdout",
          "text": [
            "\u001b[K     |████████████████████████████████| 4.0 MB 34.0 MB/s \n",
            "\u001b[K     |████████████████████████████████| 6.6 MB 41.9 MB/s \n",
            "\u001b[K     |████████████████████████████████| 895 kB 71.0 MB/s \n",
            "\u001b[K     |████████████████████████████████| 77 kB 6.1 MB/s \n",
            "\u001b[K     |████████████████████████████████| 596 kB 69.4 MB/s \n",
            "\u001b[?25h"
          ]
        }
      ]
    },
    {
      "cell_type": "code",
      "source": [
        "ws_driver = CkipWordSegmenter(level=3) # device 0 specifies GPU "
      ],
      "metadata": {
        "id": "jCFBMgL5K6Nj",
        "colab": {
          "base_uri": "https://localhost:8080/",
          "height": 177,
          "referenced_widgets": [
            "f3a2923f41ab408a81aa3c350d2e8881",
            "61740e5ba122482db4b095638b416177",
            "c4b1812539b0495aadcef886f4d6bbcd",
            "319987663ff845899c3579c585864281",
            "3b298483a24940f9a37db343d0703534",
            "e194b6378d024107863d49f54bd42230",
            "51d7edb07c734593aa71dada33ee0db5",
            "23e9a0c696e3459ea0aa5a1b9d60fec0",
            "5becc3518b794ed4a073e7fc25c4f8e7",
            "0be64c5608324650acfed0839c00f54b",
            "1bcdfb1263c04709a613e5da60d88b2f",
            "6c2b58c418e445c7a914ea877b818167",
            "f86c0f2c22a948b39083c137a5a6e30b",
            "24d046842f0a48c7a12fa81a9b7149d9",
            "cf8a16451bd84c41bb4ff3f4d30ac4e8",
            "5bbb55410789405a9f8485d261ef72e8",
            "5ed1bb670dc04590a32bf92bbdae94fa",
            "e436f85553884d5e9b04e34114f4ebe5",
            "f1a2597895be446db8d21b6fe251f236",
            "e0c0746a3cec4909befe22af54c37dcf",
            "6e480b6c11234874bb3b6b04d21ce702",
            "ed44600b09034a43826f57580996c1ca",
            "600e4b66260344488461631a4d74f2e7",
            "15ad709f819d408abcb055bab5c63ec8",
            "b433eb721a09449199e450387ec7234e",
            "7dca2e83fe1f41fa8f31a5c3f40fcffc",
            "5326e8d42366425db20fb32390e924ac",
            "09addda222d44618aa902c35694991aa",
            "5bd70cb64f23417c8b0cf78903debda6",
            "6a72bd1b4cb74eab8f8997fdece3ebc8",
            "6d2029a73b6b490683c445b4ebebb50a",
            "f9e2acafac5b4156899f66dab6f8e702",
            "a031df7e5ab3414ea84aa914d4b0842f",
            "c09ecdf548b14eb2a4ebf8a4e455eeb0",
            "a803f7383aa54cd4af25e0d7518a1366",
            "ee0ba2560ec9457fb7ddaaa25f239b41",
            "b214c36fd8224783a92c2e35f8b9f2f2",
            "66e57dc55af7414cb8f4c31df3e878c7",
            "2a24e061d23d4053a051e7e8d6e1184b",
            "1af1033fc3e045fd928a00fb20bb45c5",
            "aafd9614b0bd420893c7756c74b0504f",
            "30e3762a161546a08bcfecf6d5e055e9",
            "9e53091ebfd84218afd6191f01a9b32c",
            "02cbf0cbe4f3476087b7a821f951fe99",
            "f7acc73b13314a728ff9734bc3975898",
            "acb907bf6474412f800b931c89ebd58e",
            "e1f38a603c9b4048ab5db02ef6fe5606",
            "fe373572d46a4a32a5c6a1a1478d48cc",
            "67471213f91a4ee3b4d07901b6053196",
            "7e688f97ba0b4653b77765491e643b95",
            "b827c62157ea435fa029f86658e26845",
            "2ef47a3f4a4245c9ba6f0648d981924b",
            "e494b4073bbc439cbf67e155c8649065",
            "14fdaa68496e42908ec3836b55fbf2a8",
            "6eeaaf80db7741d393b7a6a55ca74722"
          ]
        },
        "outputId": "4962ee84-1d0f-4a23-b812-c33915f081c4"
      },
      "execution_count": 11,
      "outputs": [
        {
          "output_type": "display_data",
          "data": {
            "text/plain": [
              "Downloading:   0%|          | 0.00/804 [00:00<?, ?B/s]"
            ],
            "application/vnd.jupyter.widget-view+json": {
              "version_major": 2,
              "version_minor": 0,
              "model_id": "f3a2923f41ab408a81aa3c350d2e8881"
            }
          },
          "metadata": {}
        },
        {
          "output_type": "display_data",
          "data": {
            "text/plain": [
              "Downloading:   0%|          | 0.00/388M [00:00<?, ?B/s]"
            ],
            "application/vnd.jupyter.widget-view+json": {
              "version_major": 2,
              "version_minor": 0,
              "model_id": "6c2b58c418e445c7a914ea877b818167"
            }
          },
          "metadata": {}
        },
        {
          "output_type": "display_data",
          "data": {
            "text/plain": [
              "Downloading:   0%|          | 0.00/301 [00:00<?, ?B/s]"
            ],
            "application/vnd.jupyter.widget-view+json": {
              "version_major": 2,
              "version_minor": 0,
              "model_id": "600e4b66260344488461631a4d74f2e7"
            }
          },
          "metadata": {}
        },
        {
          "output_type": "display_data",
          "data": {
            "text/plain": [
              "Downloading:   0%|          | 0.00/107k [00:00<?, ?B/s]"
            ],
            "application/vnd.jupyter.widget-view+json": {
              "version_major": 2,
              "version_minor": 0,
              "model_id": "c09ecdf548b14eb2a4ebf8a4e455eeb0"
            }
          },
          "metadata": {}
        },
        {
          "output_type": "display_data",
          "data": {
            "text/plain": [
              "Downloading:   0%|          | 0.00/112 [00:00<?, ?B/s]"
            ],
            "application/vnd.jupyter.widget-view+json": {
              "version_major": 2,
              "version_minor": 0,
              "model_id": "f7acc73b13314a728ff9734bc3975898"
            }
          },
          "metadata": {}
        }
      ]
    },
    {
      "cell_type": "code",
      "source": [
        "cat2idx = joblib.load(f'{datadir}/category/cat2idx.pkl')\n",
        "cat_dict = joblib.load(f'{datadir}/category/category_labels_v2.pkl')"
      ],
      "metadata": {
        "id": "QZYjWEHOLghs"
      },
      "execution_count": 12,
      "outputs": []
    },
    {
      "cell_type": "markdown",
      "source": [
        "inverted map"
      ],
      "metadata": {
        "id": "tzyf5Ki-pkmo"
      }
    },
    {
      "cell_type": "code",
      "source": [
        "idx2cat = {v:k for k, v in cat2idx.items()}"
      ],
      "metadata": {
        "id": "PXawtE3Za_o-"
      },
      "execution_count": 45,
      "outputs": []
    },
    {
      "cell_type": "code",
      "source": [
        "catkeys = list(cat2idx.keys())\n",
        "cat2ws = {} # mapping: category to its segmented token \n",
        "ws = ws_driver(catkeys)\n",
        "for k, segk in zip(catkeys, ws):\n",
        "  cat2ws[k] = segk\n",
        "joblib.dump(cat2ws, f'{datadir}/category/cat2ws.pkl')"
      ],
      "metadata": {
        "colab": {
          "base_uri": "https://localhost:8080/"
        },
        "id": "VhfcqgaEK_-x",
        "outputId": "632d5ad4-3531-40ae-945a-e09ee7051d12"
      },
      "execution_count": 46,
      "outputs": [
        {
          "output_type": "stream",
          "name": "stderr",
          "text": [
            "Tokenization: 100%|██████████| 217/217 [00:00<00:00, 29982.01it/s]\n",
            "Inference: 100%|██████████| 1/1 [00:09<00:00,  9.39s/it]\n"
          ]
        },
        {
          "output_type": "execute_result",
          "data": {
            "text/plain": [
              "['/content/drive/MyDrive/FinTech-final-project/data/category/cat2ws.pkl']"
            ]
          },
          "metadata": {},
          "execution_count": 46
        }
      ]
    },
    {
      "cell_type": "code",
      "source": [
        "# check if the category has an embedding in fasttext model\n",
        "# if yes, take its most_similar phrase list\n",
        "# otherwise, try get its tokens' most_similar phrase list (extend)\n",
        "\n",
        "cat2keywords= defaultdict(list)\n",
        "for cat in cat2idx.keys():\n",
        "  if cat in model.wv:\n",
        "    cat2keywords[cat] = model.wv.most_similar(cat, topn = TOPN)\n",
        "  else:\n",
        "    tokens = cat2keywords[cat]\n",
        "    for token in tokens:\n",
        "        cat2keywords.extend(model.wv.most_similar(token, topn = TOPN))"
      ],
      "metadata": {
        "id": "Xy1Aw0MdJkAM"
      },
      "execution_count": 47,
      "outputs": []
    },
    {
      "cell_type": "code",
      "source": [
        "list(cat2keywords.items())[:5]"
      ],
      "metadata": {
        "colab": {
          "base_uri": "https://localhost:8080/"
        },
        "id": "dI2wm42-N-US",
        "outputId": "12ebad8f-0fd0-43e6-b7d7-a965c7b95ccf"
      },
      "execution_count": 48,
      "outputs": [
        {
          "output_type": "execute_result",
          "data": {
            "text/plain": [
              "[('人工淚液',\n",
              "  [('人工', 0.8812408447265625),\n",
              "   ('舒點眼液', 0.8710706830024719),\n",
              "   ('淚液', 0.866841197013855),\n",
              "   ('參天', 0.8561886548995972),\n",
              "   ('賜眼康點眼液', 0.8525574207305908),\n",
              "   ('海滴', 0.8522036075592041),\n",
              "   ('舒坦', 0.8486995697021484),\n",
              "   ('朗點眼液', 0.8437364101409912),\n",
              "   ('優點眼液', 0.8399668335914612),\n",
              "   ('樂眼液', 0.8392975926399231),\n",
              "   ('卸眼液', 0.8358579277992249),\n",
              "   ('朗眼液', 0.8333317041397095),\n",
              "   ('眼液', 0.8318336009979248),\n",
              "   ('抗皺', 0.8296966552734375),\n",
              "   ('試管', 0.8239986896514893),\n",
              "   ('到期日', 0.821074903011322),\n",
              "   ('鹽巴', 0.8204549551010132),\n",
              "   ('2β', 0.8181430101394653),\n",
              "   ('T+', 0.817972719669342),\n",
              "   ('R視', 0.8170994520187378)]),\n",
              " ('中式香腸',\n",
              "  [('SSO', 0.9588946104049683),\n",
              "   ('三島', 0.9545806646347046),\n",
              "   ('IKIGAI', 0.953130841255188),\n",
              "   ('開始', 0.9530795812606812),\n",
              "   ('惠百氏', 0.9530603289604187),\n",
              "   ('薇拉', 0.9504801630973816),\n",
              "   ('SS｜S｜', 0.9502218961715698),\n",
              "   ('湯包麵', 0.9494392275810242),\n",
              "   ('巨無霸', 0.9492870569229126),\n",
              "   ('濾滴', 0.9490464925765991),\n",
              "   ('SSO2', 0.9489832520484924),\n",
              "   ('麵麻', 0.9488399624824524),\n",
              "   ('泡岩燒', 0.948466420173645),\n",
              "   ('岩燒', 0.9482587575912476),\n",
              "   ('LP-', 0.9453467130661011),\n",
              "   ('花三島', 0.9447842836380005),\n",
              "   ('潮汕', 0.944621205329895),\n",
              "   ('大參', 0.944073498249054),\n",
              "   ('豆腐', 0.9437023401260376),\n",
              "   ('張君雅', 0.9431470036506653)]),\n",
              " ('化妝水',\n",
              "  [('化妝鏡', 0.9737114310264587),\n",
              "   ('化妝包', 0.9651573300361633),\n",
              "   ('化妝髮', 0.9484478831291199),\n",
              "   ('化妝', 0.9381691813468933),\n",
              "   ('化妝桌', 0.933983325958252),\n",
              "   ('化妝夾', 0.9269907474517822),\n",
              "   ('化粧品', 0.9166343808174133),\n",
              "   ('化粧水', 0.9059443473815918),\n",
              "   ('卸妝水', 0.9017469882965088),\n",
              "   ('卸妝乳', 0.8998117446899414),\n",
              "   ('精華乳', 0.8972277045249939),\n",
              "   ('潔顏凍', 0.8967061042785645),\n",
              "   ('精華蜜', 0.8905400037765503),\n",
              "   ('潔顏霜', 0.8897790908813477),\n",
              "   ('精華液', 0.8886322975158691),\n",
              "   ('精華水', 0.8873056173324585),\n",
              "   ('潔顏組', 0.8862756490707397),\n",
              "   ('潔顏露', 0.8854855298995972),\n",
              "   ('潔顏油', 0.8842724561691284),\n",
              "   ('精華版', 0.8828210234642029)]),\n",
              " ('成人牙膏',\n",
              "  [('牙膏型', 0.8199844360351562),\n",
              "   ('衛生棉條', 0.8066272139549255),\n",
              "   ('潔牙膏', 0.806094765663147),\n",
              "   ('高露潔牙膏', 0.8042159080505371),\n",
              "   ('牙膏草', 0.8024700284004211),\n",
              "   ('一般口', 0.8009989857673645),\n",
              "   ('衛生棉褲', 0.7998605966567993),\n",
              "   ('一般款', 0.7940612435340881),\n",
              "   ('牙膏原', 0.7935664653778076),\n",
              "   ('牙膏組', 0.7934828400611877),\n",
              "   ('蛀牙膏', 0.7929027080535889),\n",
              "   ('牙齒', 0.7906994819641113),\n",
              "   ('牙膏藍', 0.7905927896499634),\n",
              "   ('蘆的皓牙膏', 0.7892414927482605),\n",
              "   ('成人款', 0.787901759147644),\n",
              "   ('牙膏座', 0.7871267199516296),\n",
              "   ('牙膏界', 0.7851337790489197),\n",
              "   ('一般', 0.7843608260154724),\n",
              "   ('一般版', 0.7825597524642944),\n",
              "   ('牙膏花', 0.7821011543273926)]),\n",
              " ('水路/健行鞋',\n",
              "  [('BD6JR', 0.9766202569007874),\n",
              "   ('練習槓', 0.9729422330856323),\n",
              "   ('轉換', 0.972862184047699),\n",
              "   ('閃', 0.9720712304115295),\n",
              "   ('旋鈕式', 0.9717600345611572),\n",
              "   ('戰術', 0.9712401032447815),\n",
              "   ('轉接頭', 0.9709845185279846),\n",
              "   ('攪拌', 0.9705051183700562),\n",
              "   ('IJK3', 0.9701454639434814),\n",
              "   ('L摩洛', 0.9695969223976135),\n",
              "   ('髮圈', 0.9695768356323242),\n",
              "   ('轉換頭', 0.9693188071250916),\n",
              "   ('內旋式', 0.9692403078079224),\n",
              "   ('BU-AKT/', 0.9684553146362305),\n",
              "   ('果菜', 0.968112587928772),\n",
              "   ('隔震', 0.96800696849823),\n",
              "   ('GY-AKT/', 0.9670253396034241),\n",
              "   ('感恩組', 0.9668006896972656),\n",
              "   ('攪碎機', 0.9661345481872559),\n",
              "   ('C6/H66/C66/C9', 0.9660948514938354)])]"
            ]
          },
          "metadata": {},
          "execution_count": 48
        }
      ]
    },
    {
      "cell_type": "code",
      "source": [
        "# clean the cat2keywords \n",
        "# (remove probabilities and duplicates, add itself)\n",
        "# clean too-short keywords <- 效果不好\n",
        "cat2kw = {}\n",
        "for k, v in cat2keywords.items():\n",
        "  clean_v = list(set(x[0] for x in v))\n",
        "  clean_v_probs = {x[0]:x[1] for x in v} # 如果x[0]有重複出現，機率那邊有點麻煩但我們先不處理\n",
        "  if k not in clean_v:\n",
        "    clean_v.append(k)\n",
        "    clean_v_probs[k] = 100 # 100% similar # guarantee to take it\n",
        "  cat2kw[k] = (clean_v, clean_v_probs)\n",
        "# cat2kw here is a dictionary of category to its phrase list "
      ],
      "metadata": {
        "id": "yiaih29MPFtl"
      },
      "execution_count": 49,
      "outputs": []
    },
    {
      "cell_type": "code",
      "source": [
        "# use regex to find the exact match \n",
        "# sampling 0.1 ratio (for speed)\n",
        "instances_num = len(catdf)\n",
        "samp_num = int(instances_num/10)\n",
        "randidx = random.sample(range(instances_num), samp_num)\n",
        "samples = [cat_dict[i] for i in randidx]"
      ],
      "metadata": {
        "id": "Jx_CrFbcP0LR"
      },
      "execution_count": 50,
      "outputs": []
    },
    {
      "cell_type": "code",
      "source": [
        "len(samples)"
      ],
      "metadata": {
        "id": "81t4dRn-REx8",
        "colab": {
          "base_uri": "https://localhost:8080/"
        },
        "outputId": "f4e9a5f3-fbaf-4a38-a119-e8eb7b8a4bd3"
      },
      "execution_count": 51,
      "outputs": [
        {
          "output_type": "execute_result",
          "data": {
            "text/plain": [
              "9230"
            ]
          },
          "metadata": {},
          "execution_count": 51
        }
      ]
    },
    {
      "cell_type": "code",
      "source": [
        "samples[0]"
      ],
      "metadata": {
        "colab": {
          "base_uri": "https://localhost:8080/"
        },
        "id": "TndPysqIRZge",
        "outputId": "7f5658d1-83db-4662-b16e-db1fb28f815b"
      },
      "execution_count": 52,
      "outputs": [
        {
          "output_type": "execute_result",
          "data": {
            "text/plain": [
              "{'categories': ['潤髮乳'],\n",
              " 'labels': array([0., 0., 0., 0., 0., 0., 0., 0., 0., 0., 0., 0., 0., 0., 0., 0., 0.,\n",
              "        0., 0., 0., 0., 0., 0., 0., 0., 0., 0., 0., 0., 0., 0., 0., 0., 0.,\n",
              "        0., 0., 0., 0., 0., 0., 0., 0., 0., 0., 0., 0., 0., 0., 0., 0., 0.,\n",
              "        0., 0., 0., 0., 0., 0., 0., 0., 0., 0., 0., 0., 0., 0., 0., 0., 0.,\n",
              "        0., 0., 0., 0., 0., 0., 0., 0., 0., 0., 0., 0., 0., 0., 0., 0., 0.,\n",
              "        0., 0., 0., 0., 0., 0., 0., 0., 0., 0., 0., 0., 0., 0., 0., 0., 0.,\n",
              "        0., 0., 0., 0., 0., 0., 0., 0., 0., 0., 0., 0., 0., 0., 0., 0., 0.,\n",
              "        0., 0., 0., 0., 0., 0., 0., 0., 0., 0., 0., 0., 0., 0., 0., 0., 0.,\n",
              "        0., 0., 0., 0., 0., 0., 0., 0., 0., 0., 0., 0., 0., 0., 0., 0., 0.,\n",
              "        0., 0., 0., 0., 0., 0., 0., 0., 0., 0., 0., 0., 0., 0., 0., 0., 0.,\n",
              "        0., 0., 0., 0., 0., 0., 0., 0., 0., 0., 0., 0., 0., 0., 0., 0., 0.,\n",
              "        0., 0., 0., 0., 0., 1., 0., 0., 0., 0., 0., 0., 0., 0., 0., 0., 0.,\n",
              "        0., 0., 0., 0., 0., 0., 0., 0., 0., 0., 0., 0., 0.]),\n",
              " 'name': '潘婷 水潤滋養潤髮精華素700ml',\n",
              " 'product': ['潤髮乳'],\n",
              " 'seg_name': ['潘婷 ', '水潤', '滋養', '潤髮', '精華素', '700', 'ml'],\n",
              " 'weighted_emb': array([-0.82715259,  1.97050254,  0.98413874,  0.50238756,  0.36610222,\n",
              "         0.34090743, -0.42195903,  0.86523292, -0.23423257,  1.31416096,\n",
              "         0.60470432, -0.38038697, -0.32872346, -0.23769802, -0.91657566,\n",
              "         0.85649688,  0.04311225, -0.53999987,  0.37088953, -0.09166573,\n",
              "         0.51189811, -0.50730007,  0.61250107, -0.41717086,  0.48683449,\n",
              "        -0.70838295,  1.0650072 , -0.81459052,  0.48847198, -0.75093373,\n",
              "         0.40264842,  1.10658954, -0.43850553, -0.33268357, -0.61364307,\n",
              "         0.29119906,  0.41830207,  0.79132825,  0.01951507,  0.23267218,\n",
              "        -0.02687731,  0.52855859,  0.01964171, -0.99317313,  0.11961273,\n",
              "         0.01540363,  1.90396273,  1.18343044,  0.63470435,  0.97157214,\n",
              "         0.89776729, -0.38077412,  1.87742616,  0.81952711, -0.37330319,\n",
              "        -0.7245856 ,  0.09277213,  0.49025685, -1.1449536 , -0.70937242,\n",
              "        -0.10491767, -0.74878423, -1.30555308, -0.61928326, -0.25715695,\n",
              "         0.91896749, -0.38958224, -0.13071709,  0.09793669,  0.09964447,\n",
              "         0.19640494, -0.61834607,  0.44140343, -0.4764087 ,  0.60037054,\n",
              "        -0.12437605,  1.52589413,  0.32096751, -0.09506359,  0.02796871,\n",
              "        -0.34534472,  0.26472664,  0.61836372,  0.51080815,  0.50529978,\n",
              "         0.73104943, -1.15018066,  0.30443272, -0.07883463,  0.0042905 ,\n",
              "        -0.57062554,  0.35147246, -0.97239845, -0.5912363 ,  0.16003054,\n",
              "         0.48737757,  0.81964594,  0.79736745,  0.53830498,  0.06888457,\n",
              "         0.41894192,  0.45173203,  0.3193798 , -0.76872993, -0.03700622,\n",
              "         0.97392998,  0.26677572, -0.51852046,  0.57367194, -0.38218726,\n",
              "        -0.55629614,  0.02072569,  0.31519508, -0.69316293,  0.0832184 ,\n",
              "         0.11451945,  1.44992279, -0.93263011, -0.01104532,  0.25693106,\n",
              "        -0.71085372, -1.03733147,  0.2912281 ,  1.25427718, -0.75339345,\n",
              "         0.05519746, -0.25085065,  0.38109206,  0.16315218, -0.101425  ,\n",
              "        -0.13345886,  0.55248993,  1.33021936,  0.59517865, -1.22126257,\n",
              "        -0.05571954, -0.59188923,  0.64637197,  0.01589896, -0.85900412,\n",
              "         0.16065707, -0.68580145,  0.86857639, -0.12733053, -0.27776009,\n",
              "        -0.92387276, -0.03831352,  0.30431806,  0.35124173,  0.70959977,\n",
              "         0.33245574, -1.15377122,  0.42529595, -0.61108083,  0.53239017,\n",
              "        -0.56338624, -0.26376489,  0.42696953,  0.56297618, -1.24687007,\n",
              "        -0.73929704, -0.99207866,  0.32721002, -1.08510024, -0.48142355,\n",
              "         0.4867734 ,  0.41073782,  0.24746312, -0.87144342,  0.03005001,\n",
              "        -0.12901695, -0.07353932, -1.46399107, -0.32199827,  0.06649465,\n",
              "         0.1757208 ,  0.35280856, -0.32533866, -0.3670584 , -0.03897445,\n",
              "        -0.49725272, -0.180789  , -0.34722805,  0.09912989,  0.68894126,\n",
              "         0.75801652,  1.27670552,  0.15004518, -0.38828064,  0.43466175,\n",
              "        -0.1689538 ,  1.19560587, -0.00774301, -0.27203839,  0.54219905,\n",
              "        -0.34566257,  0.92043959,  0.41868056, -0.21895248, -1.55370366])}"
            ]
          },
          "metadata": {},
          "execution_count": 52
        }
      ]
    },
    {
      "cell_type": "code",
      "source": [
        "import numpy as np\n",
        "import re"
      ],
      "metadata": {
        "id": "9PcGW_qKT9Gg"
      },
      "execution_count": 53,
      "outputs": []
    },
    {
      "cell_type": "code",
      "source": [
        "# phrases: the phrases belonging to the category's most similar \n",
        "# re.findall(r\"(?=(\"+'|'.join(phrases)+r\"))\", x)\n",
        "\n",
        "# hit_probs\n",
        "\n",
        "for i, sample in enumerate(samples):\n",
        "    hit_vector = np.zeros(N)\n",
        "    name = sample['name']\n",
        "    for cat, pair in cat2kw.items():\n",
        "        # v: phraselist belonging to k (category)\n",
        "        # (?=(喵喵|咩咩))\n",
        "        ph_list, ph_probs = pair\n",
        "        pat = re.compile(r'(?:{})'.format('|'.join(map(re.escape, ph_list))))\n",
        "        found = re.findall(pat, name)\n",
        "        # the current category hits' probabilites\n",
        "        cat_hit_probs = sum(ph_probs[x] for x in found)\n",
        "        catid = cat2idx[cat]\n",
        "        hit_vector[catid] = cat_hit_probs\n",
        "    samples[i]['hitsprobs'] = hit_vector \n",
        "    "
      ],
      "metadata": {
        "id": "HFsBEntfROPH"
      },
      "execution_count": 54,
      "outputs": []
    },
    {
      "cell_type": "code",
      "source": [
        "'''randomly pick some instances to examine the result'''\n",
        "import random\n",
        "rand = random.randint(0, len(samples))\n",
        "print('index:', rand)\n",
        "print(np.where(samples[rand]['hitsprobs'] > 0))\n",
        "print(np.where(samples[rand]['labels'] ==1))"
      ],
      "metadata": {
        "colab": {
          "base_uri": "https://localhost:8080/"
        },
        "id": "GFTv-kzbWsTt",
        "outputId": "7d0db694-f567-4e01-962a-5c974a5b90d2"
      },
      "execution_count": 55,
      "outputs": [
        {
          "output_type": "stream",
          "name": "stdout",
          "text": [
            "index: 1537\n",
            "(array([165, 210]),)\n",
            "(array([165]),)\n"
          ]
        }
      ]
    },
    {
      "cell_type": "code",
      "source": [
        "x = rand\n",
        "predcat = np.argmax(samples[x]['hitsprobs'])\n",
        "print(idx2cat[predcat])\n",
        "samples[x]['hitsprobs'] # 挑argmax，先暫時當one-label　"
      ],
      "metadata": {
        "id": "mMZ153E9Yde6",
        "colab": {
          "base_uri": "https://localhost:8080/"
        },
        "outputId": "65959ff7-1432-47d5-a2b8-0afe6540a10e"
      },
      "execution_count": 56,
      "outputs": [
        {
          "output_type": "stream",
          "name": "stdout",
          "text": [
            "滑鼠\n"
          ]
        },
        {
          "output_type": "execute_result",
          "data": {
            "text/plain": [
              "array([  0.        ,   0.        ,   0.        ,   0.        ,\n",
              "         0.        ,   0.        ,   0.        ,   0.        ,\n",
              "         0.        ,   0.        ,   0.        ,   0.        ,\n",
              "         0.        ,   0.        ,   0.        ,   0.        ,\n",
              "         0.        ,   0.        ,   0.        ,   0.        ,\n",
              "         0.        ,   0.        ,   0.        ,   0.        ,\n",
              "         0.        ,   0.        ,   0.        ,   0.        ,\n",
              "         0.        ,   0.        ,   0.        ,   0.        ,\n",
              "         0.        ,   0.        ,   0.        ,   0.        ,\n",
              "         0.        ,   0.        ,   0.        ,   0.        ,\n",
              "         0.        ,   0.        ,   0.        ,   0.        ,\n",
              "         0.        ,   0.        ,   0.        ,   0.        ,\n",
              "         0.        ,   0.        ,   0.        ,   0.        ,\n",
              "         0.        ,   0.        ,   0.        ,   0.        ,\n",
              "         0.        ,   0.        ,   0.        ,   0.        ,\n",
              "         0.        ,   0.        ,   0.        ,   0.        ,\n",
              "         0.        ,   0.        ,   0.        ,   0.        ,\n",
              "         0.        ,   0.        ,   0.        ,   0.        ,\n",
              "         0.        ,   0.        ,   0.        ,   0.        ,\n",
              "         0.        ,   0.        ,   0.        ,   0.        ,\n",
              "         0.        ,   0.        ,   0.        ,   0.        ,\n",
              "         0.        ,   0.        ,   0.        ,   0.        ,\n",
              "         0.        ,   0.        ,   0.        ,   0.        ,\n",
              "         0.        ,   0.        ,   0.        ,   0.        ,\n",
              "         0.        ,   0.        ,   0.        ,   0.        ,\n",
              "         0.        ,   0.        ,   0.        ,   0.        ,\n",
              "         0.        ,   0.        ,   0.        ,   0.        ,\n",
              "         0.        ,   0.        ,   0.        ,   0.        ,\n",
              "         0.        ,   0.        ,   0.        ,   0.        ,\n",
              "         0.        ,   0.        ,   0.        ,   0.        ,\n",
              "         0.        ,   0.        ,   0.        ,   0.        ,\n",
              "         0.        ,   0.        ,   0.        ,   0.        ,\n",
              "         0.        ,   0.        ,   0.        ,   0.        ,\n",
              "         0.        ,   0.        ,   0.        ,   0.        ,\n",
              "         0.        ,   0.        ,   0.        ,   0.        ,\n",
              "         0.        ,   0.        ,   0.        ,   0.        ,\n",
              "         0.        ,   0.        ,   0.        ,   0.        ,\n",
              "         0.        ,   0.        ,   0.        ,   0.        ,\n",
              "         0.        ,   0.        ,   0.        ,   0.        ,\n",
              "         0.        ,   0.        ,   0.        ,   0.        ,\n",
              "         0.        ,   0.        ,   0.        ,   0.        ,\n",
              "         0.        , 100.        ,   0.        ,   0.        ,\n",
              "         0.        ,   0.        ,   0.        ,   0.        ,\n",
              "         0.        ,   0.        ,   0.        ,   0.        ,\n",
              "         0.        ,   0.        ,   0.        ,   0.        ,\n",
              "         0.        ,   0.        ,   0.        ,   0.        ,\n",
              "         0.        ,   0.        ,   0.        ,   0.        ,\n",
              "         0.        ,   0.        ,   0.        ,   0.        ,\n",
              "         0.        ,   0.        ,   0.        ,   0.        ,\n",
              "         0.        ,   0.        ,   0.        ,   0.        ,\n",
              "         0.        ,   0.        ,   0.        ,   0.        ,\n",
              "         0.        ,   0.        ,   0.        ,   0.        ,\n",
              "         0.        ,   0.        ,   0.92482138,   0.        ,\n",
              "         0.        ,   0.        ,   0.        ,   0.        ,\n",
              "         0.        ])"
            ]
          },
          "metadata": {},
          "execution_count": 56
        }
      ]
    },
    {
      "cell_type": "markdown",
      "source": [
        "**First try argmax**\n",
        "\n",
        "-> simplify the problem into one-label task \n",
        "(multiclass, one answer) "
      ],
      "metadata": {
        "id": "g89KlryaiMwC"
      }
    },
    {
      "cell_type": "code",
      "source": [
        "from sklearn.metrics import f1_score\n",
        "y_true, y_pred = [], []\n",
        "y_true_labels, y_pred_labels = [], []\n",
        "for sample in samples:\n",
        "  predcat= np.argmax(sample['hitsprobs'])\n",
        "  pred = np.zeros(N); pred[predcat] = 1\n",
        "  y_pred.append(pred) \n",
        "  y_pred_labels.append(idx2cat[predcat])\n",
        "  y_true_labels.append(sample['product'])\n",
        "  y_true.append(sample['labels'])"
      ],
      "metadata": {
        "id": "MIR_o2xWit4a"
      },
      "execution_count": 57,
      "outputs": []
    },
    {
      "cell_type": "code",
      "source": [
        "import random\n",
        "r = random.randint(0, len(samples))\n",
        "print('index:', r)\n",
        "print(y_pred_labels[r])\n",
        "print(y_true_labels[r])"
      ],
      "metadata": {
        "colab": {
          "base_uri": "https://localhost:8080/"
        },
        "id": "EBbXoZA_mciT",
        "outputId": "f4a54c1b-74da-499e-e976-23ea4e2e055a"
      },
      "execution_count": 58,
      "outputs": [
        {
          "output_type": "stream",
          "name": "stdout",
          "text": [
            "index: 8727\n",
            "即飲烏龍茶\n",
            "['即飲無糖茶']\n"
          ]
        }
      ]
    },
    {
      "cell_type": "code",
      "source": [
        "# 10% data; macro f1: 39%\n",
        "print('10% ratio dataset macro f1:')\n",
        "print(f1_score(y_true, y_pred,\n",
        "                  average = 'macro'))\n",
        "print('10% ratio dataset weighted f1:\\n', f1_score(y_true, y_pred,\n",
        "                  average = 'weighted'))"
      ],
      "metadata": {
        "colab": {
          "base_uri": "https://localhost:8080/"
        },
        "id": "Su6guIERl5qq",
        "outputId": "1a9d4edf-d9c4-487f-9a4d-1f16d285b917"
      },
      "execution_count": 60,
      "outputs": [
        {
          "output_type": "stream",
          "name": "stdout",
          "text": [
            "10% ratio dataset macro f1:\n"
          ]
        },
        {
          "output_type": "stream",
          "name": "stderr",
          "text": [
            "/usr/local/lib/python3.7/dist-packages/sklearn/metrics/_classification.py:1580: UndefinedMetricWarning: F-score is ill-defined and being set to 0.0 in labels with no true nor predicted samples. Use `zero_division` parameter to control this behavior.\n",
            "  _warn_prf(average, \"true nor predicted\", \"F-score is\", len(true_sum))\n"
          ]
        },
        {
          "output_type": "stream",
          "name": "stdout",
          "text": [
            "0.38226224614030324\n",
            "10% ratio dataset weighted f1:\n",
            " 0.48822762712050605\n"
          ]
        },
        {
          "output_type": "stream",
          "name": "stderr",
          "text": [
            "/usr/local/lib/python3.7/dist-packages/sklearn/metrics/_classification.py:1580: UndefinedMetricWarning: F-score is ill-defined and being set to 0.0 in labels with no true nor predicted samples. Use `zero_division` parameter to control this behavior.\n",
            "  _warn_prf(average, \"true nor predicted\", \"F-score is\", len(true_sum))\n"
          ]
        }
      ]
    },
    {
      "cell_type": "markdown",
      "source": [
        "## Clustering idea: 如何找centroids？\n",
        "1. Method 1: (by word) ∀ category c，以category name直接找對應的embedding作為c的representative embedding (centroid)。\n",
        "2. Method 2.1: (by member)\n",
        "∀ category c，將屬於c下的每個member找切分train:test，以train split內的members找到平均embedding，隨後取他們的average作為該c的centroid。\n",
        "3. Method 2.2: (by member)\n",
        "∀ category c，將屬於c下的每個member找切分train:test，以train split內的members找到權重embedding，隨後取他們的average作為該c的centroid。所謂權重embedding，是因為資料內真正和category相關的token通常落在name的中後段，如「視舒坦人工淚液點眼液10ML」（人工淚液）、「697155@霧峰區農會酒莊酒粕香腸600G」（中式香腸），因此將後半段token的權重加乘至W倍（也可想其他加權法）。\n",
        "\n"
      ],
      "metadata": {
        "id": "kDtkfVZgNTZl"
      }
    },
    {
      "cell_type": "markdown",
      "source": [
        "Clustering idea: 找到centroids之後？應該有不只一種方法可以嘗試。\n",
        "### Attempt 2: Clustering 2.2\n",
        "centroid-finding Method 2.2然後對每個test split內的instance，同樣計算權重embedding，然後用distance function計算其和每個category centroids的距離，切一個距離threshold，將<=的都算1，>的算0。\n",
        "取10%資料：\n",
        "\n",
        "Macro F1 Result -> 0.28"
      ],
      "metadata": {
        "id": "ulRhFKFnaGg7"
      }
    },
    {
      "cell_type": "code",
      "source": [
        "name2vec = {}\n",
        "EMBDIM = 200 # see notebook 12.0 \n",
        "W = 4"
      ],
      "metadata": {
        "id": "Gzn_eGFpYYt4"
      },
      "execution_count": 28,
      "outputs": []
    },
    {
      "cell_type": "code",
      "source": [
        "def get_avg_embeddings(tokenlist):\n",
        "  # if no token has embedding available, yields np.zeros(emb_dim)\n",
        "  return np.mean([model.wv[tok] if tok in model.wv else np.zeros(EMBDIM) for tok in tokenlist], axis = 0)\n",
        "\n",
        "def get_weighted_embeddings(tokenlist):\n",
        "  # ref: https://stackoverflow.com/questions/29330792/weighted-averaging-a-list\n",
        "  rate = np.ones(len(tokenlist))\n",
        "  mid = int(len(rate)/2)\n",
        "  # category name通常出現在產品名稱後半部\n",
        "  rate = np.append(rate[:mid], (rate[mid:]+(W-1)))\n",
        "  X = [model.wv[tok] if tok in model.wv else np.zeros(EMBDIM) for tok in tokenlist]\n",
        "  return np.average(X, \n",
        "                    axis = 0,\n",
        "                    weights=rate)"
      ],
      "metadata": {
        "id": "NpbSr7wTM3Kk"
      },
      "execution_count": 29,
      "outputs": []
    },
    {
      "cell_type": "code",
      "source": [
        "# step 1. compute weighted embeddings and save into cat_dict\n",
        "'''\n",
        "for i in range(len(cat_dict)):\n",
        "  instance = cat_dict[i]\n",
        "  toklist = instance['seg_name']\n",
        "  wemb = get_weighted_embeddings(toklist)\n",
        "  cat_dict[i]['weighted_emb'] = wemb \n",
        "  if not np.any(wemb): # if it is a zero vector\n",
        "    print(f\"{instance['name']} has no token embedding\")\n",
        "'''"
      ],
      "metadata": {
        "id": "7Mni1O3Bb47D",
        "colab": {
          "base_uri": "https://localhost:8080/",
          "height": 71
        },
        "outputId": "831ff839-2655-4bf7-c8f5-d7249b60c863"
      },
      "execution_count": 30,
      "outputs": [
        {
          "output_type": "execute_result",
          "data": {
            "text/plain": [
              "'\\nfor i in range(len(cat_dict)):\\n  instance = cat_dict[i]\\n  toklist = instance[\\'seg_name\\']\\n  wemb = get_weighted_embeddings(toklist)\\n  cat_dict[i][\\'weighted_emb\\'] = wemb \\n  if not np.any(wemb): # if it is a zero vector\\n    print(f\"{instance[\\'name\\']} has no token embedding\")\\n'"
            ],
            "application/vnd.google.colaboratory.intrinsic+json": {
              "type": "string"
            }
          },
          "metadata": {},
          "execution_count": 30
        }
      ]
    },
    {
      "cell_type": "code",
      "source": [
        "# record category lists for each instance into cat_dict\n",
        "'''\n",
        "for i in range(len(cat_dict)):\n",
        "   instance = cat_dict[i]\n",
        "   cats = catdf.iloc[i]['product']\n",
        "   cats = cats.split(';')\n",
        "   cat_dict[i]['categories'] = cats\n",
        "'''"
      ],
      "metadata": {
        "id": "CSFw5fOUhRGQ",
        "colab": {
          "base_uri": "https://localhost:8080/",
          "height": 53
        },
        "outputId": "534153ca-e029-4d7f-e08e-2e51d1271f74"
      },
      "execution_count": 31,
      "outputs": [
        {
          "output_type": "execute_result",
          "data": {
            "text/plain": [
              "\"\\nfor i in range(len(cat_dict)):\\n   instance = cat_dict[i]\\n   cats = catdf.iloc[i]['product']\\n   cats = cats.split(';')\\n   cat_dict[i]['categories'] = cats\\n\""
            ],
            "application/vnd.google.colaboratory.intrinsic+json": {
              "type": "string"
            }
          },
          "metadata": {},
          "execution_count": 31
        }
      ]
    },
    {
      "cell_type": "code",
      "source": [
        "# save back into cat_dict\n",
        "'''\n",
        "joblib.dump(cat_dict, f'{datadir}/category/category_labels_v2.pkl')\n",
        "'''"
      ],
      "metadata": {
        "colab": {
          "base_uri": "https://localhost:8080/",
          "height": 35
        },
        "id": "wQuFah9QhyF7",
        "outputId": "76e1ba46-e0cf-43d3-aab8-cd82c7a5badb"
      },
      "execution_count": 32,
      "outputs": [
        {
          "output_type": "execute_result",
          "data": {
            "text/plain": [
              "\"\\njoblib.dump(cat_dict, f'{datadir}/category/category_labels_v2.pkl')\\n\""
            ],
            "application/vnd.google.colaboratory.intrinsic+json": {
              "type": "string"
            }
          },
          "metadata": {},
          "execution_count": 32
        }
      ]
    },
    {
      "cell_type": "code",
      "source": [
        "TESTSIZE = 0.1\n",
        "SEED = 42"
      ],
      "metadata": {
        "id": "_WGO9O6bif6L"
      },
      "execution_count": 33,
      "outputs": []
    },
    {
      "cell_type": "code",
      "source": [
        "# step 2. train-test split\n",
        "from sklearn.model_selection import train_test_split\n",
        "X = [(x['weighted_emb'], x['name']) for x in cat_dict]\n",
        "y = [x['labels'] for x in cat_dict]\n",
        "X_train, X_test, y_train, y_test = train_test_split(\n",
        "    X, y, test_size = TESTSIZE, random_state=SEED)\n",
        "# 感覺要確保一下stratify"
      ],
      "metadata": {
        "id": "VaOdFSdNb6Zu"
      },
      "execution_count": 34,
      "outputs": []
    },
    {
      "cell_type": "code",
      "source": [
        "# step 3. compute centroids\n",
        "member_count = np.zeros((217,))\n",
        "centroids = np.zeros((217, 200))\n",
        "for (emb,_), labels in zip(X_train, y_train):\n",
        "    indices = np.nonzero(labels)[0].tolist()\n",
        "    for catid in indices:\n",
        "      member_count[catid] += 1\n",
        "      centroids[catid, :] += emb\n",
        "# averaging \n",
        "for catid in range(N):\n",
        "  try:\n",
        "    centroids[catid, :] = centroids[catid, :]/member_count[catid]\n",
        "  except: \n",
        "    print(f'Category idx2cat[catid] has no training member.')"
      ],
      "metadata": {
        "id": "uiVOiWbpivvH"
      },
      "execution_count": 35,
      "outputs": []
    },
    {
      "cell_type": "code",
      "source": [
        "# naked eye看stratification（至少每類要train set裡出現一次）\n",
        "member_count.astype(int)"
      ],
      "metadata": {
        "colab": {
          "base_uri": "https://localhost:8080/"
        },
        "id": "GfDLqHnXhZ1x",
        "outputId": "2b8c34a2-c003-4ed8-8579-785b901ea57d"
      },
      "execution_count": 36,
      "outputs": [
        {
          "output_type": "execute_result",
          "data": {
            "text/plain": [
              "array([ 116,  262,  792, 1870,    3,  262,  216,   18,  138,  255,  739,\n",
              "         53,   62,  203,   16,  197,   45, 1173,  400,  374,  209,  129,\n",
              "         25,  257,  116,   19,   82,   74,   76,  488,  371, 3302,  224,\n",
              "        522,  398,  112,  518,  615,  769,  512,  296,  401,  510,  230,\n",
              "        496,   48, 2808, 2554,  363, 1909,  318,  275, 1683,  147,  313,\n",
              "        403,  440,   39,  289,  101,  166,    3,  141,  224,  251,  109,\n",
              "         16,   37,   10,  120, 1390,   69, 1266,  411,  208,  209,    3,\n",
              "        516,   27,   66,  728,  787,   20,  115,  331,  130,  420,  278,\n",
              "         23,  117,   55, 1089,   44,   92,  150,  710,  630,  108,   63,\n",
              "         12,   67,    2,  352,   13, 1020,  147, 1064,  887,   22,   82,\n",
              "         53,  454,   82,   31,   59,  102,   16,  181,  124,  350,  514,\n",
              "         15,   57,    4, 1799,   87,  528,  632, 2132,  777, 1804,   70,\n",
              "        307, 1220,  161,   28,  284,  139,  156, 1433,  141,   21,  170,\n",
              "         41,   23,  333,   15,  230,  245,  121,  173,   54,  577,  182,\n",
              "        186,  227,  120,  121, 1631,  896,   29,    9,  211,   24,   16,\n",
              "       1006,   32,  381,  228,  578,   41,   49, 1855,  430, 1798,  175,\n",
              "        169,  182, 1401,  100,  195,  184,  156,  228,   83,  244,  150,\n",
              "         34,  208,  422,  162,  200,  642, 1635,  958,  606,  338,   52,\n",
              "         65,   64,   54,   38,   28,   64,  620,  477,  314,    5,    6,\n",
              "        798,  440,  181,  348,  181,  946,   42,   12])"
            ]
          },
          "metadata": {},
          "execution_count": 36
        }
      ]
    },
    {
      "cell_type": "code",
      "source": [
        "# step 4. compute distances (for each test instance, compute for each class)\n",
        "# m: testing #\n",
        "# N: category #\n",
        "# dist_time_comp # time complexity for calling distance function once\n",
        "# O(m*N*dist_tim_comp)\n",
        "from numpy import linalg as LA # 2-norm for Euclidean\n",
        "# LA.norm\n",
        "TESTNUM = len(X_test)\n",
        "Dist = np.zeros((TESTNUM, N))\n",
        "for i in range(TESTNUM):\n",
        "  x_test, x_name = X_test[i]\n",
        "  for catid in range(N):\n",
        "    centroid = centroids[catid, :]\n",
        "    # print(x_test.shape, centroid.shape)\n",
        "    dist = abs(LA.norm(x_test - centroid))\n",
        "    if dist < 1e-2:\n",
        "      print(idx2cat[id], x_name)\n",
        "    Dist[i, catid] = dist"
      ],
      "metadata": {
        "id": "5xYZvpTrlSAv"
      },
      "execution_count": 42,
      "outputs": []
    },
    {
      "cell_type": "code",
      "source": [
        "# to-do: \n",
        "# step 5. STATIC assign member by distance function # the closer the better\n",
        "gap = 0.1\n",
        "predictions = []\n",
        "for i in range(TESTNUM):\n",
        "    _, x_name = X_test[i]\n",
        "    real_classes = [idx2cat[e] for e in np.nonzero(y_test[i])[0]]\n",
        "    labels = np.zeros(N)\n",
        "    c1_dist, c1 = np.min(Dist[i, :]), np.argmin(Dist[i, :])\n",
        "    # temporarily mask the argmin class\n",
        "    Dist[i, c1] = float('inf')\n",
        "    c2_dist, c2 = np.min(Dist[i, :]), np.argmin(Dist[i, :])\n",
        "    labels[c1] = 1\n",
        "    # revise it back \n",
        "    Dist[i, c1] = c1_dist\n",
        "    if i < 10: \n",
        "       print(f' * {i+1}. testing instance:', x_name, '\\n\\ttrue class:',real_classes)\n",
        "       print(f'\\tpredicted class:',idx2cat[c1])\n",
        "    if abs(c1_dist - c2_dist) < gap:\n",
        "            labels[c2] = 1\n",
        "            if i < 10:\n",
        "                print('\\tpredicted class 2:',idx2cat[c2])\n",
        "    predictions.append(labels)"
      ],
      "metadata": {
        "id": "yLLYuWHFpFzv",
        "colab": {
          "base_uri": "https://localhost:8080/"
        },
        "outputId": "b21bce4e-7a2e-424b-f9ac-26f6a040f7bf"
      },
      "execution_count": 43,
      "outputs": [
        {
          "output_type": "stream",
          "name": "stdout",
          "text": [
            " * 1. testing instance: 台茶12號紅茶 \n",
            "\ttrue class: ['即飲紅茶']\n",
            "\tpredicted class: 即飲紅茶\n",
            " * 2. testing instance: 【adidas 愛迪達】ADIDAS  運動鞋 ULTRABOOST 20 City Pack Hype 中 跑步鞋 白(FX7816) \n",
            "\ttrue class: ['運動鞋']\n",
            "\tpredicted class: 跑步機\n",
            " * 3. testing instance: GATSBY潔面濕紙巾(控油型)超值包 42枚 \n",
            "\ttrue class: ['濕紙巾']\n",
            "\tpredicted class: 人工淚液\n",
            " * 4. testing instance: 七喜汽水330ml \n",
            "\ttrue class: ['碳酸飲料']\n",
            "\tpredicted class: 氣泡水\n",
            " * 5. testing instance: 【白蘭】4X酵素極淨超濃縮洗衣精 1+6件組(瓶裝2.4KGx1+補充包1.5KGx6)奈米除菌-網 \n",
            "\ttrue class: ['洗衣精']\n",
            "\tpredicted class: 洗衣球\n",
            " * 6. testing instance: 薑軍生薑洗髮精750ml \n",
            "\ttrue class: ['洗髮精']\n",
            "\tpredicted class: 洗髮精\n",
            " * 7. testing instance: 759871@J M 魔爪芒果能量碳酸飲料35 \n",
            "\ttrue class: ['維他命飲料']\n",
            "\tpredicted class: 維他命飲料\n",
            " * 8. testing instance: 媚比琳反孔特霧無瑕嫩粉餅 \n",
            "\ttrue class: ['粉餅']\n",
            "\tpredicted class: 粉餅\n",
            " * 9. testing instance: 【厝味乾拌麵】油醋小村釀(雙花粗麵) \n",
            "\ttrue class: ['快煮麵/乾拌麵']\n",
            "\tpredicted class: 熱水器\n",
            " * 10. testing instance: 『靖靖水晶礦石』   ST 2000 晶鑽 水晶 保養液 正品 玉礦石 皮革 木雕 木製家具 清潔 增亮 不殘留 \n",
            "\ttrue class: ['洗衣精']\n",
            "\tpredicted class: 甲油膠\n"
          ]
        }
      ]
    },
    {
      "cell_type": "code",
      "source": [
        "# step 6. metrics: calculate macro f1\n",
        "f1_score(y_test, predictions, average = 'macro')"
      ],
      "metadata": {
        "colab": {
          "base_uri": "https://localhost:8080/"
        },
        "id": "Zxo17T6R6cwR",
        "outputId": "bff72f60-c64f-4a15-d098-cd45eb6ec509"
      },
      "execution_count": 44,
      "outputs": [
        {
          "output_type": "execute_result",
          "data": {
            "text/plain": [
              "0.2809276066918831"
            ]
          },
          "metadata": {},
          "execution_count": 44
        }
      ]
    },
    {
      "cell_type": "code",
      "source": [
        "f1_score(y_test, predictions, average = 'weighted')"
      ],
      "metadata": {
        "colab": {
          "base_uri": "https://localhost:8080/"
        },
        "id": "ktbSgUcfoKVX",
        "outputId": "a8dc1fe6-b6db-46c1-a6e9-a20eb3bee043"
      },
      "execution_count": 41,
      "outputs": [
        {
          "output_type": "execute_result",
          "data": {
            "text/plain": [
              "0.4804689393722742"
            ]
          },
          "metadata": {},
          "execution_count": 41
        }
      ]
    },
    {
      "cell_type": "code",
      "source": [
        "len(predictions)"
      ],
      "metadata": {
        "colab": {
          "base_uri": "https://localhost:8080/"
        },
        "id": "XE8hvC22HRxZ",
        "outputId": "d9b3ccbf-e6f7-4ee8-e96e-34a43809b16c"
      },
      "execution_count": 40,
      "outputs": [
        {
          "output_type": "execute_result",
          "data": {
            "text/plain": [
              "9231"
            ]
          },
          "metadata": {},
          "execution_count": 40
        }
      ]
    }
  ]
}