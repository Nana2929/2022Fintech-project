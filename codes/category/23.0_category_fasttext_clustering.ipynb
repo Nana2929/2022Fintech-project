{
  "nbformat": 4,
  "nbformat_minor": 0,
  "metadata": {
    "colab": {
      "name": "23.0-category-fasttext-clustering.ipynb",
      "provenance": []
    },
    "kernelspec": {
      "name": "python3",
      "display_name": "Python 3"
    },
    "language_info": {
      "name": "python"
    }
  },
  "cells": [
    {
      "cell_type": "markdown",
      "source": [
        "Category \n",
        "\n",
        "Author: Nana\n",
        "\n",
        "Date: 2022.4.16 "
      ],
      "metadata": {
        "id": "mea7jGiqPIo-"
      }
    },
    {
      "cell_type": "code",
      "execution_count": 3,
      "metadata": {
        "colab": {
          "base_uri": "https://localhost:8080/"
        },
        "id": "IA5WFOGg-YHl",
        "outputId": "52c65a91-9b3c-4a1d-b37a-fa506303ac33"
      },
      "outputs": [
        {
          "output_type": "stream",
          "name": "stdout",
          "text": [
            "Drive already mounted at /content/drive; to attempt to forcibly remount, call drive.mount(\"/content/drive\", force_remount=True).\n"
          ]
        }
      ],
      "source": [
        "from google.colab import drive\n",
        "drive.mount('/content/drive')\n",
        "maindir = '/content/drive/MyDrive/FinTech-final-project'\n",
        "datadir = f'{maindir}/data'\n",
        "spmdir = f'{maindir}/spm'\n",
        "modeldir = f'{maindir}/models'\n",
        "cat_df_path = f'{maindir}/東吳課程_發票資料集/品類資料集/cat_train_v2.csv'"
      ]
    },
    {
      "cell_type": "code",
      "source": [
        "from collections import defaultdict\n",
        "import numpy as np\n",
        "import pandas as pd\n",
        "import joblib\n",
        "import random"
      ],
      "metadata": {
        "id": "KAV01UWDZlq9"
      },
      "execution_count": null,
      "outputs": []
    },
    {
      "cell_type": "markdown",
      "source": [
        "## Fixing some bugs in pickled files"
      ],
      "metadata": {
        "id": "hEHYDO7qI7dI"
      }
    },
    {
      "cell_type": "code",
      "source": [
        "catdf = pd.read_csv(cat_df_path)\n",
        "catD = defaultdict(int)\n",
        "for k in catdf['product']:\n",
        "  for x in k.split(';'):\n",
        "    catD[x] += 1 \n",
        "\n",
        "N = len(catD)\n",
        "cat2idx = {} # a mapping that maps category to its corresponding (arbitray) index\n",
        "for i, k in zip(range(N), catD.keys()):\n",
        "  cat2idx[k] = i\n",
        "prod_labels = []\n",
        "# labs is the v1 category_labels.pkl, now deleted \n",
        "# for p, n, l in zip(catdf['product'], catdf['name'], labs):\n",
        "#   segn = l['seg_name']\n",
        "#   labels = np.zeros(N)\n",
        "#   for x in p.split(';'):\n",
        "#     if len(x.strip()) > 0:\n",
        "#       catid = cat2idx[x]\n",
        "#       labels[catid] = 1\n",
        "#   prod_labels.append({'name':n, 'labels': labels, 'seg_name':segn, 'product': p.split(';')})"
      ],
      "metadata": {
        "id": "ux81-sHY-zVv"
      },
      "execution_count": 14,
      "outputs": []
    },
    {
      "cell_type": "code",
      "source": [
        "# check category number \n",
        "all(len(x['labels']) == 217 for x in prod_labels)"
      ],
      "metadata": {
        "colab": {
          "base_uri": "https://localhost:8080/"
        },
        "id": "yEZ2RPd-HjXx",
        "outputId": "caa6d907-2a86-4a4d-da75-45e9a42220bd"
      },
      "execution_count": 20,
      "outputs": [
        {
          "output_type": "execute_result",
          "data": {
            "text/plain": [
              "True"
            ]
          },
          "metadata": {},
          "execution_count": 20
        }
      ]
    },
    {
      "cell_type": "code",
      "source": [
        "## fixing the category number bug\n",
        "# import joblib\n",
        "# joblib.dump(prod_labels, f'{datadir}/category/category_labels_v2.pkl')\n",
        "# joblib.dump(cat2idx, f'{datadir}/category/cat2idx.pkl')"
      ],
      "metadata": {
        "colab": {
          "base_uri": "https://localhost:8080/"
        },
        "id": "GCWdpVlMGtzh",
        "outputId": "5979e299-5d68-4e72-9f17-5ceec1ade130"
      },
      "execution_count": 22,
      "outputs": [
        {
          "output_type": "execute_result",
          "data": {
            "text/plain": [
              "['/content/drive/MyDrive/FinTech-final-project/data/category/cat2idx.pkl']"
            ]
          },
          "metadata": {},
          "execution_count": 22
        }
      ]
    },
    {
      "cell_type": "markdown",
      "source": [
        "## Loading Fasttext model\n",
        "`model.wv.most_similar()`\n",
        "\n",
        "This method computes cosine similarity between a simple mean of the projection weight vectors of the given words and the vectors for each word in the model. The method corresponds to the word-analogy and distance scripts in the original word2vec implementation."
      ],
      "metadata": {
        "id": "eQv0vCpK_mX3"
      }
    },
    {
      "cell_type": "code",
      "source": [
        "fmodelpath = f'{modeldir}/fasttext.model'\n",
        "from gensim.models import FastText\n",
        "model = FastText.load(fmodelpath) "
      ],
      "metadata": {
        "id": "Qt4AAn1r-nR1"
      },
      "execution_count": 4,
      "outputs": []
    },
    {
      "cell_type": "code",
      "source": [
        "model.wv.most_similar('人工淚液')"
      ],
      "metadata": {
        "colab": {
          "base_uri": "https://localhost:8080/"
        },
        "id": "AKc9eTii_l0S",
        "outputId": "23c11d6b-4cd1-4b22-d99a-5ef39c820f3b"
      },
      "execution_count": 5,
      "outputs": [
        {
          "output_type": "execute_result",
          "data": {
            "text/plain": [
              "[('人工', 0.8812408447265625),\n",
              " ('舒點眼液', 0.8710706830024719),\n",
              " ('淚液', 0.866841197013855),\n",
              " ('參天', 0.8561886548995972),\n",
              " ('賜眼康點眼液', 0.8525574207305908),\n",
              " ('海滴', 0.8522036075592041),\n",
              " ('舒坦', 0.8486995697021484),\n",
              " ('朗點眼液', 0.8437364101409912),\n",
              " ('優點眼液', 0.8399668335914612),\n",
              " ('樂眼液', 0.8392975926399231)]"
            ]
          },
          "metadata": {},
          "execution_count": 5
        }
      ]
    },
    {
      "cell_type": "code",
      "source": [
        "model.wv.most_similar('筆記型電腦')"
      ],
      "metadata": {
        "colab": {
          "base_uri": "https://localhost:8080/"
        },
        "id": "PQQJzzWZ_vvY",
        "outputId": "a29241d3-d645-4ff6-afef-47fa4624f18e"
      },
      "execution_count": 10,
      "outputs": [
        {
          "output_type": "execute_result",
          "data": {
            "text/plain": [
              "[('SM-G', 0.9681061506271362),\n",
              " ('FZSGBRI', 0.9648809432983398),\n",
              " ('慕南', 0.9646647572517395),\n",
              " ('NZSABRI', 0.964486837387085),\n",
              " ('FZIGBRI', 0.9633705019950867),\n",
              " ('FZKGBRI', 0.9629587531089783),\n",
              " ('NZDEBRI', 0.9622004628181458),\n",
              " ('A515-55G-59', 0.9602923393249512),\n",
              " ('TCL', 0.957550585269928),\n",
              " ('LENOVOIdeaPad', 0.9565285444259644)]"
            ]
          },
          "metadata": {},
          "execution_count": 10
        }
      ]
    },
    {
      "cell_type": "markdown",
      "source": [
        "### String exact match \n",
        "may serve as a baseline "
      ],
      "metadata": {
        "id": "pJMV-4lJJfZe"
      }
    },
    {
      "cell_type": "code",
      "source": [
        "!pip install -q -U ckip-transformers\n",
        "from ckip_transformers.nlp import CkipWordSegmenter"
      ],
      "metadata": {
        "id": "S9YSc-T0KjjU"
      },
      "execution_count": 6,
      "outputs": []
    },
    {
      "cell_type": "code",
      "source": [
        "ws_driver = CkipWordSegmenter(level=3) # device 0 specifies GPU "
      ],
      "metadata": {
        "id": "jCFBMgL5K6Nj"
      },
      "execution_count": 9,
      "outputs": []
    },
    {
      "cell_type": "code",
      "source": [
        "cat2idx = joblib.load(f'{datadir}/category/cat2idx.pkl')\n",
        "cat_dict = joblib.load(f'{datadir}/category/category_labels_v2.pkl')"
      ],
      "metadata": {
        "id": "QZYjWEHOLghs"
      },
      "execution_count": 7,
      "outputs": []
    },
    {
      "cell_type": "markdown",
      "source": [
        "inverted map"
      ],
      "metadata": {
        "id": "tzyf5Ki-pkmo"
      }
    },
    {
      "cell_type": "code",
      "source": [
        "idx2cat = {v:k for k, v in cat2idx.items()}"
      ],
      "metadata": {
        "id": "PXawtE3Za_o-"
      },
      "execution_count": 175,
      "outputs": []
    },
    {
      "cell_type": "code",
      "source": [
        "catkeys = list(cat2idx.keys())\n",
        "cat2ws = {} # mapping: category to its segmented token \n",
        "ws = ws_driver(catkeys)\n",
        "for k, segk in zip(catkeys, ws):\n",
        "  cat2ws[k] = segk\n",
        "joblib.dump(cat2ws, f'{datadir}/category/cat2ws.pkl')"
      ],
      "metadata": {
        "colab": {
          "base_uri": "https://localhost:8080/"
        },
        "id": "VhfcqgaEK_-x",
        "outputId": "457f2952-6078-4dbc-833d-0f0c02261386"
      },
      "execution_count": 13,
      "outputs": [
        {
          "output_type": "stream",
          "name": "stderr",
          "text": [
            "Tokenization: 100%|██████████| 217/217 [00:00<00:00, 21498.07it/s]\n",
            "Inference: 100%|██████████| 1/1 [00:09<00:00,  9.50s/it]\n"
          ]
        },
        {
          "output_type": "execute_result",
          "data": {
            "text/plain": [
              "['/content/drive/MyDrive/FinTech-final-project/data/category/cat2ws.pkl']"
            ]
          },
          "metadata": {},
          "execution_count": 13
        }
      ]
    },
    {
      "cell_type": "code",
      "source": [
        "# check if the category has an embedding in fasttext model\n",
        "# if yes, take its most_similar phrase list\n",
        "# otherwise, try get its tokens' most_similar phrase list (extend)\n",
        "TOPN = 20\n",
        "\n",
        "cat2keywords= defaultdict(list)\n",
        "for cat in cat2idx.keys():\n",
        "  if cat in model.wv:\n",
        "    cat2keywords[cat] = model.wv.most_similar(cat, topn = TOPN)\n",
        "  else:\n",
        "    tokens = cat2keywords[cat]\n",
        "    for token in tokens:\n",
        "        cat2keywords.extend(model.wv.most_similar(token, topn = TOPN))"
      ],
      "metadata": {
        "id": "Xy1Aw0MdJkAM"
      },
      "execution_count": 36,
      "outputs": []
    },
    {
      "cell_type": "code",
      "source": [
        "list(cat2keywords.items())[:5]"
      ],
      "metadata": {
        "colab": {
          "base_uri": "https://localhost:8080/"
        },
        "id": "dI2wm42-N-US",
        "outputId": "dce5d797-5cc3-46df-a2dd-1dbdcedc7963"
      },
      "execution_count": 37,
      "outputs": [
        {
          "output_type": "execute_result",
          "data": {
            "text/plain": [
              "[('人工淚液',\n",
              "  [('人工', 0.8812408447265625),\n",
              "   ('舒點眼液', 0.8710706830024719),\n",
              "   ('淚液', 0.866841197013855),\n",
              "   ('參天', 0.8561886548995972),\n",
              "   ('賜眼康點眼液', 0.8525574207305908),\n",
              "   ('海滴', 0.8522036075592041),\n",
              "   ('舒坦', 0.8486995697021484),\n",
              "   ('朗點眼液', 0.8437364101409912),\n",
              "   ('優點眼液', 0.8399668335914612),\n",
              "   ('樂眼液', 0.8392975926399231),\n",
              "   ('卸眼液', 0.8358579277992249),\n",
              "   ('朗眼液', 0.8333317041397095),\n",
              "   ('眼液', 0.8318336009979248),\n",
              "   ('抗皺', 0.8296966552734375),\n",
              "   ('試管', 0.8239986896514893),\n",
              "   ('到期日', 0.821074903011322),\n",
              "   ('鹽巴', 0.8204549551010132),\n",
              "   ('2β', 0.8181430101394653),\n",
              "   ('T+', 0.817972719669342),\n",
              "   ('R視', 0.8170994520187378)]),\n",
              " ('中式香腸',\n",
              "  [('SSO', 0.9588946104049683),\n",
              "   ('三島', 0.9545806646347046),\n",
              "   ('IKIGAI', 0.953130841255188),\n",
              "   ('開始', 0.9530795812606812),\n",
              "   ('惠百氏', 0.9530603289604187),\n",
              "   ('薇拉', 0.9504801630973816),\n",
              "   ('SS｜S｜', 0.9502218961715698),\n",
              "   ('湯包麵', 0.9494392275810242),\n",
              "   ('巨無霸', 0.9492870569229126),\n",
              "   ('濾滴', 0.9490464925765991),\n",
              "   ('SSO2', 0.9489832520484924),\n",
              "   ('麵麻', 0.9488399624824524),\n",
              "   ('泡岩燒', 0.948466420173645),\n",
              "   ('岩燒', 0.9482587575912476),\n",
              "   ('LP-', 0.9453467130661011),\n",
              "   ('花三島', 0.9447842836380005),\n",
              "   ('潮汕', 0.944621205329895),\n",
              "   ('大參', 0.944073498249054),\n",
              "   ('豆腐', 0.9437023401260376),\n",
              "   ('張君雅', 0.9431470036506653)]),\n",
              " ('化妝水',\n",
              "  [('化妝鏡', 0.9737114310264587),\n",
              "   ('化妝包', 0.9651573300361633),\n",
              "   ('化妝髮', 0.9484478831291199),\n",
              "   ('化妝', 0.9381691813468933),\n",
              "   ('化妝桌', 0.933983325958252),\n",
              "   ('化妝夾', 0.9269907474517822),\n",
              "   ('化粧品', 0.9166343808174133),\n",
              "   ('化粧水', 0.9059443473815918),\n",
              "   ('卸妝水', 0.9017469882965088),\n",
              "   ('卸妝乳', 0.8998117446899414),\n",
              "   ('精華乳', 0.8972277045249939),\n",
              "   ('潔顏凍', 0.8967061042785645),\n",
              "   ('精華蜜', 0.8905400037765503),\n",
              "   ('潔顏霜', 0.8897790908813477),\n",
              "   ('精華液', 0.8886322975158691),\n",
              "   ('精華水', 0.8873056173324585),\n",
              "   ('潔顏組', 0.8862756490707397),\n",
              "   ('潔顏露', 0.8854855298995972),\n",
              "   ('潔顏油', 0.8842724561691284),\n",
              "   ('精華版', 0.8828210234642029)]),\n",
              " ('成人牙膏',\n",
              "  [('牙膏型', 0.8199844360351562),\n",
              "   ('衛生棉條', 0.8066272139549255),\n",
              "   ('潔牙膏', 0.806094765663147),\n",
              "   ('高露潔牙膏', 0.8042159080505371),\n",
              "   ('牙膏草', 0.8024700284004211),\n",
              "   ('一般口', 0.8009989857673645),\n",
              "   ('衛生棉褲', 0.7998605966567993),\n",
              "   ('一般款', 0.7940612435340881),\n",
              "   ('牙膏原', 0.7935664653778076),\n",
              "   ('牙膏組', 0.7934828400611877),\n",
              "   ('蛀牙膏', 0.7929027080535889),\n",
              "   ('牙齒', 0.7906994819641113),\n",
              "   ('牙膏藍', 0.7905927896499634),\n",
              "   ('蘆的皓牙膏', 0.7892414927482605),\n",
              "   ('成人款', 0.787901759147644),\n",
              "   ('牙膏座', 0.7871267199516296),\n",
              "   ('牙膏界', 0.7851337790489197),\n",
              "   ('一般', 0.7843608260154724),\n",
              "   ('一般版', 0.7825597524642944),\n",
              "   ('牙膏花', 0.7821011543273926)]),\n",
              " ('水路/健行鞋',\n",
              "  [('BD6JR', 0.9766202569007874),\n",
              "   ('練習槓', 0.9729422330856323),\n",
              "   ('轉換', 0.972862184047699),\n",
              "   ('閃', 0.9720712304115295),\n",
              "   ('旋鈕式', 0.9717600345611572),\n",
              "   ('戰術', 0.9712401032447815),\n",
              "   ('轉接頭', 0.9709845185279846),\n",
              "   ('攪拌', 0.9705051183700562),\n",
              "   ('IJK3', 0.9701454639434814),\n",
              "   ('L摩洛', 0.9695969223976135),\n",
              "   ('髮圈', 0.9695768356323242),\n",
              "   ('轉換頭', 0.9693188071250916),\n",
              "   ('內旋式', 0.9692403078079224),\n",
              "   ('BU-AKT/', 0.9684553146362305),\n",
              "   ('果菜', 0.968112587928772),\n",
              "   ('隔震', 0.96800696849823),\n",
              "   ('GY-AKT/', 0.9670253396034241),\n",
              "   ('感恩組', 0.9668006896972656),\n",
              "   ('攪碎機', 0.9661345481872559),\n",
              "   ('C6/H66/C66/C9', 0.9660948514938354)])]"
            ]
          },
          "metadata": {},
          "execution_count": 37
        }
      ]
    },
    {
      "cell_type": "code",
      "source": [
        "# clean the cat2keywords \n",
        "# (remove probabilities and duplicates, add itself)\n",
        "# clean too-short keywords <- 效果不好\n",
        "cat2kw = {}\n",
        "for k, v in cat2keywords.items():\n",
        "  clean_v = list(set(x[0] for x in v))\n",
        "  clean_v_probs = {x[0]:x[1] for x in v} # 如果x[0]有重複出現，機率那邊有點麻煩但我們先不處理\n",
        "  if k not in clean_v:\n",
        "    clean_v.append(k)\n",
        "    clean_v_probs[k] = 100 # 100% similar # guarantee to take it\n",
        "  cat2kw[k] = (clean_v, clean_v_probs)\n",
        "# cat2kw here is a dictionary of category to its phrase list "
      ],
      "metadata": {
        "id": "yiaih29MPFtl"
      },
      "execution_count": 170,
      "outputs": []
    },
    {
      "cell_type": "code",
      "source": [
        "# use regex to find the exact match \n",
        "# sampling 0.1 ratio (for speed)\n",
        "instances_num = len(catdf)\n",
        "samp_num = int(instances_num/10)\n",
        "randidx = random.sample(range(instances_num), samp_num)\n",
        "samples = [cat_dict[i] for i in randidx]"
      ],
      "metadata": {
        "id": "Jx_CrFbcP0LR"
      },
      "execution_count": 171,
      "outputs": []
    },
    {
      "cell_type": "code",
      "source": [
        "len(samples)"
      ],
      "metadata": {
        "colab": {
          "base_uri": "https://localhost:8080/"
        },
        "id": "81t4dRn-REx8",
        "outputId": "5a9fbd08-f918-435e-e31a-b35ef50cbe10"
      },
      "execution_count": 32,
      "outputs": [
        {
          "output_type": "execute_result",
          "data": {
            "text/plain": [
              "9230"
            ]
          },
          "metadata": {},
          "execution_count": 32
        }
      ]
    },
    {
      "cell_type": "code",
      "source": [
        "samples[0]"
      ],
      "metadata": {
        "colab": {
          "base_uri": "https://localhost:8080/"
        },
        "id": "TndPysqIRZge",
        "outputId": "bfb820c3-39e8-484b-a846-d2c83d2295b2"
      },
      "execution_count": 40,
      "outputs": [
        {
          "output_type": "execute_result",
          "data": {
            "text/plain": [
              "{'labels': array([0., 0., 0., 0., 0., 0., 0., 0., 0., 0., 0., 0., 0., 0., 0., 0., 0.,\n",
              "        0., 0., 0., 0., 0., 0., 0., 0., 0., 0., 0., 0., 0., 0., 0., 0., 0.,\n",
              "        0., 0., 0., 0., 0., 0., 0., 0., 0., 0., 0., 0., 0., 0., 0., 0., 0.,\n",
              "        0., 0., 0., 0., 0., 0., 0., 0., 0., 0., 0., 0., 0., 0., 0., 0., 0.,\n",
              "        0., 0., 0., 0., 0., 0., 0., 0., 0., 0., 0., 0., 0., 0., 0., 0., 0.,\n",
              "        0., 0., 0., 0., 0., 0., 0., 0., 0., 0., 0., 0., 0., 0., 0., 0., 0.,\n",
              "        0., 0., 0., 0., 0., 0., 0., 0., 0., 1., 0., 0., 0., 0., 0., 0., 0.,\n",
              "        0., 0., 0., 0., 0., 0., 0., 0., 0., 0., 0., 0., 0., 0., 0., 0., 0.,\n",
              "        0., 0., 0., 0., 0., 0., 0., 0., 0., 0., 0., 0., 0., 0., 0., 0., 0.,\n",
              "        0., 0., 0., 0., 0., 0., 0., 0., 0., 0., 0., 0., 0., 0., 0., 0., 0.,\n",
              "        0., 0., 0., 0., 0., 0., 0., 0., 0., 0., 0., 0., 0., 0., 0., 0., 0.,\n",
              "        0., 0., 0., 0., 0., 0., 0., 0., 0., 0., 0., 0., 0., 0., 0., 0., 0.,\n",
              "        0., 0., 0., 0., 0., 0., 0., 0., 0., 0., 0., 0., 0.]),\n",
              " 'name': '思帕可氣泡水CAN330',\n",
              " 'product': ['氣泡水'],\n",
              " 'seg_name': ['思帕可', '氣泡水', 'CAN330']}"
            ]
          },
          "metadata": {},
          "execution_count": 40
        }
      ]
    },
    {
      "cell_type": "code",
      "source": [
        "N = 217"
      ],
      "metadata": {
        "id": "EMqDw_sKSl7q"
      },
      "execution_count": 44,
      "outputs": []
    },
    {
      "cell_type": "code",
      "source": [
        "import numpy as np\n",
        "import re"
      ],
      "metadata": {
        "id": "9PcGW_qKT9Gg"
      },
      "execution_count": null,
      "outputs": []
    },
    {
      "cell_type": "code",
      "source": [
        "# phrases: the phrases belonging to the category's most similar \n",
        "# re.findall(r\"(?=(\"+'|'.join(phrases)+r\"))\", x)\n",
        "\n",
        "# hit_probs\n",
        "\n",
        "for i, sample in enumerate(samples):\n",
        "    hit_vector = np.zeros(N)\n",
        "    name = sample['name']\n",
        "    for cat, pair in cat2kw.items():\n",
        "        # v: phraselist belonging to k (category)\n",
        "        # (?=(喵喵|咩咩))\n",
        "        ph_list, ph_probs = pair\n",
        "        pat = re.compile(r'(?:{})'.format('|'.join(map(re.escape, ph_list))))\n",
        "        found = re.findall(pat, name)\n",
        "        # the current category hits' probabilites\n",
        "        cat_hit_probs = sum(ph_probs[x] for x in found)\n",
        "        catid = cat2idx[cat]\n",
        "        hit_vector[catid] = cat_hit_probs\n",
        "    samples[i]['hitsprobs'] = hit_vector "
      ],
      "metadata": {
        "id": "HFsBEntfROPH"
      },
      "execution_count": 172,
      "outputs": []
    },
    {
      "cell_type": "code",
      "source": [
        "'''randomly pick some instances to examine the result'''\n",
        "import random\n",
        "rand = random.randint(0, len(samples))\n",
        "print('index:', rand)\n",
        "print(np.where(samples[rand]['hitsprobs'] > 0))\n",
        "print(np.where(samples[rand]['labels'] ==1))"
      ],
      "metadata": {
        "colab": {
          "base_uri": "https://localhost:8080/"
        },
        "id": "GFTv-kzbWsTt",
        "outputId": "d9cc3b3c-8dc8-4f0c-b144-321e249009ae"
      },
      "execution_count": 217,
      "outputs": [
        {
          "output_type": "stream",
          "name": "stdout",
          "text": [
            "index: 3858\n",
            "(array([47]),)\n",
            "(array([47]),)\n"
          ]
        }
      ]
    },
    {
      "cell_type": "code",
      "source": [
        "x = rand\n",
        "predcat = np.argmax(samples[x]['hitsprobs'])\n",
        "print(idx2cat[predcat])\n",
        "samples[x]['hitsprobs'] # 挑argmax，先暫時當one-label　"
      ],
      "metadata": {
        "colab": {
          "base_uri": "https://localhost:8080/"
        },
        "id": "mMZ153E9Yde6",
        "outputId": "37b83c58-c294-4287-c108-83785bdbce9e"
      },
      "execution_count": 218,
      "outputs": [
        {
          "output_type": "stream",
          "name": "stdout",
          "text": [
            "洗面乳\n"
          ]
        },
        {
          "output_type": "execute_result",
          "data": {
            "text/plain": [
              "array([0.        , 0.        , 0.        , 0.        , 0.        ,\n",
              "       0.        , 0.        , 0.        , 0.        , 0.        ,\n",
              "       0.        , 0.        , 0.        , 0.        , 0.        ,\n",
              "       0.        , 0.        , 0.        , 0.        , 0.        ,\n",
              "       0.        , 0.        , 0.        , 0.        , 0.        ,\n",
              "       0.        , 0.        , 0.        , 0.        , 0.        ,\n",
              "       0.        , 0.        , 0.        , 0.        , 0.        ,\n",
              "       0.        , 0.        , 0.        , 0.        , 0.        ,\n",
              "       0.        , 0.        , 0.        , 0.        , 0.        ,\n",
              "       0.        , 0.        , 0.81915438, 0.        , 0.        ,\n",
              "       0.        , 0.        , 0.        , 0.        , 0.        ,\n",
              "       0.        , 0.        , 0.        , 0.        , 0.        ,\n",
              "       0.        , 0.        , 0.        , 0.        , 0.        ,\n",
              "       0.        , 0.        , 0.        , 0.        , 0.        ,\n",
              "       0.        , 0.        , 0.        , 0.        , 0.        ,\n",
              "       0.        , 0.        , 0.        , 0.        , 0.        ,\n",
              "       0.        , 0.        , 0.        , 0.        , 0.        ,\n",
              "       0.        , 0.        , 0.        , 0.        , 0.        ,\n",
              "       0.        , 0.        , 0.        , 0.        , 0.        ,\n",
              "       0.        , 0.        , 0.        , 0.        , 0.        ,\n",
              "       0.        , 0.        , 0.        , 0.        , 0.        ,\n",
              "       0.        , 0.        , 0.        , 0.        , 0.        ,\n",
              "       0.        , 0.        , 0.        , 0.        , 0.        ,\n",
              "       0.        , 0.        , 0.        , 0.        , 0.        ,\n",
              "       0.        , 0.        , 0.        , 0.        , 0.        ,\n",
              "       0.        , 0.        , 0.        , 0.        , 0.        ,\n",
              "       0.        , 0.        , 0.        , 0.        , 0.        ,\n",
              "       0.        , 0.        , 0.        , 0.        , 0.        ,\n",
              "       0.        , 0.        , 0.        , 0.        , 0.        ,\n",
              "       0.        , 0.        , 0.        , 0.        , 0.        ,\n",
              "       0.        , 0.        , 0.        , 0.        , 0.        ,\n",
              "       0.        , 0.        , 0.        , 0.        , 0.        ,\n",
              "       0.        , 0.        , 0.        , 0.        , 0.        ,\n",
              "       0.        , 0.        , 0.        , 0.        , 0.        ,\n",
              "       0.        , 0.        , 0.        , 0.        , 0.        ,\n",
              "       0.        , 0.        , 0.        , 0.        , 0.        ,\n",
              "       0.        , 0.        , 0.        , 0.        , 0.        ,\n",
              "       0.        , 0.        , 0.        , 0.        , 0.        ,\n",
              "       0.        , 0.        , 0.        , 0.        , 0.        ,\n",
              "       0.        , 0.        , 0.        , 0.        , 0.        ,\n",
              "       0.        , 0.        , 0.        , 0.        , 0.        ,\n",
              "       0.        , 0.        , 0.        , 0.        , 0.        ,\n",
              "       0.        , 0.        , 0.        , 0.        , 0.        ,\n",
              "       0.        , 0.        ])"
            ]
          },
          "metadata": {},
          "execution_count": 218
        }
      ]
    },
    {
      "cell_type": "markdown",
      "source": [
        "**First try argmax**\n",
        "\n",
        "-> simplify the problem into one-label task \n",
        "(multiclass, one answer) "
      ],
      "metadata": {
        "id": "g89KlryaiMwC"
      }
    },
    {
      "cell_type": "code",
      "source": [
        "from sklearn.metrics import f1_score\n",
        "y_true, y_pred = [], []\n",
        "y_true_labels, y_pred_labels = [], []\n",
        "for sample in samples:\n",
        "  predcat= np.argmax(sample['hitsprobs'])\n",
        "  pred = np.zeros(N); pred[predcat] = 1\n",
        "  y_pred.append(pred) \n",
        "  y_pred_labels.append(idx2cat[predcat])\n",
        "  y_true_labels.append(sample['product'])\n",
        "  y_true.append(sample['labels'])"
      ],
      "metadata": {
        "id": "MIR_o2xWit4a"
      },
      "execution_count": 176,
      "outputs": []
    },
    {
      "cell_type": "code",
      "source": [
        "import random\n",
        "r = random.randint(0, len(samples))\n",
        "print('index:', r)\n",
        "print(y_pred_labels[r])\n",
        "print(y_true_labels[r])"
      ],
      "metadata": {
        "colab": {
          "base_uri": "https://localhost:8080/"
        },
        "id": "EBbXoZA_mciT",
        "outputId": "e9bc2601-f2f1-46c9-ea31-40459aba692b"
      },
      "execution_count": 200,
      "outputs": [
        {
          "output_type": "stream",
          "name": "stdout",
          "text": [
            "index: 1551\n",
            "眉筆\n",
            "['眉筆']\n"
          ]
        }
      ]
    },
    {
      "cell_type": "code",
      "source": [
        "# 10% data; macro f1: 39%\n",
        "print('10% ratio dataset macro f1:')\n",
        "f1_score(y_true, y_pred,\n",
        "         average = 'macro')"
      ],
      "metadata": {
        "colab": {
          "base_uri": "https://localhost:8080/"
        },
        "id": "Su6guIERl5qq",
        "outputId": "53626ad2-87b9-4a2d-e99a-24bc022ea862"
      },
      "execution_count": 221,
      "outputs": [
        {
          "output_type": "stream",
          "name": "stdout",
          "text": [
            "10% ratio dataset macro f1:\n"
          ]
        },
        {
          "output_type": "execute_result",
          "data": {
            "text/plain": [
              "0.3910887678421653"
            ]
          },
          "metadata": {},
          "execution_count": 221
        }
      ]
    },
    {
      "cell_type": "markdown",
      "source": [
        "### Embedding clustering"
      ],
      "metadata": {
        "id": "kDtkfVZgNTZl"
      }
    },
    {
      "cell_type": "code",
      "source": [
        "def get_avg_embeddings(tokenlist):\n",
        "  emb_dim = 200 \n",
        "  # if no token has embedding available, yields np.zeros(emb_dim)\n",
        "  return np.mean([model.wv[tok] if tok in model.wv else np.zeros(emb_dim) for tok in tokenlist], axis = 0)\n"
      ],
      "metadata": {
        "id": "NpbSr7wTM3Kk"
      },
      "execution_count": null,
      "outputs": []
    }
  ]
}