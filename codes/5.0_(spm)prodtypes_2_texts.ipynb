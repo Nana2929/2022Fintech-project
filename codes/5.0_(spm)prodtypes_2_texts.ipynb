{
  "nbformat": 4,
  "nbformat_minor": 0,
  "metadata": {
    "colab": {
      "name": "5.0-(spm)prodtypes-2-texts.ipynb",
      "provenance": [],
      "collapsed_sections": []
    },
    "kernelspec": {
      "name": "python3",
      "display_name": "Python 3"
    },
    "language_info": {
      "name": "python"
    }
  },
  "cells": [
    {
      "cell_type": "code",
      "execution_count": 1,
      "metadata": {
        "colab": {
          "base_uri": "https://localhost:8080/"
        },
        "id": "j3AiFCvSyETQ",
        "outputId": "b6ca4f2d-a8da-4d84-fd19-19ab7667ee17"
      },
      "outputs": [
        {
          "output_type": "stream",
          "name": "stdout",
          "text": [
            "Mounted at /content/drive\n"
          ]
        }
      ],
      "source": [
        "from google.colab import drive\n",
        "drive.mount('/content/drive')"
      ]
    },
    {
      "cell_type": "code",
      "source": [
        "maindir = '/content/drive/MyDrive/FinTech-final-project'\n",
        "import pandas as pd\n",
        "filepath = f'{maindir}/東吳課程_發票資料集/品類資料集/cat_train_v2.csv'\n",
        "catdf = pd.read_csv(filepath)"
      ],
      "metadata": {
        "id": "HthPGATuyTrU"
      },
      "execution_count": 3,
      "outputs": []
    },
    {
      "cell_type": "code",
      "source": [
        "catdf.head()"
      ],
      "metadata": {
        "colab": {
          "base_uri": "https://localhost:8080/",
          "height": 250
        },
        "id": "qel7dY4Mygwd",
        "outputId": "b419f5ef-1771-4f01-c4f3-dd6a47b4f27f"
      },
      "execution_count": 4,
      "outputs": [
        {
          "output_type": "execute_result",
          "data": {
            "text/plain": [
              "                       name occurred_at  iv_price  units  unit_price  \\\n",
              "0  R視舒坦單支裝人工淚液點眼液0.5ml 24支入   2021/1/10       984    1.0       389.0   \n",
              "1                優麗舒點眼液15ML    2021/1/6      3264    1.0       275.0   \n",
              "2               (R)視舒坦單支裝人工    2021/1/2      1357    1.0       369.0   \n",
              "3                 Rohto乾眼淚液    2021/1/2      1029    1.0       251.0   \n",
              "4       R參天柔潤人工淚液點眼液 5ml 4入    2021/1/9      1538    1.0       278.0   \n",
              "\n",
              "   total_price                           channel product  \n",
              "0        369.0  2c2cc93adb503077c729a911c56c33b9    人工淚液  \n",
              "1        275.0  6e4a29dff31f61e4697e99cc7ca6fb32    人工淚液  \n",
              "2        369.0  e986ac35e1cc20804d869c557be26cf9    人工淚液  \n",
              "3        251.0  744d57a1f2862ef004885122c81a890b    人工淚液  \n",
              "4        278.0  2c2cc93adb503077c729a911c56c33b9    人工淚液  "
            ],
            "text/html": [
              "\n",
              "  <div id=\"df-86890638-51b8-4fec-9e6c-74fdd8a84000\">\n",
              "    <div class=\"colab-df-container\">\n",
              "      <div>\n",
              "<style scoped>\n",
              "    .dataframe tbody tr th:only-of-type {\n",
              "        vertical-align: middle;\n",
              "    }\n",
              "\n",
              "    .dataframe tbody tr th {\n",
              "        vertical-align: top;\n",
              "    }\n",
              "\n",
              "    .dataframe thead th {\n",
              "        text-align: right;\n",
              "    }\n",
              "</style>\n",
              "<table border=\"1\" class=\"dataframe\">\n",
              "  <thead>\n",
              "    <tr style=\"text-align: right;\">\n",
              "      <th></th>\n",
              "      <th>name</th>\n",
              "      <th>occurred_at</th>\n",
              "      <th>iv_price</th>\n",
              "      <th>units</th>\n",
              "      <th>unit_price</th>\n",
              "      <th>total_price</th>\n",
              "      <th>channel</th>\n",
              "      <th>product</th>\n",
              "    </tr>\n",
              "  </thead>\n",
              "  <tbody>\n",
              "    <tr>\n",
              "      <th>0</th>\n",
              "      <td>R視舒坦單支裝人工淚液點眼液0.5ml 24支入</td>\n",
              "      <td>2021/1/10</td>\n",
              "      <td>984</td>\n",
              "      <td>1.0</td>\n",
              "      <td>389.0</td>\n",
              "      <td>369.0</td>\n",
              "      <td>2c2cc93adb503077c729a911c56c33b9</td>\n",
              "      <td>人工淚液</td>\n",
              "    </tr>\n",
              "    <tr>\n",
              "      <th>1</th>\n",
              "      <td>優麗舒點眼液15ML</td>\n",
              "      <td>2021/1/6</td>\n",
              "      <td>3264</td>\n",
              "      <td>1.0</td>\n",
              "      <td>275.0</td>\n",
              "      <td>275.0</td>\n",
              "      <td>6e4a29dff31f61e4697e99cc7ca6fb32</td>\n",
              "      <td>人工淚液</td>\n",
              "    </tr>\n",
              "    <tr>\n",
              "      <th>2</th>\n",
              "      <td>(R)視舒坦單支裝人工</td>\n",
              "      <td>2021/1/2</td>\n",
              "      <td>1357</td>\n",
              "      <td>1.0</td>\n",
              "      <td>369.0</td>\n",
              "      <td>369.0</td>\n",
              "      <td>e986ac35e1cc20804d869c557be26cf9</td>\n",
              "      <td>人工淚液</td>\n",
              "    </tr>\n",
              "    <tr>\n",
              "      <th>3</th>\n",
              "      <td>Rohto乾眼淚液</td>\n",
              "      <td>2021/1/2</td>\n",
              "      <td>1029</td>\n",
              "      <td>1.0</td>\n",
              "      <td>251.0</td>\n",
              "      <td>251.0</td>\n",
              "      <td>744d57a1f2862ef004885122c81a890b</td>\n",
              "      <td>人工淚液</td>\n",
              "    </tr>\n",
              "    <tr>\n",
              "      <th>4</th>\n",
              "      <td>R參天柔潤人工淚液點眼液 5ml 4入</td>\n",
              "      <td>2021/1/9</td>\n",
              "      <td>1538</td>\n",
              "      <td>1.0</td>\n",
              "      <td>278.0</td>\n",
              "      <td>278.0</td>\n",
              "      <td>2c2cc93adb503077c729a911c56c33b9</td>\n",
              "      <td>人工淚液</td>\n",
              "    </tr>\n",
              "  </tbody>\n",
              "</table>\n",
              "</div>\n",
              "      <button class=\"colab-df-convert\" onclick=\"convertToInteractive('df-86890638-51b8-4fec-9e6c-74fdd8a84000')\"\n",
              "              title=\"Convert this dataframe to an interactive table.\"\n",
              "              style=\"display:none;\">\n",
              "        \n",
              "  <svg xmlns=\"http://www.w3.org/2000/svg\" height=\"24px\"viewBox=\"0 0 24 24\"\n",
              "       width=\"24px\">\n",
              "    <path d=\"M0 0h24v24H0V0z\" fill=\"none\"/>\n",
              "    <path d=\"M18.56 5.44l.94 2.06.94-2.06 2.06-.94-2.06-.94-.94-2.06-.94 2.06-2.06.94zm-11 1L8.5 8.5l.94-2.06 2.06-.94-2.06-.94L8.5 2.5l-.94 2.06-2.06.94zm10 10l.94 2.06.94-2.06 2.06-.94-2.06-.94-.94-2.06-.94 2.06-2.06.94z\"/><path d=\"M17.41 7.96l-1.37-1.37c-.4-.4-.92-.59-1.43-.59-.52 0-1.04.2-1.43.59L10.3 9.45l-7.72 7.72c-.78.78-.78 2.05 0 2.83L4 21.41c.39.39.9.59 1.41.59.51 0 1.02-.2 1.41-.59l7.78-7.78 2.81-2.81c.8-.78.8-2.07 0-2.86zM5.41 20L4 18.59l7.72-7.72 1.47 1.35L5.41 20z\"/>\n",
              "  </svg>\n",
              "      </button>\n",
              "      \n",
              "  <style>\n",
              "    .colab-df-container {\n",
              "      display:flex;\n",
              "      flex-wrap:wrap;\n",
              "      gap: 12px;\n",
              "    }\n",
              "\n",
              "    .colab-df-convert {\n",
              "      background-color: #E8F0FE;\n",
              "      border: none;\n",
              "      border-radius: 50%;\n",
              "      cursor: pointer;\n",
              "      display: none;\n",
              "      fill: #1967D2;\n",
              "      height: 32px;\n",
              "      padding: 0 0 0 0;\n",
              "      width: 32px;\n",
              "    }\n",
              "\n",
              "    .colab-df-convert:hover {\n",
              "      background-color: #E2EBFA;\n",
              "      box-shadow: 0px 1px 2px rgba(60, 64, 67, 0.3), 0px 1px 3px 1px rgba(60, 64, 67, 0.15);\n",
              "      fill: #174EA6;\n",
              "    }\n",
              "\n",
              "    [theme=dark] .colab-df-convert {\n",
              "      background-color: #3B4455;\n",
              "      fill: #D2E3FC;\n",
              "    }\n",
              "\n",
              "    [theme=dark] .colab-df-convert:hover {\n",
              "      background-color: #434B5C;\n",
              "      box-shadow: 0px 1px 3px 1px rgba(0, 0, 0, 0.15);\n",
              "      filter: drop-shadow(0px 1px 2px rgba(0, 0, 0, 0.3));\n",
              "      fill: #FFFFFF;\n",
              "    }\n",
              "  </style>\n",
              "\n",
              "      <script>\n",
              "        const buttonEl =\n",
              "          document.querySelector('#df-86890638-51b8-4fec-9e6c-74fdd8a84000 button.colab-df-convert');\n",
              "        buttonEl.style.display =\n",
              "          google.colab.kernel.accessAllowed ? 'block' : 'none';\n",
              "\n",
              "        async function convertToInteractive(key) {\n",
              "          const element = document.querySelector('#df-86890638-51b8-4fec-9e6c-74fdd8a84000');\n",
              "          const dataTable =\n",
              "            await google.colab.kernel.invokeFunction('convertToInteractive',\n",
              "                                                     [key], {});\n",
              "          if (!dataTable) return;\n",
              "\n",
              "          const docLinkHtml = 'Like what you see? Visit the ' +\n",
              "            '<a target=\"_blank\" href=https://colab.research.google.com/notebooks/data_table.ipynb>data table notebook</a>'\n",
              "            + ' to learn more about interactive tables.';\n",
              "          element.innerHTML = '';\n",
              "          dataTable['output_type'] = 'display_data';\n",
              "          await google.colab.output.renderOutput(dataTable, element);\n",
              "          const docLink = document.createElement('div');\n",
              "          docLink.innerHTML = docLinkHtml;\n",
              "          element.appendChild(docLink);\n",
              "        }\n",
              "      </script>\n",
              "    </div>\n",
              "  </div>\n",
              "  "
            ]
          },
          "metadata": {},
          "execution_count": 4
        }
      ]
    },
    {
      "cell_type": "code",
      "source": [
        "catdf['product'].value_counts() # Length: 272"
      ],
      "metadata": {
        "colab": {
          "base_uri": "https://localhost:8080/"
        },
        "id": "oqk0ZQTryirI",
        "outputId": "9ef29679-57c5-4a65-832f-96ddf0d90e4e"
      },
      "execution_count": 7,
      "outputs": [
        {
          "output_type": "execute_result",
          "data": {
            "text/plain": [
              "洗髮精              3677\n",
              "沐浴乳              3037\n",
              "洗面乳              2844\n",
              "速食麵/泡麵           2360\n",
              "洗衣精              2094\n",
              "                 ... \n",
              "卸妝棉;卸妝乳;卸妝油         1\n",
              "卸妝水;卸妝乳             1\n",
              "蜜粉;遮瑕膏              1\n",
              "修容;粉餅               1\n",
              "眼線液筆;眼線膠筆;眼線筆       1\n",
              "Name: product, Length: 272, dtype: int64"
            ]
          },
          "metadata": {},
          "execution_count": 7
        }
      ]
    },
    {
      "cell_type": "markdown",
      "source": [
        "## percentile graph (distribution)"
      ],
      "metadata": {
        "id": "DVoo4EmW3X5L"
      }
    },
    {
      "cell_type": "code",
      "source": [
        "# categories = set(x for k in pD.keys() for x in k.split(';'))\n",
        "from collections import defaultdict\n",
        "catD = defaultdict(int)\n",
        "for k in catdf['product']:\n",
        "  for x in k.split(';'):\n",
        "    catD[x] += 1 "
      ],
      "metadata": {
        "id": "ZiIhinwm9QwN"
      },
      "execution_count": 28,
      "outputs": []
    },
    {
      "cell_type": "code",
      "source": [
        "len(catD) # 217 classifiers/217 clusters with distance threshold"
      ],
      "metadata": {
        "colab": {
          "base_uri": "https://localhost:8080/"
        },
        "id": "1Ds5yxgQ-i-b",
        "outputId": "964b150e-5088-4026-c9a4-41c63f5616f4"
      },
      "execution_count": 32,
      "outputs": [
        {
          "output_type": "execute_result",
          "data": {
            "text/plain": [
              "217"
            ]
          },
          "metadata": {},
          "execution_count": 32
        }
      ]
    },
    {
      "cell_type": "code",
      "source": [
        "# percentile curve\n",
        "import numpy as np\n",
        "import pylab as P\n",
        "import matplotlib \n",
        "import matplotlib.pyplot as plt \n",
        "import matplotlib.ticker as mtick\n",
        "# https://stackoverflow.com/questions/26294360/pyplot-using-percentage-on-x-axis\n",
        "spc = list(catD.values())\n",
        "print(spc)\n",
        "pct = np.percentile(spc, q=(0.0, 10.0, 25.0, 50.0, 75.0, 90.0, 100.0))\n",
        "\n",
        "perc = np.linspace(0,100,len(pct))\n",
        "fig = plt.figure(1, (7,4))\n",
        "ax = fig.add_subplot(1,1,1)\n",
        "ax.plot(perc, pct)\n",
        "fmt = '%.0f%%' # Format you want the ticks, e.g. '40%'\n",
        "xticks = mtick.FormatStrFormatter(fmt)\n",
        "ax.xaxis.set_major_formatter(xticks)\n",
        "\n",
        "plt.show()\n",
        "\n",
        "# P.plot(spc)\n",
        "# P.show()"
      ],
      "metadata": {
        "colab": {
          "base_uri": "https://localhost:8080/",
          "height": 302
        },
        "id": "UhRLkI1kz0gM",
        "outputId": "7bc74c46-709b-4f1d-b7e7-739606c32c03"
      },
      "execution_count": 31,
      "outputs": [
        {
          "output_type": "stream",
          "name": "stdout",
          "text": [
            "[121, 287, 882, 2069, 4, 291, 235, 19, 156, 287, 811, 57, 70, 229, 20, 216, 52, 1293, 453, 404, 239, 142, 26, 299, 126, 21, 98, 82, 82, 538, 408, 3713, 259, 588, 441, 129, 572, 683, 854, 572, 320, 451, 571, 260, 561, 53, 3100, 2846, 404, 2099, 350, 308, 1873, 176, 349, 438, 494, 41, 312, 107, 182, 3, 155, 251, 281, 121, 17, 41, 10, 135, 1531, 78, 1412, 459, 224, 235, 3, 578, 27, 72, 805, 872, 22, 133, 360, 143, 459, 307, 23, 133, 65, 1218, 48, 102, 168, 776, 680, 120, 67, 14, 76, 2, 391, 13, 1133, 171, 1185, 976, 23, 91, 63, 502, 90, 33, 64, 116, 17, 207, 138, 387, 566, 15, 63, 4, 2000, 96, 590, 711, 2360, 847, 1999, 78, 340, 1345, 182, 34, 323, 152, 174, 1604, 160, 23, 194, 43, 25, 373, 16, 251, 266, 138, 192, 58, 638, 207, 213, 256, 134, 139, 1818, 1003, 35, 9, 235, 30, 17, 1135, 33, 420, 253, 626, 48, 56, 2074, 480, 2005, 195, 190, 199, 1549, 112, 217, 203, 175, 254, 92, 274, 165, 40, 235, 490, 182, 215, 712, 1831, 1061, 662, 365, 58, 73, 71, 60, 39, 32, 67, 685, 532, 341, 6, 6, 890, 485, 203, 378, 201, 1065, 49, 13]\n"
          ]
        },
        {
          "output_type": "display_data",
          "data": {
            "text/plain": [
              "<Figure size 504x288 with 1 Axes>"
            ],
            "image/png": "[encoded data removed]"
          },
          "metadata": {
            "needs_background": "light"
          }
        }
      ]
    },
    {
      "cell_type": "markdown",
      "source": [
        "example: 洗髮精\n",
        "\n",
        "occurrences: 3713"
      ],
      "metadata": {
        "id": "qUXUN1XT3b2O"
      }
    },
    {
      "cell_type": "code",
      "source": [
        "shampoo_names = []\n",
        "for p, n in zip(catdf['product'], catdf['name']):\n",
        "  for x in p.split(';'):\n",
        "    if x == '洗髮精':\n",
        "      shampoo_names.append(n)\n",
        "      break"
      ],
      "metadata": {
        "id": "NwX4HHz_-DDo"
      },
      "execution_count": 36,
      "outputs": []
    },
    {
      "cell_type": "code",
      "source": [
        "print(len(shampoo_names))\n",
        "shampoo_names[:20]"
      ],
      "metadata": {
        "colab": {
          "base_uri": "https://localhost:8080/"
        },
        "id": "boAT0LhY_dB3",
        "outputId": "17a32719-a5b8-43c9-fc45-3cc62e1943b6"
      },
      "execution_count": 38,
      "outputs": [
        {
          "output_type": "stream",
          "name": "stdout",
          "text": [
            "3713\n"
          ]
        },
        {
          "output_type": "execute_result",
          "data": {
            "text/plain": [
              "['Alpecin雙動力咖啡',\n",
              " 'A-無患子咖啡因控',\n",
              " '呂韓方頭皮養護洗髮精-營養潤澤400ml【康是美】',\n",
              " 'DR CYJ 髮胜月太賦活洗髮精150ml(3入)',\n",
              " 'Farcent香水奇蹟洗髮露600ml真我星夜',\n",
              " '4902111758855麗仕 髮?補給角蛋白胺基酸洗髮精450g',\n",
              " '252612@H 飛柔薄荷水涼洗髮乳1000ML',\n",
              " '566香水能量洗髮露-幸運加氛[510g]',\n",
              " '[現貨] 淨 男士去屑洗髮乳清爽控油型200g【金興發】',\n",
              " 'Diane完美奇蹟雙護洗髮精 450ml',\n",
              " '566抗屑柔順洗髮乳',\n",
              " '花香5 絲柔順滑 原效洗髮乳-1100g',\n",
              " '409730@沙宣護色亮澤洗髮乳500ML',\n",
              " '4712318590314綠藤生機 Greenvines 頭皮淨化洗髮精',\n",
              " '【SAHOLEA 森歐黎漾】極水漾 杏桃柔順洗髮露480ml(Sandy吳姍儒代言)',\n",
              " 'EAU耀香緹頭皮護理洗髮露-中性',\n",
              " '美吾髮仙草洗髮精',\n",
              " '563999@思波綺豐盈洗髮精軟塌髮用50',\n",
              " '落建 頭皮洗髮乳 保濕豐厚配方400ml',\n",
              " '716921@淨植覺控油去屑洗髮露白茶精']"
            ]
          },
          "metadata": {},
          "execution_count": 38
        }
      ]
    },
    {
      "cell_type": "code",
      "source": [
        "with open(f'{maindir}/shampoos.txt', 'w') as f:\n",
        "  for s in shampoo_names:\n",
        "    f.write(s+'\\n')"
      ],
      "metadata": {
        "id": "IioOEPkW_S7u"
      },
      "execution_count": 42,
      "outputs": []
    },
    {
      "cell_type": "markdown",
      "source": [
        "1. multilabel\n",
        "2. 217 hit phrase lists? -> bash script \n",
        "3. noises in the spm result (human check? then why not human labeling all 217 lists)"
      ],
      "metadata": {
        "id": "3fVxFkHiDSVR"
      }
    },
    {
      "cell_type": "code",
      "source": [
        "'''\n",
        "(base) yangqingwen@ip71-176 src % ./spm_train --input=/Users/yangqingwen/Desktop/110-2課程/fintech/shampoos.txt --model_prefix=/Users/yangqingwen/Desktop/110-2課程/fintech/spm_shampoos --model_type='bpe' --vocab_size=2000  \n",
        "'''\n",
        "'''\n",
        "<unk>\t0\n",
        "<s>\t0\n",
        "</s>\t0\n",
        "洗髮\t-0\n",
        "洗髮精\t-1\n",
        "ml\t-2\n",
        "00\t-3\n",
        "洗髮乳\t-4\n",
        "50\t-5\n",
        "洗髮露\t-6\n",
        "▁【\t-7\n",
        "500\t-8\n",
        "控油\t-9\n",
        "頭皮\t-10\n",
        "400\t-11\n",
        "750\t-12\n",
        "100\t-13\n",
        "去屑\t-14\n",
        "ML\t-15\n",
        "修護\t-16\n",
        "植萃\t-17\n",
        "1000\t-18\n",
        "80\t-19\n",
        "保濕\t-20\n",
        "600\t-21\n",
        "香水\t-22\n",
        "抗屑\t-23\n",
        "咖啡\t-24\n",
        "護色\t-25\n",
        "700\t-26\n",
        "健髮\t-27\n",
        "清爽\t-28\n",
        "豐盈\t-29\n",
        "咖啡因\t-30\n",
        "去屑洗髮乳\t-31\n",
        "250\t-32\n",
        "66\t-33\n",
        "海倫\t-34\n",
        "艾瑪\t-35\n",
        "la\t-36\n",
        "▁5\t-37\n",
        "▁A\t-38\n",
        "▁海倫\t-39\n",
        "\n",
        "'''"
      ],
      "metadata": {
        "id": "4fsnOTy_AEAT"
      },
      "execution_count": null,
      "outputs": []
    }
  ]
}