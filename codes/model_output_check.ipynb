{
 "cells": [
  {
   "cell_type": "code",
   "execution_count": 1,
   "id": "ebf50b35",
   "metadata": {},
   "outputs": [],
   "source": [
    "import pandas as pd\n",
    "import numpy as np"
   ]
  },
  {
   "cell_type": "code",
   "execution_count": 2,
   "id": "348feac9",
   "metadata": {},
   "outputs": [],
   "source": [
    "output=pd.read_csv(\"C:/Users/kiwii/OneDrive/desktop/黃聖崴/課業/碩一下/專題/麻布專案資料/model_outpt.csv\")"
   ]
  },
  {
   "cell_type": "code",
   "execution_count": 3,
   "id": "b641ad6b",
   "metadata": {},
   "outputs": [
    {
     "data": {
      "text/plain": [
       "0.84"
      ]
     },
     "execution_count": 3,
     "metadata": {},
     "output_type": "execute_result"
    }
   ],
   "source": [
    "#整體正確率\n",
    "output.fillna(\"無\",inplace=True)\n",
    "correct_count=0\n",
    "for x in range(len(output)):\n",
    "    pred_temp=output.loc[x,\"predictions\"].split(\";\")\n",
    "    label_temp=output.loc[x,\"labels\"].split(\";\")\n",
    "    if set(pred_temp)==set(label_temp):\n",
    "        correct_count+=1\n",
    "round(correct_count/len(output),2)      "
   ]
  },
  {
   "cell_type": "code",
   "execution_count": 4,
   "id": "0178c0dd",
   "metadata": {},
   "outputs": [
    {
     "data": {
      "text/plain": [
       "3"
      ]
     },
     "execution_count": 4,
     "metadata": {},
     "output_type": "execute_result"
    }
   ],
   "source": [
    "#多標籤正確數量\n",
    "loc_multi=[]\n",
    "for x in range(len(output)):\n",
    "    if \";\" in output.loc[x,'labels']:\n",
    "        pred_temp=output.loc[x,\"predictions\"].split(\";\")\n",
    "        label_temp=output.loc[x,\"labels\"].split(\";\")\n",
    "        if set(pred_temp)==set(label_temp):\n",
    "            loc_multi.append(x)\n",
    "len(loc_multi)"
   ]
  },
  {
   "cell_type": "code",
   "execution_count": 5,
   "id": "0a8a7819",
   "metadata": {},
   "outputs": [
    {
     "data": {
      "text/plain": [
       "2917"
      ]
     },
     "execution_count": 5,
     "metadata": {},
     "output_type": "execute_result"
    }
   ],
   "source": [
    "#整體錯誤筆數\n",
    "loc_error=[]\n",
    "for x in range(len(output)):\n",
    "    pred_temp=output.loc[x,\"predictions\"].split(\";\")\n",
    "    label_temp=output.loc[x,\"labels\"].split(\";\")\n",
    "    if set(pred_temp)!=set(label_temp):\n",
    "        loc_error.append(x)\n",
    "len(loc_error)"
   ]
  },
  {
   "cell_type": "code",
   "execution_count": 6,
   "id": "76247385",
   "metadata": {},
   "outputs": [],
   "source": [
    "#提取錯誤資料\n",
    "loss_target=pd.DataFrame(columns=['Unnamed: 0', 'name', 'predictions', 'labels'])\n",
    "for x in loc_error:\n",
    "    mask=(output['name']==output.loc[x][\"name\"])\n",
    "    loss_target= pd.concat([loss_target, output[mask]], ignore_index=True)\n",
    "loss_target.drop(columns=['Unnamed: 0'],inplace=True)\n",
    "loss_target.to_excel(\"loss_target.xlsx\",index=False)"
   ]
  },
  {
   "cell_type": "code",
   "execution_count": 7,
   "id": "f87c6788",
   "metadata": {},
   "outputs": [
    {
     "data": {
      "text/plain": [
       "0.6"
      ]
     },
     "execution_count": 7,
     "metadata": {},
     "output_type": "execute_result"
    }
   ],
   "source": [
    "#預測為多標籤實際為單標籤\n",
    "count=0\n",
    "for x in range(len(loss_target)):\n",
    "    if \";\" in loss_target.loc[x,\"predictions\"] and \";\" not in loss_target.loc[x,\"labels\"]:\n",
    "        count+=1\n",
    "round(count/len(loss_target),2)"
   ]
  },
  {
   "cell_type": "code",
   "execution_count": 8,
   "id": "1f636779",
   "metadata": {},
   "outputs": [
    {
     "data": {
      "text/plain": [
       "0.38"
      ]
     },
     "execution_count": 8,
     "metadata": {},
     "output_type": "execute_result"
    }
   ],
   "source": [
    "#單標籤分錯\n",
    "count=0\n",
    "for x in range(len(loss_target)):\n",
    "    if \";\" not in loss_target.loc[x,\"predictions\"] and \";\" not in loss_target.loc[x,\"labels\"]:\n",
    "        count+=1\n",
    "round(count/len(loss_target),2)"
   ]
  },
  {
   "cell_type": "code",
   "execution_count": 9,
   "id": "37aa050d",
   "metadata": {},
   "outputs": [
    {
     "data": {
      "text/plain": [
       "0.02"
      ]
     },
     "execution_count": 9,
     "metadata": {},
     "output_type": "execute_result"
    }
   ],
   "source": [
    "#預測為單標籤實際為多標籤\n",
    "count=0\n",
    "for x in range(len(loss_target)):\n",
    "    if \";\" not in loss_target.loc[x,\"predictions\"] and \";\" in loss_target.loc[x,\"labels\"]:\n",
    "        count+=1\n",
    "round(count/len(loss_target),2)"
   ]
  },
  {
   "cell_type": "code",
   "execution_count": 10,
   "id": "9943c274",
   "metadata": {},
   "outputs": [
    {
     "name": "stdout",
     "output_type": "stream",
     "text": [
      "0.05\n",
      "154\n"
     ]
    }
   ],
   "source": [
    "#分不出標籤的數量\n",
    "count=0\n",
    "for x in range(len(loss_target)):\n",
    "    if loss_target.loc[x,\"predictions\"]==\"無\":\n",
    "        count+=1\n",
    "print(round(count/len(loss_target),2))\n",
    "print(count)"
   ]
  }
 ],
 "metadata": {
  "kernelspec": {
   "display_name": "Python 3 (ipykernel)",
   "language": "python",
   "name": "python3"
  },
  "language_info": {
   "codemirror_mode": {
    "name": "ipython",
    "version": 3
   },
   "file_extension": ".py",
   "mimetype": "text/x-python",
   "name": "python",
   "nbconvert_exporter": "python",
   "pygments_lexer": "ipython3",
   "version": "3.9.7"
  }
 },
 "nbformat": 4,
 "nbformat_minor": 5
}
