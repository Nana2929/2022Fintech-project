{
 "cells": [
  {
   "cell_type": "code",
   "execution_count": 1,
   "id": "ebf50b35",
   "metadata": {},
   "outputs": [],
   "source": [
    "import pandas as pd\n",
    "import numpy as np"
   ]
  },
  {
   "cell_type": "code",
   "execution_count": 2,
   "id": "348feac9",
   "metadata": {},
   "outputs": [],
   "source": [
    "output=pd.read_csv(\"C:/Users/kiwii/OneDrive/desktop/黃聖崴/課業/碩一下/專題/麻布專案資料/model_outpt.csv\")"
   ]
  },
  {
   "cell_type": "code",
   "execution_count": 3,
   "id": "b641ad6b",
   "metadata": {},
   "outputs": [
    {
     "data": {
      "text/plain": [
       "0.84"
      ]
     },
     "execution_count": 3,
     "metadata": {},
     "output_type": "execute_result"
    }
   ],
   "source": [
    "correct_count=0\n",
    "for x in range(len(output)):\n",
    "    if output.loc[x,'predictions']==output.loc[x,'labels']:\n",
    "        correct_count+=1\n",
    "round(correct_count/len(output),2)      "
   ]
  },
  {
   "cell_type": "code",
   "execution_count": 4,
   "id": "0178c0dd",
   "metadata": {},
   "outputs": [
    {
     "data": {
      "text/plain": [
       "1"
      ]
     },
     "execution_count": 4,
     "metadata": {},
     "output_type": "execute_result"
    }
   ],
   "source": [
    "loc_multi=[]\n",
    "for x in range(len(output)):\n",
    "    if \";\" in output.loc[x,'labels']:\n",
    "        if output.loc[x,'predictions']==output.loc[x,'labels']:\n",
    "            loc_multi.append(x)\n",
    "len(loc_multi)"
   ]
  },
  {
   "cell_type": "code",
   "execution_count": 5,
   "id": "0a8a7819",
   "metadata": {},
   "outputs": [
    {
     "data": {
      "text/plain": [
       "2919"
      ]
     },
     "execution_count": 5,
     "metadata": {},
     "output_type": "execute_result"
    }
   ],
   "source": [
    "loc_error=[]\n",
    "for x in range(len(output)):\n",
    "    if output.loc[x,'predictions']!=output.loc[x,'labels']:\n",
    "        loc_error.append(x)\n",
    "len(loc_error)"
   ]
  },
  {
   "cell_type": "code",
   "execution_count": 6,
   "id": "7b3a74d3",
   "metadata": {},
   "outputs": [],
   "source": [
    "loss_target=pd.DataFrame(columns=['Unnamed: 0', 'name', 'predictions', 'labels'])"
   ]
  },
  {
   "cell_type": "code",
   "execution_count": 7,
   "id": "76247385",
   "metadata": {},
   "outputs": [],
   "source": [
    "for x in loc_error:\n",
    "    mask=(output['name']==output.loc[x][\"name\"])\n",
    "    loss_target= pd.concat([loss_target, output[mask]], ignore_index=True)\n",
    "loss_target.to_excel(\"loss_target.xlsx\")"
   ]
  }
 ],
 "metadata": {
  "kernelspec": {
   "display_name": "Python 3 (ipykernel)",
   "language": "python",
   "name": "python3"
  },
  "language_info": {
   "codemirror_mode": {
    "name": "ipython",
    "version": 3
   },
   "file_extension": ".py",
   "mimetype": "text/x-python",
   "name": "python",
   "nbconvert_exporter": "python",
   "pygments_lexer": "ipython3",
   "version": "3.9.7"
  }
 },
 "nbformat": 4,
 "nbformat_minor": 5
}
