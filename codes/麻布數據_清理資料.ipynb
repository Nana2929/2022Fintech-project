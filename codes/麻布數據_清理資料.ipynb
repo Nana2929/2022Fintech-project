{
 "cells": [
  {
   "cell_type": "markdown",
   "metadata": {
    "id": "sSu_pzT8kXoP"
   },
   "source": [
    "## 讀取套件與工作位置"
   ]
  },
  {
   "cell_type": "code",
   "execution_count": 1,
   "metadata": {
    "id": "MqT5pBCFkWtn"
   },
   "outputs": [],
   "source": [
    "import pandas as pd\n",
    "import re\n",
    "import string"
   ]
  },
  {
   "cell_type": "markdown",
   "metadata": {
    "id": "uUcGtJEBkE11"
   },
   "source": [
    "## 讀取資料"
   ]
  },
  {
   "cell_type": "code",
   "execution_count": 77,
   "metadata": {
    "id": "aZgEY93Wj-0P"
   },
   "outputs": [],
   "source": [
    "product_data=pd.read_csv(\"C:/Users/kiwii/OneDrive/desktop/黃聖崴/課業/碩一下/專題/麻布專案資料/品類資料集/cat_train_v2.csv\")\n",
    "product_data=product_data[[\"name\",\"product\"]]\n",
    "brand_data=pd.read_csv(\"C:/Users/kiwii/OneDrive/desktop/黃聖崴/課業/碩一下/專題/麻布專案資料/品牌資料集/brand_train.csv\")\n",
    "brand_data=brand_data[[\"name\",\"brand\"]]"
   ]
  },
  {
   "cell_type": "code",
   "execution_count": null,
   "metadata": {
    "id": "QWPCnDDRkIi_"
   },
   "outputs": [],
   "source": [
    "#把資料都完整列出來\n",
    "#pd.set_option('display.max_columns',None)\n",
    "#pd.set_option('display.max_rows', None)"
   ]
  },
  {
   "cell_type": "markdown",
   "metadata": {
    "id": "AncmK8UHkoq-"
   },
   "source": [
    "## 資料分析與整理"
   ]
  },
  {
   "cell_type": "code",
   "execution_count": 3,
   "metadata": {
    "colab": {
     "base_uri": "https://localhost:8080/"
    },
    "id": "gNmXr8XJkmE3",
    "outputId": "c51a1a88-b16c-4656-9f98-2aef37fc7d5f"
   },
   "outputs": [
    {
     "data": {
      "text/plain": [
       "耐吉 NIKE             770\n",
       "adidas              724\n",
       "MAYBELLINE 媚比琳      635\n",
       "羅技 Logitech         611\n",
       "MENTHOLATUM 曼秀雷敦    549\n",
       "                   ... \n",
       "日青                    1\n",
       "寺岡家                   1\n",
       "米徠                    1\n",
       "雷迪兒 RADIUS            1\n",
       "S.Pellegrino          1\n",
       "Name: brand, Length: 4068, dtype: int64"
      ]
     },
     "execution_count": 3,
     "metadata": {},
     "output_type": "execute_result"
    }
   ],
   "source": [
    "product_data['product'].value_counts()\n",
    "brand_data['brand'].value_counts()"
   ]
  },
  {
   "cell_type": "code",
   "execution_count": 55,
   "metadata": {
    "colab": {
     "base_uri": "https://localhost:8080/"
    },
    "id": "ZLpTbBtuk3nu",
    "outputId": "750ec413-acf5-4bf1-a63d-a462d349a118"
   },
   "outputs": [
    {
     "data": {
      "text/plain": [
       "217"
      ]
     },
     "execution_count": 55,
     "metadata": {},
     "output_type": "execute_result"
    }
   ],
   "source": [
    "#將目標的單一分類提出來看是否為217(品類)\n",
    "product_type=[x for x in set(product_data[\"product\"])]\n",
    "clean_product_type=[]\n",
    "for x in product_type:\n",
    "    temp=x.split(\";\")\n",
    "    for x2 in temp:\n",
    "        clean_product_type.append(x2)\n",
    "clean_product_type=set(clean_product_type)\n",
    "len(clean_product_type)"
   ]
  },
  {
   "cell_type": "code",
   "execution_count": 64,
   "metadata": {},
   "outputs": [],
   "source": [
    "#計算品類數量\n",
    "product_times=set(product_data['product'])\n",
    "producut_dict={}\n",
    "for x in product_times:\n",
    "    producut_dict.update({x:0})\n",
    "\n",
    "for x in product_data['product']:\n",
    "    producut_dict[x]+=1\n",
    "producut_count=pd.DataFrame.from_dict(producut_dict, orient='index')\n",
    "producut_count.to_excel('品牌計算.xlsx')"
   ]
  },
  {
   "cell_type": "code",
   "execution_count": null,
   "metadata": {
    "colab": {
     "base_uri": "https://localhost:8080/",
     "height": 423
    },
    "id": "iiAysx2Vn8fT",
    "outputId": "964272be-47f5-4eff-dc9c-29da2a07736c"
   },
   "outputs": [
    {
     "data": {
      "text/html": [
       "\n",
       "  <div id=\"df-cfeb6c58-4b94-472b-8721-0d272825fc3a\">\n",
       "    <div class=\"colab-df-container\">\n",
       "      <div>\n",
       "<style scoped>\n",
       "    .dataframe tbody tr th:only-of-type {\n",
       "        vertical-align: middle;\n",
       "    }\n",
       "\n",
       "    .dataframe tbody tr th {\n",
       "        vertical-align: top;\n",
       "    }\n",
       "\n",
       "    .dataframe thead th {\n",
       "        text-align: right;\n",
       "    }\n",
       "</style>\n",
       "<table border=\"1\" class=\"dataframe\">\n",
       "  <thead>\n",
       "    <tr style=\"text-align: right;\">\n",
       "      <th></th>\n",
       "      <th>name</th>\n",
       "      <th>product</th>\n",
       "      <th>split_product</th>\n",
       "    </tr>\n",
       "  </thead>\n",
       "  <tbody>\n",
       "    <tr>\n",
       "      <th>0</th>\n",
       "      <td>R視舒坦單支裝人工淚液點眼液0.5ml 24支入</td>\n",
       "      <td>人工淚液</td>\n",
       "      <td>[人工淚液]</td>\n",
       "    </tr>\n",
       "    <tr>\n",
       "      <th>1</th>\n",
       "      <td>優麗舒點眼液15ML</td>\n",
       "      <td>人工淚液</td>\n",
       "      <td>[人工淚液]</td>\n",
       "    </tr>\n",
       "    <tr>\n",
       "      <th>2</th>\n",
       "      <td>(R)視舒坦單支裝人工</td>\n",
       "      <td>人工淚液</td>\n",
       "      <td>[人工淚液]</td>\n",
       "    </tr>\n",
       "    <tr>\n",
       "      <th>3</th>\n",
       "      <td>Rohto乾眼淚液</td>\n",
       "      <td>人工淚液</td>\n",
       "      <td>[人工淚液]</td>\n",
       "    </tr>\n",
       "    <tr>\n",
       "      <th>4</th>\n",
       "      <td>R參天柔潤人工淚液點眼液 5ml 4入</td>\n",
       "      <td>人工淚液</td>\n",
       "      <td>[人工淚液]</td>\n",
       "    </tr>\n",
       "    <tr>\n",
       "      <th>...</th>\n",
       "      <td>...</td>\n",
       "      <td>...</td>\n",
       "      <td>...</td>\n",
       "    </tr>\n",
       "    <tr>\n",
       "      <th>92301</th>\n",
       "      <td>mdmmd微醺心機漸層腮紅-玫瑰瑪格麗特</td>\n",
       "      <td>腮紅</td>\n",
       "      <td>[腮紅]</td>\n",
       "    </tr>\n",
       "    <tr>\n",
       "      <th>92302</th>\n",
       "      <td>mdmmd微醺心機漸層腮紅-橙酒</td>\n",
       "      <td>腮紅</td>\n",
       "      <td>[腮紅]</td>\n",
       "    </tr>\n",
       "    <tr>\n",
       "      <th>92303</th>\n",
       "      <td>倫敦芮魅 叛逆玩色腮紅盤005 微醺酒紅</td>\n",
       "      <td>腮紅</td>\n",
       "      <td>[腮紅]</td>\n",
       "    </tr>\n",
       "    <tr>\n",
       "      <th>92304</th>\n",
       "      <td>PALLADIO柔光幻彩貝殼腮紅微醺蜜桃</td>\n",
       "      <td>腮紅</td>\n",
       "      <td>[腮紅]</td>\n",
       "    </tr>\n",
       "    <tr>\n",
       "      <th>92305</th>\n",
       "      <td>【韓國 E-glips】粉嫩微醺美肌花瓣腮紅4g(6色可選)</td>\n",
       "      <td>腮紅</td>\n",
       "      <td>[腮紅]</td>\n",
       "    </tr>\n",
       "  </tbody>\n",
       "</table>\n",
       "<p>92306 rows × 3 columns</p>\n",
       "</div>\n",
       "      <button class=\"colab-df-convert\" onclick=\"convertToInteractive('df-cfeb6c58-4b94-472b-8721-0d272825fc3a')\"\n",
       "              title=\"Convert this dataframe to an interactive table.\"\n",
       "              style=\"display:none;\">\n",
       "        \n",
       "  <svg xmlns=\"http://www.w3.org/2000/svg\" height=\"24px\"viewBox=\"0 0 24 24\"\n",
       "       width=\"24px\">\n",
       "    <path d=\"M0 0h24v24H0V0z\" fill=\"none\"/>\n",
       "    <path d=\"M18.56 5.44l.94 2.06.94-2.06 2.06-.94-2.06-.94-.94-2.06-.94 2.06-2.06.94zm-11 1L8.5 8.5l.94-2.06 2.06-.94-2.06-.94L8.5 2.5l-.94 2.06-2.06.94zm10 10l.94 2.06.94-2.06 2.06-.94-2.06-.94-.94-2.06-.94 2.06-2.06.94z\"/><path d=\"M17.41 7.96l-1.37-1.37c-.4-.4-.92-.59-1.43-.59-.52 0-1.04.2-1.43.59L10.3 9.45l-7.72 7.72c-.78.78-.78 2.05 0 2.83L4 21.41c.39.39.9.59 1.41.59.51 0 1.02-.2 1.41-.59l7.78-7.78 2.81-2.81c.8-.78.8-2.07 0-2.86zM5.41 20L4 18.59l7.72-7.72 1.47 1.35L5.41 20z\"/>\n",
       "  </svg>\n",
       "      </button>\n",
       "      \n",
       "  <style>\n",
       "    .colab-df-container {\n",
       "      display:flex;\n",
       "      flex-wrap:wrap;\n",
       "      gap: 12px;\n",
       "    }\n",
       "\n",
       "    .colab-df-convert {\n",
       "      background-color: #E8F0FE;\n",
       "      border: none;\n",
       "      border-radius: 50%;\n",
       "      cursor: pointer;\n",
       "      display: none;\n",
       "      fill: #1967D2;\n",
       "      height: 32px;\n",
       "      padding: 0 0 0 0;\n",
       "      width: 32px;\n",
       "    }\n",
       "\n",
       "    .colab-df-convert:hover {\n",
       "      background-color: #E2EBFA;\n",
       "      box-shadow: 0px 1px 2px rgba(60, 64, 67, 0.3), 0px 1px 3px 1px rgba(60, 64, 67, 0.15);\n",
       "      fill: #174EA6;\n",
       "    }\n",
       "\n",
       "    [theme=dark] .colab-df-convert {\n",
       "      background-color: #3B4455;\n",
       "      fill: #D2E3FC;\n",
       "    }\n",
       "\n",
       "    [theme=dark] .colab-df-convert:hover {\n",
       "      background-color: #434B5C;\n",
       "      box-shadow: 0px 1px 3px 1px rgba(0, 0, 0, 0.15);\n",
       "      filter: drop-shadow(0px 1px 2px rgba(0, 0, 0, 0.3));\n",
       "      fill: #FFFFFF;\n",
       "    }\n",
       "  </style>\n",
       "\n",
       "      <script>\n",
       "        const buttonEl =\n",
       "          document.querySelector('#df-cfeb6c58-4b94-472b-8721-0d272825fc3a button.colab-df-convert');\n",
       "        buttonEl.style.display =\n",
       "          google.colab.kernel.accessAllowed ? 'block' : 'none';\n",
       "\n",
       "        async function convertToInteractive(key) {\n",
       "          const element = document.querySelector('#df-cfeb6c58-4b94-472b-8721-0d272825fc3a');\n",
       "          const dataTable =\n",
       "            await google.colab.kernel.invokeFunction('convertToInteractive',\n",
       "                                                     [key], {});\n",
       "          if (!dataTable) return;\n",
       "\n",
       "          const docLinkHtml = 'Like what you see? Visit the ' +\n",
       "            '<a target=\"_blank\" href=https://colab.research.google.com/notebooks/data_table.ipynb>data table notebook</a>'\n",
       "            + ' to learn more about interactive tables.';\n",
       "          element.innerHTML = '';\n",
       "          dataTable['output_type'] = 'display_data';\n",
       "          await google.colab.output.renderOutput(dataTable, element);\n",
       "          const docLink = document.createElement('div');\n",
       "          docLink.innerHTML = docLinkHtml;\n",
       "          element.appendChild(docLink);\n",
       "        }\n",
       "      </script>\n",
       "    </div>\n",
       "  </div>\n",
       "  "
      ],
      "text/plain": [
       "                                 name product split_product\n",
       "0            R視舒坦單支裝人工淚液點眼液0.5ml 24支入    人工淚液        [人工淚液]\n",
       "1                          優麗舒點眼液15ML    人工淚液        [人工淚液]\n",
       "2                         (R)視舒坦單支裝人工    人工淚液        [人工淚液]\n",
       "3                           Rohto乾眼淚液    人工淚液        [人工淚液]\n",
       "4                 R參天柔潤人工淚液點眼液 5ml 4入    人工淚液        [人工淚液]\n",
       "...                               ...     ...           ...\n",
       "92301            mdmmd微醺心機漸層腮紅-玫瑰瑪格麗特      腮紅          [腮紅]\n",
       "92302                mdmmd微醺心機漸層腮紅-橙酒      腮紅          [腮紅]\n",
       "92303            倫敦芮魅 叛逆玩色腮紅盤005 微醺酒紅      腮紅          [腮紅]\n",
       "92304            PALLADIO柔光幻彩貝殼腮紅微醺蜜桃      腮紅          [腮紅]\n",
       "92305  【韓國 E-glips】粉嫩微醺美肌花瓣腮紅4g(6色可選)      腮紅          [腮紅]\n",
       "\n",
       "[92306 rows x 3 columns]"
      ]
     },
     "execution_count": 63,
     "metadata": {},
     "output_type": "execute_result"
    }
   ],
   "source": [
    "#品類資料的字串切割\n",
    "split_product=[]\n",
    "for x in range(len(product_data)):\n",
    "    product=product_data.iloc[x]['product']\n",
    "    product=product.replace(\"/\",\";\").split(\";\")\n",
    "    split_product.append(product)\n",
    "product_data = product_data.assign(split_product = split_product)\n",
    "product_data"
   ]
  },
  {
   "cell_type": "code",
   "execution_count": null,
   "metadata": {
    "colab": {
     "base_uri": "https://localhost:8080/"
    },
    "id": "AxMu5bD-lIyN",
    "outputId": "b00f6c35-9692-4223-97b0-852f556950f4"
   },
   "outputs": [
    {
     "name": "stdout",
     "output_type": "stream",
     "text": [
      "44697\n",
      "0.48\n"
     ]
    }
   ],
   "source": [
    "#品類關鍵字有出現在品名的有多少\n",
    "special_data=pd.DataFrame(columns=[\"name\",\"product\"])\n",
    "for x in range(len(product_data)):\n",
    "  name=product_data.iloc[x]['name']\n",
    "  product=product_data.iloc[x]['split_product']\n",
    "  for x2 in product:\n",
    "    if x2 in name:\n",
    "      special_data=special_data.append({\"name\":name,\"product\":product},ignore_index=True)\n",
    "      break\n",
    "print(len(special_data))\n",
    "print(round(len(special_data)/len(product_data),2))"
   ]
  },
  {
   "cell_type": "code",
   "execution_count": null,
   "metadata": {
    "colab": {
     "base_uri": "https://localhost:8080/"
    },
    "id": "zMeBtQFnk8LH",
    "outputId": "6f0223d2-75bb-4b0b-b708-133c7e16cd08"
   },
   "outputs": [
    {
     "data": {
      "text/plain": [
       "4068"
      ]
     },
     "execution_count": 10,
     "metadata": {},
     "output_type": "execute_result"
    }
   ],
   "source": [
    "#將目標的單一分類提出來看是否為4093(品牌)\n",
    "brand_class={}\n",
    "for x in brand_data['brand']:\n",
    "  if x not in brand_class:\n",
    "    brand_class.update({x:0})\n",
    "  else:\n",
    "    brand_class[x]+=1\n",
    "len(brand_class)"
   ]
  },
  {
   "cell_type": "code",
   "execution_count": 75,
   "metadata": {},
   "outputs": [],
   "source": [
    "#計算品牌數量\n",
    "brand_times=set(brand_data['brand'])\n",
    "brand_dict={}\n",
    "for x in brand_times:\n",
    "    brand_dict.update({x:0})\n",
    "\n",
    "for x in brand_data['brand']:\n",
    "    brand_dict[x]+=1\n",
    "brand_count=pd.DataFrame.from_dict(brand_dict, orient='index')\n",
    "brand_count.to_excel('品牌計算.xlsx')"
   ]
  },
  {
   "cell_type": "code",
   "execution_count": 78,
   "metadata": {
    "colab": {
     "base_uri": "https://localhost:8080/"
    },
    "id": "V8gDu6nq-g5e",
    "outputId": "1e9729d9-49fc-4fef-c980-a977f6fad81f"
   },
   "outputs": [
    {
     "name": "stderr",
     "output_type": "stream",
     "text": [
      "C:\\Users\\kiwii\\AppData\\Local\\Temp/ipykernel_2068/3694018191.py:5: SettingWithCopyWarning: \n",
      "A value is trying to be set on a copy of a slice from a DataFrame\n",
      "\n",
      "See the caveats in the documentation: https://pandas.pydata.org/pandas-docs/stable/user_guide/indexing.html#returning-a-view-versus-a-copy\n",
      "  brand_data['brand_eng'][x]=re.sub('[\\u4e00-\\u9fa5]','',brand_data['brand'][x])\n",
      "C:\\Users\\kiwii\\anaconda3\\lib\\site-packages\\pandas\\core\\indexing.py:1732: SettingWithCopyWarning: \n",
      "A value is trying to be set on a copy of a slice from a DataFrame\n",
      "\n",
      "See the caveats in the documentation: https://pandas.pydata.org/pandas-docs/stable/user_guide/indexing.html#returning-a-view-versus-a-copy\n",
      "  self._setitem_single_block(indexer, value, name)\n",
      "C:\\Users\\kiwii\\AppData\\Local\\Temp/ipykernel_2068/3694018191.py:7: SettingWithCopyWarning: \n",
      "A value is trying to be set on a copy of a slice from a DataFrame\n",
      "\n",
      "See the caveats in the documentation: https://pandas.pydata.org/pandas-docs/stable/user_guide/indexing.html#returning-a-view-versus-a-copy\n",
      "  brand_data['brand_zh'][x]=re.sub(r'[^\\u4e00-\\u9fa5]','',brand_data['brand'][x])\n"
     ]
    }
   ],
   "source": [
    "#將品牌英文與中文分開\n",
    "brand_data[\"brand_eng\"]=0\n",
    "brand_data[\"brand_zh\"]=0\n",
    "for x in range(len(brand_data)):\n",
    "  brand_data['brand_eng'][x]=re.sub('[\\u4e00-\\u9fa5]','',brand_data['brand'][x])\n",
    "  #brand_data['brand_zh'][x]=re.sub('[a-zA-Z]','',brand_data['brand'][x])\n",
    "  brand_data['brand_zh'][x]=re.sub(r'[^\\u4e00-\\u9fa5]','',brand_data['brand'][x])"
   ]
  },
  {
   "cell_type": "code",
   "execution_count": 79,
   "metadata": {
    "id": "gs8tUZ1jCr9N"
   },
   "outputs": [],
   "source": [
    "#處理標點符號\n",
    "punctuation_string = string.punctuation\n",
    "for x in range(len(brand_data)):\n",
    "    for i in punctuation_string:\n",
    "        brand_data['brand_zh'][x]=brand_data['brand_zh'][x].replace(i,'')"
   ]
  },
  {
   "cell_type": "code",
   "execution_count": 80,
   "metadata": {
    "colab": {
     "base_uri": "https://localhost:8080/",
     "height": 423
    },
    "id": "8NYoN2Xp65To",
    "outputId": "fa4768ae-cfaa-4443-8215-1fc4fb32d413"
   },
   "outputs": [
    {
     "data": {
      "text/html": [
       "<div>\n",
       "<style scoped>\n",
       "    .dataframe tbody tr th:only-of-type {\n",
       "        vertical-align: middle;\n",
       "    }\n",
       "\n",
       "    .dataframe tbody tr th {\n",
       "        vertical-align: top;\n",
       "    }\n",
       "\n",
       "    .dataframe thead th {\n",
       "        text-align: right;\n",
       "    }\n",
       "</style>\n",
       "<table border=\"1\" class=\"dataframe\">\n",
       "  <thead>\n",
       "    <tr style=\"text-align: right;\">\n",
       "      <th></th>\n",
       "      <th>name</th>\n",
       "      <th>brand</th>\n",
       "      <th>brand_eng</th>\n",
       "      <th>brand_zh</th>\n",
       "    </tr>\n",
       "  </thead>\n",
       "  <tbody>\n",
       "    <tr>\n",
       "      <th>0</th>\n",
       "      <td>元山熱水瓶YS-540AP</td>\n",
       "      <td>元山</td>\n",
       "      <td></td>\n",
       "      <td>元山</td>\n",
       "    </tr>\n",
       "    <tr>\n",
       "      <th>1</th>\n",
       "      <td>356612@姍拉娜治痘洗面乳150G</td>\n",
       "      <td>姍拉娜</td>\n",
       "      <td></td>\n",
       "      <td>姍拉娜</td>\n",
       "    </tr>\n",
       "    <tr>\n",
       "      <th>2</th>\n",
       "      <td>台鹽海洋鹼性離子水 600ML</td>\n",
       "      <td>台鹽</td>\n",
       "      <td></td>\n",
       "      <td>台鹽</td>\n",
       "    </tr>\n",
       "    <tr>\n",
       "      <th>3</th>\n",
       "      <td>妮傲絲翠果酸深層保養乳液</td>\n",
       "      <td>NEO-TEC妮傲絲翠</td>\n",
       "      <td>neo-tec</td>\n",
       "      <td>妮傲絲翠</td>\n",
       "    </tr>\n",
       "    <tr>\n",
       "      <th>4</th>\n",
       "      <td>舒潔棉柔舒適迪士尼抽取式衛生紙 100抽16入</td>\n",
       "      <td>舒潔</td>\n",
       "      <td></td>\n",
       "      <td>舒潔</td>\n",
       "    </tr>\n",
       "    <tr>\n",
       "      <th>...</th>\n",
       "      <td>...</td>\n",
       "      <td>...</td>\n",
       "      <td>...</td>\n",
       "      <td>...</td>\n",
       "    </tr>\n",
       "    <tr>\n",
       "      <th>70041</th>\n",
       "      <td>惠而浦16公斤瓦斯型滾筒蒸氣(可堆疊)乾衣機8TWGD6622HW</td>\n",
       "      <td>惠而浦 Whirlpool</td>\n",
       "      <td>whirlpool</td>\n",
       "      <td>惠而浦</td>\n",
       "    </tr>\n",
       "    <tr>\n",
       "      <th>70042</th>\n",
       "      <td>康乃馨成人紙尿褲L</td>\n",
       "      <td>康乃馨</td>\n",
       "      <td></td>\n",
       "      <td>康乃馨</td>\n",
       "    </tr>\n",
       "    <tr>\n",
       "      <th>70043</th>\n",
       "      <td>日本芮芙茹零矽靈洗髮露460ml頭皮保養</td>\n",
       "      <td>芮芙茹 Reveur</td>\n",
       "      <td>reveur</td>\n",
       "      <td>芮芙茹</td>\n",
       "    </tr>\n",
       "    <tr>\n",
       "      <th>70044</th>\n",
       "      <td>Crest長效鎖白牙膏-輕柔鑽白99g</td>\n",
       "      <td>crest</td>\n",
       "      <td>crest</td>\n",
       "      <td></td>\n",
       "    </tr>\n",
       "    <tr>\n",
       "      <th>70045</th>\n",
       "      <td>714171@雀巢咖啡三合一義式拿鐵16G*</td>\n",
       "      <td>雀巢</td>\n",
       "      <td></td>\n",
       "      <td>雀巢</td>\n",
       "    </tr>\n",
       "  </tbody>\n",
       "</table>\n",
       "<p>70046 rows × 4 columns</p>\n",
       "</div>"
      ],
      "text/plain": [
       "                                    name          brand   brand_eng brand_zh\n",
       "0                          元山熱水瓶YS-540AP             元山                   元山\n",
       "1                    356612@姍拉娜治痘洗面乳150G            姍拉娜                  姍拉娜\n",
       "2                        台鹽海洋鹼性離子水 600ML             台鹽                   台鹽\n",
       "3                           妮傲絲翠果酸深層保養乳液    NEO-TEC妮傲絲翠     neo-tec     妮傲絲翠\n",
       "4                舒潔棉柔舒適迪士尼抽取式衛生紙 100抽16入             舒潔                   舒潔\n",
       "...                                  ...            ...         ...      ...\n",
       "70041  惠而浦16公斤瓦斯型滾筒蒸氣(可堆疊)乾衣機8TWGD6622HW  惠而浦 Whirlpool   whirlpool      惠而浦\n",
       "70042                          康乃馨成人紙尿褲L            康乃馨                  康乃馨\n",
       "70043               日本芮芙茹零矽靈洗髮露460ml頭皮保養     芮芙茹 Reveur      reveur      芮芙茹\n",
       "70044                Crest長效鎖白牙膏-輕柔鑽白99g          crest       crest         \n",
       "70045             714171@雀巢咖啡三合一義式拿鐵16G*             雀巢                   雀巢\n",
       "\n",
       "[70046 rows x 4 columns]"
      ]
     },
     "execution_count": 80,
     "metadata": {},
     "output_type": "execute_result"
    }
   ],
   "source": [
    "#處理重音符號、轉小寫\n",
    "try:\n",
    "    import unidecode\n",
    "except:\n",
    "    !pip install Unidecode\n",
    "for i in range(len(brand_data)):\n",
    "    try:\n",
    "        brand_data[\"brand_eng\"][i] = unidecode.unidecode(brand_data[\"brand_eng\"][i])\n",
    "    except:\n",
    "        pass\n",
    "brand_data[\"brand_eng\"] =  brand_data[\"brand_eng\"].str.lower()\n",
    "#brand_data[\"name\"] =  brand_data[\"name\"].str.lower()\n",
    "#brand_data"
   ]
  },
  {
   "cell_type": "code",
   "execution_count": 82,
   "metadata": {},
   "outputs": [
    {
     "name": "stdout",
     "output_type": "stream",
     "text": [
      "0.61\n"
     ]
    }
   ],
   "source": [
    "#品牌名稱有在品名裡面的佔多少\n",
    "brand_in_name=0\n",
    "for x in range(len(brand_data)):\n",
    "    eng=brand_data['brand_eng'].iloc[x]\n",
    "    zh=brand_data['brand_zh'].iloc[x]\n",
    "    if str(eng) != \"\" and str(zh) != \"\":\n",
    "        if str(eng) in str(brand_data['name'].iloc[x]) or str(zh) in str(brand_data['name'].iloc[x]):\n",
    "            brand_in_name+=1\n",
    "    elif str(eng) != \"\" and str(zh) == \"\":\n",
    "        if str(eng) in str(brand_data['name'].iloc[x]):\n",
    "            brand_in_name+=1\n",
    "    elif str(eng) == \"\" and str(zh) != \"\":\n",
    "        if str(zh) in str(brand_data['name'].iloc[x]):\n",
    "            brand_in_name+=1\n",
    "print(round(brand_in_name/len(brand_data),2))"
   ]
  },
  {
   "cell_type": "code",
   "execution_count": 16,
   "metadata": {
    "colab": {
     "base_uri": "https://localhost:8080/"
    },
    "id": "JOJEr9ZlU1rZ",
    "outputId": "c41af085-98aa-4d4a-af21-d06a96f7662c"
   },
   "outputs": [
    {
     "name": "stdout",
     "output_type": "stream",
     "text": [
      "411 +-0 正負零\n",
      "4805 +-0 正負零\n",
      "14999 +-0 正負零\n",
      "23973 +-0 正負零\n",
      "36904 +-0 正負零\n",
      "39312 +-0 正負零\n",
      "44530 +-0 正負零\n",
      "49023 +-0 正負零\n",
      "63526 +-0 正負零\n",
      "69250 +-0 正負零\n"
     ]
    }
   ],
   "source": [
    "#建立品牌字典\n",
    "brand_dict={}\n",
    "for x in range(len(brand_data)):\n",
    "    brand_eng=brand_data['brand_eng'][x]\n",
    "    brand_zh=brand_data['brand_zh'][x]\n",
    "    try:\n",
    "        if brand_eng != \"\" and brand_eng != \" \":\n",
    "            if len(brand_eng)>3:\n",
    "                mask1=brand_data['brand_eng'].str.contains(\"^\"+brand_eng)\n",
    "                temp_eng=set(brand_data[mask1]['brand'])\n",
    "                brand_dict.update({brand_eng:temp_eng})\n",
    "            elif len(brand_eng)<=3:\n",
    "                mask1=brand_data['brand_eng'].str.contains(\"^\"+brand_eng+'$')\n",
    "                temp_eng=set(brand_data[mask1]['brand'])\n",
    "                brand_dict.update({brand_eng:temp_eng})\n",
    "    except:\n",
    "        print(x,brand_eng,brand_zh)\n",
    "    try:  \n",
    "        if brand_zh != \"\" and brand_zh != \" \":\n",
    "            if len(brand_zh)>2:\n",
    "                mask2=brand_data['brand_zh'].str.contains(brand_zh)\n",
    "                temp_zh=set(brand_data[mask2]['brand'])\n",
    "                brand_dict.update({brand_zh:temp_zh})\n",
    "            elif len(brand_zh)<=2:\n",
    "                mask2=brand_data['brand_zh'].str.contains(\"^\"+brand_zh+'$')\n",
    "                temp_zh=set(brand_data[mask2]['brand'])\n",
    "                brand_dict.update({brand_zh:temp_zh})\n",
    "    except:\n",
    "        print(x,brand_eng,brand_zh)\n",
    "\n",
    "clean_b=pd.DataFrame(columns=[\"品牌\",\"組合\"])\n",
    "clean_b[\"品牌\"]=brand_dict.keys()\n",
    "clean_b[\"組合\"]=brand_dict.values()\n",
    "clean_b.to_excel(\"品牌資料組合.xlsx\")"
   ]
  },
  {
   "cell_type": "code",
   "execution_count": 22,
   "metadata": {},
   "outputs": [],
   "source": [
    "#比對整理\n",
    "clean_brand_dict={}\n",
    "zhPattern = re.compile(u'[\\u4e00-\\u9fa5]+')\n",
    "for x1 in brand_dict.keys():\n",
    "    temp={}\n",
    "    for x2 in brand_dict.keys():\n",
    "        if x1!=x2 and brand_dict[x1] & brand_dict[x2] !=set():\n",
    "                temp.update({x1:brand_dict[x1]})\n",
    "                temp.update({x2:brand_dict[x2]})\n",
    "                \n",
    "    if temp =={}:\n",
    "        clean_brand_dict.update({x1:brand_dict[x1]})\n",
    "    else:\n",
    "        temp_value=set()\n",
    "        zh_key=0\n",
    "        eng_key=0\n",
    "        for x3 in temp.keys():\n",
    "            temp_value=temp_value.union(temp[x3])\n",
    "            match = zhPattern.search(x3)\n",
    "            if match:\n",
    "                zh_key=x3.strip()\n",
    "            else:\n",
    "                eng_key=x3.strip()\n",
    "        if eng_key !=0 and zh_key!=0:\n",
    "            clean_brand_dict.update({zh_key+\" \"+eng_key:temp_value})\n",
    "        elif eng_key !=0 and zh_key==0:\n",
    "            clean_brand_dict.update({eng_key:temp_value})\n",
    "        else:\n",
    "            clean_brand_dict.update({zh_key:temp_value})"
   ]
  },
  {
   "cell_type": "code",
   "execution_count": 23,
   "metadata": {},
   "outputs": [],
   "source": [
    "clean_b=pd.DataFrame(columns=[\"品牌\",\"組合\"])\n",
    "clean_b[\"品牌\"]=clean_brand_dict.keys()\n",
    "clean_b[\"組合\"]=clean_brand_dict.values()\n",
    "clean_b.to_excel(\"品牌資料組合_clean.xlsx\")"
   ]
  },
  {
   "cell_type": "code",
   "execution_count": 54,
   "metadata": {},
   "outputs": [
    {
     "name": "stdout",
     "output_type": "stream",
     "text": [
      "{'ENCHANTEUR 艾詩'}\n"
     ]
    },
    {
     "data": {
      "text/html": [
       "<div>\n",
       "<style scoped>\n",
       "    .dataframe tbody tr th:only-of-type {\n",
       "        vertical-align: middle;\n",
       "    }\n",
       "\n",
       "    .dataframe tbody tr th {\n",
       "        vertical-align: top;\n",
       "    }\n",
       "\n",
       "    .dataframe thead th {\n",
       "        text-align: right;\n",
       "    }\n",
       "</style>\n",
       "<table border=\"1\" class=\"dataframe\">\n",
       "  <thead>\n",
       "    <tr style=\"text-align: right;\">\n",
       "      <th></th>\n",
       "      <th>name</th>\n",
       "      <th>brand</th>\n",
       "      <th>brand_eng</th>\n",
       "      <th>brand_zh</th>\n",
       "    </tr>\n",
       "  </thead>\n",
       "  <tbody>\n",
       "    <tr>\n",
       "      <th>65515</th>\n",
       "      <td>【ASTALIFT 艾詩緹】深護防曬隔離乳30g+美白化妝水130ml(一袋女王推薦 亮白阻黑霜)</td>\n",
       "      <td>ENCHANTEUR 艾詩</td>\n",
       "      <td>enchanteur</td>\n",
       "      <td>艾詩</td>\n",
       "    </tr>\n",
       "  </tbody>\n",
       "</table>\n",
       "</div>"
      ],
      "text/plain": [
       "                                                    name          brand  \\\n",
       "65515  【ASTALIFT 艾詩緹】深護防曬隔離乳30g+美白化妝水130ml(一袋女王推薦 亮白阻黑霜)  ENCHANTEUR 艾詩   \n",
       "\n",
       "         brand_eng brand_zh  \n",
       "65515  enchanteur        艾詩  "
      ]
     },
     "execution_count": 54,
     "metadata": {},
     "output_type": "execute_result"
    }
   ],
   "source": [
    "mask_eng=brand_data['brand_eng'].str.contains(\"enchanteur\")\n",
    "print(set(brand_data[mask_eng]['brand']))\n",
    "brand_data[mask_eng]"
   ]
  },
  {
   "cell_type": "code",
   "execution_count": 73,
   "metadata": {},
   "outputs": [
    {
     "name": "stdout",
     "output_type": "stream",
     "text": [
      "{'聖萊西 Seeds'}\n"
     ]
    },
    {
     "data": {
      "text/html": [
       "<div>\n",
       "<style scoped>\n",
       "    .dataframe tbody tr th:only-of-type {\n",
       "        vertical-align: middle;\n",
       "    }\n",
       "\n",
       "    .dataframe tbody tr th {\n",
       "        vertical-align: top;\n",
       "    }\n",
       "\n",
       "    .dataframe thead th {\n",
       "        text-align: right;\n",
       "    }\n",
       "</style>\n",
       "<table border=\"1\" class=\"dataframe\">\n",
       "  <thead>\n",
       "    <tr style=\"text-align: right;\">\n",
       "      <th></th>\n",
       "      <th>name</th>\n",
       "      <th>brand</th>\n",
       "      <th>brand_eng</th>\n",
       "      <th>brand_zh</th>\n",
       "    </tr>\n",
       "  </thead>\n",
       "  <tbody>\n",
       "    <tr>\n",
       "      <th>375</th>\n",
       "      <td>~Petroyal~惜時 大MAMAMIA 機能愛貓雞湯餐罐170g~六種口味可選~單罐 軟...</td>\n",
       "      <td>聖萊西 Seeds</td>\n",
       "      <td>seeds</td>\n",
       "      <td>聖萊西</td>\n",
       "    </tr>\n",
       "    <tr>\n",
       "      <th>707</th>\n",
       "      <td>特級銀貓餐(鮪魚+吻仔魚)80g-罐(24/箱)</td>\n",
       "      <td>聖萊西 Seeds</td>\n",
       "      <td>seeds</td>\n",
       "      <td>聖萊西</td>\n",
       "    </tr>\n",
       "    <tr>\n",
       "      <th>708</th>\n",
       "      <td>咪亞機能貓罐鮪+小</td>\n",
       "      <td>聖萊西 Seeds</td>\n",
       "      <td>seeds</td>\n",
       "      <td>聖萊西</td>\n",
       "    </tr>\n",
       "    <tr>\n",
       "      <th>1450</th>\n",
       "      <td>SEEDS惜時 MAMAMIA 貓餐罐 85g 蝦皮24h 現貨</td>\n",
       "      <td>聖萊西 Seeds</td>\n",
       "      <td>seeds</td>\n",
       "      <td>聖萊西</td>\n",
       "    </tr>\n",
       "    <tr>\n",
       "      <th>1741</th>\n",
       "      <td>Seeds 惜時My Cat我的貓 六種口味 貓罐頭 170g/罐 蝦皮24h 現貨</td>\n",
       "      <td>聖萊西 Seeds</td>\n",
       "      <td>seeds</td>\n",
       "      <td>聖萊西</td>\n",
       "    </tr>\n",
       "    <tr>\n",
       "      <th>...</th>\n",
       "      <td>...</td>\n",
       "      <td>...</td>\n",
       "      <td>...</td>\n",
       "      <td>...</td>\n",
       "    </tr>\n",
       "    <tr>\n",
       "      <th>68602</th>\n",
       "      <td>Dr.Wish貓罐-雞+鮪+牛磺酸(黃)85g-24罐/箱</td>\n",
       "      <td>聖萊西 Seeds</td>\n",
       "      <td>seeds</td>\n",
       "      <td>聖萊西</td>\n",
       "    </tr>\n",
       "    <tr>\n",
       "      <th>68631</th>\n",
       "      <td>咪亞機能貓罐鮪+吻</td>\n",
       "      <td>聖萊西 Seeds</td>\n",
       "      <td>seeds</td>\n",
       "      <td>聖萊西</td>\n",
       "    </tr>\n",
       "    <tr>\n",
       "      <th>68738</th>\n",
       "      <td>[惜時 SEEDS] MyCat 我的貓 85克【雞肉+白身鮪魚】(1入) (貓副食罐頭)</td>\n",
       "      <td>聖萊西 Seeds</td>\n",
       "      <td>seeds</td>\n",
       "      <td>聖萊西</td>\n",
       "    </tr>\n",
       "    <tr>\n",
       "      <th>68870</th>\n",
       "      <td>【Seeds 聖萊西】兩箱特惠-Hello Fresh好鮮原汁湯罐50G-24罐x2箱(惜時貓罐)</td>\n",
       "      <td>聖萊西 Seeds</td>\n",
       "      <td>seeds</td>\n",
       "      <td>聖萊西</td>\n",
       "    </tr>\n",
       "    <tr>\n",
       "      <th>69044</th>\n",
       "      <td>~Petroyal~ seeds 惜時 Mia機能貓餐罐160g 紅肉+白肉罐頭 貓罐頭 聖...</td>\n",
       "      <td>聖萊西 Seeds</td>\n",
       "      <td>seeds</td>\n",
       "      <td>聖萊西</td>\n",
       "    </tr>\n",
       "  </tbody>\n",
       "</table>\n",
       "<p>195 rows × 4 columns</p>\n",
       "</div>"
      ],
      "text/plain": [
       "                                                    name      brand brand_eng  \\\n",
       "375    ~Petroyal~惜時 大MAMAMIA 機能愛貓雞湯餐罐170g~六種口味可選~單罐 軟...  聖萊西 Seeds     seeds   \n",
       "707                             特級銀貓餐(鮪魚+吻仔魚)80g-罐(24/箱)  聖萊西 Seeds     seeds   \n",
       "708                                            咪亞機能貓罐鮪+小  聖萊西 Seeds     seeds   \n",
       "1450                    SEEDS惜時 MAMAMIA 貓餐罐 85g 蝦皮24h 現貨  聖萊西 Seeds     seeds   \n",
       "1741          Seeds 惜時My Cat我的貓 六種口味 貓罐頭 170g/罐 蝦皮24h 現貨  聖萊西 Seeds     seeds   \n",
       "...                                                  ...        ...       ...   \n",
       "68602                      Dr.Wish貓罐-雞+鮪+牛磺酸(黃)85g-24罐/箱  聖萊西 Seeds     seeds   \n",
       "68631                                          咪亞機能貓罐鮪+吻  聖萊西 Seeds     seeds   \n",
       "68738      [惜時 SEEDS] MyCat 我的貓 85克【雞肉+白身鮪魚】(1入) (貓副食罐頭)  聖萊西 Seeds     seeds   \n",
       "68870  【Seeds 聖萊西】兩箱特惠-Hello Fresh好鮮原汁湯罐50G-24罐x2箱(惜時貓罐)  聖萊西 Seeds     seeds   \n",
       "69044  ~Petroyal~ seeds 惜時 Mia機能貓餐罐160g 紅肉+白肉罐頭 貓罐頭 聖...  聖萊西 Seeds     seeds   \n",
       "\n",
       "      brand_zh  \n",
       "375        聖萊西  \n",
       "707        聖萊西  \n",
       "708        聖萊西  \n",
       "1450       聖萊西  \n",
       "1741       聖萊西  \n",
       "...        ...  \n",
       "68602      聖萊西  \n",
       "68631      聖萊西  \n",
       "68738      聖萊西  \n",
       "68870      聖萊西  \n",
       "69044      聖萊西  \n",
       "\n",
       "[195 rows x 4 columns]"
      ]
     },
     "execution_count": 73,
     "metadata": {},
     "output_type": "execute_result"
    }
   ],
   "source": [
    "mask_zh=brand_data['brand_zh'].str.contains(\"聖萊西\")\n",
    "print(set(brand_data[mask_zh]['brand']))\n",
    "temp=brand_data[mask_zh]\n",
    "temp"
   ]
  }
 ],
 "metadata": {
  "colab": {
   "collapsed_sections": [],
   "name": "麻布數據-清理資料.ipynb",
   "provenance": []
  },
  "kernelspec": {
   "display_name": "Python 3 (ipykernel)",
   "language": "python",
   "name": "python3"
  },
  "language_info": {
   "codemirror_mode": {
    "name": "ipython",
    "version": 3
   },
   "file_extension": ".py",
   "mimetype": "text/x-python",
   "name": "python",
   "nbconvert_exporter": "python",
   "pygments_lexer": "ipython3",
   "version": "3.9.7"
  }
 },
 "nbformat": 4,
 "nbformat_minor": 1
}
