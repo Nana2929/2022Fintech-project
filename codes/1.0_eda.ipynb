{
  "nbformat": 4,
  "nbformat_minor": 0,
  "metadata": {
    "colab": {
      "name": "1.0-eda.ipynb",
      "provenance": [],
      "collapsed_sections": []
    },
    "kernelspec": {
      "name": "python3",
      "display_name": "Python 3"
    },
    "language_info": {
      "name": "python"
    },
    "widgets": {
      "application/vnd.jupyter.widget-state+json": {
        "ce76bf370af54a6f862e1f67f5f5274d": {
          "model_module": "@jupyter-widgets/controls",
          "model_name": "HBoxModel",
          "model_module_version": "1.5.0",
          "state": {
            "_dom_classes": [],
            "_model_module": "@jupyter-widgets/controls",
            "_model_module_version": "1.5.0",
            "_model_name": "HBoxModel",
            "_view_count": null,
            "_view_module": "@jupyter-widgets/controls",
            "_view_module_version": "1.5.0",
            "_view_name": "HBoxView",
            "box_style": "",
            "children": [
              "IPY_MODEL_a497a0fefb044e499c636780a3442972",
              "IPY_MODEL_89c35ce124594d6e8c67e023944c0fc9",
              "IPY_MODEL_f8c26a5f9c8c4e3c81af3471b93439e7"
            ],
            "layout": "IPY_MODEL_b2c92df0332a4020904ace5920e1f05c"
          }
        },
        "a497a0fefb044e499c636780a3442972": {
          "model_module": "@jupyter-widgets/controls",
          "model_name": "HTMLModel",
          "model_module_version": "1.5.0",
          "state": {
            "_dom_classes": [],
            "_model_module": "@jupyter-widgets/controls",
            "_model_module_version": "1.5.0",
            "_model_name": "HTMLModel",
            "_view_count": null,
            "_view_module": "@jupyter-widgets/controls",
            "_view_module_version": "1.5.0",
            "_view_name": "HTMLView",
            "description": "",
            "description_tooltip": null,
            "layout": "IPY_MODEL_a1bd042edc9d45fcbaccbe761fee6ba7",
            "placeholder": "​",
            "style": "IPY_MODEL_b2aa9a336271456eae9dba5a08b61b38",
            "value": "Summarize dataset: 100%"
          }
        },
        "89c35ce124594d6e8c67e023944c0fc9": {
          "model_module": "@jupyter-widgets/controls",
          "model_name": "FloatProgressModel",
          "model_module_version": "1.5.0",
          "state": {
            "_dom_classes": [],
            "_model_module": "@jupyter-widgets/controls",
            "_model_module_version": "1.5.0",
            "_model_name": "FloatProgressModel",
            "_view_count": null,
            "_view_module": "@jupyter-widgets/controls",
            "_view_module_version": "1.5.0",
            "_view_name": "ProgressView",
            "bar_style": "success",
            "description": "",
            "description_tooltip": null,
            "layout": "IPY_MODEL_53648ae120fc4c08946418c423646a36",
            "max": 22,
            "min": 0,
            "orientation": "horizontal",
            "style": "IPY_MODEL_d442e79d6e814656b88834476fe1fadb",
            "value": 22
          }
        },
        "f8c26a5f9c8c4e3c81af3471b93439e7": {
          "model_module": "@jupyter-widgets/controls",
          "model_name": "HTMLModel",
          "model_module_version": "1.5.0",
          "state": {
            "_dom_classes": [],
            "_model_module": "@jupyter-widgets/controls",
            "_model_module_version": "1.5.0",
            "_model_name": "HTMLModel",
            "_view_count": null,
            "_view_module": "@jupyter-widgets/controls",
            "_view_module_version": "1.5.0",
            "_view_name": "HTMLView",
            "description": "",
            "description_tooltip": null,
            "layout": "IPY_MODEL_b99e2d35092a449885545998e0e77769",
            "placeholder": "​",
            "style": "IPY_MODEL_6c0de72737fe40bd9908d6810a8fcfcc",
            "value": " 22/22 [00:13&lt;00:00,  3.10it/s, Completed]"
          }
        },
        "b2c92df0332a4020904ace5920e1f05c": {
          "model_module": "@jupyter-widgets/base",
          "model_name": "LayoutModel",
          "model_module_version": "1.2.0",
          "state": {
            "_model_module": "@jupyter-widgets/base",
            "_model_module_version": "1.2.0",
            "_model_name": "LayoutModel",
            "_view_count": null,
            "_view_module": "@jupyter-widgets/base",
            "_view_module_version": "1.2.0",
            "_view_name": "LayoutView",
            "align_content": null,
            "align_items": null,
            "align_self": null,
            "border": null,
            "bottom": null,
            "display": null,
            "flex": null,
            "flex_flow": null,
            "grid_area": null,
            "grid_auto_columns": null,
            "grid_auto_flow": null,
            "grid_auto_rows": null,
            "grid_column": null,
            "grid_gap": null,
            "grid_row": null,
            "grid_template_areas": null,
            "grid_template_columns": null,
            "grid_template_rows": null,
            "height": null,
            "justify_content": null,
            "justify_items": null,
            "left": null,
            "margin": null,
            "max_height": null,
            "max_width": null,
            "min_height": null,
            "min_width": null,
            "object_fit": null,
            "object_position": null,
            "order": null,
            "overflow": null,
            "overflow_x": null,
            "overflow_y": null,
            "padding": null,
            "right": null,
            "top": null,
            "visibility": null,
            "width": null
          }
        },
        "a1bd042edc9d45fcbaccbe761fee6ba7": {
          "model_module": "@jupyter-widgets/base",
          "model_name": "LayoutModel",
          "model_module_version": "1.2.0",
          "state": {
            "_model_module": "@jupyter-widgets/base",
            "_model_module_version": "1.2.0",
            "_model_name": "LayoutModel",
            "_view_count": null,
            "_view_module": "@jupyter-widgets/base",
            "_view_module_version": "1.2.0",
            "_view_name": "LayoutView",
            "align_content": null,
            "align_items": null,
            "align_self": null,
            "border": null,
            "bottom": null,
            "display": null,
            "flex": null,
            "flex_flow": null,
            "grid_area": null,
            "grid_auto_columns": null,
            "grid_auto_flow": null,
            "grid_auto_rows": null,
            "grid_column": null,
            "grid_gap": null,
            "grid_row": null,
            "grid_template_areas": null,
            "grid_template_columns": null,
            "grid_template_rows": null,
            "height": null,
            "justify_content": null,
            "justify_items": null,
            "left": null,
            "margin": null,
            "max_height": null,
            "max_width": null,
            "min_height": null,
            "min_width": null,
            "object_fit": null,
            "object_position": null,
            "order": null,
            "overflow": null,
            "overflow_x": null,
            "overflow_y": null,
            "padding": null,
            "right": null,
            "top": null,
            "visibility": null,
            "width": null
          }
        },
        "b2aa9a336271456eae9dba5a08b61b38": {
          "model_module": "@jupyter-widgets/controls",
          "model_name": "DescriptionStyleModel",
          "model_module_version": "1.5.0",
          "state": {
            "_model_module": "@jupyter-widgets/controls",
            "_model_module_version": "1.5.0",
            "_model_name": "DescriptionStyleModel",
            "_view_count": null,
            "_view_module": "@jupyter-widgets/base",
            "_view_module_version": "1.2.0",
            "_view_name": "StyleView",
            "description_width": ""
          }
        },
        "53648ae120fc4c08946418c423646a36": {
          "model_module": "@jupyter-widgets/base",
          "model_name": "LayoutModel",
          "model_module_version": "1.2.0",
          "state": {
            "_model_module": "@jupyter-widgets/base",
            "_model_module_version": "1.2.0",
            "_model_name": "LayoutModel",
            "_view_count": null,
            "_view_module": "@jupyter-widgets/base",
            "_view_module_version": "1.2.0",
            "_view_name": "LayoutView",
            "align_content": null,
            "align_items": null,
            "align_self": null,
            "border": null,
            "bottom": null,
            "display": null,
            "flex": null,
            "flex_flow": null,
            "grid_area": null,
            "grid_auto_columns": null,
            "grid_auto_flow": null,
            "grid_auto_rows": null,
            "grid_column": null,
            "grid_gap": null,
            "grid_row": null,
            "grid_template_areas": null,
            "grid_template_columns": null,
            "grid_template_rows": null,
            "height": null,
            "justify_content": null,
            "justify_items": null,
            "left": null,
            "margin": null,
            "max_height": null,
            "max_width": null,
            "min_height": null,
            "min_width": null,
            "object_fit": null,
            "object_position": null,
            "order": null,
            "overflow": null,
            "overflow_x": null,
            "overflow_y": null,
            "padding": null,
            "right": null,
            "top": null,
            "visibility": null,
            "width": null
          }
        },
        "d442e79d6e814656b88834476fe1fadb": {
          "model_module": "@jupyter-widgets/controls",
          "model_name": "ProgressStyleModel",
          "model_module_version": "1.5.0",
          "state": {
            "_model_module": "@jupyter-widgets/controls",
            "_model_module_version": "1.5.0",
            "_model_name": "ProgressStyleModel",
            "_view_count": null,
            "_view_module": "@jupyter-widgets/base",
            "_view_module_version": "1.2.0",
            "_view_name": "StyleView",
            "bar_color": null,
            "description_width": ""
          }
        },
        "b99e2d35092a449885545998e0e77769": {
          "model_module": "@jupyter-widgets/base",
          "model_name": "LayoutModel",
          "model_module_version": "1.2.0",
          "state": {
            "_model_module": "@jupyter-widgets/base",
            "_model_module_version": "1.2.0",
            "_model_name": "LayoutModel",
            "_view_count": null,
            "_view_module": "@jupyter-widgets/base",
            "_view_module_version": "1.2.0",
            "_view_name": "LayoutView",
            "align_content": null,
            "align_items": null,
            "align_self": null,
            "border": null,
            "bottom": null,
            "display": null,
            "flex": null,
            "flex_flow": null,
            "grid_area": null,
            "grid_auto_columns": null,
            "grid_auto_flow": null,
            "grid_auto_rows": null,
            "grid_column": null,
            "grid_gap": null,
            "grid_row": null,
            "grid_template_areas": null,
            "grid_template_columns": null,
            "grid_template_rows": null,
            "height": null,
            "justify_content": null,
            "justify_items": null,
            "left": null,
            "margin": null,
            "max_height": null,
            "max_width": null,
            "min_height": null,
            "min_width": null,
            "object_fit": null,
            "object_position": null,
            "order": null,
            "overflow": null,
            "overflow_x": null,
            "overflow_y": null,
            "padding": null,
            "right": null,
            "top": null,
            "visibility": null,
            "width": null
          }
        },
        "6c0de72737fe40bd9908d6810a8fcfcc": {
          "model_module": "@jupyter-widgets/controls",
          "model_name": "DescriptionStyleModel",
          "model_module_version": "1.5.0",
          "state": {
            "_model_module": "@jupyter-widgets/controls",
            "_model_module_version": "1.5.0",
            "_model_name": "DescriptionStyleModel",
            "_view_count": null,
            "_view_module": "@jupyter-widgets/base",
            "_view_module_version": "1.2.0",
            "_view_name": "StyleView",
            "description_width": ""
          }
        },
        "e999f630d9b3471d97cf3dbeb3d8c9ac": {
          "model_module": "@jupyter-widgets/controls",
          "model_name": "HBoxModel",
          "model_module_version": "1.5.0",
          "state": {
            "_dom_classes": [],
            "_model_module": "@jupyter-widgets/controls",
            "_model_module_version": "1.5.0",
            "_model_name": "HBoxModel",
            "_view_count": null,
            "_view_module": "@jupyter-widgets/controls",
            "_view_module_version": "1.5.0",
            "_view_name": "HBoxView",
            "box_style": "",
            "children": [
              "IPY_MODEL_b31893a1154f4a8e9ef84272167de5ac",
              "IPY_MODEL_927f4e734a5546b182b56a0527bfa8d2",
              "IPY_MODEL_51f4222300374b058e56b2398d68cf3f"
            ],
            "layout": "IPY_MODEL_1b7035f983954903a4bc5a757eb8ec4c"
          }
        },
        "b31893a1154f4a8e9ef84272167de5ac": {
          "model_module": "@jupyter-widgets/controls",
          "model_name": "HTMLModel",
          "model_module_version": "1.5.0",
          "state": {
            "_dom_classes": [],
            "_model_module": "@jupyter-widgets/controls",
            "_model_module_version": "1.5.0",
            "_model_name": "HTMLModel",
            "_view_count": null,
            "_view_module": "@jupyter-widgets/controls",
            "_view_module_version": "1.5.0",
            "_view_name": "HTMLView",
            "description": "",
            "description_tooltip": null,
            "layout": "IPY_MODEL_fc4ca29d7cd54c6dbf94905335c8d6a8",
            "placeholder": "​",
            "style": "IPY_MODEL_d271ca11d9454d6aae75381408a32ef2",
            "value": "Generate report structure: 100%"
          }
        },
        "927f4e734a5546b182b56a0527bfa8d2": {
          "model_module": "@jupyter-widgets/controls",
          "model_name": "FloatProgressModel",
          "model_module_version": "1.5.0",
          "state": {
            "_dom_classes": [],
            "_model_module": "@jupyter-widgets/controls",
            "_model_module_version": "1.5.0",
            "_model_name": "FloatProgressModel",
            "_view_count": null,
            "_view_module": "@jupyter-widgets/controls",
            "_view_module_version": "1.5.0",
            "_view_name": "ProgressView",
            "bar_style": "success",
            "description": "",
            "description_tooltip": null,
            "layout": "IPY_MODEL_2df2bfd23ad14b7babf515dfe6ef8ac7",
            "max": 1,
            "min": 0,
            "orientation": "horizontal",
            "style": "IPY_MODEL_a894ce41f1a546069337721cda5a9e5c",
            "value": 1
          }
        },
        "51f4222300374b058e56b2398d68cf3f": {
          "model_module": "@jupyter-widgets/controls",
          "model_name": "HTMLModel",
          "model_module_version": "1.5.0",
          "state": {
            "_dom_classes": [],
            "_model_module": "@jupyter-widgets/controls",
            "_model_module_version": "1.5.0",
            "_model_name": "HTMLModel",
            "_view_count": null,
            "_view_module": "@jupyter-widgets/controls",
            "_view_module_version": "1.5.0",
            "_view_name": "HTMLView",
            "description": "",
            "description_tooltip": null,
            "layout": "IPY_MODEL_a2b2a2d47bcf4eada5ec957945c75c8b",
            "placeholder": "​",
            "style": "IPY_MODEL_18bd0417d3fd4a4b90296881c520e946",
            "value": " 1/1 [00:03&lt;00:00,  3.71s/it]"
          }
        },
        "1b7035f983954903a4bc5a757eb8ec4c": {
          "model_module": "@jupyter-widgets/base",
          "model_name": "LayoutModel",
          "model_module_version": "1.2.0",
          "state": {
            "_model_module": "@jupyter-widgets/base",
            "_model_module_version": "1.2.0",
            "_model_name": "LayoutModel",
            "_view_count": null,
            "_view_module": "@jupyter-widgets/base",
            "_view_module_version": "1.2.0",
            "_view_name": "LayoutView",
            "align_content": null,
            "align_items": null,
            "align_self": null,
            "border": null,
            "bottom": null,
            "display": null,
            "flex": null,
            "flex_flow": null,
            "grid_area": null,
            "grid_auto_columns": null,
            "grid_auto_flow": null,
            "grid_auto_rows": null,
            "grid_column": null,
            "grid_gap": null,
            "grid_row": null,
            "grid_template_areas": null,
            "grid_template_columns": null,
            "grid_template_rows": null,
            "height": null,
            "justify_content": null,
            "justify_items": null,
            "left": null,
            "margin": null,
            "max_height": null,
            "max_width": null,
            "min_height": null,
            "min_width": null,
            "object_fit": null,
            "object_position": null,
            "order": null,
            "overflow": null,
            "overflow_x": null,
            "overflow_y": null,
            "padding": null,
            "right": null,
            "top": null,
            "visibility": null,
            "width": null
          }
        },
        "fc4ca29d7cd54c6dbf94905335c8d6a8": {
          "model_module": "@jupyter-widgets/base",
          "model_name": "LayoutModel",
          "model_module_version": "1.2.0",
          "state": {
            "_model_module": "@jupyter-widgets/base",
            "_model_module_version": "1.2.0",
            "_model_name": "LayoutModel",
            "_view_count": null,
            "_view_module": "@jupyter-widgets/base",
            "_view_module_version": "1.2.0",
            "_view_name": "LayoutView",
            "align_content": null,
            "align_items": null,
            "align_self": null,
            "border": null,
            "bottom": null,
            "display": null,
            "flex": null,
            "flex_flow": null,
            "grid_area": null,
            "grid_auto_columns": null,
            "grid_auto_flow": null,
            "grid_auto_rows": null,
            "grid_column": null,
            "grid_gap": null,
            "grid_row": null,
            "grid_template_areas": null,
            "grid_template_columns": null,
            "grid_template_rows": null,
            "height": null,
            "justify_content": null,
            "justify_items": null,
            "left": null,
            "margin": null,
            "max_height": null,
            "max_width": null,
            "min_height": null,
            "min_width": null,
            "object_fit": null,
            "object_position": null,
            "order": null,
            "overflow": null,
            "overflow_x": null,
            "overflow_y": null,
            "padding": null,
            "right": null,
            "top": null,
            "visibility": null,
            "width": null
          }
        },
        "d271ca11d9454d6aae75381408a32ef2": {
          "model_module": "@jupyter-widgets/controls",
          "model_name": "DescriptionStyleModel",
          "model_module_version": "1.5.0",
          "state": {
            "_model_module": "@jupyter-widgets/controls",
            "_model_module_version": "1.5.0",
            "_model_name": "DescriptionStyleModel",
            "_view_count": null,
            "_view_module": "@jupyter-widgets/base",
            "_view_module_version": "1.2.0",
            "_view_name": "StyleView",
            "description_width": ""
          }
        },
        "2df2bfd23ad14b7babf515dfe6ef8ac7": {
          "model_module": "@jupyter-widgets/base",
          "model_name": "LayoutModel",
          "model_module_version": "1.2.0",
          "state": {
            "_model_module": "@jupyter-widgets/base",
            "_model_module_version": "1.2.0",
            "_model_name": "LayoutModel",
            "_view_count": null,
            "_view_module": "@jupyter-widgets/base",
            "_view_module_version": "1.2.0",
            "_view_name": "LayoutView",
            "align_content": null,
            "align_items": null,
            "align_self": null,
            "border": null,
            "bottom": null,
            "display": null,
            "flex": null,
            "flex_flow": null,
            "grid_area": null,
            "grid_auto_columns": null,
            "grid_auto_flow": null,
            "grid_auto_rows": null,
            "grid_column": null,
            "grid_gap": null,
            "grid_row": null,
            "grid_template_areas": null,
            "grid_template_columns": null,
            "grid_template_rows": null,
            "height": null,
            "justify_content": null,
            "justify_items": null,
            "left": null,
            "margin": null,
            "max_height": null,
            "max_width": null,
            "min_height": null,
            "min_width": null,
            "object_fit": null,
            "object_position": null,
            "order": null,
            "overflow": null,
            "overflow_x": null,
            "overflow_y": null,
            "padding": null,
            "right": null,
            "top": null,
            "visibility": null,
            "width": null
          }
        },
        "a894ce41f1a546069337721cda5a9e5c": {
          "model_module": "@jupyter-widgets/controls",
          "model_name": "ProgressStyleModel",
          "model_module_version": "1.5.0",
          "state": {
            "_model_module": "@jupyter-widgets/controls",
            "_model_module_version": "1.5.0",
            "_model_name": "ProgressStyleModel",
            "_view_count": null,
            "_view_module": "@jupyter-widgets/base",
            "_view_module_version": "1.2.0",
            "_view_name": "StyleView",
            "bar_color": null,
            "description_width": ""
          }
        },
        "a2b2a2d47bcf4eada5ec957945c75c8b": {
          "model_module": "@jupyter-widgets/base",
          "model_name": "LayoutModel",
          "model_module_version": "1.2.0",
          "state": {
            "_model_module": "@jupyter-widgets/base",
            "_model_module_version": "1.2.0",
            "_model_name": "LayoutModel",
            "_view_count": null,
            "_view_module": "@jupyter-widgets/base",
            "_view_module_version": "1.2.0",
            "_view_name": "LayoutView",
            "align_content": null,
            "align_items": null,
            "align_self": null,
            "border": null,
            "bottom": null,
            "display": null,
            "flex": null,
            "flex_flow": null,
            "grid_area": null,
            "grid_auto_columns": null,
            "grid_auto_flow": null,
            "grid_auto_rows": null,
            "grid_column": null,
            "grid_gap": null,
            "grid_row": null,
            "grid_template_areas": null,
            "grid_template_columns": null,
            "grid_template_rows": null,
            "height": null,
            "justify_content": null,
            "justify_items": null,
            "left": null,
            "margin": null,
            "max_height": null,
            "max_width": null,
            "min_height": null,
            "min_width": null,
            "object_fit": null,
            "object_position": null,
            "order": null,
            "overflow": null,
            "overflow_x": null,
            "overflow_y": null,
            "padding": null,
            "right": null,
            "top": null,
            "visibility": null,
            "width": null
          }
        },
        "18bd0417d3fd4a4b90296881c520e946": {
          "model_module": "@jupyter-widgets/controls",
          "model_name": "DescriptionStyleModel",
          "model_module_version": "1.5.0",
          "state": {
            "_model_module": "@jupyter-widgets/controls",
            "_model_module_version": "1.5.0",
            "_model_name": "DescriptionStyleModel",
            "_view_count": null,
            "_view_module": "@jupyter-widgets/base",
            "_view_module_version": "1.2.0",
            "_view_name": "StyleView",
            "description_width": ""
          }
        },
        "62af337c2ae04c5e9bcf6d57f0f4d7f7": {
          "model_module": "@jupyter-widgets/controls",
          "model_name": "HBoxModel",
          "model_module_version": "1.5.0",
          "state": {
            "_dom_classes": [],
            "_model_module": "@jupyter-widgets/controls",
            "_model_module_version": "1.5.0",
            "_model_name": "HBoxModel",
            "_view_count": null,
            "_view_module": "@jupyter-widgets/controls",
            "_view_module_version": "1.5.0",
            "_view_name": "HBoxView",
            "box_style": "",
            "children": [
              "IPY_MODEL_a0c94ca248ac47438b91329c56fa9706",
              "IPY_MODEL_dd36af2964e447f7b9ac5fd24bc54ffe",
              "IPY_MODEL_037c5139b0f44cf0ab503cbb17d0881c"
            ],
            "layout": "IPY_MODEL_b80485493058400594e381c621ffec37"
          }
        },
        "a0c94ca248ac47438b91329c56fa9706": {
          "model_module": "@jupyter-widgets/controls",
          "model_name": "HTMLModel",
          "model_module_version": "1.5.0",
          "state": {
            "_dom_classes": [],
            "_model_module": "@jupyter-widgets/controls",
            "_model_module_version": "1.5.0",
            "_model_name": "HTMLModel",
            "_view_count": null,
            "_view_module": "@jupyter-widgets/controls",
            "_view_module_version": "1.5.0",
            "_view_name": "HTMLView",
            "description": "",
            "description_tooltip": null,
            "layout": "IPY_MODEL_a9d9e39064494d09848bc9c6aae5cafc",
            "placeholder": "​",
            "style": "IPY_MODEL_2f72540dfb414a68b698fb0afd7d3412",
            "value": "Render HTML: 100%"
          }
        },
        "dd36af2964e447f7b9ac5fd24bc54ffe": {
          "model_module": "@jupyter-widgets/controls",
          "model_name": "FloatProgressModel",
          "model_module_version": "1.5.0",
          "state": {
            "_dom_classes": [],
            "_model_module": "@jupyter-widgets/controls",
            "_model_module_version": "1.5.0",
            "_model_name": "FloatProgressModel",
            "_view_count": null,
            "_view_module": "@jupyter-widgets/controls",
            "_view_module_version": "1.5.0",
            "_view_name": "ProgressView",
            "bar_style": "success",
            "description": "",
            "description_tooltip": null,
            "layout": "IPY_MODEL_cf7fc9e0ac0c4e1b8089c1c409d6142f",
            "max": 1,
            "min": 0,
            "orientation": "horizontal",
            "style": "IPY_MODEL_92d5b544d2e44bd9983660064db9eb64",
            "value": 1
          }
        },
        "037c5139b0f44cf0ab503cbb17d0881c": {
          "model_module": "@jupyter-widgets/controls",
          "model_name": "HTMLModel",
          "model_module_version": "1.5.0",
          "state": {
            "_dom_classes": [],
            "_model_module": "@jupyter-widgets/controls",
            "_model_module_version": "1.5.0",
            "_model_name": "HTMLModel",
            "_view_count": null,
            "_view_module": "@jupyter-widgets/controls",
            "_view_module_version": "1.5.0",
            "_view_name": "HTMLView",
            "description": "",
            "description_tooltip": null,
            "layout": "IPY_MODEL_51569f8db8ab465fa2a5226b7a2a8072",
            "placeholder": "​",
            "style": "IPY_MODEL_31d79d2112c3481da9ee28f83338c7a3",
            "value": " 1/1 [00:01&lt;00:00,  1.15s/it]"
          }
        },
        "b80485493058400594e381c621ffec37": {
          "model_module": "@jupyter-widgets/base",
          "model_name": "LayoutModel",
          "model_module_version": "1.2.0",
          "state": {
            "_model_module": "@jupyter-widgets/base",
            "_model_module_version": "1.2.0",
            "_model_name": "LayoutModel",
            "_view_count": null,
            "_view_module": "@jupyter-widgets/base",
            "_view_module_version": "1.2.0",
            "_view_name": "LayoutView",
            "align_content": null,
            "align_items": null,
            "align_self": null,
            "border": null,
            "bottom": null,
            "display": null,
            "flex": null,
            "flex_flow": null,
            "grid_area": null,
            "grid_auto_columns": null,
            "grid_auto_flow": null,
            "grid_auto_rows": null,
            "grid_column": null,
            "grid_gap": null,
            "grid_row": null,
            "grid_template_areas": null,
            "grid_template_columns": null,
            "grid_template_rows": null,
            "height": null,
            "justify_content": null,
            "justify_items": null,
            "left": null,
            "margin": null,
            "max_height": null,
            "max_width": null,
            "min_height": null,
            "min_width": null,
            "object_fit": null,
            "object_position": null,
            "order": null,
            "overflow": null,
            "overflow_x": null,
            "overflow_y": null,
            "padding": null,
            "right": null,
            "top": null,
            "visibility": null,
            "width": null
          }
        },
        "a9d9e39064494d09848bc9c6aae5cafc": {
          "model_module": "@jupyter-widgets/base",
          "model_name": "LayoutModel",
          "model_module_version": "1.2.0",
          "state": {
            "_model_module": "@jupyter-widgets/base",
            "_model_module_version": "1.2.0",
            "_model_name": "LayoutModel",
            "_view_count": null,
            "_view_module": "@jupyter-widgets/base",
            "_view_module_version": "1.2.0",
            "_view_name": "LayoutView",
            "align_content": null,
            "align_items": null,
            "align_self": null,
            "border": null,
            "bottom": null,
            "display": null,
            "flex": null,
            "flex_flow": null,
            "grid_area": null,
            "grid_auto_columns": null,
            "grid_auto_flow": null,
            "grid_auto_rows": null,
            "grid_column": null,
            "grid_gap": null,
            "grid_row": null,
            "grid_template_areas": null,
            "grid_template_columns": null,
            "grid_template_rows": null,
            "height": null,
            "justify_content": null,
            "justify_items": null,
            "left": null,
            "margin": null,
            "max_height": null,
            "max_width": null,
            "min_height": null,
            "min_width": null,
            "object_fit": null,
            "object_position": null,
            "order": null,
            "overflow": null,
            "overflow_x": null,
            "overflow_y": null,
            "padding": null,
            "right": null,
            "top": null,
            "visibility": null,
            "width": null
          }
        },
        "2f72540dfb414a68b698fb0afd7d3412": {
          "model_module": "@jupyter-widgets/controls",
          "model_name": "DescriptionStyleModel",
          "model_module_version": "1.5.0",
          "state": {
            "_model_module": "@jupyter-widgets/controls",
            "_model_module_version": "1.5.0",
            "_model_name": "DescriptionStyleModel",
            "_view_count": null,
            "_view_module": "@jupyter-widgets/base",
            "_view_module_version": "1.2.0",
            "_view_name": "StyleView",
            "description_width": ""
          }
        },
        "cf7fc9e0ac0c4e1b8089c1c409d6142f": {
          "model_module": "@jupyter-widgets/base",
          "model_name": "LayoutModel",
          "model_module_version": "1.2.0",
          "state": {
            "_model_module": "@jupyter-widgets/base",
            "_model_module_version": "1.2.0",
            "_model_name": "LayoutModel",
            "_view_count": null,
            "_view_module": "@jupyter-widgets/base",
            "_view_module_version": "1.2.0",
            "_view_name": "LayoutView",
            "align_content": null,
            "align_items": null,
            "align_self": null,
            "border": null,
            "bottom": null,
            "display": null,
            "flex": null,
            "flex_flow": null,
            "grid_area": null,
            "grid_auto_columns": null,
            "grid_auto_flow": null,
            "grid_auto_rows": null,
            "grid_column": null,
            "grid_gap": null,
            "grid_row": null,
            "grid_template_areas": null,
            "grid_template_columns": null,
            "grid_template_rows": null,
            "height": null,
            "justify_content": null,
            "justify_items": null,
            "left": null,
            "margin": null,
            "max_height": null,
            "max_width": null,
            "min_height": null,
            "min_width": null,
            "object_fit": null,
            "object_position": null,
            "order": null,
            "overflow": null,
            "overflow_x": null,
            "overflow_y": null,
            "padding": null,
            "right": null,
            "top": null,
            "visibility": null,
            "width": null
          }
        },
        "92d5b544d2e44bd9983660064db9eb64": {
          "model_module": "@jupyter-widgets/controls",
          "model_name": "ProgressStyleModel",
          "model_module_version": "1.5.0",
          "state": {
            "_model_module": "@jupyter-widgets/controls",
            "_model_module_version": "1.5.0",
            "_model_name": "ProgressStyleModel",
            "_view_count": null,
            "_view_module": "@jupyter-widgets/base",
            "_view_module_version": "1.2.0",
            "_view_name": "StyleView",
            "bar_color": null,
            "description_width": ""
          }
        },
        "51569f8db8ab465fa2a5226b7a2a8072": {
          "model_module": "@jupyter-widgets/base",
          "model_name": "LayoutModel",
          "model_module_version": "1.2.0",
          "state": {
            "_model_module": "@jupyter-widgets/base",
            "_model_module_version": "1.2.0",
            "_model_name": "LayoutModel",
            "_view_count": null,
            "_view_module": "@jupyter-widgets/base",
            "_view_module_version": "1.2.0",
            "_view_name": "LayoutView",
            "align_content": null,
            "align_items": null,
            "align_self": null,
            "border": null,
            "bottom": null,
            "display": null,
            "flex": null,
            "flex_flow": null,
            "grid_area": null,
            "grid_auto_columns": null,
            "grid_auto_flow": null,
            "grid_auto_rows": null,
            "grid_column": null,
            "grid_gap": null,
            "grid_row": null,
            "grid_template_areas": null,
            "grid_template_columns": null,
            "grid_template_rows": null,
            "height": null,
            "justify_content": null,
            "justify_items": null,
            "left": null,
            "margin": null,
            "max_height": null,
            "max_width": null,
            "min_height": null,
            "min_width": null,
            "object_fit": null,
            "object_position": null,
            "order": null,
            "overflow": null,
            "overflow_x": null,
            "overflow_y": null,
            "padding": null,
            "right": null,
            "top": null,
            "visibility": null,
            "width": null
          }
        },
        "31d79d2112c3481da9ee28f83338c7a3": {
          "model_module": "@jupyter-widgets/controls",
          "model_name": "DescriptionStyleModel",
          "model_module_version": "1.5.0",
          "state": {
            "_model_module": "@jupyter-widgets/controls",
            "_model_module_version": "1.5.0",
            "_model_name": "DescriptionStyleModel",
            "_view_count": null,
            "_view_module": "@jupyter-widgets/base",
            "_view_module_version": "1.2.0",
            "_view_name": "StyleView",
            "description_width": ""
          }
        },
        "ca2c07bac4ca4565a39c574e1a2c27ac": {
          "model_module": "@jupyter-widgets/controls",
          "model_name": "HBoxModel",
          "model_module_version": "1.5.0",
          "state": {
            "_dom_classes": [],
            "_model_module": "@jupyter-widgets/controls",
            "_model_module_version": "1.5.0",
            "_model_name": "HBoxModel",
            "_view_count": null,
            "_view_module": "@jupyter-widgets/controls",
            "_view_module_version": "1.5.0",
            "_view_name": "HBoxView",
            "box_style": "",
            "children": [
              "IPY_MODEL_1b72360faf1c423da5c63fd2ca80439c",
              "IPY_MODEL_b1af3e8a3eae43258247df736864ee9d",
              "IPY_MODEL_fff4d946c1c442c7aafdf3ef1f41ab56"
            ],
            "layout": "IPY_MODEL_f080c3480bad4bdca7a2a4d0e3a3f000"
          }
        },
        "1b72360faf1c423da5c63fd2ca80439c": {
          "model_module": "@jupyter-widgets/controls",
          "model_name": "HTMLModel",
          "model_module_version": "1.5.0",
          "state": {
            "_dom_classes": [],
            "_model_module": "@jupyter-widgets/controls",
            "_model_module_version": "1.5.0",
            "_model_name": "HTMLModel",
            "_view_count": null,
            "_view_module": "@jupyter-widgets/controls",
            "_view_module_version": "1.5.0",
            "_view_name": "HTMLView",
            "description": "",
            "description_tooltip": null,
            "layout": "IPY_MODEL_1a76257d0de142d29f0f54680ab9e84a",
            "placeholder": "​",
            "style": "IPY_MODEL_8f7324ba9bd34770815bb14f104986d4",
            "value": "Export report to file: 100%"
          }
        },
        "b1af3e8a3eae43258247df736864ee9d": {
          "model_module": "@jupyter-widgets/controls",
          "model_name": "FloatProgressModel",
          "model_module_version": "1.5.0",
          "state": {
            "_dom_classes": [],
            "_model_module": "@jupyter-widgets/controls",
            "_model_module_version": "1.5.0",
            "_model_name": "FloatProgressModel",
            "_view_count": null,
            "_view_module": "@jupyter-widgets/controls",
            "_view_module_version": "1.5.0",
            "_view_name": "ProgressView",
            "bar_style": "success",
            "description": "",
            "description_tooltip": null,
            "layout": "IPY_MODEL_a9f062a38587489e8f078e265cca5095",
            "max": 1,
            "min": 0,
            "orientation": "horizontal",
            "style": "IPY_MODEL_f3e0a273bbe94d1a96ccba2c109a7c80",
            "value": 1
          }
        },
        "fff4d946c1c442c7aafdf3ef1f41ab56": {
          "model_module": "@jupyter-widgets/controls",
          "model_name": "HTMLModel",
          "model_module_version": "1.5.0",
          "state": {
            "_dom_classes": [],
            "_model_module": "@jupyter-widgets/controls",
            "_model_module_version": "1.5.0",
            "_model_name": "HTMLModel",
            "_view_count": null,
            "_view_module": "@jupyter-widgets/controls",
            "_view_module_version": "1.5.0",
            "_view_name": "HTMLView",
            "description": "",
            "description_tooltip": null,
            "layout": "IPY_MODEL_4c703cc4199a4e68bc6127c7dbaed8e4",
            "placeholder": "​",
            "style": "IPY_MODEL_2bd97dc9494f458b845c632fa8dccdb9",
            "value": " 1/1 [00:00&lt;00:00, 13.08it/s]"
          }
        },
        "f080c3480bad4bdca7a2a4d0e3a3f000": {
          "model_module": "@jupyter-widgets/base",
          "model_name": "LayoutModel",
          "model_module_version": "1.2.0",
          "state": {
            "_model_module": "@jupyter-widgets/base",
            "_model_module_version": "1.2.0",
            "_model_name": "LayoutModel",
            "_view_count": null,
            "_view_module": "@jupyter-widgets/base",
            "_view_module_version": "1.2.0",
            "_view_name": "LayoutView",
            "align_content": null,
            "align_items": null,
            "align_self": null,
            "border": null,
            "bottom": null,
            "display": null,
            "flex": null,
            "flex_flow": null,
            "grid_area": null,
            "grid_auto_columns": null,
            "grid_auto_flow": null,
            "grid_auto_rows": null,
            "grid_column": null,
            "grid_gap": null,
            "grid_row": null,
            "grid_template_areas": null,
            "grid_template_columns": null,
            "grid_template_rows": null,
            "height": null,
            "justify_content": null,
            "justify_items": null,
            "left": null,
            "margin": null,
            "max_height": null,
            "max_width": null,
            "min_height": null,
            "min_width": null,
            "object_fit": null,
            "object_position": null,
            "order": null,
            "overflow": null,
            "overflow_x": null,
            "overflow_y": null,
            "padding": null,
            "right": null,
            "top": null,
            "visibility": null,
            "width": null
          }
        },
        "1a76257d0de142d29f0f54680ab9e84a": {
          "model_module": "@jupyter-widgets/base",
          "model_name": "LayoutModel",
          "model_module_version": "1.2.0",
          "state": {
            "_model_module": "@jupyter-widgets/base",
            "_model_module_version": "1.2.0",
            "_model_name": "LayoutModel",
            "_view_count": null,
            "_view_module": "@jupyter-widgets/base",
            "_view_module_version": "1.2.0",
            "_view_name": "LayoutView",
            "align_content": null,
            "align_items": null,
            "align_self": null,
            "border": null,
            "bottom": null,
            "display": null,
            "flex": null,
            "flex_flow": null,
            "grid_area": null,
            "grid_auto_columns": null,
            "grid_auto_flow": null,
            "grid_auto_rows": null,
            "grid_column": null,
            "grid_gap": null,
            "grid_row": null,
            "grid_template_areas": null,
            "grid_template_columns": null,
            "grid_template_rows": null,
            "height": null,
            "justify_content": null,
            "justify_items": null,
            "left": null,
            "margin": null,
            "max_height": null,
            "max_width": null,
            "min_height": null,
            "min_width": null,
            "object_fit": null,
            "object_position": null,
            "order": null,
            "overflow": null,
            "overflow_x": null,
            "overflow_y": null,
            "padding": null,
            "right": null,
            "top": null,
            "visibility": null,
            "width": null
          }
        },
        "8f7324ba9bd34770815bb14f104986d4": {
          "model_module": "@jupyter-widgets/controls",
          "model_name": "DescriptionStyleModel",
          "model_module_version": "1.5.0",
          "state": {
            "_model_module": "@jupyter-widgets/controls",
            "_model_module_version": "1.5.0",
            "_model_name": "DescriptionStyleModel",
            "_view_count": null,
            "_view_module": "@jupyter-widgets/base",
            "_view_module_version": "1.2.0",
            "_view_name": "StyleView",
            "description_width": ""
          }
        },
        "a9f062a38587489e8f078e265cca5095": {
          "model_module": "@jupyter-widgets/base",
          "model_name": "LayoutModel",
          "model_module_version": "1.2.0",
          "state": {
            "_model_module": "@jupyter-widgets/base",
            "_model_module_version": "1.2.0",
            "_model_name": "LayoutModel",
            "_view_count": null,
            "_view_module": "@jupyter-widgets/base",
            "_view_module_version": "1.2.0",
            "_view_name": "LayoutView",
            "align_content": null,
            "align_items": null,
            "align_self": null,
            "border": null,
            "bottom": null,
            "display": null,
            "flex": null,
            "flex_flow": null,
            "grid_area": null,
            "grid_auto_columns": null,
            "grid_auto_flow": null,
            "grid_auto_rows": null,
            "grid_column": null,
            "grid_gap": null,
            "grid_row": null,
            "grid_template_areas": null,
            "grid_template_columns": null,
            "grid_template_rows": null,
            "height": null,
            "justify_content": null,
            "justify_items": null,
            "left": null,
            "margin": null,
            "max_height": null,
            "max_width": null,
            "min_height": null,
            "min_width": null,
            "object_fit": null,
            "object_position": null,
            "order": null,
            "overflow": null,
            "overflow_x": null,
            "overflow_y": null,
            "padding": null,
            "right": null,
            "top": null,
            "visibility": null,
            "width": null
          }
        },
        "f3e0a273bbe94d1a96ccba2c109a7c80": {
          "model_module": "@jupyter-widgets/controls",
          "model_name": "ProgressStyleModel",
          "model_module_version": "1.5.0",
          "state": {
            "_model_module": "@jupyter-widgets/controls",
            "_model_module_version": "1.5.0",
            "_model_name": "ProgressStyleModel",
            "_view_count": null,
            "_view_module": "@jupyter-widgets/base",
            "_view_module_version": "1.2.0",
            "_view_name": "StyleView",
            "bar_color": null,
            "description_width": ""
          }
        },
        "4c703cc4199a4e68bc6127c7dbaed8e4": {
          "model_module": "@jupyter-widgets/base",
          "model_name": "LayoutModel",
          "model_module_version": "1.2.0",
          "state": {
            "_model_module": "@jupyter-widgets/base",
            "_model_module_version": "1.2.0",
            "_model_name": "LayoutModel",
            "_view_count": null,
            "_view_module": "@jupyter-widgets/base",
            "_view_module_version": "1.2.0",
            "_view_name": "LayoutView",
            "align_content": null,
            "align_items": null,
            "align_self": null,
            "border": null,
            "bottom": null,
            "display": null,
            "flex": null,
            "flex_flow": null,
            "grid_area": null,
            "grid_auto_columns": null,
            "grid_auto_flow": null,
            "grid_auto_rows": null,
            "grid_column": null,
            "grid_gap": null,
            "grid_row": null,
            "grid_template_areas": null,
            "grid_template_columns": null,
            "grid_template_rows": null,
            "height": null,
            "justify_content": null,
            "justify_items": null,
            "left": null,
            "margin": null,
            "max_height": null,
            "max_width": null,
            "min_height": null,
            "min_width": null,
            "object_fit": null,
            "object_position": null,
            "order": null,
            "overflow": null,
            "overflow_x": null,
            "overflow_y": null,
            "padding": null,
            "right": null,
            "top": null,
            "visibility": null,
            "width": null
          }
        },
        "2bd97dc9494f458b845c632fa8dccdb9": {
          "model_module": "@jupyter-widgets/controls",
          "model_name": "DescriptionStyleModel",
          "model_module_version": "1.5.0",
          "state": {
            "_model_module": "@jupyter-widgets/controls",
            "_model_module_version": "1.5.0",
            "_model_name": "DescriptionStyleModel",
            "_view_count": null,
            "_view_module": "@jupyter-widgets/base",
            "_view_module_version": "1.2.0",
            "_view_name": "StyleView",
            "description_width": ""
          }
        }
      }
    }
  },
  "cells": [
    {
      "cell_type": "markdown",
      "source": [
        "## Invoice-Project: brands \n",
        "-EDA -cleaning -heuristic baseline  \n",
        "\n",
        "Date: April 3rd, 2022 \n",
        "\n",
        "Author: Nana "
      ],
      "metadata": {
        "id": "VEC_9wOYSbwR"
      }
    },
    {
      "cell_type": "code",
      "execution_count": 1,
      "metadata": {
        "colab": {
          "base_uri": "https://localhost:8080/"
        },
        "id": "P9fIwvpscwDU",
        "outputId": "cf313e3b-191d-4025-bb94-da044846ed3a"
      },
      "outputs": [
        {
          "output_type": "stream",
          "name": "stdout",
          "text": [
            "Mounted at /content/drive\n"
          ]
        }
      ],
      "source": [
        "from google.colab import drive\n",
        "drive.mount('/content/drive')"
      ]
    },
    {
      "cell_type": "code",
      "source": [
        "maindir = '/content/drive/MyDrive/FinTech-final-project'\n",
        "import pandas as pd\n",
        "filepath = f'{maindir}/東吳課程_發票資料集/品牌資料集/brand_train.csv'\n",
        "branddf = pd.read_csv(filepath)"
      ],
      "metadata": {
        "id": "bZyFr3wgdrLk"
      },
      "execution_count": 2,
      "outputs": []
    },
    {
      "cell_type": "markdown",
      "source": [
        "## Text normalization"
      ],
      "metadata": {
        "id": "mf_mtREa5iOk"
      }
    },
    {
      "cell_type": "code",
      "source": [
        "brand_map = branddf['brand'].value_counts().to_dict()"
      ],
      "metadata": {
        "id": "7s5wM-Y_BPYO"
      },
      "execution_count": 3,
      "outputs": []
    },
    {
      "cell_type": "code",
      "source": [
        "brand_map.items()"
      ],
      "metadata": {
        "colab": {
          "base_uri": "https://localhost:8080/"
        },
        "id": "5bpCU6qMBnfj",
        "outputId": "d5969200-3d9f-49bb-d7aa-3e709b1f4ebf"
      },
      "execution_count": 4,
      "outputs": [
        {
          "output_type": "execute_result",
          "data": {
            "text/plain": [
              "dict_items([('耐吉 NIKE', 770), ('adidas', 724), ('MAYBELLINE 媚比琳', 635), ('羅技 Logitech', 611), ('MENTHOLATUM 曼秀雷敦', 549), ('義美', 536), ('KATE TOKYO 凱婷', 505), ('蘋果 Apple', 489), ('高露潔', 488), ('media 媚點', 482), ('SENKA 專科', 437), ('KIRIN', 433), ('台啤', 397), ('1028', 386), ('國際牌 Panasonic', 385), ('Za', 373), ('NEW BALANCE', 364), ('essence cosmetics 艾森絲', 351), ('黑人牙膏', 328), ('七星', 328), ('澎澎', 313), ('三星 SAMSUNG', 301), ('森田藥粧', 286), ('Cellina 雪芙蘭', 281), ('康乃馨', 274), ('INTEGRATE 櫻特芮', 274), ('NIVEA 妮維雅', 267), ('農心', 265), ('蜜妮Biore', 263), ('M.A.C', 261), ('舒酸定', 260), ('SKECHERS', 255), ('白蘭氏', 251), ('NAILHOLIC', 246), ('Catrice 卡翠絲', 243), ('刷樂', 242), ('Biore 蜜妮', 241), ('熊寶貝', 231), ('獅王', 230), ('舒潔', 230), ('一匙靈', 227), ('寶僑', 225), ('CHANEL 香奈兒', 225), ('黑松 HeySong', 223), ('Bioré', 223), ('可口可樂 Coca Cola', 220), ('桂格 QUAKER', 220), ('LION 獅王', 218), ('KISSME 奇士美', 217), ('Dashing Diva', 214), (\"KIEHL'S 契爾氏\", 213), ('特福 Tefal', 208), ('原萃', 205), ('DR.WU 達爾膚', 204), ('UNDER ARMOUR', 197), ('聖萊西 Seeds', 195), ('Estée Lauder 雅詩蘭黛', 192), ('悅氏', 190), ('KOSE 高絲', 187), ('茶裏王', 180), ('台酒', 180), ('UCC', 177), ('三詩達', 176), ('多芬', 176), ('海尼根', 175), ('福樂', 175), ('Switch', 175), ('春風', 173), ('Dior 迪奧', 171), ('FILA', 171), ('PUMA', 169), ('Bifesta 碧菲絲特', 169), ('LANCÔME 蘭蔻', 168), ('Ariel', 168), ('Converse', 167), ('DHC', 166), ('Etude House', 166), ('阿薩姆', 165), ('NARS', 164), ('白鴿', 163), ('鍋寶 CookPower', 163), ('理膚寶水', 163), ('日清', 161), ('伯朗', 160), ('西莎 Cesar', 160), ('統一瑞穗', 159), ('heme 喜蜜', 158), ('麥香', 157), ('黑人', 156), ('岡本', 156), ('嬌生', 154), ('麗仕', 152), ('奈森克林', 151), ('AHC', 151), ('飛利浦 Philips', 151), ('CIAO', 150), ('Curel 珂潤', 148), ('大衛杜夫', 148), ('御茶園', 147), ('依必朗', 147), ('BOBBI BROWN 芭比波朗', 147), ('海倫仙度絲', 146), ('SHISEIDO 資生堂', 144), ('Excel', 144), ('桂冠', 143), ('純喫茶', 139), ('歐樂B', 139), ('植村秀 Shu uemura', 138), ('雲斯頓', 136), ('台鹽', 136), ('ettusais 艾杜紗', 134), ('小米', 133), ('寶馬', 132), ('多喝水', 131), ('美吾髮', 129), ('綠的', 128), ('麗仕 LUX', 128), ('heme', 128), ('聲寶 SAMPO', 128), ('澡享', 127), ('萬家香', 127), ('YSL 聖羅蘭', 127), ('來一客', 126), ('Dyson', 126), ('五月花', 126), ('三得利', 126), ('好自在', 125), ('REEBOK', 124), ('MISSHA', 124), ('妙管家', 123), ('無印良品', 122), ('味味一品', 120), ('Asahi', 120), ('倫敦登喜路', 118), ('德恩奈', 118), ('Vaseline 凡士林', 116), ('華碩 ASUS', 116), ('味王麵', 115), ('龜甲萬', 115), ('日立 HITACHI', 114), ('雀巢', 114), ('潘婷 PANTENE', 113), ('多芬 Dove', 113), ('CLIO 珂莉奧', 112), ('維力炸醬麵', 111), ('CEZANNE', 111), ('我的心機', 110), ('MAJOLICA MAJORCA 戀愛魔鏡', 109), ('獅王LION', 107), ('立頓', 106), ('OLAY 歐蕾', 106), ('金蘭', 105), (\"L'OCCITANE 歐舒丹\", 105), ('滿漢大餐', 103), ('Acer 宏碁', 102), ('味全林鳳營', 102), ('樂金 LG', 102), ('UNT', 102), ('寶路', 102), ('樂迪LD', 102), ('東元 TECO', 102), ('台塑生醫 Dr’s Formula', 101), ('MKUP 美咖', 101), ('CHAMPION', 100), ('蘇菲', 100), ('黑松', 99), ('南僑', 99), ('立得清', 99), ('葡萄王', 96), ('橘子工坊', 95), (\"I'M MEME\", 95), ('ORIGINS 品木宣言', 95), ('cheers', 93), ('VISEE', 93), ('亞瑟士 ASICS', 93), ('午后時光', 93), ('統一AB', 92), ('家樂福', 92), ('My Beauty Diary 我的美麗日記', 92), ('泰山', 91), ('Avene 雅漾', 91), ('大同 TATUNG', 91), ('光泉鮮乳', 90), ('E-books', 89), ('飛柔 PERT', 89), ('三多', 89), ('牛頭牌', 88), ('虎牌', 87), ('SHISEIDO 資生堂國際櫃', 87), ('crest', 87), ('聲寶', 86), ('靠得住', 86), ('阿Q桶麵', 86), ('倍潔雅', 86), ('好立善', 86), ('GATSBY', 85), ('寶亨', 85), ('花王 Kao', 85), ('台鹽生技', 85), ('尊爵', 84), ('味全', 84), ('老媽拌麵', 83), ('加好寶 Classic Pets', 83), ('WINMAX', 82), ('SANA 莎娜', 82), ('美琪', 82), ('石頭科技', 82), ('萬寶路', 80), ('沙威隆', 80), ('奇美 CHIMEI', 80), ('REVLON 露華濃', 80), ('呂 Ryo', 79), ('永信藥品', 79), ('國際牌', 79), ('Parodontax 牙周適', 79), ('貝恩', 79), ('優生', 79), ('LA ROCHE POSAY 理膚寶水', 78), ('Kirin', 78), ('得意', 78), ('莫比 Mobby', 78), ('ROHTO 樂敦', 77), ('米森 vilson', 77), ('韓國不倒翁', 77), ('希爾思 Hills', 77), ('愛之味', 76), ('3M', 76), ('TESCOM', 76), ('BIODERMA 貝膚黛瑪', 76), ('古寶無患子', 76), ('克寧 KLIM', 75), ('汪喵星球', 75), ('葛莉思 GREENS', 74), ('偉嘉 whiskas', 74), ('小獅王辛巴', 74), ('Sebamed 施巴', 74), ('EUNYUL', 73), ('LOTTO', 73), ('舒跑', 73), ('屈臣氏', 72), ('ON THE BODY', 72), ('象印 ZOJIRUSHI', 72), ('統一陽光', 71), ('尚朋堂', 71), ('禾聯 HERAN', 71), ('Kanebo 佳麗寶', 70), ('八道 PALDO', 70), ('百威', 69), ('Hydro Balance 水平衡', 69), ('國際牌 PANASONIC', 69), ('舒味思', 68), ('美津農 MIZUNO', 68), ('雷蛇 RAZER', 68), ('白人', 67), ('生活', 67), ('奧力棒 OzBone', 67), ('雪芙蘭', 67), ('光泉乳香世家', 67), ('台灣啤酒', 67), ('愛仕達 ASD', 67), ('白帥帥', 66), ('SOFINA 蘇菲娜', 65), ('GUM', 64), ('艾瑪絲 AROMASE', 64), ('愛樂齒 Ora2', 63), ('歌林 KOLIN', 63), ('艾瑪花園 Amma garden', 62), ('Cetaphil 舒特膚', 62), ('DoggyMan', 61), ('惠百施 EBISU', 61), ('維他露P', 61), ('寶瀅Persil', 60), ('伊藤園 Ito EN', 60), ('BOTANIST', 60), ('來復易', 60), ('莎啦莎啦', 59), ('包大人', 59), ('tsaio 上山採藥', 59), ('伊萊克斯 Electrolux', 58), ('華米 Amazfit', 58), ('隨緣', 58), ('沛綠雅', 58), ('CLINIQUE 倩碧', 58), ('紅牛 Red Bull', 58), ('PETAL FRESH 沛特斯', 58), ('Biotherm 碧兒泉', 58), ('GIORGIO ARMANI 亞曼尼', 58), ('優格TOMA-PRO', 58), ('realme', 57), ('d program 敏感話題', 57), ('熊寶貝 SNUGGLE', 57), ('大家源', 57), ('Swissvita 薇佳', 57), ('佳士達', 57), ('西雅圖 BARISTA', 56), ('Mdmmd', 56), ('人生製藥', 55), ('狐鐳 FoxXRay', 55), ('大乾麵', 55), ('阿葵亞 AQUAIR', 55), ('曾拌麵', 55), ('Too cool for school', 54), ('善存', 54), ('dejavu', 54), ('味味A', 54), ('Cocodor', 54), ('天地合補', 53), ('Panasonic', 53), ('PALLADIO', 53), ('蘋果西打', 53), ('鍋寶', 53), ('麗奇 REACH', 52), ('Lab Series 雅男士', 52), ('植物的優', 51), ('吶一口', 51), ('娘家', 51), ('BHK’s', 51), ('Alpecin', 51), ('百齡', 51), ('K-SWISS', 51), ('聖佩黎洛', 51), ('夏普 SHARP', 51), ('光泉豆漿', 51), ('優格 TOMA-PRO', 51), ('象印', 50), ('素飄香', 50), ('清水 shimizu', 50), ('歌林 Kolin', 50), ('4U2', 50), ('三洋 SANLUX', 50), ('BCL', 49), ('Yuskin 悠斯晶', 49), ('豆油伯', 49), ('古寶', 49), ('Junkisei Prime 潤肌精', 49), ('魔爪 Monster Energy', 49), ('保力達', 48), ('思波綺 Tsubaki', 48), ('ELIXIR 怡麗絲爾', 48), ('SEXYLOOK 西西露', 48), ('uno', 48), ('臺虎', 48), ('Simple 清妍', 48), ('惜時 SEEDS', 48), ('咪歐 Me-O', 48), ('Dove 多芬', 48), ('Aveeno 艾惟諾', 48), ('惠而浦 Whirlpool', 48), ('ABSOLUTE NEW YORK 絕色紐約', 48), ('金車柏克金', 48), ('可果美', 48), ('MIRAE 未來美', 47), ('米家', 47), ('蔻蘿蘭 klorane', 47), ('herbacin 德國小甘菊', 47), ('滿意寶寶', 47), ('長壽', 47), ('原點 Instinct', 47), ('丸莊', 47), ('優活', 46), ('Orion', 46), ('EAU耀', 46), ('清淨海', 45), ('相模', 45), ('數位', 45), ('馬爾斯', 45), ('紅牛 RED COW', 45), ('耐嘉 KINYO', 45), ('Beauty Buffet 天天美麗', 45), ('東芝 TOSHIBA', 45), ('adidas 愛迪達', 44), ('統一蜜豆奶', 44), ('摩卡 Mocca', 44), ('達新牌', 44), ('蕾妮亞', 44), ('落建', 44), ('台塑生醫 醫之方', 44), ('統一寶多福 Petlife', 44), ('Dr.Satin', 44), ('施巴 Sebamed', 44), ('GARMIN', 44), ('OPPO', 44), ('伊絲婷 Elastine', 43), ('MAQuillAGE', 43), ('康貝特', 43), ('樂扣樂扣 LocknLock', 43), ('飲冰室茶集', 43), ('加倍潔', 43), ('三詩達 SUNSTAR', 43), ('冰火', 43), ('Romand', 43), ('星之冠', 43), ('Lovita愛維他', 42), ('金色三麥', 42), ('李錦記', 42), ('艾芮克 i-Rocks', 42), ('老協珍', 42), ('美士 Nutro', 42), ('福樂自然零', 41), ('法米納 Farmina', 41), ('Lenovo 聯想', 41), ('水平衡', 41), ('YUBICO', 41), ('愛喜', 41), ('萊萃美', 41), ('貓倍麗 MonPetit', 41), ('花仙子 Farcent', 41), ('Hair Recipe', 41), ('西雅圖', 41), ('花香5', 40), ('百事可樂 PEPSI', 40), ('比菲多質立', 40), ('波爾', 39), ('ARTiS di Voce', 39), ('蒸鮮之味', 39), ('馬修嚴選', 39), ('微星科技 MSI', 39), ('國際牌 panasonic', 39), ('Farcent', 38), ('唯潔雅', 38), ('MILANI', 38), ('SkinLife', 38), ('植村秀 shu uemura', 38), ('絲蘊 Syoss', 38), ('RIMMEL 倫敦芮魅', 38), ('KiKi', 38), ('逸萱秀 Essentia', 38), ('ZENN.TH 茲恩', 38), ('華佗', 38), ('統一LP33', 38), ('德國達麗Dalli', 37), ('HONEYSUCKLE', 37), ('NARUKO 牛爾親研', 37), ('馬玉山', 37), ('Dr.Hsieh 達特醫', 37), ('PON PON MAN 澎澎Man', 37), ('ForBelovedOne寵愛之名', 37), ('聯想 Lenovo', 37), ('More', 37), (\"嬌生 Johnson's\", 37), ('The North Face', 37), ('施巴', 36), ('Sapporo', 36), ('POPPOP', 36), ('Siegal 思高', 36), ('蒂沐蝶 TIMOTEI', 36), ('沙宣', 36), ('施華蔻 Schwarzkopf', 36), ('瑞春', 36), ('VT CICA', 35), ('廣鼎 INTOPIC', 35), ('西北', 35), ('冷泡茶', 35), ('PROFUSION', 35), ('日落恩賜', 35), ('大甲乾麵', 35), ('安安', 35), ('培恩', 35), ('vivo', 35), ('msi 微星', 35), ('MINON AminoMoist 蜜濃', 35), ('極淨', 35), ('理想 PERFECT', 35), ('日本味王', 35), ('THREE', 35), ('聰明狗糧 IQ DOG', 35), ('福樂一番鮮', 35), ('Flormar', 35), ('COLOR CLUB', 34), ('慧心 SmartHeart', 34), ('嘉士伯', 34), ('KANGAROOS', 34), ('克補', 34), ('CLARINS 克蘭詩', 34), ('真爽', 34), (\"巴黎萊雅 L'OREAL PARIS\", 34), ('芮可 RICO', 34), ('日立 ITACHI', 34), ('CeraVe 適樂膚', 34), ('四季', 34), ('CARMEX 小蜜媞', 34), ('美粒果', 33), ('友情牌', 33), ('PRI', 33), ('牛乳石鹼', 33), (\"POND'S 旁氏\", 33), ('賈以食日', 33), ('享食尚', 33), ('瑪恩吉 Monge', 33), ('濃韻', 33), ('豐力富 Fernleaf', 33), ('WATSONS', 33), ('ETUDE奧斯卡', 32), ('富維克 Volvic', 32), ('廣吉', 32), ('AQUA LABEL 水之印', 32), ('木村', 32), ('Sour3', 32), ('貝利達', 32), ('Handme', 32), ('比菲多', 31), ('Play Station', 31), ('麵大師', 31), ('iROBOT', 31), ('ARDELL', 31), ('樂邁', 31), ('H2O', 31), ('HEINZ亨式', 31), ('玩美日記', 30), ('渴望 Orijen', 30), ('TTM 提提研', 30), ('台農', 30), ('Jordan', 30), ('農會', 30), ('美亞 MEYER', 30), ('Mdmmd 明洞國際', 30), ('卡氛 KAFEN', 30), ('愛爾康', 30), ('AOC', 30), ('林鳳營特濃優格', 30), ('Loshi', 30), ('Nivea 妮維雅', 29), ('福樂頂級優酪', 29), ('脫普', 29), ('LG Bamboo Salt', 29), ('kuanyuanlian 廣源良', 29), ('新健綠 Greenies', 29), ('活沛多', 29), ('海盜船 CORSAIR', 29), ('三菱 MITSUBISHI', 29), ('LILY&COLOR', 29), ('龍鳳', 29), ('Cherry', 29), ('A.H.C', 29), ('飛利浦 PHILIPS', 29), ('MUJI 無印良品', 29), ('isLeaf', 29), ('The Ordinary', 29), ('曼秀雷敦 MENTHOLATUM', 28), ('Freshel 膚蕊', 28), ('索尼 SONY', 28), ('MEDIHEAL 美迪惠爾', 28), ('添寧', 28), ('A-Star bones', 28), ('LECHAT', 28), ('大拇指', 28), ('pHisoDerm 菲蘇德美', 28), ('七喜', 28), ('耐吉斯 SOLUTION', 28), ('愛喜雅 AIXIA', 27), ('美津濃 MIZUNO', 27), ('明基 BenQ', 27), (\"BHK's\", 27), ('森歐黎漾 Saholea', 27), ('益喜氏', 27), ('芊柔', 27), ('紐頓 Nutram', 27), ('歐萊德 Oright', 27), ('紐崔克 NatureKE', 27), ('芬達 Fanta', 27), ('維齊 Vi.Chi', 27), ('海爾 Haier', 27), ('健安喜', 26), ('YEBISU', 26), ('舊街場 OLDTOWN', 26), ('neuve 惹我', 26), (\"A'PIEU\", 26), ('舒味思 Schweppes', 26), ('Mustela 慕之恬廊', 26), ('普洛斯Prosi', 26), ('ForBelovedOne 寵愛之名', 26), ('慢熟', 25), ('史邁爾', 25), ('蜜妮 Bioré', 25), ('船井生醫', 25), (\"Q'her 植感\", 25), ('PH9.0', 25), ('TOM FORD', 25), ('ZA', 25), ('MEI', 25), ('菲蘇德美', 25), ('ROSETTE', 25), ('EHRMANN', 25), ('優沛特 uPet', 25), ('健康時刻 Chewy Time', 25), ('華為 HUAWEI', 25), ('艾惟諾', 25), ('斑馬牌 ZEBRA ', 25), ('水平衡 Hydro Balance', 25), ('紅米', 25), ('MAKE UP FOR EVER', 25), ('微舒打', 25), ('歌林', 24), ('艾瑪花園', 24), ('康寧 CorningWare', 24), (\"PAULA'S CHOICE 寶拉珍選\", 24), ('味王', 24), ('快潔適', 24), ('微星 MSI', 24), ('麥迪森', 24), ('AVEDA', 24), ('Corona', 24), ('高慶泉', 24), (\"PALMER'S 帕瑪氏\", 24), ('BonePlus', 24), ('科克蘭 Kirkland Signature', 24), ('KANGOL', 24), ('G7', 24), ('醫之方', 24), ('大潤發', 24), ('新樂園', 24), ('悅氏茶品', 23), ('太和殿', 23), ('Dr.Jart+', 23), ('寵物健康 WELLNESS', 23), ('JMsolution', 23), ('naturie', 23), ('SHISEIDO 資生堂東京櫃', 23), ('Kamill 卡蜜兒', 23), ('資生堂', 23), ('MEISHOKU 明色', 23), ('麥斯威爾 Maxwell', 23), ('雲南白藥', 23), ('國農', 23), ('專科', 23), ('the SAEM', 23), ('T.C.STAR', 23), ('HAPPYCALL', 23), ('Aesop', 23), ('勁威', 23), ('HP 惠普', 22), ('Chicco', 22), ('IRIS', 22), ('ANDZEN', 22), ('愛麗思歐雅瑪 IRIS OHYAMA', 22), ('遊遍天下', 22), ('RASTO', 22), ('RINPOO潤波', 22), ('原辰', 22), ('康定 contin', 22), ('AVALON', 22), ('直覺 sweet touch', 22), ('DIADORA', 22), ('JO MALONE', 22), ('卡樂比 Calbee', 21), ('雪山', 21), ('Naturals by Watsons', 21), ('克瑞斯 CRIUS', 21), ('雪芙蘭 Cellina', 21), ('威技牌 New Widetech', 21), ('森鮮 FOREST', 21), ('Roudye 柔蝶', 21), ('維力原祖', 21), ('露得清', 21), ('Hilltop山頂鳥', 21), ('開喜', 21), ('初鹿鮮乳', 21), ('LCB藍帶廚坊', 21), ('怪獸部落 LitoMon', 21), ('紅茶花伝', 21), ('飛想茶 fuze tea', 21), ('Neoflam', 21), ('AMIDA', 21), ('捷森 Jason', 21), ('喜樂之泉', 20), ('Bioliss', 20), ('禾聯', 20), ('原燒貓罐', 20), ('愛樂薇 Elle & Vire', 20), ('藍寶', 20), ('雷馬 LEXMA', 20), ('強品 Chian Pin', 20), ('ROSY ROSA', 20), ('耐吉斯 Solution', 20), ('atrix 艾翠斯', 20), ('千拌麵', 20), ('虎牌 TIGER', 20), ('TIMARU 堤瑪露', 20), ('我的健康日記', 20), ('UNI water', 20), ('義皇寶', 20), ('天使娜拉', 20), ('湛盧', 20), ('絲花', 20), ('TIMBERLAND', 20), ('無印良品 MUJI', 20), ('DERMAL', 20), ('Too Cool For School', 20), ('台灣三洋 SANLUX', 20), ('富及第 Frigidaire', 20), ('統一', 20), ('愛力根', 20), ('創傑 Ducky', 20), (\"Johnson's 嬌生\", 19), ('Blistex 碧唇', 19), ('東泉', 19), ('CAROME.', 19), ('普洛斯 Prosi', 19), ('From Taiwan 豐台灣', 19), (\"L'EGERE 蘭吉兒\", 19), ('OMI 近江兄弟社', 19), ('The Body Shop 美體小舖', 19), ('iFit 微卡', 19), ('屏科大', 19), ('雪肌精', 19), ('阿華田', 19), ('花王', 19), ('嬌聯 Unicharm', 19), ('DUCATO', 19), ('瑪宣妮 MACHERIE', 19), ('威仕', 19), ('ARGELAN', 19), ('LANEIGE 蘭芝', 19), ('黑龍', 19), ('Columbia 哥倫比亞', 19), ('牛頭牌 Buffalo', 19), ('味全簡單點', 19), ('freeplus 芙莉思', 19), ('GOODIES', 19), ('TISS', 19), ('拉麵道', 18), (\"PET'S LOVE\", 18), ('SKINFOOD 思親膚', 18), ('Clean&Clear 可伶可俐', 18), ('OPERA', 18), ('NUK', 18), ('Whoo 后', 18), ('PURE BEAUTY', 18), ('大正', 18), ('Timotei', 18), ('莉薇特麗', 18), ('天然密碼 NurturePRO', 18), ('PAIR 沛醫亞', 18), ('嚕啦啦', 18), ('PHYSIOGEL 潔美淨', 18), ('Browit 貝奧莉', 18), ('AGF', 18), ('南門魚丸', 18), ('瑪恩吉 MONGE', 18), ('獅子寶寶', 18), ('SABON', 18), ('Crabtree＆Evelyn 瑰柏翠', 18), ('ANESSA 安耐曬', 18), ('飛利浦', 18), ('GLYSOMED', 17), ('金美克能', 17), ('統一水果牛乳', 17), ('UZU', 17), ('LA MER 海洋拉娜', 17), ('味丹', 17), ('水事紀', 17), ('Persil', 17), ('SONY', 17), ('芙夏妮', 17), ('cama cafe', 17), ('莊頭北', 17), ('正牛', 17), ('惠普 HP', 17), ('逸盛 Esense', 17), ('TCL', 17), ('clé de peau beauté 肌膚之鑰', 17), ('赫而司', 17), (\"L'Oréal Paris 巴黎萊雅\", 17), ('櫻花 SAKURA', 17), ('貝親 Pigeon', 17), ('愛買', 17), ('安親', 17), ('艾沛 IPET', 17), ('味全萬丹', 17), ('shu uemura 植村秀', 17), ('純粹喝', 17), ('小兒利撒爾', 17), ('CHIFURE', 17), ('OP', 17), ('Softymo 絲芙蒂', 16), ('麻膳堂', 16), ('HERB BLEND 植物物語', 16), ('LB', 16), ('初鹿牧場', 16), ('茶尋味', 16), ('EVITA 艾薇塔', 16), ('MLB', 16), ('GIGABYTE 技嘉', 16), ('伯朗咖啡', 16), ('3CE', 16), ('K.C.DOG', 16), ('Grandmother Agafia 阿加菲亞老奶奶', 16), ('Google', 16), ('惠而浦', 16), ('養樂多', 16), ('松本清', 16), ('BeautyMaker', 16), ('Ocean Spring', 16), ('可瑞絲 KERASYS', 16), ('宏晉 Hong Jin', 16), ('K-Palette', 16), ('法國皇家 ROYAL', 16), ('Aibo', 16), ('農純鄉', 16), ('小夫妻拌麵', 16), ('明治', 16), ('KISS New York', 16), ('富及第 FRIGIDAIRE', 16), ('美心 MASIONS', 16), ('unidus', 16), ('御衣坊 Akira', 15), ('大補帖', 15), ('雪坊', 15), ('辣椒先生', 15), ('維士比', 15), ('Now!', 15), ('HTC', 15), ('日本獅王', 15), (\"Age20's\", 15), ('THOMSON', 15), ('KISSDIAMOND', 15), ('DELL 戴爾', 15), ('亞米亞米 Yami Yami', 15), ('沙宣 VS', 15), ('樂天 Lotte', 15), ('紅印', 15), ('上山採藥', 15), ('長紅 EverRed', 15), ('汰漬 TIDE', 15), ('TWINBIRD', 15), ('三多 SENTOSA', 15), ('Cooler Master', 15), ('林內', 15), ('LG', 15), ('三記', 15), ('ATUNAS 歐都納', 15), ('TOKYU HANDS 台隆手創館', 15), ('ST.MALO', 15), ('維力媽媽麵', 15), ('Go!', 15), ('台東初鹿', 15), ('佐藤', 15), ('固特異 goodyear', 15), ('雪比', 14), ('THERAPIND 魔唇', 14), ('參天', 14), ('義美生醫', 14), ('APIVITA 艾蜜塔', 14), (\"DENTISTE'牙醫選\", 14), ('Madam Jan’s', 14), ('箭牌馬', 14), ('大醇豆', 14), ('BLACK MONSTER', 14), ('YEASTER', 14), ('爵戀', 14), ('上山採藥 tsaio', 14), ('詹麵', 14), ('柏萊富 BLACKWOOD', 14), ('Lotte', 14), ('VICHY 薇姿', 14), ('Pro Plan 冠能', 14), ('小綠 Gtech', 14), ('Melano CC', 14), ('HyperX', 14), ('BRITA', 14), ('DUO 麗優', 14), ('王牌', 14), ('ttmax', 14), ('Mistine', 14), ('威金森', 14), ('LITS 日本植物精粹極緻奢華保養', 14), ('麥維樂 VIOLA', 13), ('上豪', 13), ('紐崔斯 Nutrience', 13), ('邦比 PANTOP', 13), ('卡旺', 13), ('朵舒', 13), ('Love Code 戀愛密碼', 13), ('綠藤生機 Greenvines', 13), ('伴您一生 Be with you', 13), ('富士電通 Fujitek', 13), ('Shower Mate', 13), ('明洞國際', 13), ('東芝', 13), ('LEBELAGE', 13), ('博寶兒 Probo', 13), ('Avila', 13), ('睫老闆', 13), ('金岡', 13), ('柏尹芙', 13), ('Timaru 堤瑪露', 13), ('培寶', 13), ('VINATA', 13), ('ROHTO 日本樂敦', 13), ('日卜力 Daily Boost', 13), ('達摩本草', 13), ('紅薑黃先生', 13), ('艾詩', 13), ('德國雙人 Zwilling', 13), ('Outdoorbase', 13), ('Banana Boat 香蕉船', 13), ('紅布朗', 13), ('TS', 13), ('戴森 Dyson', 13), ('咖啡廣場', 13), ('kiss', 13), ('JVC', 13), ('INTEX', 13), ('IPSA 茵芙莎', 13), ('Natural balance', 13), ('璞珞', 13), ('Pure', 13), ('元山', 13), ('喵洽普', 13), ('博帝 VIPER', 13), ('卜蜂', 13), ('UNNY CLUB', 13), ('美則', 13), ('愛爾曼', 13), ('古道', 13), ('Utena 佑天蘭', 13), ('熊野', 13), ('信東生技', 13), ('Helena Rubinstein 赫蓮娜', 13), ('貝親', 13), ('丹麥德瑪 Derma', 13), ('SWEETS SWEETS', 13), ('JORDON 橋登', 12), ('ELECOM', 12), ('施巴Sebamed', 12), ('利捷維', 12), ('S+Miracle', 12), ('wet n wild', 12), ('RMK', 12), ('博朗氏', 12), ('李施德霖', 12), ('鮮一杯', 12), ('金鹿', 12), ('克寧', 12), ('THE PUBLIC ORGANIC', 12), ('夏普', 12), ('雙響泡', 12), ('金絲頓', 12), ('malie 媄莉', 12), ('咪碼 Mimar', 12), ('CHIC CHOC 奇可俏可', 12), ('安加適', 12), ('CLOVER', 12), ('大醫生技', 12), ('膳魔師 THERMOS', 12), ('GREEN 綠的', 12), ('SKATER', 12), ('Avène 雅漾', 12), ('橘平屋', 12), ('威瑪舒培', 12), ('華陀', 12), (\"COFFRET D'OR\", 12), ('金車', 12), ('潔倍', 12), ('五五五', 12), ('TT KOTEMEIN TT 波特嫚', 12), ('CATUNA', 12), ('Nespresso', 12), (\"喵樂 M'DARYN\", 12), ('山水 SANSUI', 12), ('Baan 貝恩', 12), ('NUXE 黎可詩', 12), ('曙光 spring', 12), ('莫凡彼', 12), ('Labo Labo', 12), ('Marusan 丸三', 12), ('e-Power', 12), ('健康力', 12), ('PONY', 12), ('樂透 Beaphar', 12), ('拉美拉 LA MEI LA', 12), ('拜維佳', 12), ('MIHONG', 12), ('樂金', 11), ('龍泉', 11), ('康是美', 11), ('ISANA', 11), ('存元堂', 11), ('KOSE 高絲-專櫃', 11), ('寶酒造', 11), ('VELCOS', 11), ('Aiken', 11), ('屏大', 11), ('岩谷 Iwatani', 11), ('E視界', 11), ('台畜', 11), ('植享家', 11), ('YAMAKI', 11), ('健康廚房', 11), ('歐樂芬', 11), ('名象 MIN SHIANG', 11), ('Embryolisse 恩倍思', 11), ('Watsons 屈臣氏', 11), ('Plantur 39', 11), ('FZC', 11), ('味味麵', 11), ('曜越 Tt eSPORTS', 11), ('倍思 BASEUS', 11), ('美膳雅 Cuisinart', 11), ('OSTER', 11), ('台塑生醫FORTE', 11), ('泡舒 PAOS', 11), ('家福', 11), ('威德 Weider', 11), ('台灣清香號', 11), ('Dr.藝群', 11), ('Maqpro', 11), ('萬能媽媽 WONDER MAMA', 11), ('TS6護一生', 11), ('FARM STAY', 11), ('CeraVe適樂膚', 11), ('FUJI', 11), ('HIKARU 喜凱露', 11), ('Econeco 繪子貓', 11), ('貝卡 BEKA', 11), ('QV', 11), ('NOKIA', 11), ('鐵齒', 11), ('輝葉', 11), ('MARO', 11), ('狼蛛 AULA', 11), ('Siroca', 11), ('TARN JU', 11), ('沈杯杯', 11), ('荷蘭公主 PRINCESS', 11), ('Pink by Pure Beauty', 11), ('寶多福', 11), ('山加利 Sangaria', 11), ('福華牌', 11), ('林鳳營簡單點優格', 10), ('Visée AVANT', 10), ('田原香', 10), ('歐舒丹', 10), ('LaPetz 樂倍', 10), ('PiPPER STANDARD', 10), ('金蜜蜂', 10), ('藍帶 LV PRIMEBLUE', 10), ('ABC', 10), ('香草集', 10), ('超級香', 10), ('威傑士 WAJASS', 10), ('彎彎寶貝', 10), ('080', 10), ('羊舍', 10), ('Bmxmao', 10), ('AVON 雅芳', 10), ('She', 10), ('檸檬堂', 10), ('HYD', 10), ('台塑生醫', 10), ('Darphin 朵法', 10), ('SOLAC', 10), ('大研生醫', 10), ('Baby Banana', 10), ('You Can Buy', 10), ('benefit 貝玲妃', 10), ('ARONYX', 10), ('茉莉茶園', 10), ('輕鬆小品', 10), ('小獅王', 10), ('麥維爾', 10), ('因特力淨', 10), ('雷柏 Rapoo', 10), ('Unlabel', 10), ('Kanebo 佳麗寶-開架式', 10), ('楓康', 10), ('沛奇 Pei Ci', 10), ('BioLead', 10), ('驕傲貓 Cat Glory', 10), ('蓓比適', 10), ('APIVITA', 10), ('ORBIS 奧蜜思', 10), ('正負零±0', 10), ('克奈圃', 10), ('統一Dr.Milker', 10), ('澳潔蕬 Ausganica', 10), ('好味小姐 Lady Flavor', 10), ('Butler', 10), ('博士巧思', 10), ('福樂低脂優酪', 10), ('DeLUX', 10), ('一家人 OUR FAMILY', 10), ('賀壽', 10), ('Ringo', 10), ('ONPRO', 10), ('NICOH', 10), ('巔峰 ZiwiPeak', 10), ('STB', 10), ('白雪', 10), ('Wild Calling', 10), ('ASAHI 朝日', 10), ('鉑潤肌', 10), ('雀巢 Nestle', 10), ('麗白', 10), ('Nuby', 10), ('星巴克', 10), ('sukin', 10), ('汰漬 Tide', 10), ('優仕曼', 9), ('富士通FUJITSU', 9), ('特力屋', 9), ('聰明貓乾糧 IQ CAT', 9), ('New Beads', 9), ('宏醫生技', 9), ('NYX', 9), ('正康', 9), ('優生 US baby', 9), ('卡樂芙', 9), ('倍力 BLUEBAY', 9), ('博朗氏 Balance', 9), ('艾美特 AIRMATE', 9), ('Valentino Rudy 范倫鐵諾', 9), ('LP33', 9), ('Naturehike', 9), ('MAN-Q', 9), ('自然牧場 Natural Farm', 9), ('靖', 9), ('Avengers', 9), ('威德', 9), ('芯之麗 SUBLIMIC', 9), ('貓侍 Catpool', 9), ('愛可妮', 9), ('Natureby', 9), (\"L'ERBOLARIO 蕾莉歐\", 9), ('Snow White 白雪', 9), ('雲谷', 9), ('海爾 HAIER', 9), ('百工 DECKER', 9), ('自然小貓 Natural Kitty', 9), ('貓皇族 KING WANG', 9), ('ODLO', 9), ('COOLER MASTER', 9), ('GW', 9), ('Pelican 沛麗康', 9), ('Farm stay', 9), ('法柏 Bova', 9), ('巴洛亞', 9), ('Pigeon貝親', 9), ('Purevivi', 9), ('HK家居', 9), ('丹 DAN', 9), ('THE ORCHID SKIN', 9), ('CUOCO', 9), ('TAKUMI', 9), ('13章', 9), ('丸金', 9), ('Arlink', 9), ('MANDOM', 9), ('IRIS OHYAMA', 9), ('科沃斯', 9), ('DREAM TREND 凱夢', 9), ('喜多', 9), ('情人娃娃', 9), ('維他露', 9), ('BLADEZ', 9), ('Simple Life', 9), ('赫里萊比', 9), ('小米 xiaomi', 9), ('菊正宗', 9), ('ARCTIC', 9), ('DR PEPPER', 9), ('妮娜小姐 Miss Nella', 9), ('LAVAZZA', 9), ('亞莉佳', 9), ('ProDiet', 9), ('雅雪舒', 9), ('IM UNNY', 9), ('Petio', 9), ('Dr‘s Formula', 9), ('Targus', 9), ('CHICCO', 9), ('東元', 9), ('FROM NATURE', 9), ('斐濟 FIJI', 9), ('N.A.F', 9), ('富及第', 9), ('GO!', 8), ('Bowwow', 8), ('Sulwhasoo 雪花秀', 8), ('Dr.Groot', 8), ('ALLOYA愛若雅', 8), ('THRONE 斯儂恩', 8), ('亞歷桑納 Arizona', 8), ('Beanies', 8), ('CLAYGE', 8), ('寶島', 8), ('浪漫花語', 8), ('B.Friend', 8), ('NEO-TEC妮傲絲翠', 8), ('雷峰', 8), ('Dailix', 8), ('淨毒五郎', 8), ('維吉 VegePet', 8), ('巴絲特 Baster', 8), ('倍麗兒', 8), ('BANILA CO', 8), ('BANDAI', 8), ('海之鮇', 8), ('法麗 Cherie', 8), ('自然零', 8), ('iq+', 8), ('卓威 ZOWIE', 8), ('博寶兒Probo', 8), ('工研', 8), ('Jealousness 婕洛妮絲', 8), ('PharmaACT', 8), ('SOTO', 8), ('猋', 8), ('林鳳營精品優格', 8), ('Califia Farms', 8), ('EL伊德爾', 8), ('SO GOOD', 8), ('珂潤 Curel', 8), ('萊克蒂', 8), ('吉蒸', 8), ('KEY COFFEE', 8), ('第一饗宴 FirstMate', 8), ('純煉', 8), ('統欣生技', 8), ('PASCUAL', 8), ('雅方', 8), ('高大鮮乳', 8), ('Glinter', 8), ('娜艾菩naive', 8), ('耀 EAU', 8), ('福忠字號', 8), ('DR.CINK 達特聖克', 8), ('奧藍多 Allando', 8), ('營養師輕食', 8), ('D-UP', 8), ('技嘉 GIGABYTE', 8), ('CHE GEL', 8), ('MSH', 8), ('CREATE Dentfine', 8), ('Darling', 8), ('Revital', 8), ('維斯塔', 8), ('爵士貓吧 BBUY', 8), ('阿舍食堂', 8), ('特緹斯 Twistix', 8), ('Derma Lab 德美醫研', 8), ('福壽 FUSO', 8), ('寶貝妮', 8), ('LaCroix', 8), ('金龍', 8), ('麗克特 recolte', 8), ('倍麗兒 PERIOE', 8), ('愛維他', 8), ('獅王 LION', 8), ('娜普菈 Napla', 8), ('Belle Madame 貝麗瑪丹', 8), ('FIREFLY', 8), ('喜特麗', 8), ('喀爾巴阡', 8), ('娜奧NOW', 8), ('深夜食堂', 8), ('蜜妮', 8), ('人因科技 Ergotech', 8), ('每朝', 8), ('OZAWAKEI', 7), ('賽睿 Steelseries', 7), ('WILDALP', 7), ('凱琳 CALIMBA', 7), ('竣寶 Gimpet', 7), ('PUKU', 7), ('福紅 FUCHS', 7), ('卡比 CANIDAE', 7), ('鵑城牌', 7), ('日清 NISSIN', 7), ('韓廚', 7), ('旺得福', 7), ('倍力 Blue Bay', 7), ('貓頭鷹 Noctua', 7), ('ATOPICLAIR 愛妥麗', 7), ('摩多比 MDOBI', 7), ('一滴淨', 7), ('寧記', 7), ('kaibeauty', 7), ('PowerBOMB', 7), ('GEMINI', 7), ('APRILSKIN', 7), ('卡薩咖啡', 7), ('維他盒子', 7), ('左岸', 7), ('酷椰嶼', 7), ('Nature Garden', 7), ('Zettoc', 7), ('theBalm Cosmetics', 7), ('THAI COCO', 7), ('思美洛Ice', 7), ('威比 WELLBE', 7), ('得意人生', 7), ('CIAOKE', 7), ('JeogSeoul 漢城淨雪', 7), ('TePe', 7), ('Mother-K', 7), ('A-DERMA 艾芙美', 7), ('統一生機', 7), ('SHISEIDO MEN', 7), ('Le Creuset', 7), ('UdiLife', 7), ('小綠人', 7), ('澳維花園 Ausgarden', 7), ('鮮烘咖啡工作室', 7), ('Bixtar', 7), ('Sheba', 7), ('Target PRO', 7), ('愛恩富 ANF', 7), ('Ido 船井醫朵保養', 7), ('SHANGPREE 香蒲麗', 7), ('PSK 深海美肌專家', 7), ('統一 AB', 7), ('Naris Up 娜麗絲', 7), ('小太陽', 7), ('naive 娜艾菩', 7), ('諾寶', 7), ('大金', 7), ('小廚師', 7), ('麗克特 récolte', 7), ('Natural Balance', 7), ('CASA', 7), ('力保美達 LIPOVITAN', 7), ('ILLY', 7), ('Collagen by Watsons', 7), ('波力', 7), ('康朵', 7), ('統一瑞穗極制', 7), ('OSIM', 7), ('多納', 7), (\"she's\", 7), ('DF美肌醫生', 7), ('Elizabeth Arden 伊麗莎白雅頓', 7), ('香山', 7), ('山多力', 7), ('Nature Republic', 7), ('北日本', 7), (\"歐舒丹 L'OCCITANE\", 7), ('San Benedetto', 7), ('姍拉娜', 7), ('Toffy', 7), ('Kokie', 7), ('康澤', 7), ('G-PLUS', 7), ('OXY', 7), ('可爾必思', 7), ('B +', 7), ('Deary 媞爾妮', 7), ('茶之初', 7), ('BEBE POSHE 奢華寶貝', 7), ('瑞威 Real Power', 7), ('韓國 CJ', 7), ('hereu', 7), ('和平', 7), ('大醬', 7), ('淬釀', 7), ('健而婷', 7), ('顧可飛', 7), ('BYPHASSE 蓓昂斯', 7), (\"HUNT'S\", 7), ('LUCKY', 7), ('西妍院', 7), ('屈臣氏 Watsons', 6), ('Y.N.M', 6), ('常春樂活', 6), ('歐萊德', 6), ('ego意高', 6), ('nacnac', 6), ('第一石鹼', 6), ('福樂鮮攪', 6), ('HORI', 6), ('鷹王 KingEagle', 6), ('CreerBeaute', 6), ('沛特斯', 6), ('CLUB', 6), ('AIPINYUE', 6), ('Doutor', 6), ('舒特膚', 6), ('Post', 6), ('3W CLINIC', 6), ('優效紡', 6), ('MOMO GIRL', 6), ('詩杭 SIAU', 6), ('妍美会', 6), ('ToroToro', 6), ('GUERLAIN 嬌蘭', 6), ('元山牌', 6), ('地中海', 6), ('絲易康', 6), ('NAFFY', 6), ('瑪莎曼J-Lek', 6), ('Brooks', 6), ('YSL 伊夫·聖羅蘭', 6), ('厝味', 6), ('Jacks', 6), ('比依', 6), ('康貝', 6), ('LAVONS', 6), ('易生絲 ESSEHAIR', 6), ('聖碧濤 San Benedetto', 6), ('一來順', 6), ('博世 BOSCH', 6), ('頂好', 6), ('K9 Natural', 6), ('健力士', 6), ('興波咖啡 Simple Kaffa', 6), ('優倍多', 6), ('Kesho', 6), ('等等', 6), ('DEVE', 6), ('MANARA 曼娜麗', 6), ('礦翠', 6), ('Twist', 6), ('歐客佬', 6), ('CK N-95', 6), ('TS6', 6), ('德律風根 Telefunken', 6), ('資生堂 SHISEIDO', 6), ('OGUMA 水美媒', 6), ('大師兄銷魂麵舖', 6), ('TROMSO', 6), ('Arcteryx 始祖鳥', 6), ('ANTIAN', 6), ('CATFEET', 6), ('GUCCI', 6), ('AVEDA 肯夢', 6), ('努特 NUIT', 6), ('ATORREGE AD+', 6), ('鮮一番', 6), ('潔芬', 6), ('Kracie 葵緹亞', 6), ('OPI', 6), ('多立康', 6), ('AZIO', 6), ('古德狗', 6), ('IROKA', 6), ('Blackmores 澳佳寶', 6), ('正官庄', 6), ('伊克萊 Egekilde', 6), ('美味關係', 6), ('力度伸', 6), ('羅東農會', 6), ('維珍妮', 6), ('皇貓', 6), ('Medi Flower', 6), ('御天犬', 6), ('福松', 6), ('Qian Rou', 6), ('優妹 U-May', 6), ('大河 TAIGA', 6), ('溫士頓', 6), ('德國冰豹ROCCAT', 6), ('雞老大', 6), ('索樂生活', 6), ('唯潔 WHIMZEES', 6), ('BEAUTIA 倍立雅', 6), (\"Dr. Bronner's 布朗博士\", 6), ('貓樂適 Catidea', 6), ('LUCIDO 倫士度', 6), ('cosnature 德國植萃', 6), ('德拉美', 6), ('rubber anne', 6), ('齒妍堂', 6), ('Haylou', 6), ('寶迪 Berndes', 6), ('Heartfelt', 6), ('膜力美肌', 6), ('活力零食 GooToe', 6), ('山森', 6), ('叡頌', 6), ('克菲爾', 6), ('Opal 澳寶', 6), ('Barrier Repair', 6), ('MILKLAB', 6), ('林內牌', 6), ('卡夫亨氏', 6), ('華陀扶元堂', 6), ('勳風', 6), ('唯白 VD', 6), ('自然之綠', 6), ('囍瑞 BIOES', 6), ('FRUDIA', 6), ('life-do.plus', 6), ('歐斯恩', 6), ('W.Lab', 6), ('慧心貓糧 SmartHeart', 6), ('PURE MIND', 6), ('新奇', 6), ('樂趣', 6), ('逸湘齋', 6), ('Tabasco', 6), ('MOMUS', 6), ('ENNE', 6), ('VF魏大夫', 6), ('caffè chat咖啡講', 6), ('mod’s hair', 6), ('GINPO', 6), ('esfolio', 6), ('然植萃', 5), ('植物者AGRICOLA', 5), ('Hulu Cat', 5), ('heimish', 5), ('東成', 5), ('Leanani', 5), ('桃潤肌', 5), ('植淨美', 5), ('SPARKEAU', 5), ('滴牌', 5), ('鮮剖', 5), ('優級首選加州鮮乳', 5), ('eva', 5), ('Staub', 5), ('山多力 SDL', 5), ('角落生物 Sumikko Gurashi', 5), ('CatFeet', 5), ('JC咖啡', 5), ('香草集 JustHerb', 5), ('TGC', 5), ('肯葳 KEUNE', 5), ('cosmos', 5), ('LEC', 5), ('肯尼士', 5), ('龍宏', 5), ('菲那絲', 5), ('MELLSAVON', 5), ('奇哥', 5), ('蓓芙妮', 5), ('北海道函館3.7鮮乳', 5), ('珂潤', 5), ('古吉', 5), ('Mondariz', 5), ('維爾滋 Wealtz', 5), ('Dr.Hsieh達特醫', 5), ('DUSKIN', 5), ('StriVectin 皺效奇蹟', 5), ('vt cosmetics', 5), ('yy bean coffee', 5), ('NAC NAC', 5), ('Extra Mineral', 5), ('阿曼特 armonto', 5), ('明全牧場', 5), ('Peppa Pig', 5), ('奇檬子', 5), ('植英房', 5), ('SUPER MILD', 5), ('藏鮮', 5), ('芮芙茹 Reveur', 5), ('日象', 5), ('50惠', 5), ('Sparkeau', 5), ('鬼洗', 5), ('易洗樂', 5), ('VACCI', 5), ('Kitchen Art', 5), ('Hito 伊的', 5), ('阿娟', 5), ('戀戀情人', 5), ('安爽', 5), ('木槿花', 5), ('Dasique', 5), ('De Buyer', 5), ('義大利草本專家 ANTICA', 5), ('包寧安', 5), ('御膳食堂', 5), ('Starbucks', 5), ('一引', 5), ('HELLO KITTY', 5), ('Dr.Douxi 朵璽', 5), ('唯可', 5), ('詩沛格蘭', 5), ('樂卡克 le coq sportif', 5), ('EILEEN GRACE 妍霓絲', 5), ('AYERLLAN', 5), ('Aiken 艾肯', 5), ('ISANA 伊薩娜', 5), ('HOMEI', 5), ('果物配', 5), ('Akira御衣坊', 5), ('惠而浦 whirlpool', 5), ('Lucky', 5), ('艾富鮮 A Freschi srl', 5), ('吉尼斯 Gennis', 5), ('Friskies', 5), ('TTL 台酒生技', 5), ('KitCat', 5), ('炫艷', 5), ('舒妃 SOFEI', 5), ('豐新鮮', 5), ('FRUSIRNANA 美膚娜娜', 5), ('卡氛', 5), ('九華山', 5), ('瑞軒 AmTRAN', 5), (\"台塑生醫Dr's Formula\", 5), ('too cool for school', 5), ('Viridis virus', 5), ('綠野鮮食 Health Extension', 5), ('SAHOLEA', 5), ('直覺', 5), ('天際線 Horizon', 5), ('DYDO 吟麗', 5), ('flowfushi', 5), ('衣桔棒', 5), ('JIGOTT', 5), ('Morocco GaGa Oil', 5), ('旺德 WONDER', 5), ('美奇絲 MATRIX', 5), ('富統', 5), ('必賜力', 5), ('諾得', 5), ('AC MAKEUP', 5), ('京城之霜', 5), ('FANTECH', 5), ('名山牌', 5), ('eternal basic', 5), ('Suntory 三得利', 5), ('LOVE BEAUTY AND PLANET', 5), ('Vana Candles 琺鈉', 5), ('Balea 芭樂雅', 5), ('一家人', 5), ('teteo', 5), ('斯博康 SUPERCOAT', 5), ('慕之恬廊 mustela', 5), ('京紅', 5), ('Premiumcare', 5), ('超躍 Hyperr', 5), ('BEVY C.', 5), ('CNP Laboratory', 5), ('Vitamix', 5), ('臺鹽', 5), ('初鹿', 5), ('微軟 Microsoft', 5), ('Disney', 5), ('歌薇 GOLDWELL', 5), ('MILDSKIN 麥德絲肌', 5), ('雅保', 5), ('KISSME', 5), ('THE FACE SHOP 菲詩小舖', 5), ('NATURE FACE', 5), ('SCENTED CANDLE', 5), ('黑惡魔', 5), ('MIYOSHI', 5), ('MK LAB', 5), ('LOGONA 諾格那', 5), ('FS森林小舖', 5), ('Mestemacher', 5), ('網狐家居', 5), ('阿加菲亞老奶奶 Grandmother Agafia', 5), ('愛迪達 adidas', 5), ('Youberry 悠貝莉', 5), ('海昌', 5), ('普德 BUDER', 5), ('美聯社', 5), ('台酒生技', 5), ('石頭科技 Roborock', 5), ('Karalla', 5), ('美寧', 5), ('MEKO 時尚美妝', 5), ('綠的 GREEN', 5), ('元氣', 5), ('algemarin', 5), ('九陽 JOYOUNG', 5), ('Japan Gals', 5), ('Hope girl', 5), ('Fresh Line', 5), ('Dr.FORHAIR', 4), ('吉尼寶貝', 4), ('自然癮食 ADDICTION', 4), ('BFFECT 好肌膚精華研究室', 4), ('卡娜赫拉的小動物', 4), ('Tide', 4), ('Franks', 4), ('大本山', 4), ('超海派', 4), ('MAMA BUTTER', 4), ('滴滴鮮', 4), ('Polarstar', 4), ('ghd', 4), ('東凌', 4), ('東銘', 4), ('ONE', 4), ('TURK', 4), ('其實豆製所', 4), ('J.KAO', 4), ('DE CECCO得科羅勒', 4), ('必勝', 4), ('DR CYJ', 4), ('YANKEE CANDLE', 4), ('AK', 4), ('AHA', 4), ('NATURACTOR 娜拉兒', 4), ('infoThink', 4), ('碧而優', 4), ('A＆W', 4), ('新味', 4), ('星巴克 Starbucks', 4), ('Fees', 4), ('JOEARO', 4), ('宜珂 Ecover', 4), ('髮朵', 4), ('NPIC', 4), ('24h cosme', 4), ('狀元', 4), ('BIONEO 德國百妮', 4), ('慕堤 Mutti', 4), ('植妍房', 4), ('NUIT 努特', 4), ('MUVA', 4), ('麗莎', 4), ('JANT BLANC', 4), ('千山淨水', 4), ('傳貴', 4), ('德爾瑪 Deerma', 4), ('LEGERE 蘭吉兒', 4), ('阿里山', 4), ('倫士度 LUCIDO', 4), ('AKUMA', 4), ('FINE COLOR', 4), ('蔻蘿蘭', 4), ('席瑞思 Ceres', 4), ('德律風根', 4), ('Diptyque', 4), ('NEO-TEC 妮傲絲翠', 4), ('KOJI', 4), ('一品夫人', 4), ('華冠', 4), ('KO咖啡王', 4), ('珊諾', 4), ('iseLect', 4), ('鐵鎚牌A&H', 4), ('Webner 葦柏納', 4), ('Dr.May 美博士', 4), ('男人香', 4), ('小文輕', 4), ('PUREDERM', 4), ('Glamour Sky 魔法天空', 4), ('莎特Satter', 4), ('維多利亞的秘密', 4), ('JAYJUN COSMETIC', 4), ('PC Park', 4), ('樂嫚妮', 4), ('氧視加', 4), ('Royal Unibrew', 4), ('LIDEAL', 4), ('Kisetsu', 4), ('NABI', 4), ('Balzano', 4), ('齒磨撫子', 4), ('Himalaya 喜馬拉雅', 4), ('Naturals', 4), ('16 brand', 4), ('詩波蜜柔 SUPER MILD', 4), ('MELKO', 4), (\"She's\", 4), ('ECOS', 4), ('健喬信元', 4), ('孕哺兒', 4), ('Iris Ohyama', 4), ('銀欣 SilverStone', 4), ('巧多', 4), ('INFINITY 無限肌緻', 4), ('草本莊園 KRAUTERHOF', 4), ('魔法村 Pet Village', 4), ('CILY', 4), ('優你可', 4), ('統洋', 4), ('品皇', 4), ('澳克騎士 Ivory Coat', 4), ('LA DEFONSE 黎得芳', 4), ('品工 PINGO', 4), ('Amice', 4), ('格林全', 4), ('ISDIN 怡思丁', 4), ('必美優 PMU', 4), ('北海道大雪山', 4), ('Frosch', 4), ('戴森 DYSON', 4), ('BRUNO', 4), ('百翠氏', 4), (\"Burt's Bees\", 4), ('Mount Hagen', 4), ('萊法耶 RENE FURTERER', 4), ('MBM', 4), ('家福 Carrefour', 4), ('HCG 和成', 4), ('小巴黎 deBalets', 4), ('Miyoshi 家族石鹼', 4), ('金安心', 4), ('雀巢茶品 Nestea', 4), ('嘉儀 HELLER', 4), ('自然派', 4), ('皇冠 Nutra Tech', 4), ('科克蘭 Kirkland', 4), ('NADESHIA', 4), ('紅豆食府', 4), ('善得', 4), ('ONE amadana', 4), ('MeridLife 樂益活', 4), ('啟蒙 Gemon', 4), ('新花漾', 4), ('牧實', 4), ('Bosley', 4), ('蒂克', 4), ('韓波俐', 4), ('飛牛牧場', 4), ('Lumina 露蜜', 4), ('美體小舖 The Body Shop', 4), ('斯斯', 4), ('Milk Touch', 4), ('日濢', 4), ('澤井咖啡', 4), ('卡薩 Casa', 4), ('SimLife', 4), ('vita', 4), ('BokBok', 4), ('多益得All clean', 4), ('健納緹 Get Naked', 4), ('未來實驗室 FUTURE LAB', 4), ('芙絲', 4), ('仁和園', 4), ('台灣好漁', 4), ('燒肉工房', 4), ('DELTA', 4), ('優先順', 4), ('牛爾', 4), ('GEORGIA 喬亞', 4), ('健身大師', 4), ('日本花王', 4), ('旺德 Wonder', 4), ('小安安', 4), ('志斌', 4), ('Hiles', 4), ('高山小濃', 4), ('晨捷', 4), ('摩爾思 mores', 4), ('ATake', 4), ('Bloody', 4), ('邁士', 4), ('hoi', 4), ('四葉', 4), ('愛思 IS', 4), ('J-lin', 4), ('琺頌 FASUN', 4), ('VICTOR 勝利體育', 4), ('伊崎 Ikiiki', 4), ('揚子', 4), ('THE BODY SHOP', 4), ('拌天下', 4), ('猋 Pure', 4), ('土耳其E.S.T.', 4), ('Moonlight', 4), ('DYDO', 4), ('肯特 Kent', 4), ('普瑞納 Purina', 4), ('惠騰', 4), ('員山農會', 4), ('自然癮食 Addiction', 4), ('森潤', 4), ('HARU', 4), ('多哥', 4), ('XBox', 4), ('中一電工', 4), ('艾黎亞 ANRIEA', 4), ('萃樂口', 4), ('QUNDO 康朵', 4), ('FANCL', 4), ('倍爾康', 4), ('Mega Harvest', 4), ('諾鈣C', 4), ('建銓', 4), ('G&M', 4), ('FLAIR', 4), ('JOAJOTA', 4), ('Kneipp 克奈圃', 4), ('3Q', 4), ('The Body Shop', 4), ('國際', 4), ('原木香', 4), ('FRESHEL 膚蕊', 4), ('Lescaut 蕾斯卡歐', 4), ('科帥', 4), ('Mdovia', 4), ('必盛氏', 4), ('新肌霓 Ingeni', 4), ('英國 RAB', 4), ('金饌', 4), ('日本 Lishan', 4), ('山水', 4), ('安雅', 4), (\"Dr's Formula 台塑生醫\", 4), ('不二珍套', 4), ('喜樂寵宴 Joy Food', 4), ('歐漾 ALYA', 4), ('年方十八', 4), ('白博士', 4), ('無塵氏', 4), ('益妍莓后', 4), ('九陽 Joyoung', 4), ('依洛嘉', 4), ('新普利', 4), ('伊夫‧黎雪 Yves Rocher', 4), ('澳潔蕬', 4), ('Robert Timms', 4), ('KitchenAid', 4), ('嵐閣', 4), ('萬達寬', 4), ('樂天 LOTTE', 4), ('康萃', 4), ('美萃 MATURE', 4), ('COVERMARK', 4), ('英泉', 4), ('ENERGY 艾諾琪', 4), ('台農鮮乳廠', 4), ('高地卡尼', 4), ('生活工場', 4), ('Kao 花王', 4), ('台熱牌', 4), ('睿米科技 Roidmi', 4), ('漁極 AkikA', 4), ('貓戀人 HONEY CAT', 4), ('Olive', 3), ('日本三洋', 3), ('巷口乾麵', 3), ('山形', 3), ('益瑞昇', 3), ('C.D.P 愛在普羅旺斯', 3), ('韓波俐 Hanboly', 3), ('SKINPASTEL', 3), ('KOPIKO', 3), ('迪奧 Dior', 3), ('ROUDYE 柔蝶', 3), ('上豪 SUNHOW', 3), ('BeautyDisplay', 3), ('威靈頓', 3), ('玉之肌 MIYOSHI', 3), ('guerisson', 3), ('澤井', 3), ('歐斯恩 Oceanique', 3), ('全植媽媽', 3), ('honey', 3), ('維大力', 3), ('Center-in', 3), ('完美日記 PERFECT DIARY', 3), ('杏輝醫藥', 3), ('海陸饗宴 Taste of the Wild', 3), ('R.O.C.S', 3), ('suisai', 3), ('富力森 Furimori', 3), ('鴻宇 HongYew', 3), ('Vitasoy 維他奶', 3), ('Nature Tree', 3), ('盛田', 3), ('源珍', 3), ('GHR健康主義', 3), ('ELENCE 2001', 3), ('FARLIN', 3), ('咖啡工廠', 3), ('LuLuLun', 3), ('Patto', 3), ('BeautyEasy', 3), ('毛孩快跑 Running Pets', 3), ('魔力喵 MjAMjAM', 3), ('飛狼 Jack Wolfskin', 3), ('ReVive 麗膚再生', 3), ('沛綠雅 Perrier', 3), ('神奇爺爺 Grandpa’s Soap', 3), ('潔芬 Jie Fen', 3), ('Luwak', 3), ('KUMNONG', 3), ('森下仁丹Ravis', 3), ('MAGICOM', 3), ('VANICREAM 薇霓肌本', 3), ('恩能康見', 3), ('Thayers', 3), ('喵洽普 PLAN CAT', 3), ('臻豆坊', 3), ('EAU 耀', 3), ('韓國422Inc', 3), ('花王kao', 3), ('NUXE 巴黎歐樹', 3), ('金車補給園', 3), ('ZOEVA', 3), ('瑪宣妮', 3), ('Bella Beauty', 3), ('Ferrarelle', 3), ('TiDdi', 3), ('11益生菌', 3), ('NeoStrata 芯絲翠', 3), ('健美生', 3), ('PG美人網', 3), ('海饌', 3), ('北的快適工房', 3), ('婕樂纖', 3), ('麗雅雪尼爾', 3), ('NIOU AMAZE 紐奇肌', 3), ('阿曼達 ANIMONDA', 3), ('哈格 Hug', 3), ('燒鳥一番', 3), ('芙絲 VOSS', 3), ('Be My Boyfriend', 3), ('Givenchy 紀梵希', 3), ('絲帕 SPA', 3), ('Tsae Ti 采緹', 3), ('TO BE WHITE', 3), ('法國特福 Tefal', 3), ('野宴 LIVIN’ WILD', 3), ('JSmax', 3), ('歐力婕', 3), ('ALBION 奧碧虹', 3), ('阿基姆 AGiM', 3), ('田記', 3), ('userism', 3), ('凱特鮮廚', 3), ('PALMOLIVE', 3), ('凱婷 kate', 3), ('好朋友', 3), ('松木家電 MATRIC', 3), ('Vbot', 3), ('Miss Seesaw', 3), ('PSK 寶絲汀', 3), ('飛樂 philo', 3), ('AXA', 3), ('優柏 EUPA', 3), ('丸友', 3), ('日田天領水', 3), ('Leun Plus', 3), ('摩斯漢堡 MOS', 3), ('咖啡綠商號', 3), ('川西', 3), ('NOBLE ISLE', 3), ('黑船長', 3), ('埔里', 3), ('Green Pharmacy', 3), ('ENVIN', 3), ('食芋堂', 3), ('中深焙', 3), ('松井 SONGEN', 3), ('牧田 MAKITA', 3), ('美麗紀事', 3), ('歐芮坦ORITA', 3), ('詩丹雅蘭', 3), ('庵古坑', 3), ('喜滿屋', 3), ('Aroh 艾洛', 3), ('V FAU', 3), ('奇拉 Keyra', 3), ('Burge', 3), ('水森活', 3), ('德記', 3), ('韓國2080', 3), ('PERCOL', 3), ('風騰', 3), ('Foramen', 3), ('璞草園 GRANGE', 3), ('THE FACE SHOP菲詩小舖', 3), ('LION Kirei-kirei 日本獅王趣淨', 3), ('Shirmeny 雪曼妮', 3), ('449乾麵舖', 3), ('HEUM', 3), ('Aroma zone', 3), ('歌林 kolin', 3), ('PS美美妍', 3), ('希翠斯 CITRUS', 3), ('Sole', 3), ('EUPA', 3), ('亮潔', 3), ('MUMCHIT默契', 3), ('生育家', 3), ('維他麥', 3), ('OUTSY select', 3), ('桃屋', 3), ('Vitantonio', 3), ('心僕鮮食 Simple Sense]', 3), ('Kirkland Signature 科克蘭', 3), ('Ms.COSMED', 3), ('金展輝', 3), ('DURU', 3), ('SPARKLE', 3), ('摩爾思', 3), ('愛酪麗 AvoDerm', 3), ('快譯通 Abee', 3), ('MOMA', 3), ('cha tzu tang 茶籽堂', 3), ('健康紀元 HEALTHY ERA', 3), ('RONEVER', 3), ('潘海利根', 3), ('好吉康 WELLCOME', 3), ('Hands@work 手護適', 3), ('TRAVELER 旅行者', 3), ('穀盛 KOKUMORI', 3), ('Amino Mason', 3), ('樂米 LARMI', 3), ('KITEKAT', 3), ('荷柏園', 3), ('Najel', 3), ('GOLD SUITE', 3), (\"O'Keeffe's 歐肌膚\", 3), ('艾肯', 3), ('優力巾', 3), ('Lestar', 3), ('興波咖啡', 3), ('小牧好好', 3), ('羅多倫和餐', 3), ('Dr.Douxi朵璽', 3), ('R.Q.POLO', 3), ('SHER 夏爾保養', 3), ('PEZRI派翠', 3), ('貓食坊 Cat food Square', 3), ('Lucas Papaw', 3), ('自然物語 Nature Story', 3), ('Chum Churum', 3), ('享溫馨', 3), ('愛接觸', 3), ('senscience', 3), ('Hi-Life', 3), ('BOTANICAL ESTHE', 3), ('Clio 珂莉奧', 3), ('TUNEMAKERS', 3), ('聲寶 Sampo', 3), ('立可樂', 3), ('永豐餘', 3), ('蹺蹺板小姐', 3), ('Blackmores澳佳寶', 3), ('味滋康', 3), ('蕾娜塔 RENATA', 3), ('生力啤', 3), ('皇雀咖啡', 3), ('AYAM', 3), (\"Ingram's 英格朗\", 3), ('伊麗莎白雅頓', 3), ('Tempo', 3), ('天目雷', 3), ('滴露', 3), ('速利高 SOLID GOLD', 3), ('菲力家族', 3), ('菲特研 FIRST LAB', 3), ('利民 Thermalright', 3), ('Dermisa', 3), ('富華', 3), ('台中市農會', 3), ('蓓昂斯 BYPHASSE', 3), ('芙玉寶', 3), ('上海灘阿杜', 3), ('香草魔法 WISH BONE', 3), ('TEMBA', 3), ('北大武', 3), ('Attento', 3), ('艾霏 Efficat', 3), ('喵皇奴', 3), ('Chinook', 3), ('須眉 SMATE', 3), ('IFOA', 3), ('Nailmatic', 3), ('清淨園', 3), ('朝日田野', 3), ('Fees 法緻', 3), ('A’kin', 3), ('COCCHI', 3), ('德國貓王 Venandi Animal', 3), ('西螺農會', 3), ('Rausch', 3), ('KAI 貝印', 3), ('COCOCHI', 3), ('瓦城', 3), ('酷碼 CoolerMaster', 3), ('福壽 FUSO Pets', 3), ('呼嚕貓', 3), ('bandai', 3), ('鬼女神', 3), ('皇冠', 3), ('毛孩王', 3), ('ACTS 維詩彩妝', 3), ('臥龍咖啡工作室', 3), ('QUEEN BEE 蜂王', 3), ('賀眾牌', 3), ('美國Oster', 3), ('全健護', 3), ('喵愛餡 Temptations', 3), ('Miine', 3), ('RICO baby', 3), ('BROOK’S', 3), ('尚美德', 3), ('小分子', 3), ('Melvita 蜜葳特', 3), ('古坑鄉農會', 3), ('Chacott', 3), ('伊德爾', 3), ('靠茶', 3), ('ONE THING', 3), ('Dr.Choice', 3), ('綠的Green', 3), ('霸虎 BUFF', 3), ('ikbc', 3), ('CANUS 肯拿士', 3), ('Dulgon 得而康', 3), ('Kit cat', 3), ('御姬賞', 3), ('荒野饗宴 Dance With Wolf', 3), ('Hofbrauhaus Wolters', 3), ('SAKIO', 3), ('Dazzleslim 黛若詩琳', 3), ('Scalp X', 3), ('憶霖', 3), ('天霖純水', 3), ('Ma:nyo 魔女工廠', 3), ('JARDIN', 3), ('Minor Figures 小人物', 3), ('芳吉絲 Heit Miro', 3), ('hida', 3), ('茶籽堂 cha tzu tang', 3), ('海爾', 3), ('佐登妮絲', 3), ('SABA', 3), ('特福 TEFAL', 3), ('享味食光', 3), ('雙飛燕', 3), ('NAKAY', 3), ('寶仕', 3), ('NATURAL10+', 3), ('山元', 3), ('織眠家族', 3), ('台灣農林', 3), ('Pascual', 3), ('歐客佬 OKLAO', 3), ('科德司', 3), ('羅蜜歐 Romeo', 3), ('全效', 3), ('台農崙背', 3), ('HEAD 海德', 3), ('LION獅王', 3), ('風格', 3), (\"Burt's Bees 小蜜蜂爺爺\", 3), ('虎屋', 3), ('脆樂芙 Thrive', 3), ('沛柔 PearlAu', 3), ('正負零', 3), (\"It's skin\", 3), ('AQUAGEN', 3), (\"BURT'S BEES 小蜜蜂爺爺\", 3), ('髮旺旺', 3), ('大隱珈琲', 3), ('NICKA. K 妮卡', 3), ('田倉 TAKURA', 3), ('su:m37 甦秘', 3), ('NOBORI 諾婕蒂', 3), ('Mr.Smart', 3), ('葉璐芝', 3), ('未來實驗室 Future Lab.', 3), ('義大利Giaretti', 3), ('猛將', 3), ('山崎', 3), ('多納滋 Natural Pie', 3), ('Cheerios', 3), ('Plantur 21', 3), ('美樂', 3), ('Baekoksaeng', 3), ('PURE', 3), ('36法郎', 3), ('MY LITTLE PONY', 3), ('epoux', 3), ('御膳坊', 3), ('韓國 LACTO', 3), ('GRANAROLO', 3), ('長髮公主的秘密', 3), ('濱川佐櫻', 2), ('柔軟熊', 2), ('全球寵物', 2), ('瑞奇 RICH.C', 2), ('E.dot', 2), ('皇家玫瑰 Royce', 2), ('Lameila 拉美拉', 2), ('小潔革命', 2), ('ETVOS', 2), ('HERBOX 荷柏園', 2), ('百年薔薇', 2), ('SEMPIO', 2), ('凱茲 Catz', 2), ('本家生機', 2), ('LACHESCA', 2), ('菲爾比 Health Philosophy', 2), ('咖樂迪咖啡農場', 2), ('伊瑪 imarflex', 2), ('鵝媽媽 Mother Goose', 2), ('閃彩', 2), ('日象 zushiang', 2), ('Queens choice', 2), ('康尼菲 KNF', 2), ('寶貝餌子', 2), ('philosophy 肌膚哲理', 2), ('欣目益福', 2), ('伊藤園', 2), ('美寧 Mistral', 2), ('CatChup', 2), ('May Shop', 2), ('JMScent', 2), ('山崎 YAMASAKI', 2), ('Oster', 2), ('鐵修羅 TESORO', 2), ('BABE 貝貝實驗室', 2), ('ZAVIDA', 2), ('凱娜', 2), ('椒井', 2), ('蓓蕊', 2), ('CAUDALIE 歐緹麗', 2), ('小澤 Kozawa', 2), ('日本Iris Ohyama', 2), ('ANGFA', 2), ('垣戊', 2), ('恩荷 enherb', 2), ('卡碧絲', 2), ('HUKUMI', 2), ('DR.SHINE', 2), ('孝親', 2), ('達能', 2), ('AVALON ORGANICS', 2), ('CAPITANO', 2), ('名屋', 2), ('麗美', 2), ('巴馬', 2), ('美娜多', 2), ('掠奪者 Predator Shot', 2), ('鋒味', 2), ('塔谷米 TAKUMI', 2), ('FOODAHOLIC', 2), ('NAF', 2), ('鷹記維他', 2), ('草繹', 2), ('肯辛通Kensington', 2), ('DMS 德妍思', 2), ('LOGOS', 2), ('旺滴', 2), ('奇寶', 2), ('諾帝亞 Zodiac', 2), ('LOVEISDERMA 愛斯德瑪', 2), ('永新牌', 2), ('波菲特 PURRFACT', 2), ('高橋', 2), ('Secret Key', 2), ('曼仕德', 2), ('仙格麗塔 Segreta', 2), ('好一頓', 2), ('SAUGELLA 賽吉兒', 2), ('海洋之星 FISH4CATS', 2), ('LOLE’S', 2), ('益菌革命', 2), ('Bubchen 貝臣', 2), ('好寶貝', 2), ('Dr.Hsieh', 2), ('威寶', 2), ('普潔', 2), ('唯美味 WERUVA', 2), ('真愛', 2), ('艾黎亞', 2), ('凱飛', 2), ('DERMAL 德瑪', 2), ('Baan', 2), ('仙女牌', 2), ('HOLIKA HOLIKA', 2), ('托斯卡 Tuscan Natural', 2), ('汪事如意', 2), ('島乃香', 2), ('活力廚坊', 2), ('旺旺集團', 2), ('加拿大國寶', 2), ('RHINO 犀牛', 2), ('VITA', 2), ('Dr.歐思佛', 2), ('威客維', 2), ('Valor', 2), ('Youus', 2), ('眷戀', 2), ('植萃 herb', 2), ('LADOR', 2), ('QIDINA', 2), ('特樂舒', 2), ('女皇咖啡', 2), ('SUUNTO', 2), ('愛迪生', 2), ('ORANOT奧兰諾', 2), ('東邦 UTAMARO', 2), ('DR.JOU 達特周', 2), ('綾鷹', 2), ('香氛之家 Aroma of Home', 2), ('Wafood Made', 2), ('妙奇 MOGGY', 2), ('Matador', 2), ('DR.VT', 2), ('京都小川', 2), ('BBIA', 2), ('姍莎菈', 2), ('Skin Biotheory', 2), ('比利時凱瑞克', 2), ('MOROCCANOIL', 2), ('MERCURYDUO', 2), ('贏 IN-PLUS', 2), ('烏麗絲 MAVROS', 2), ('OLIVOS奧莉芙的橄欖', 2), ('微繫時光 Romeo L.', 2), ('SkinRolling 新科若林', 2), ('芭弗莎林', 2), ('宏裕行', 2), ('sesderma 賽斯黛瑪', 2), ('Teapower 茶寶', 2), ('KENT', 2), ('安田', 2), ('PUPA', 2), ('Green Finger', 2), ('PowerMate', 2), ('DAISHO', 2), ('ESCENTS 伊聖詩', 2), ('CAT CHOW', 2), ('漢美馳 Hamilton Beach', 2), ('新東陽', 2), ('熊愛咖啡', 2), ('Natural D', 2), ('HIS CAFE', 2), ('NOODLE & BOO', 2), ('禾護', 2), ('SACLA', 2), ('荷麗美加', 2), ('中祥麵', 2), ('三洋', 2), ('CC daily', 2), ('saraya', 2), ('德晉 Der Jinn', 2), ('Deary', 2), ('QPNP', 2), ('Cathy Doll 凱蒂娃娃', 2), ('典豆成金', 2), ('羅密歐', 2), ('Plants', 2), ('比利瑪格 Billy+Margot', 2), ('ONE HOUSE', 2), ('Arome by Watsons', 2), ('愛引力', 2), ('ACE', 2), ('WONDER TREND', 2), ('歐克威爾 oh-care', 2), ('Pureal', 2), ('雙星牌', 2), ('saeve 樹予', 2), ('JJPRO', 2), ('Lilybyred', 2), ('Schesir', 2), ('台鳳', 2), ('豆腐盛田屋', 2), ('松井', 2), ('雷雪', 2), (\"MEN'S Bioré\", 2), ('LOVE MORE 愛戀膜法', 2), ('博比', 2), ('Keychron', 2), ('spococo', 2), ('Cocoegg', 2), ('CALYPSO', 2), ('金寶', 2), ('Sofnon 詩芙儂', 2), ('MISSHAN 韓秀姬', 2), ('Primo Ordine 普瑞迪娜', 2), ('樂絲 Loshi', 2), ('濱田', 2), ('捷視 Nugens', 2), ('Probo 博寶兒', 2), ('CJ LION', 2), ('Les nez 香鼻子', 2), ('綠農', 2), ('草本24', 2), ('采媚', 2), ('綺緣', 2), ('Eisai 衛采', 2), ('麗克特', 2), ('羅密歐 ROMEO', 2), ('OMORY', 2), ('MOUSSENATURE 沐時光', 2), (\"OUL'ISI 歐麗絲\", 2), ('MKH無窮花', 2), ('COCK', 2), ('蒸健康', 2), ('RiRe', 2), ('陽明生醫', 2), ('FLEXIN', 2), ('CRAFT BOSS', 2), ('朵蔓朵蓮 Dormindorcin', 2), ('和成', 2), (\"I'NESVIA\", 2), ('VICO', 2), ('丸秀', 2), ('美國貝克 PetAg', 2), ('Botanical 1st', 2), ('伊聖詩', 2), ('西湖市場', 2), ('AROHA TRIZ', 2), ('Anua', 2), ('比菲多乳之初', 2), ('KIMBO', 2), ('HANSKIN', 2), ('日象 Zushiang', 2), ('EMO PERFECT', 2), ('活力滋', 2), ('江鳥咖啡', 2), ('Cure', 2), ('NIJIYA', 2), ('Gelovery', 2), ('野獸叢林', 2), ('xoxo', 2), ('片岡', 2), ('博士美', 2), ('彩虹雨點', 2), ('Nice＆Quick', 2), ('李記', 2), ('捷元 Genuine', 2), ('FANCL 芳珂', 2), ('森林物語', 2), ('太星電工', 2), ('奇妮 Gennies', 2), ('金牌大師', 2), ('南投國姓農會', 2), ('英倫薇朵 H＆W', 2), ('S+DIAMOND 鑽美姬', 2), ('黑鷹 BlackHawk', 2), ('CORONA', 2), ('Real Thai', 2), ('Copper Chef', 2), ('Infocus', 2), ('Tsuvimi', 2), ('Lirene', 2), ('amadana', 2), ('薇達', 2), ('LEHO植萃家', 2), ('UFC', 2), ('愛益康', 2), ('皇鼎', 2), ('Alcatroz', 2), ('Abuns', 2), ('瑞威 Real nature', 2), ('Cosme Decorte 黛珂', 2), ('柔蝶 Roudye', 2), ('OKAWA', 2), ('Aromatherapy Associates', 2), ('ARMANI 亞曼尼', 2), ('pretty by flormar', 2), ('森產業', 2), ('StriVectin', 2), ('長庚生技', 2), ('Bioneed', 2), ('Double Power', 2), ('sanosan 德國珊諾', 2), ('JustHerb', 2), ('味榮', 2), ('Pure Smile', 2), ('chicco', 2), ('MK customer', 2), ('Botanical All-In-One', 2), ('u beauty 澳洲依美油', 2), ('IKARI', 2), ('OPTIMUM', 2), ('STAR FASHION', 2), ('酵速工坊', 2), ('Blackmonster', 2), ('Derma 丹麥德瑪', 2), ('莎特 SATTER', 2), ('美島水肌', 2), ('Balea芭樂雅', 2), ('DeMon', 2), ('吉妮斯', 2), ('德國卡爾 Carl Schmidt Sohn', 2), ('mixim POTION', 2), ('凱瑞克 KALORIK', 2), ('LOBO', 2), ('立菱尹', 2), ('海德 HEAD', 2), ('Oven-Baked', 2), ('Ziaja 齊葉雅', 2), ('原野優越 Earthborn', 2), ('Haglofs', 2), ('民生', 2), ('知覺', 2), ('AZZEEN 芝研', 2), ('Peach and', 2), ('克奈圃 Kneipp', 2), ('DermEden 得美登', 2), ('S.W. Basics', 2), ('菇王', 2), ('西螺大同', 2), (\"Pure'n soft\", 2), ('ST雞仔牌', 2), ('GIOVANNI', 2), ('Natural Food', 2), ('CRABTREE 瑰柏翠', 2), ('武山', 2), ('韓味不二', 2), ('舒益優', 2), ('日本Toffy', 2), ('袋鼠 Kangol', 2), ('日本石鹸', 2), ('Paris Fashion 巴黎香氛', 2), ('bab 培寶', 2), ('Maison Louis Marie', 2), ('Derma&More', 2), ('W.DRESSROOM', 2), ('Natures Care', 2), ('YANAGIYA 柳屋', 2), ('科隆 Kolln', 2), ('愛爾', 2), ('晶鈺', 2), ('悠康', 2), ('FOSSIL', 2), ('FINE JAPAN', 2), ('真鍋', 2), ('Acecook旨味杯麵', 2), ('威克邦尼Wicked Bunny', 2), ('Grizzly', 2), ('永用牌', 2), ('Domo', 2), ('沐潤', 2), ('樂亦康', 2), ('ANGFA SCALP-D Beaute ANGFA 絲凱露D', 2), ('咖樂迪', 2), ('ELLIA 伊莉亞', 2), ('plas', 2), ('永信牌', 2), ('Arnest', 2), ('PONY MEMEBOX', 2), ('Beloved&Co', 2), ('藏咖啡', 2), ('新生活純鮮乳品', 2), ('成功 SUCCESS', 2), ('宏碁 Acer', 2), ('麗汝齒', 2), ('海吉尼斯', 2), ('巴西里亞 Brasilia', 2), ('Paris fragrance 巴黎香氛', 2), ('湯姆盛', 2), ('益豆之優', 2), ('幸福貓 Snappy TOM', 2), ('COLEMAN', 2), ('植靠淨 SPOTLESS', 2), ('AURORA MYZA', 2), ('超視王', 2), ('德國百妮', 2), ('royal unibrew', 2), ('皇家特莉 Tilley', 2), ('優柏', 2), ('摩堤 MULTEE', 2), ('J.Gasco', 2), ('東洋QTTA', 2), ('BLUEPINE', 2), ('芙樂思', 2), ('生活良好', 2), ('One amadana', 2), ('DJB', 2), ('優佳麗', 2), ('義大利金杯咖啡', 2), ('HAPPY OWL', 2), ('大河', 2), ('比菲多優意思', 2), ('YVES Rocher', 2), ('TRESemme', 2), ('聯碩 LENSO', 2), ('New Anna', 2), ('BowWow', 2), ('優識立', 2), ('創離子 CREATE ION', 2), ('斑尼菲 BENEFIT', 2), ('GreenPan', 2), ('松山油脂', 2), ('璞草園', 2), ('喜樂寵宴JOY FOOD', 2), ('MASIL', 2), ('yome', 2), ('艾克博士 Dr. Aik', 2), ('倍樂福 Benevo', 2), ('Voluspa', 2), ('HOYA', 2), ('NATURAL LADY', 2), ('SHANEN', 2), ('美喵人生 O’KAT', 2), ('義大利Balzano', 2), ('優護', 2), (\"Chen's Dim Sum\", 2), ('Aprilskin', 2), ('Petia', 2), ('Mediplus 美樂思', 2), ('快睿 CRYORIG', 2), ('deSIAM暹羅', 2), ('采緹', 2), ('MATSUKIYO', 2), ('真柑淨', 2), ('康是美自有品牌', 2), ('豬跳舞', 2), ('SVG 淨七代', 2), ('一風堂', 2), ('耕心田', 2), ('南亞牌', 2), ('大拇指 FP', 2), ('LOTUS', 2), ('小小 PETIT', 2), ('烘焙客 Oven Baked', 2), ('柳宗理', 2), ('POMI', 2), ('毛穴撫子', 2), ('泰安', 2), ('CONVERSE', 2), ('親密貓 MyDearCat', 2), ('優兒康', 2), ('Mylk', 2), ('哈嘍24h', 2), ('大嚐津', 2), ('Superfiber', 2), ('小適 White', 2), ('MAYCHEER', 2), ('GRACE ONE 極上活妍', 2), ('朗德林 Laundrin', 2), ('SANGARIA', 2), ('倍思特 BEST', 2), ('康芙麗 Comefree', 2), ('紐健士 Supreme Source', 2), ('愛情貴族', 2), ('幸福時光', 2), ('ALLEGRINI', 2), ('Agafia阿卡菲', 2), ('SARAYA', 2), ('東森耐斯', 2), ('UNITEC 彤妍', 2), ('栢歐康', 2), ('Somerset 賽玫特', 2), ('紐西蘭紅印 Red Seal', 2), ('QUALITY 1ST', 2), ('ALOBABY', 2), ('德京 Deukonig', 2), ('alkmene 歐坷蔓', 2), ('魔蠍 MARVO', 2), ('夫力士', 2), ('六合', 2), ('越南厚生', 2), ('Sparkles SP', 2), ('akvile', 2), ('Eilles', 2), ('福汎', 2), (\"mod's hair\", 2), ('敏亦樂', 2), ('S&W', 2), ('PUSH!', 2), ('uy28 優雅美體', 2), ('Tiki Cat', 2), ('愛華 aiwa', 2), ('夏士蓮', 2), ('日光 NIKKO', 2), ('NATURA SIBERICA', 2), ('狄寶 DEERDOGS', 2), ('I’m Sorry For My Skin', 2), ('維克 Virbac', 2), ('愛棒', 2), ('OWay', 2), ('贏 IN-Plus', 2), ('NIAGARA', 2), ('和田順', 2), ('HAU SANH', 2), ('VOSUN', 2), ('sillymann', 2), ('Corsini', 2), ('MITOMO', 2), ('台灣三洋', 2), ('派仕', 2), ('TONYMOLY', 2), ('Wellness', 2), ('Manetti Roberts', 2), ('DAESANG大象', 2), ('怪獸部落', 2), ('OGEU', 2), ('LAPOLO', 2), ('澳洲ND', 2), ('LOVE 愛的獎勵', 2), ('SNEAKY', 2), ('Swanson', 2), ('EcoSoya Brands', 2), ('鼎新', 2), ('DIOR', 2), ('Healthlead', 2), ('Fujiko', 2), ('NAIRIA 奈良彌亞', 2), ('PARFUM', 2), ('conoha沐予', 2), ('ZERO9', 2), ('御衣坊', 2), ('麗奇', 2), ('海滴', 2), ('Mandom Beauty', 2), ('亞尼活力', 2), ('勤億', 2), ('TOKYO STAR', 2), ('Clover', 2), ('富力鮮 Frisian', 2), ('COMBI', 2), ('CLAIR PARIS', 2), ('UNIQMAN', 2), ('Chrono Affection 時間寵愛', 2), ('OZEN', 2), ('Tilley 百年特莉', 2), ('明宜', 2), ('Zephyrine 初時肌', 2), ('艾克博士', 2), ('Downy', 2), ('ESPRIQUE PRECIOUS 丰靡美姬', 2), (\"O'right 歐萊德\", 2), ('UD 優麗美人', 2), ('象印 Zojirushi', 2), ('法國Najel', 2), ('DAZZSHOP', 2), ('BIOFUTURE 苾菲絲', 2), ('TKLAB', 2), ('統欣生物科技', 2), ('SHILLS', 2), ('捷藝 JetArt', 2), ('Q PNP', 2), ('沛優絲 Bioblas', 2), ('羅蜜歐 Romel L', 2), ('法國小橄欖樹 Le Petit Olivier', 2), ('啡茶時刻', 2), ('卡滋 KAZI', 2), ('李寧 LI-NING', 2), ('ERGOLINK', 2), ('iCooby', 2), ('蕾蒂金 ladykin', 2), ('興農', 2), ('藤蔓擴香氛 fancy', 2), ('德記洋行 TAIT TEA', 2), ('賈羅公式', 2), ('烤一百', 2), ('尼克亞力', 2), ('卡詩 KERASTASE', 2), ('高地之泉', 2), ('PETIO', 2), ('LANAMI', 2), ('屏東監獄', 2), ('TIDE', 2), ('SPUTNIK 史普尼克', 2), ('John Masters Organics', 2), ('MARUTAI博多', 2), ('丸山', 2), ('達樂 DALE', 2), ('魏大夫 VF', 2), ('Familia', 2), ('Soapmax', 2), ('LUNASOL', 2), ('伊萊克斯', 2), ('LUNA', 2), ('SUGAO', 2), ('ANGFA 絲凱露', 2), ('愛惠浦 EVERPURE', 2), ('RIVO', 2), ('Colourpop', 2), ('U Jelly 優綺麗', 2), ('美洲獅COUGAR', 2), ('維康', 2), ('綠手指 Green Finger', 2), ('TATA', 2), ('ETUDE HOUSE', 2), ('中華豪井', 2), ('Cover Nail', 2), ('鐮刀 SCYTHE', 2), ('科西塔 KUCINTA', 2), ('山豬園', 2), ('零零', 2), ('藍寶 BLAUPUNKT', 2), ('BLUE DIAMOND', 2), ('IOPE 艾諾碧', 2), ('六甲田莊', 2), ('Uriage 優麗雅', 2), ('艾維特', 2), ('Dr.Hows', 2), ('GOURMIA', 2), ('大興吉', 2), ('SANG-A', 2), ('好日子', 2), ('\\u200eD-UP', 2), ('InfoThink', 2), ('極淨適', 2), ('LANCOME 蘭蔻', 2), ('泰浦樂 Toppuror', 2), ('雙揚 I-GOTU', 2), ('永信 HAC', 2), ('BERIOSKA', 2), ('奇格利爾', 2), ('萃康髮 Tricovel', 2), ('Madonna', 2), ('WEDAR', 2), ('愛戀咖啡', 2), ('Derma', 2), ('JYD', 2), ('曜越 Luna', 2), ('光之瀅 Touch in SOL', 2), ('柑橘王子', 2), ('ARENCIA', 2), ('VICHY薇姿', 2), ('朝日', 2), ('VENUS MARBLE', 1), ('快護', 1), ('Kanokwan', 1), ('GHR', 1), ('Swift', 1), ('華菱', 1), ('248農學市集', 1), ('愛恩富', 1), ('奇異廚房 Kiwi Kitchens', 1), ('珈樂堤 Giaretti', 1), ('LUBRIDERM', 1), ('樂格 LOG', 1), ('特力屋 HOLA', 1), ('NEW DIRECTIONS', 1), ('nac', 1), ('Sea to summit', 1), ('優派 ViewSonic', 1), ('唯浴雅', 1), ('FORCANS', 1), ('MIZON', 1), ('貝克', 1), ('頂尖國際', 1), ('MEDI-PEEL', 1), ('婦樂寧', 1), ('可立潔', 1), ('belif', 1), ('MIKIMOTO 御木本', 1), ('三菱', 1), ('白象', 1), ('雅各布 JACOBS', 1), ('UncleWu', 1), ('沐可麗', 1), (\"SMITH'S ROSEBUD SALVE\", 1), ('VENCEDOR', 1), ('ALLgood 奧護佳', 1), ('EVAS', 1), ('Future Lab 未來實驗室', 1), ('猛特斯 MiNTiES', 1), ('百貓喜 Best Feline Friend', 1), ('HR 赫蓮娜', 1), ('CLAYPATHY 珂莉帕妃', 1), ('路易莎', 1), ('Urban Apothecary', 1), ('Evoluderm', 1), ('茉娜姿 moraz', 1), ('isoi 伊所愛', 1), ('vt cosmetics X BT21', 1), ('TOMOMASU', 1), ('NOW娜奧', 1), ('陸丁博士', 1), ('川中', 1), ('阿曼特 Armonto', 1), ('Dr.spa', 1), ('TURBO TENT', 1), ('米膚 Reise', 1), ('BLACK BLAZE', 1), ('MUMCHIT', 1), ('凡諦斯 Vintage', 1), ('小紅帽咖啡 Julius Meinl', 1), ('VAN PUR', 1), ('非寵不可', 1), ('義士大廚 almo', 1), ('強生 CHANSON', 1), ('艾特優', 1), ('船山舒雞', 1), ('MALIBU BEAUTY', 1), ('維維絲 Viviscal', 1), ('morelife', 1), ('菇王食品', 1), ('SWEEP ROBOT', 1), ('美菱 MAYLINK', 1), ('Modori', 1), ('AnnChen 陳怡安手工皂', 1), ('Osun', 1), ('史努比', 1), ('再再之在', 1), ('Farlin', 1), ('Sigma', 1), ('莊淑旂養生莊園', 1), ('和田寬', 1), ('FL 生活+', 1), ('必安住', 1), ('凱綺萃 KGCHECK', 1), ('旺兒 Blackdog', 1), ('HANDPURENA', 1), ('La Voie Lactee 銀河莊園', 1), ('天然磨坊', 1), ('詩蘭朵 SERLANDO', 1), ('CSmart+', 1), ('BB LOVE', 1), ('Jergens 婕可詩', 1), ('松木', 1), ('陪心寵糧 NU4PET', 1), ('DaPoLuLuMi', 1), ('Instant Pot', 1), ('十味觀', 1), ('HelloKitty', 1), ('小銅板', 1), ('富基-10', 1), ('上元', 1), ('HOJO', 1), ('喜躍 Party Mix', 1), ('歐格妮亞 Organia', 1), ('草本風采', 1), ('肯麥斯', 1), ('幸福花浴', 1), ('詩夢絲 SMOOTH', 1), ('康貝 Combi', 1), ('POLA', 1), ('EKEL', 1), ('DR.KONOPKAS 柯諾普卡', 1), ('Loupedeck', 1), ('台塩', 1), ('迪士尼 Disney', 1), ('Le Labo', 1), ('STEMCIN', 1), ('人可和', 1), ('純萃喝', 1), ('AHOYE', 1), ('百喬生醫', 1), ('健康總匯', 1), ('雄獅', 1), ('創鮮家', 1), ('潘柔 PANROSE', 1), ('pecobono', 1), ('BodyTalk', 1), ('VT', 1), ('蕾莉歐 L’ERBOLARIO', 1), ('iti', 1), ('芭樂雅 Balea', 1), ('自白肌', 1), ('齒方籤', 1), ('每朝健康', 1), ('三菱 Mitsubishi', 1), ('德萊維 Dellware', 1), ('一午一食', 1), ('舒珊', 1), ('Bonnie House 植享家', 1), ('御皇居 ROYAL', 1), ('全球寵物 GLOBAL PETS', 1), ('佳貝', 1), ('Esthe Dew', 1), ('Amino', 1), ('渴達 TUNDRA', 1), ('WASHAMl', 1), ('大炒一番', 1), ('輕鬆美膚 ezskin', 1), ('御皇居', 1), ('元氣王', 1), ('Super Pad', 1), ('PINPAI', 1), ('Cosmic Mansion', 1), ('Revital 莉薇特麗', 1), ('Refine', 1), ('小風鈴', 1), ('North Field', 1), ('美琦', 1), ('柳屋 YANAGIYA', 1), ('5mins Shaper Pro', 1), ('Glolux', 1), ('潤姬桃子', 1), ('BH', 1), ('LB TOKYO', 1), ('Vital ESSENTIALS', 1), ('Tree Walker', 1), ('楓葉', 1), ('三得利 SUNTORY', 1), ('GREENWOOD', 1), ('INDOFOOD', 1), ('feso', 1), ('COSMETEX ROLAND', 1), ('詩芙儂 Sofnon', 1), ('Dr. Hauschka 德國世家', 1), ('BabyMoov', 1), ('Dr. organic 丹霓珂', 1), (\"I'm From\", 1), ('小禮堂', 1), ('領航家', 1), ('BY TERRY', 1), ('TRUE TISANE 草本體驗', 1), ('CHIN SU', 1), ('卵肌本舖', 1), ('生態綠', 1), ('哈維博士 Dr.Harvey', 1), ('大眼蛙 DOOBY', 1), ('LILFANT', 1), ('禾香牧場', 1), ('GARNIeR 卡尼爾', 1), ('MON', 1), ('DIBOTE', 1), ('Waiz', 1), ('PROBOX', 1), ('FORMOSA', 1), ('崇德發', 1), ('RCMA', 1), ('汗馬', 1), ('Weg', 1), ('ByFunMe', 1), ('凡爾賽玫瑰', 1), (\"K'ANHO\", 1), ('曼龍 Mloong', 1), ('HealthLife', 1), ('ELUJAI', 1), ('Fleurient 芙樂莉', 1), (\"帕瑪氏 PALMER'S\", 1), ('俏樂斯 CHURACOS', 1), ('機植之丘', 1), ('RUB LOM', 1), ('緣蘋果', 1), ('愛華', 1), ('卡維亞', 1), ('Lijay 琍睫', 1), ('AFC', 1), ('Piacelli', 1), ('元氣堂', 1), ('元園廖媽媽', 1), ('文鎧 WiNTEK', 1), ('合興', 1), ('ESPRIQUE PRECIOUS丰靡美姬', 1), ('THE RETINOTIME', 1), ('OMAX', 1), ('MORPHE', 1), ('茶月', 1), ('Dr.Ci:Labo 城野醫生', 1), ('易家', 1), ('Oshimon', 1), ('OK choice', 1), ('虎牙', 1), ('和田館', 1), ('HOMER', 1), ('儷康絲 NIOXIN', 1), ('和味', 1), ('伊頌天然', 1), ('威寶 Kaiser', 1), ('Super Love', 1), ('水涓肌', 1), ('Magicom', 1), ('花園', 1), ('阿德比', 1), ('鱷魚', 1), ('Sohome', 1), ('台灣好田', 1), ('Snails', 1), ('熊愛露', 1), ('QIU WEN', 1), ('普洛斯', 1), ('TRIBO COFFEE', 1), ('Skincure', 1), ('寵愛物語', 1), ('Queen Chef', 1), ('老北', 1), ('正豐', 1), ('Dermacol', 1), ('幸福流域', 1), ('AREX SPORT', 1), ('INSIGHT', 1), ('久保雅司', 1), ('瘋喵', 1), ('赤穗化成', 1), ('金金廣', 1), ('IVORY', 1), ('百慕達 BALMUDA', 1), ('享夢城堡', 1), ('創世紀 Montech', 1), ('哈亞', 1), ('Kamome', 1), ('牙得安', 1), ('Dr. 藝群', 1), ('Hito', 1), ('萊卡 LAICA', 1), ('A Star', 1), ('Flavour', 1), ('川越 WIEDEN', 1), ('康善秀Consensus', 1), ('NUBY', 1), ('ESSENSO', 1), ('MERRELL', 1), ('七里香', 1), ('唐美人', 1), ('優沛蕾 Yoplait', 1), ('Zoobies', 1), ('順光', 1), ('綠地', 1), ('自然鮮 NATURAL FRESH', 1), ('蘭韻', 1), ('家倍健', 1), ('Herbal care', 1), ('SCENTIO', 1), ('Bare for Bare', 1), ('KIDOL', 1), ('香吉士 Sunkist', 1), ('默墨咖啡 More Café', 1), ('綠藤生機', 1), ('TEPTIP', 1), ('OSUMA', 1), ('So Good', 1), ('Staresso', 1), ('Reise米膚', 1), ('SWISSDENT', 1), ('EMS', 1), ('DUKE', 1), ('Prreti', 1), ('翰欣 TrendSonic', 1), ('丸龜製套', 1), ('小泉成器 KOIZUMI', 1), ('九陽', 1), ('湛盧咖啡', 1), ('丹比 DANBY', 1), ('ABBA', 1), ('Chefrun', 1), ('TCRD', 1), ('成真咖啡', 1), ('立髮健 REVIVOGEN', 1), ('高島TAKASHIMA', 1), ('銀輝', 1), ('G+ 居家', 1), ('牧真', 1), ('OMG', 1), ('JUNG SAEM MOOL', 1), ('Unimat Riken', 1), ('星品牌 BEFIT', 1), ('Dairy Farmers', 1), ('Glysolid 葛利德', 1), ('精英 ECS', 1), ('美膳雅', 1), ('浩客 Hawk', 1), ('MILK＆CO', 1), ('東森自然美', 1), ('CARVIN KOLAI 卡汶克萊', 1), ('BonTon', 1), ('Ecowipes', 1), ('凱馳 KARCHER', 1), ('德國達麗 dalli', 1), ('THAI', 1), ('Peach C', 1), ('日虹牌', 1), ('千歲', 1), ('美的冒泡', 1), ('Freiz', 1), ('普樂 POLAR', 1), ('布朗博士', 1), ('三井生技', 1), ('酷涼 Esense', 1), ('幼獅 YOUTH', 1), ('St.Clare 聖克萊爾', 1), ('妙可適', 1), ('FASUN', 1), ('babaria', 1), ('天然一膳', 1), ('Pure Beauty', 1), ('Vitamer', 1), ('EDEKA', 1), ('艾瑪植萃', 1), ('vernal 唯娜露', 1), ('創益生技', 1), ('富力森', 1), ('理想 Perfect', 1), ('愛伊健康', 1), ('歐王 OUWANG', 1), ('MISS ROSE', 1), ('安娜蘇', 1), ('歐奇斯 ORGANIX', 1), ('拉拉熊 Rilakkuma', 1), ('實用牌', 1), ('Benks', 1), ('Wedderspoon麥蘆卡', 1), ('Tilley 皇家特莉', 1), ('Lafe’s', 1), ('波瑞歐 BOREAL', 1), ('Personal Care 柏詩克萊', 1), ('星記 STARMARK', 1), ('妮維雅 NIVEA', 1), ('必爾思', 1), ('HQ', 1), ('Arcticpet', 1), ('Les nez', 1), ('Benecos 蓓蓓珂娜', 1), ('喬山 JOHNSON', 1), ('CP-1', 1), ('agoy', 1), ('台灣G霸', 1), ('喵~噢 MEOW', 1), ('普騰 PROTON', 1), ('SOWA SOWA', 1), ('悠安美', 1), ('NeatEX', 1), ('brain cosmos', 1), ('TriMaxCell', 1), ('Cap', 1), ('惡靈戰警 S-ETAS', 1), ('be quiet', 1), ('黃金盾', 1), ('康沛特 Content Pets', 1), ('CUCCIO 古希歐', 1), ('CYCLAX', 1), ('綠森活', 1), ('小澤', 1), ('布瓦宏', 1), ('PURE HEART 純淨之心', 1), ('晶工', 1), ('富士通', 1), ('BV.i', 1), ('貝喜力 Basilic', 1), ('ATOPALM 愛多康', 1), ('雷斯特 Lexking', 1), ('美的', 1), ('利百代 LIBERTY', 1), ('NOMAMA', 1), ('Navalli Hill', 1), (\"梅亞奶奶 GRANDMA MAE'S\", 1), ('Osmile', 1), ('Weleda', 1), ('UNA 大森', 1), ('S’SIWISS 小瑞士花園', 1), ('EDIYA', 1), ('Wychwood Brewery', 1), ('哈妮來', 1), ('百喬', 1), ('耐斯', 1), ('Uni Star', 1), ('上品王', 1), ('超越巔峰 ABSOLUTE HOLISTIC', 1), ('MERPHIL', 1), ('GOLiFE', 1), ('e.l.f.', 1), ('TIGI', 1), ('Q-PET', 1), ('ERH', 1), ('Darlin 妲己佳人', 1), ('HONK', 1), ('Devon', 1), ('AUS LIFE 澳思萊', 1), ('Dent-Inn', 1), (\"Sven's Island 詩帆島\", 1), ('ENCHANTEUR 艾詩', 1), ('伊賀越', 1), ('蜂鳥', 1), ('JHT', 1), ('鑫耀生技', 1), ('Fresh 馥蕾詩', 1), ('新普利 Simply', 1), ('麗仁堂', 1), ('Gavi', 1), ('REVABLEND', 1), ('夏普 Sharp', 1), ('OZIO 歐姬兒', 1), ('多比 DOBI', 1), ('dayneeds', 1), ('LOTHANTIQUE 蘿丹緹', 1), ('雙燕牌', 1), ('PTnano', 1), ('INDOCAFE', 1), ('JoRoma', 1), ('伊瑪 Imarflex', 1), ('聯統', 1), ('美私樂', 1), ('Mustela', 1), ('名悅', 1), ('FLAWLESS', 1), ('朵米諾 QTeighteen', 1), ('天然保健所', 1), ('御田', 1), ('印象之美', 1), ('2080', 1), ('犀牛 Rhino', 1), ('台農燕巢', 1), ('愛購它 i gota', 1), ('Institut Karite Paris', 1), ('朵蔓朵蓮', 1), ('光泉頂級鮮奶優酪', 1), ('john masters organics', 1), ('Eufy', 1), ('狗子廚房', 1), ('和光堂 WAKODO', 1), ('AYCE', 1), ('艾肯 aiken', 1), ('SolVallée', 1), ('土羊哥', 1), ('J.Hannah', 1), ('IOIO', 1), ('Be quiet', 1), ('晨昌', 1), ('Vitakraft', 1), ('Frischli', 1), ('PettyMan', 1), ('GREEK GODS', 1), ('蜜蜂工坊', 1), ('Evolution', 1), ('醬本缸', 1), ('安伯特 ANBORT', 1), ('Hallmark', 1), ('無天家', 1), ('愛芙蓉 EVEROSE', 1), ('就是家 J HOME', 1), ('DOMO', 1), ('御膳房 Ushine Farm', 1), ('Lavender Cottage 薰衣草森林', 1), ('長庚', 1), ('mamalove', 1), ('優廚寶', 1), ('PetEst', 1), ('合家歡', 1), ('華麗牌', 1), ('恩特萬', 1), ('蜜葳特 Melvita', 1), ('GOLDEN', 1), ('B BALANCE', 1), ('Dr.Konopka’s', 1), ('Cass', 1), ('紐麥福', 1), ('AZOMA', 1), ('COMBO', 1), ('Granola House', 1), ('貝醫生 DR.BEI', 1), ('摩斯', 1), ('南王', 1), ('CureCare 安炫曜', 1), ('TOPLAN', 1), ('CITYCOLOR', 1), ('巴黎帕芬 Parfum', 1), ('素天堂', 1), ('台菱 Paddy', 1), ('Drip Bag Coffee', 1), ('CABREIROA', 1), ('TREEWALKER', 1), ('Lotte樂天', 1), ('Allegrini', 1), ('戀戀', 1), ('Jonzac 森朵恩泉', 1), ('ORIHIRO', 1), ('大倉美記 OKURA BIKI', 1), ('Malu Wilz', 1), ('詩柔', 1), ('伊法 Evolve', 1), ('KOYO', 1), ('WOMAN METHOD', 1), ('優活力', 1), ('Artisan', 1), ('茱莉蔻', 1), ('TCC', 1), ('你好 HELLO', 1), ('Lotus', 1), ('勁小子', 1), ('TAIGA', 1), ('美泰克 MAYTAG', 1), ('天文', 1), ('農會牌', 1), ('Cath Kidston', 1), ('Dr.Link 林克博士', 1), ('卡格 Kakato', 1), ('利護樂', 1), ('VOLFAS ENGELMAN', 1), ('舒澡', 1), ('芙蘿娜', 1), ('CHU', 1), ('Nicka.K', 1), ('loshi', 1), ('Natures Organics', 1), ('晶燉 Kingston', 1), ('PADDYWAX', 1), ('草本真情 herbally', 1), ('G+居家', 1), ('H.CITY', 1), ('爵士貓吧', 1), ('黑鮪 TORO', 1), ('HANRU 韓汝', 1), ('CheersJelly', 1), ('CORSICA 科皙佳', 1), ('LASKO', 1), ('LIPHIP', 1), ('Jo Malone', 1), ('戴維爵士', 1), ('波斯優格', 1), ('NEOCELL妮兒', 1), ('Wild Ferns 帕爾氏', 1), ('研達 YENDAR', 1), ('山鬼怪Sandokkaebi', 1), ('Time Leisure', 1), ('Wildkin', 1), ('Celvoke', 1), ('Diplona', 1), ('饗食 Peter', 1), ('KOZI', 1), ('愛力', 1), ('Vitabox', 1), ('蛋黃哥 gudetama', 1), ('卡汶克萊', 1), ('聯力 LIAN LI', 1), ('T-SING', 1), ('Nail Labo', 1), ('myhouse', 1), ('廚膳師', 1), ('富力森 FURIMORI', 1), ('日虎', 1), ('歐瑞 yarrah', 1), ('Real Barrier 沛麗膚', 1), ('沛麗康 Pelican', 1), ('愛生活', 1), ('UFT', 1), ('綠野鮮食Health Extension', 1), ('黃正宜', 1), ('璞莉可', 1), ('Einstök', 1), ('氧潤 arin', 1), ('Black Ice', 1), ('SamDaSoo', 1), ('FLYone', 1), ('寶益兒', 1), ('DTAudio', 1), ('Skoll', 1), ('諾格那 LOGONA', 1), ('ASTALIFT 艾詩緹', 1), ('YR', 1), ('佳龍', 1), ('海瑞', 1), ('國太樓', 1), ('Ajuste 愛伽絲', 1), ('惠健', 1), ('ALYEA', 1), ('idea auto', 1), ('山司伯特 SAN sports', 1), ('淺利佐助商店', 1), ('台灣山下 YAMASHITA', 1), ('安娜美廚 Annamaet', 1), ('IZUMI', 1), ('特惠牌', 1), ('歷峰集團', 1), ('柏森牌', 1), ('Combi 康貝', 1), ('Romix', 1), ('MURFEELI', 1), ('Lemin立明', 1), ('圖米其 Tu Meke Friend', 1), ('麗美盛', 1), ('Ariul', 1), ('盛源 SHENGYUAN', 1), ('錸德 RiDATA', 1), ('DaoDi', 1), ('火忍者', 1), ('Fujimaru', 1), ('QQ GIRL', 1), ('艾思柏 EXPERT', 1), ('王朝', 1), ('阿爾卡特 Alcatel', 1), ('健康曙光', 1), ('菲特研FIRST LAB', 1), ('eSpoir', 1), ('Breeza', 1), ('御鼎興', 1), ('生態綠 okogreen', 1), ('Mr.sci 賽先生科學', 1), ('MAYCHEER 美茜兒', 1), ('Coghlans', 1), ('AnneMarie Borlind 安娜柏林', 1), ('普登', 1), ('世界紀行', 1), ('澳思萊 AUS LIFE', 1), ('法緻 Fees', 1), ('奇異', 1), ('BOUTIQUE 璞莉可', 1), ('FRESA', 1), ('羅素 Russell Hobbs', 1), ('纖嚼 happi', 1), ('日喬恩', 1), ('21世紀', 1), ('美味小舖', 1), ('Baby Shark', 1), ('可娜 KONA', 1), ('班樂尼 Ballarini', 1), ('三菱電機', 1), ('大芳', 1), ('大王', 1), ('Cosplus 光妍', 1), ('蓓爾麗', 1), ('歐卡尼 Ocanis', 1), ('頤珍', 1), ('Kenwood', 1), ('himawari', 1), ('美美地墊 MayMay', 1), ('旺寶', 1), ('小狗電器 PUPPY', 1), ('WHOO 后', 1), ('Dr.HUANG 黃禎憲', 1), ('台灣伊日', 1), ('MIAU', 1), ('稻田齒', 1), ('倍舒暢300 Probiotics 300', 1), ('雲米', 1), ('ACIMED艾迪美', 1), ('蔚特尼思', 1), ('鴻嘉源', 1), ('Jonzac', 1), ('KIWIPET', 1), ('億長御坊', 1), ('謙謙創藝', 1), ('珂瑪德 GamARde', 1), ('JUONO', 1), ('USEEMI', 1), ('艾美特', 1), ('小魚嚴選', 1), ('蕾莉歐', 1), ('雅聞 ARWIN', 1), ('桑名 Sanjirushi', 1), ('鴻參', 1), ('ISNTREE艾草', 1), ('XINCHANG', 1), ('GamARde 珂瑪德', 1), ('桔植坊', 1), ('匠香 YEASTMASTER', 1), ('直白 ZHIBAI', 1), ('歐坷蔓 alkmene', 1), ('名仕', 1), ('APG', 1), ('優品', 1), ('醇養妍', 1), ('品諾 PINOH', 1), ('艾德蒙 AOC', 1), ('Huxley', 1), ('麒麟', 1), ('新豆族', 1), ('HOLA', 1), ('蓮發', 1), ('莫凡彼 MOVENPICK', 1), ('大食客', 1), ('樂米亞', 1), ('cocodor', 1), ('純在 Natural Benefits', 1), ('BIOCROWN 百匡', 1), ('得偉 DEWALT', 1), ('NAVALLIHILL 娜法莉', 1), ('Bioderma 貝膚黛瑪', 1), ('貓戀人', 1), ('薇霓肌本 VANICREAM', 1), ('BONIKA', 1), ('ORIP', 1), ('KURUN', 1), ('NOW 娜奧', 1), ('OLAPLEX', 1), ('BURBERRY', 1), ('渴望 ORIJEN', 1), ('洛斯巴赫 Rosbacher', 1), ('Acmedica', 1), ('ZOO', 1), ('AROY-D', 1), ('星宇航空', 1), ('KATE 凱婷', 1), ('宇治園', 1), ('KilaDoll 奇拉朵', 1), ('ADVANCED 艾德凡斯', 1), ('StClare 聖克萊爾', 1), ('稻屋生機', 1), ('Warm', 1), ('恩傑 NZXT', 1), ('森林擴香 Amaze', 1), ('GlossyBlossom', 1), ('良將', 1), ('ARLEM', 1), ('1ST CHOICE', 1), ('DEW', 1), ('皇冠 CROWN', 1), ('JOURDENESS 佐登妮絲', 1), ('紐約肯尼', 1), ('K＆K', 1), ('歐芮坦', 1), ('Genie 瓶中精靈', 1), ('Ecologic', 1), ('MAMA', 1), ('緹朗', 1), ('紐樂芙 Nulo', 1), ('Briochin', 1), ('ZIAJA', 1), ('醫敏家', 1), ('Relove', 1), ('宇晨 Denil Milu', 1), ('J.CatBeauty', 1), ('fafa', 1), ('lestar', 1), ('Baby Brezza', 1), ('Soft99', 1), ('寵物夥伴', 1), ('HB', 1), ('齋藤咖啡店', 1), ('VANILLA BLANC', 1), ('麗柏有機 Neobio', 1), ('天天', 1), ('Down power', 1), ('URBAN VEDA', 1), ('伊莉亞 ELLIA', 1), ('la lune 蘭韻', 1), ('荷蘭公主', 1), ('Skinvill', 1), ('SYLPH', 1), ('CITY', 1), ('Combo', 1), ('SNIPER  掠食者', 1), ('歐恩 on', 1), ('泡樂', 1), ('大丈夫', 1), ('歐森 AWSON', 1), ('Bomb Cosmetics', 1), ('晶亮醇', 1), ('美適 Maxill', 1), ('自然主義', 1), ('貝貝實驗室', 1), ('First Cosmetics Works de第一化粧品', 1), ('森歐黎漾', 1), ('MAYCHIC', 1), ('NEXX', 1), ('愛卜 APro', 1), ('諾資', 1), ('LAC', 1), ('Remax', 1), ('YOTTA', 1), ('上田', 1), ('德國世家 Dr. Hauschka', 1), ('Care LinKage', 1), ('ElishaCoy', 1), ('Filco', 1), ('挪威 Mill', 1), ('精油大學 FaceSchool', 1), ('KUYURA', 1), ('聯碩', 1), ('倍科 Beko', 1), ('雙豪', 1), ('Apieu', 1), ('龍馬', 1), ('雅聞倍優', 1), ('Only good', 1), ('貝比斯特 Baby best', 1), ('樂活', 1), ('保羅叔叔 UNCLE PAUL', 1), ('PANROSE 潘柔', 1), ('Sant’Anna', 1), ('優芮珂絲', 1), ('TESCOMA', 1), ('御宴 GOEN', 1), ('錘子 BLADE', 1), ('國騰', 1), ('L’uxpresso', 1), ('大研', 1), ('囍碗 Loveabowl', 1), ('Beauty', 1), ('喜又美', 1), ('歐仕派', 1), ('四季 Seasons', 1), ('悅拭美', 1), ('Numis med 樂美思', 1), ('S&B', 1), ('NANOLABO', 1), ('LCDP', 1), ('Noodle&Boo', 1), ('Gulbirlik rose', 1), ('三鷹', 1), ('OASY', 1), ('元進莊', 1), ('奧佳華 OGAWA', 1), ('愛普士 Applaws', 1), (\"LASSIE'EL\", 1), ('金美滿 Kitchenwell', 1), ('奇哥 CHIC A BON', 1), ('戴爾Dell', 1), ('森萊富', 1), ('誠泰', 1), ('愛美力', 1), ('熊寶寶', 1), ('台麗', 1), ('i-KiREi', 1), ('Rudy', 1), ('HAPPY BATH', 1), ('Jumelle', 1), ('Merbliss', 1), ('ecostore', 1), ('火霹靂', 1), ('明星', 1), ('HABA', 1), (\"John's Blend\", 1), ('MENTURM', 1), ('愛司盟', 1), ('喜馬拉雅 Himalaya', 1), ('戴春林', 1), ('AKIMIA', 1), ('西華', 1), ('Lumina beauty care', 1), ('源美', 1), ('東邦', 1), ('TOPICREM 特碧潤', 1), ('BFFECT', 1), ('豪山', 1), ('范倫鐵諾 Valentino Rudy', 1), (\"Victoria's Secret 維多利亞的秘密\", 1), ('ANGE', 1), ('Duplair 朵萊爾', 1), ('八甲田', 1), ('TC', 1), ('木酢達人', 1), ('Herbox 荷柏園', 1), ('波力 POLI', 1), ('活力', 1), ('新生', 1), ('Dust Daddy', 1), ('健康物語', 1), ('21Plus', 1), ('創禾 SOKA', 1), ('INESSENCE 怡森氏', 1), ('EZlife', 1), ('樂健飛 LOVE CAN FLY', 1), ('Solan', 1), ('OraSi', 1), ('肯尼士 KENNEX', 1), ('檜山坊', 1), ('大昌', 1), ('BONE', 1), ('H＆W', 1), ('Tai Tai fon', 1), ('百岳  100mountain', 1), ('川雲', 1), ('風麋露 CEC', 1), ('哄寶貝', 1), ('R-driver', 1), ('咬咬猴 Matchstick Monkey', 1), ('Neobio 麗柏有機', 1), ('元歲', 1), ('美加獅 Mad Catz', 1), ('CAREIN 康茵', 1), ('澳克騎士 IVORY COAT', 1), (\"D'ALBA\", 1), ('GEROLSTEINER', 1), ('北鼎 BUYDEEM', 1), ('LALIL 樂靈', 1), ('愛康', 1), ('別海', 1), ('露米 Lumikenkä', 1), ('信東', 1), ('EXPED', 1), ('頂燒', 1), ('WOOLY', 1), ('THE LAUNDRESS', 1), ('Augustinus Bader 德國AB', 1), ('SUNISA 蘇妮薩', 1), ('伊聖詩 cosmescents', 1), ('OUI ORGANIC 唯有機', 1), ('鴻果 HONGO', 1), ('野宴 Livin Wild', 1), (\"伊思It's Skin\", 1), ('VENALISA', 1), ('GREENON', 1), ('TIGULLIO', 1), ('17PIN', 1), ('J/X', 1), ('CANARY', 1), ('GOSHU', 1), ('淨極勁GIGIJING', 1), ('MACCHIA LABEL 瑪珂蕾貝', 1), ('樂家咖啡', 1), ('CORSICA', 1), ('純戀 PURE', 1), ('永信', 1), ('Labiotte', 1), ('莫札特', 1), ('AD-ROCKET', 1), ('BARRIO', 1), ('歐米豆', 1), ('hinata bocco', 1), ('syoss 絲蘊', 1), ('睛亮', 1), ('髮蔓濃', 1), ('德瑪愛', 1), ('共饗食堂 Sharing Bistro', 1), ('RICENAL', 1), ('BONDI WASH', 1), ('保加利亞玫瑰Bulgarian Rose', 1), ('SmartWatch', 1), ('ECOVER', 1), ('COZY PET', 1), ('微美咖啡', 1), ('宏福牌', 1), ('PIXY 比可思', 1), ('雅如詩', 1), ('台海生技', 1), ('Emborg', 1), ('戀愛女神 Venus Amour', 1), ('Amma Garden 艾瑪花園', 1), ('鮮呼吸 Fresh breath', 1), ('佳達隆 Gateron', 1), ('康迪斯', 1), ('VV', 1), ('遠東生技', 1), ('富山', 1), ('SlimBaby 纖體寶貝', 1), ('宇堂 Glitter', 1), ('百樂潔', 1), ('Amstel', 1), ('Mr.Bone', 1), ('德妍思', 1), ('ALOVIVI', 1), ('Aroma', 1), ('Miller Harris', 1), ('Wellage', 1), ('恩樹 nsòu', 1), ('Urtale', 1), ('歡樂派', 1), ('伯爵', 1), ('BWX', 1), ('NOR.', 1), ('NOYL', 1), ('PARRS', 1), ('ICE RIVER', 1), ('Leopold', 1), ('北海道日高乳業', 1), ('JustHerb 香草集', 1), ('嚼嚼 JUEJUE', 1), ('TCSTAR', 1), ('fiesta pure shine', 1), ('甘味人生', 1), ('媞爾妮 Deary', 1), ('KTNET', 1), ('大西洋', 1), ('古酵寶', 1), ('信元發育寶 SINGEN', 1), ('富士', 1), ('narciso rodriguez', 1), ('安晴 Anqueen', 1), ('360', 1), ('palladium', 1), ('YUNOS', 1), ('費拉拉', 1), ('IDEE', 1), ('樂固特 Lacalut', 1), ('帕米爾 PARMIR', 1), ('賽嘉 SEAGO', 1), ('饅自然', 1), ('犬力食足', 1), ('雅娜蒂 amity', 1), ('Makeup Revolution', 1), ('TCoffee', 1), ('Nacific', 1), ('WIDE VIEW', 1), ('安慕希', 1), ('Ciaté夏緹', 1), ('愛瑞雅', 1), ('ADD+', 1), ('紅牛', 1), ('樂伊妥', 1), ('健康快遞', 1), ('wellness+ 盛燦男士', 1), ('優豆君', 1), ('柳營牧場', 1), ('Liese 莉婕', 1), ('Dr. SKIN', 1), ('SEE YOU', 1), ('Oakley', 1), ('pure.tiful 純淨妍', 1), ('BEAUTY CREDIT', 1), ('寵愛物語 pet story', 1), ('利百代', 1), (\"寶工 Pro'sKit\", 1), ('Yvonne Collection', 1), ('瑰柏翠', 1), ('Maison Belle 美生貝樂', 1), ('首華 SOWA', 1), ('Sukin', 1), ('Celefit', 1), ('SoapSpa', 1), ('Amazin graze', 1), ('山司伯特 SAN SPORTS', 1), ('潔牙一番', 1), ('Dr.wonder', 1), ('POSY', 1), ('jojome', 1), ('MENOW', 1), ('完美安可', 1), ('酷之泉', 1), ('G.MUST 台灣通用', 1), ('愛喵零食', 1), ('寵物甜心 PET SWEET', 1), ('Sanbisi', 1), ('美泰克 Maytag', 1), ('R.O.C.S.', 1), ('SUUEN', 1), ('Sasa', 1), ('Sunny Grasses', 1), ('Nursery', 1), ('良爽', 1), ('Qstyle', 1), (\"Paula's Nail 寶拉美甲\", 1), ('The zazak', 1), ('葛林菲 GREEN FISH', 1), ('Bon Aroma', 1), ('BRONSON', 1), ('台塑', 1), ('新格', 1), ('倍思特 Best', 1), ('德逸 DR.OKO', 1), ('富兔康', 1), ('丸進', 1), ('FORD', 1), ('自然之綠 NATURAVERDE', 1), ('理研', 1), ('吉維氏 KIWI SAFE', 1), ('Smith+Nephew 史耐輝', 1), ('FALA', 1), ('TAU', 1), ('凱夢 Dream Trend', 1), ('VH', 1), ('KOCSKIN 克麗詩黛', 1), ('Face+', 1), ('OULISI', 1), ('KS beauty', 1), ('奧圖 AATU', 1), ('梨奧美', 1), ('NATICE', 1), ('品夏 PERSHOW', 1), ('GOURMET', 1), ('探險者', 1), ('iVENOR', 1), ('Famiclean 全家安', 1), ('PURE純戀', 1), ('Skincode 瑞士之鑰', 1), ('GIORGIO ARMANI', 1), ('T core', 1), ('O’Keeffe’s 歐肌膚', 1), ('狐狸村', 1), ('鋼鐵人 InfoThink', 1), ('臻愛', 1), ('ECLEAR', 1), ('C-Skin 杜克', 1), ('Superfood Lab', 1), ('URBAN DECAY', 1), ('Pato.Pato', 1), ('蕾珂詩 La CASTA', 1), ('米物', 1), ('茉娜姿', 1), ('A+ Power', 1), ('清銀露', 1), ('海味hiway', 1), ('DermaAngel 護妍天使', 1), ('舒巴 SOOPA', 1), ('BLENDTEC', 1), ('Dear My', 1), ('美神契約', 1), ('PAUL MITCHELL', 1), ('Quaplar 葵柏兒', 1), ('RETREEV 蕊琦芙', 1), ('PEZRI 派翠', 1), ('黑設 BLACK GEARS', 1), ('Midea', 1), ('WADAKAN', 1), ('ONEROAD', 1), ('益暢優 yourla', 1), ('薰衣草森林', 1), ('韓國歐紳 OSNER', 1), ('Mr&Miss', 1), ('AITO', 1), ('Motorola', 1), ('SL', 1), ('HAKEN', 1), ('MOODmatcher', 1), ('可利亞 KRIA', 1), ('福記', 1), ('蘿莉絲塔 RORISTA', 1), ('數位新貴 DigiKing', 1), ('小七泡泡', 1), ('Pet village', 1), ('日虹', 1), ('呈禾康', 1), ('樂天', 1), ('PL', 1), ('露遊 Treewalker', 1), ('活力廚房', 1), ('日青', 1), ('寺岡家', 1), ('米徠', 1), ('雷迪兒 RADIUS', 1), ('S.Pellegrino', 1)])"
            ]
          },
          "metadata": {},
          "execution_count": 4
        }
      ]
    },
    {
      "cell_type": "code",
      "source": [
        "# brand name lexicalizations dictionary\n",
        "brand_invlexdict = {}\n",
        "brand_lexdict = {}\n",
        "for complete_name in brand_map.keys():\n",
        "  lexics = complete_name.split(' ')\n",
        "  brand_lexdict[complete_name] = lexics\n",
        "  brand_invlexdict[complete_name] = complete_name\n",
        "  for lex in lexics:\n",
        "    if len(lex.replace(' ', '')) == 0:\n",
        "      continue\n",
        "    if lex not in brand_invlexdict:\n",
        "      brand_invlexdict[lex] = complete_name\n",
        "      continue\n",
        "    # 完整的名字通常越長\n",
        "    if len(brand_invlexdict[lex]) < len(complete_name):\n",
        "      brand_invlexdict[lex] = complete_name\n",
        "    \n",
        "# inverted dictionary \n",
        "print(brand_invlexdict['慧心'])\n",
        "print(brand_invlexdict['慧心貓糧 SmartHeart'])\n",
        "print(brand_invlexdict['SmartHeart'])\n",
        "# Question: 在train dataset中同時有'慧心 SmartHeart'與'慧心貓糧 SmartHeart'的標記，但感覺是同一家公司。\n",
        "# 那麼意思是說，在test set上，如果遇到該品牌，標'慧心 SmartHeart'或'慧心貓糧 SmartHeart'都會被判斷為正確嗎？\n",
        "# 還是說只有其中一個是對的？如果只有其中一個是對的，我們要怎麼判斷是哪個呢？有正確的品牌標記的清單可循嗎？"
      ],
      "metadata": {
        "colab": {
          "base_uri": "https://localhost:8080/"
        },
        "id": "PK60ME7KppL9",
        "outputId": "af961d84-8561-4b28-efe4-c18330ff9533"
      },
      "execution_count": 5,
      "outputs": [
        {
          "output_type": "stream",
          "name": "stdout",
          "text": [
            "慧心 SmartHeart\n",
            "慧心貓糧 SmartHeart\n",
            "慧心貓糧 SmartHeart\n"
          ]
        }
      ]
    },
    {
      "cell_type": "code",
      "source": [
        "import os \n",
        "os.makedirs(f'{maindir}/data', exist_ok = True)\n",
        "filep = f'{maindir}/data/brand_counts.json'\n",
        "branddf['brand'].value_counts().to_json(filep, \n",
        "                                        force_ascii = False, \n",
        "                                        indent = 4)"
      ],
      "metadata": {
        "id": "jl6ny_FyDPva"
      },
      "execution_count": 6,
      "outputs": []
    },
    {
      "cell_type": "markdown",
      "source": [
        "## quantiles/percentiles"
      ],
      "metadata": {
        "id": "qmKv5k2gxk7D"
      }
    },
    {
      "cell_type": "code",
      "source": [
        "import numpy as np\n",
        "vals = list(brand_map.values())\n",
        "percs = ['中位數','3/4位數', 'pr 95', 'pr 99']\n",
        "ints = [50, 75, 95, 99]\n",
        "for x, ith in zip(percs, ints):\n",
        "  print(f'{x}: {np.percentile(vals, ith)}')"
      ],
      "metadata": {
        "colab": {
          "base_uri": "https://localhost:8080/"
        },
        "id": "6KgzMeg2CKJ8",
        "outputId": "380244fe-2bbc-463d-a083-dbf4867c5429"
      },
      "execution_count": null,
      "outputs": [
        {
          "output_type": "stream",
          "name": "stdout",
          "text": [
            "中位數: 3.0\n",
            "3/4位數: 11.0\n",
            "pr 95: 82.0\n",
            "pr 99: 225.65999999999985\n"
          ]
        }
      ]
    },
    {
      "cell_type": "code",
      "source": [
        "import re\n",
        "def clean_puncts(x):\n",
        "  '''\n",
        "  match English, numbers, chinese;\n",
        "  clean up all spaces\n",
        "  '''\n",
        "  x = str(x)\n",
        "  repat = '[\\u4e00-\\u9fff0-9a-zA-Z]+'\n",
        "  res = re.findall(repat, x)\n",
        "  return ''.join(res)\n",
        "def get_brand_(x):\n",
        "  x = str(x)\n",
        "  repat = '\\【(.*?)\\】'\n",
        "  first_match = re.match(repat, x)\n",
        "  # print('first match:', first_match)\n",
        "  if first_match:\n",
        "    return first_match.group(0)[1:-1] \n",
        "  # 有點沒效率\n",
        "  for k in brand_invlexdict.keys():\n",
        "    if k in x:\n",
        "      # print(f'key:{k}')\n",
        "      return brand_invlexdict[k]\n",
        "  return x[:3]\n",
        "\n",
        "text = 'S11益生菌(2g*30包/盒)'\t\n",
        "text = '【龍宏】辣豆瓣醬460g'\n",
        "text = '澤井 MugMug掛耳咖啡10P-濃郁(130g)'\n",
        "# text = '龜丸大豆本釀醬油500m'\n",
        "print(clean_puncts(text)) \n",
        "print(get_brand_(text))    # 應該要是S11益生菌，這是machine-annotated?"
      ],
      "metadata": {
        "colab": {
          "base_uri": "https://localhost:8080/"
        },
        "id": "GGl_oibM5dS5",
        "outputId": "f732eb04-a55c-487b-b389-3d16e17aee27"
      },
      "execution_count": 7,
      "outputs": [
        {
          "output_type": "stream",
          "name": "stdout",
          "text": [
            "澤井MugMug掛耳咖啡10P濃郁130g\n",
            "澤井\n"
          ]
        }
      ]
    },
    {
      "cell_type": "code",
      "source": [
        "branddf['clean_name'] = branddf.apply(lambda x: clean_puncts(x['name']), axis = 1)\n",
        "branddf['heuristic_brand'] =  branddf.apply(lambda x: get_brand_(x['name']), axis = 1)"
      ],
      "metadata": {
        "id": "ccqkSE7_NyYJ"
      },
      "execution_count": 8,
      "outputs": []
    },
    {
      "cell_type": "code",
      "source": [
        "branddf"
      ],
      "metadata": {
        "colab": {
          "base_uri": "https://localhost:8080/",
          "height": 70
        },
        "id": "mt7EtwfWP9dk",
        "outputId": "358ef156-d79e-4a6b-bb85-570728b41faa"
      },
      "execution_count": null,
      "outputs": [
        {
          "output_type": "execute_result",
          "data": {
            "text/plain": [
              "                                    name occurred_at  iv_price          brand  \\\n",
              "0                          元山熱水瓶YS-540AP  2021-02-07      1650             元山   \n",
              "1                    356612@姍拉娜治痘洗面乳150G  2021-02-02      1053            姍拉娜   \n",
              "2                        台鹽海洋鹼性離子水 600ML  2021-02-04       609             台鹽   \n",
              "3                           妮傲絲翠果酸深層保養乳液  2021-02-14      1142    NEO-TEC妮傲絲翠   \n",
              "4                舒潔棉柔舒適迪士尼抽取式衛生紙 100抽16入  2021-02-01       198             舒潔   \n",
              "...                                  ...         ...       ...            ...   \n",
              "70041  惠而浦16公斤瓦斯型滾筒蒸氣(可堆疊)乾衣機8TWGD6622HW  2021-02-07     35291  惠而浦 Whirlpool   \n",
              "70042                          康乃馨成人紙尿褲L  2021-02-04      1041            康乃馨   \n",
              "70043               日本芮芙茹零矽靈洗髮露460ml頭皮保養  2021-02-04       299     芮芙茹 Reveur   \n",
              "70044                Crest長效鎖白牙膏-輕柔鑽白99g  2021-02-13       401          crest   \n",
              "70045             714171@雀巢咖啡三合一義式拿鐵16G*  2021-02-04       281             雀巢   \n",
              "\n",
              "       units  unit_price  total_price                           channel  \\\n",
              "0        1.0      1490.0       1188.0  738fbc9320a9106d8905bef71a02bb99   \n",
              "1        1.0        85.0         85.0  d10c78673e1d88714ba645fadc3de0d1   \n",
              "2        1.0        19.0         19.0  d7769307282f69448322f9306bdf9700   \n",
              "3        1.0      1200.0       1200.0  7a0a2154662bc9038594f04c886c87d8   \n",
              "4        1.0       198.0        198.0  ab7febfe145bba3da1c0fb19507f1703   \n",
              "...      ...         ...          ...                               ...   \n",
              "70041    1.0     35291.0      35291.0  4a3d67cc0cd76bf56f18b40ed671bb05   \n",
              "70042    1.0       194.0        194.0  9742158c78b35d77c6351ecbfb60897b   \n",
              "70043    1.0       299.0        299.0  0f20279a949fd072f0e3858f97d0654a   \n",
              "70044    1.0        99.0         99.0  6757b9193b3446acb4b97a05649b3c7e   \n",
              "70045    1.0        99.0         99.0  dcfa99187fa812c6cd35f835f9d1e5f1   \n",
              "\n",
              "                            clean_name heuristic_brand  \n",
              "0                         元山熱水瓶YS540AP              元山  \n",
              "1                   356612姍拉娜治痘洗面乳150G             姍拉娜  \n",
              "2                       台鹽海洋鹼性離子水600ML              台鹽  \n",
              "3                         妮傲絲翠果酸深層保養乳液    NEO-TEC 妮傲絲翠  \n",
              "4               舒潔棉柔舒適迪士尼抽取式衛生紙100抽16入              舒潔  \n",
              "...                                ...             ...  \n",
              "70041  惠而浦16公斤瓦斯型滾筒蒸氣可堆疊乾衣機8TWGD6622HW   惠而浦 whirlpool  \n",
              "70042                        康乃馨成人紙尿褲L             康乃馨  \n",
              "70043             日本芮芙茹零矽靈洗髮露460ml頭皮保養      芮芙茹 Reveur  \n",
              "70044               Crest長效鎖白牙膏輕柔鑽白99g         Peach C  \n",
              "70045             714171雀巢咖啡三合一義式拿鐵16G       雀巢 Nestle  \n",
              "\n",
              "[70046 rows x 10 columns]"
            ],
            "text/html": [
              "\n",
              "  <div id=\"df-8fd3b6cd-cd80-459f-9fe6-1b6e8b9fd429\">\n",
              "    <div class=\"colab-df-container\">\n",
              "      <div>\n",
              "<style scoped>\n",
              "    .dataframe tbody tr th:only-of-type {\n",
              "        vertical-align: middle;\n",
              "    }\n",
              "\n",
              "    .dataframe tbody tr th {\n",
              "        vertical-align: top;\n",
              "    }\n",
              "\n",
              "    .dataframe thead th {\n",
              "        text-align: right;\n",
              "    }\n",
              "</style>\n",
              "<table border=\"1\" class=\"dataframe\">\n",
              "  <thead>\n",
              "    <tr style=\"text-align: right;\">\n",
              "      <th></th>\n",
              "      <th>name</th>\n",
              "      <th>occurred_at</th>\n",
              "      <th>iv_price</th>\n",
              "      <th>brand</th>\n",
              "      <th>units</th>\n",
              "      <th>unit_price</th>\n",
              "      <th>total_price</th>\n",
              "      <th>channel</th>\n",
              "      <th>clean_name</th>\n",
              "      <th>heuristic_brand</th>\n",
              "    </tr>\n",
              "  </thead>\n",
              "  <tbody>\n",
              "    <tr>\n",
              "      <th>0</th>\n",
              "      <td>元山熱水瓶YS-540AP</td>\n",
              "      <td>2021-02-07</td>\n",
              "      <td>1650</td>\n",
              "      <td>元山</td>\n",
              "      <td>1.0</td>\n",
              "      <td>1490.0</td>\n",
              "      <td>1188.0</td>\n",
              "      <td>738fbc9320a9106d8905bef71a02bb99</td>\n",
              "      <td>元山熱水瓶YS540AP</td>\n",
              "      <td>元山</td>\n",
              "    </tr>\n",
              "    <tr>\n",
              "      <th>1</th>\n",
              "      <td>356612@姍拉娜治痘洗面乳150G</td>\n",
              "      <td>2021-02-02</td>\n",
              "      <td>1053</td>\n",
              "      <td>姍拉娜</td>\n",
              "      <td>1.0</td>\n",
              "      <td>85.0</td>\n",
              "      <td>85.0</td>\n",
              "      <td>d10c78673e1d88714ba645fadc3de0d1</td>\n",
              "      <td>356612姍拉娜治痘洗面乳150G</td>\n",
              "      <td>姍拉娜</td>\n",
              "    </tr>\n",
              "    <tr>\n",
              "      <th>2</th>\n",
              "      <td>台鹽海洋鹼性離子水 600ML</td>\n",
              "      <td>2021-02-04</td>\n",
              "      <td>609</td>\n",
              "      <td>台鹽</td>\n",
              "      <td>1.0</td>\n",
              "      <td>19.0</td>\n",
              "      <td>19.0</td>\n",
              "      <td>d7769307282f69448322f9306bdf9700</td>\n",
              "      <td>台鹽海洋鹼性離子水600ML</td>\n",
              "      <td>台鹽</td>\n",
              "    </tr>\n",
              "    <tr>\n",
              "      <th>3</th>\n",
              "      <td>妮傲絲翠果酸深層保養乳液</td>\n",
              "      <td>2021-02-14</td>\n",
              "      <td>1142</td>\n",
              "      <td>NEO-TEC妮傲絲翠</td>\n",
              "      <td>1.0</td>\n",
              "      <td>1200.0</td>\n",
              "      <td>1200.0</td>\n",
              "      <td>7a0a2154662bc9038594f04c886c87d8</td>\n",
              "      <td>妮傲絲翠果酸深層保養乳液</td>\n",
              "      <td>NEO-TEC 妮傲絲翠</td>\n",
              "    </tr>\n",
              "    <tr>\n",
              "      <th>4</th>\n",
              "      <td>舒潔棉柔舒適迪士尼抽取式衛生紙 100抽16入</td>\n",
              "      <td>2021-02-01</td>\n",
              "      <td>198</td>\n",
              "      <td>舒潔</td>\n",
              "      <td>1.0</td>\n",
              "      <td>198.0</td>\n",
              "      <td>198.0</td>\n",
              "      <td>ab7febfe145bba3da1c0fb19507f1703</td>\n",
              "      <td>舒潔棉柔舒適迪士尼抽取式衛生紙100抽16入</td>\n",
              "      <td>舒潔</td>\n",
              "    </tr>\n",
              "    <tr>\n",
              "      <th>...</th>\n",
              "      <td>...</td>\n",
              "      <td>...</td>\n",
              "      <td>...</td>\n",
              "      <td>...</td>\n",
              "      <td>...</td>\n",
              "      <td>...</td>\n",
              "      <td>...</td>\n",
              "      <td>...</td>\n",
              "      <td>...</td>\n",
              "      <td>...</td>\n",
              "    </tr>\n",
              "    <tr>\n",
              "      <th>70041</th>\n",
              "      <td>惠而浦16公斤瓦斯型滾筒蒸氣(可堆疊)乾衣機8TWGD6622HW</td>\n",
              "      <td>2021-02-07</td>\n",
              "      <td>35291</td>\n",
              "      <td>惠而浦 Whirlpool</td>\n",
              "      <td>1.0</td>\n",
              "      <td>35291.0</td>\n",
              "      <td>35291.0</td>\n",
              "      <td>4a3d67cc0cd76bf56f18b40ed671bb05</td>\n",
              "      <td>惠而浦16公斤瓦斯型滾筒蒸氣可堆疊乾衣機8TWGD6622HW</td>\n",
              "      <td>惠而浦 whirlpool</td>\n",
              "    </tr>\n",
              "    <tr>\n",
              "      <th>70042</th>\n",
              "      <td>康乃馨成人紙尿褲L</td>\n",
              "      <td>2021-02-04</td>\n",
              "      <td>1041</td>\n",
              "      <td>康乃馨</td>\n",
              "      <td>1.0</td>\n",
              "      <td>194.0</td>\n",
              "      <td>194.0</td>\n",
              "      <td>9742158c78b35d77c6351ecbfb60897b</td>\n",
              "      <td>康乃馨成人紙尿褲L</td>\n",
              "      <td>康乃馨</td>\n",
              "    </tr>\n",
              "    <tr>\n",
              "      <th>70043</th>\n",
              "      <td>日本芮芙茹零矽靈洗髮露460ml頭皮保養</td>\n",
              "      <td>2021-02-04</td>\n",
              "      <td>299</td>\n",
              "      <td>芮芙茹 Reveur</td>\n",
              "      <td>1.0</td>\n",
              "      <td>299.0</td>\n",
              "      <td>299.0</td>\n",
              "      <td>0f20279a949fd072f0e3858f97d0654a</td>\n",
              "      <td>日本芮芙茹零矽靈洗髮露460ml頭皮保養</td>\n",
              "      <td>芮芙茹 Reveur</td>\n",
              "    </tr>\n",
              "    <tr>\n",
              "      <th>70044</th>\n",
              "      <td>Crest長效鎖白牙膏-輕柔鑽白99g</td>\n",
              "      <td>2021-02-13</td>\n",
              "      <td>401</td>\n",
              "      <td>crest</td>\n",
              "      <td>1.0</td>\n",
              "      <td>99.0</td>\n",
              "      <td>99.0</td>\n",
              "      <td>6757b9193b3446acb4b97a05649b3c7e</td>\n",
              "      <td>Crest長效鎖白牙膏輕柔鑽白99g</td>\n",
              "      <td>Peach C</td>\n",
              "    </tr>\n",
              "    <tr>\n",
              "      <th>70045</th>\n",
              "      <td>714171@雀巢咖啡三合一義式拿鐵16G*</td>\n",
              "      <td>2021-02-04</td>\n",
              "      <td>281</td>\n",
              "      <td>雀巢</td>\n",
              "      <td>1.0</td>\n",
              "      <td>99.0</td>\n",
              "      <td>99.0</td>\n",
              "      <td>dcfa99187fa812c6cd35f835f9d1e5f1</td>\n",
              "      <td>714171雀巢咖啡三合一義式拿鐵16G</td>\n",
              "      <td>雀巢 Nestle</td>\n",
              "    </tr>\n",
              "  </tbody>\n",
              "</table>\n",
              "<p>70046 rows × 10 columns</p>\n",
              "</div>\n",
              "      <button class=\"colab-df-convert\" onclick=\"convertToInteractive('df-8fd3b6cd-cd80-459f-9fe6-1b6e8b9fd429')\"\n",
              "              title=\"Convert this dataframe to an interactive table.\"\n",
              "              style=\"display:none;\">\n",
              "        \n",
              "  <svg xmlns=\"http://www.w3.org/2000/svg\" height=\"24px\"viewBox=\"0 0 24 24\"\n",
              "       width=\"24px\">\n",
              "    <path d=\"M0 0h24v24H0V0z\" fill=\"none\"/>\n",
              "    <path d=\"M18.56 5.44l.94 2.06.94-2.06 2.06-.94-2.06-.94-.94-2.06-.94 2.06-2.06.94zm-11 1L8.5 8.5l.94-2.06 2.06-.94-2.06-.94L8.5 2.5l-.94 2.06-2.06.94zm10 10l.94 2.06.94-2.06 2.06-.94-2.06-.94-.94-2.06-.94 2.06-2.06.94z\"/><path d=\"M17.41 7.96l-1.37-1.37c-.4-.4-.92-.59-1.43-.59-.52 0-1.04.2-1.43.59L10.3 9.45l-7.72 7.72c-.78.78-.78 2.05 0 2.83L4 21.41c.39.39.9.59 1.41.59.51 0 1.02-.2 1.41-.59l7.78-7.78 2.81-2.81c.8-.78.8-2.07 0-2.86zM5.41 20L4 18.59l7.72-7.72 1.47 1.35L5.41 20z\"/>\n",
              "  </svg>\n",
              "      </button>\n",
              "      \n",
              "  <style>\n",
              "    .colab-df-container {\n",
              "      display:flex;\n",
              "      flex-wrap:wrap;\n",
              "      gap: 12px;\n",
              "    }\n",
              "\n",
              "    .colab-df-convert {\n",
              "      background-color: #E8F0FE;\n",
              "      border: none;\n",
              "      border-radius: 50%;\n",
              "      cursor: pointer;\n",
              "      display: none;\n",
              "      fill: #1967D2;\n",
              "      height: 32px;\n",
              "      padding: 0 0 0 0;\n",
              "      width: 32px;\n",
              "    }\n",
              "\n",
              "    .colab-df-convert:hover {\n",
              "      background-color: #E2EBFA;\n",
              "      box-shadow: 0px 1px 2px rgba(60, 64, 67, 0.3), 0px 1px 3px 1px rgba(60, 64, 67, 0.15);\n",
              "      fill: #174EA6;\n",
              "    }\n",
              "\n",
              "    [theme=dark] .colab-df-convert {\n",
              "      background-color: #3B4455;\n",
              "      fill: #D2E3FC;\n",
              "    }\n",
              "\n",
              "    [theme=dark] .colab-df-convert:hover {\n",
              "      background-color: #434B5C;\n",
              "      box-shadow: 0px 1px 3px 1px rgba(0, 0, 0, 0.15);\n",
              "      filter: drop-shadow(0px 1px 2px rgba(0, 0, 0, 0.3));\n",
              "      fill: #FFFFFF;\n",
              "    }\n",
              "  </style>\n",
              "\n",
              "      <script>\n",
              "        const buttonEl =\n",
              "          document.querySelector('#df-8fd3b6cd-cd80-459f-9fe6-1b6e8b9fd429 button.colab-df-convert');\n",
              "        buttonEl.style.display =\n",
              "          google.colab.kernel.accessAllowed ? 'block' : 'none';\n",
              "\n",
              "        async function convertToInteractive(key) {\n",
              "          const element = document.querySelector('#df-8fd3b6cd-cd80-459f-9fe6-1b6e8b9fd429');\n",
              "          const dataTable =\n",
              "            await google.colab.kernel.invokeFunction('convertToInteractive',\n",
              "                                                     [key], {});\n",
              "          if (!dataTable) return;\n",
              "\n",
              "          const docLinkHtml = 'Like what you see? Visit the ' +\n",
              "            '<a target=\"_blank\" href=https://colab.research.google.com/notebooks/data_table.ipynb>data table notebook</a>'\n",
              "            + ' to learn more about interactive tables.';\n",
              "          element.innerHTML = '';\n",
              "          dataTable['output_type'] = 'display_data';\n",
              "          await google.colab.output.renderOutput(dataTable, element);\n",
              "          const docLink = document.createElement('div');\n",
              "          docLink.innerHTML = docLinkHtml;\n",
              "          element.appendChild(docLink);\n",
              "        }\n",
              "      </script>\n",
              "    </div>\n",
              "  </div>\n",
              "  "
            ]
          },
          "metadata": {},
          "execution_count": 78
        },
        {
          "output_type": "stream",
          "name": "stdout",
          "text": [
            "Warning: total number of rows (70046) exceeds max_rows (20000). Limiting to first (20000) rows.\n",
            "Warning: total number of rows (70046) exceeds max_rows (20000). Limiting to first (20000) rows.\n"
          ]
        }
      ]
    },
    {
      "cell_type": "code",
      "source": [
        "branddf.to_csv(f'{maindir}/data/preproc_brand_train.csv')"
      ],
      "metadata": {
        "id": "yPrQITZdoLIG"
      },
      "execution_count": null,
      "outputs": []
    },
    {
      "cell_type": "code",
      "source": [
        "# brands = branddf.groupby('brand')  # brands.first()\n",
        "import json\n",
        "fp1 = f'{maindir}/data/brand_lexics.json'\n",
        "fp2 = f'{maindir}/data/inverted_brand_lexics.json'\n",
        "with open (fp1, 'w') as f:\n",
        "  json.dump(brand_lexdict, f, indent = 4, ensure_ascii = False)\n",
        "with open (fp2, 'w') as f:\n",
        "  json.dump(brand_invlexdict, f, indent = 4, ensure_ascii = False)"
      ],
      "metadata": {
        "id": "14fyw8XrelAB"
      },
      "execution_count": null,
      "outputs": []
    },
    {
      "cell_type": "markdown",
      "source": [
        "## Profiler Report\n",
        "用的是原始資料集，\n",
        "但因為原始資料集有標記品牌多種表達（multiple lexicalizations）的問題，\n",
        "數據可能有所失真。"
      ],
      "metadata": {
        "id": "SIHZs954MXzf"
      }
    },
    {
      "cell_type": "code",
      "source": [
        "!pip -q install pandas-profiling==2.8.0"
      ],
      "metadata": {
        "id": "LFSwXwPlRwzq"
      },
      "execution_count": null,
      "outputs": []
    },
    {
      "cell_type": "code",
      "source": [
        "# !pip uninstall pandas-profiling"
      ],
      "metadata": {
        "colab": {
          "base_uri": "https://localhost:8080/"
        },
        "id": "C7-77segTDEm",
        "outputId": "3ed700dd-e55a-4f78-a6c8-9245e915756d"
      },
      "execution_count": null,
      "outputs": [
        {
          "output_type": "stream",
          "name": "stdout",
          "text": [
            "Found existing installation: pandas-profiling 2.8.0\n",
            "Uninstalling pandas-profiling-2.8.0:\n",
            "  Would remove:\n",
            "    /usr/local/bin/pandas_profiling\n",
            "    /usr/local/lib/python3.7/dist-packages/pandas_profiling-2.8.0.dist-info/*\n",
            "    /usr/local/lib/python3.7/dist-packages/pandas_profiling/*\n",
            "Proceed (y/n)? y\n",
            "  Successfully uninstalled pandas-profiling-2.8.0\n"
          ]
        }
      ]
    },
    {
      "cell_type": "code",
      "source": [
        "from pandas_profiling import ProfileReport\n",
        "file_prefix= 'brand_train'\n",
        "filepath = f'{maindir}/東吳課程_發票資料集/品牌資料集/brand_train.csv'\n",
        "df= pd.read_csv(filepath)\n",
        "df.fillna('', inplace = True) "
      ],
      "metadata": {
        "id": "L4kv3cHXewnB"
      },
      "execution_count": null,
      "outputs": []
    },
    {
      "cell_type": "code",
      "source": [
        "%load_ext autoreload\n",
        "%autoreload 2"
      ],
      "metadata": {
        "id": "W5dxDVXAZlcD"
      },
      "execution_count": null,
      "outputs": []
    },
    {
      "cell_type": "code",
      "source": [
        "from pandas_profiling import ProfileReport\n",
        "profile = ProfileReport(df, title = file_prefix, explorative = True)\n",
        "profile.to_file(f'{maindir}/data/{file_prefix}_EDA.html') # may need to fix version issues "
      ],
      "metadata": {
        "colab": {
          "base_uri": "https://localhost:8080/",
          "height": 145,
          "referenced_widgets": [
            "ce76bf370af54a6f862e1f67f5f5274d",
            "a497a0fefb044e499c636780a3442972",
            "89c35ce124594d6e8c67e023944c0fc9",
            "f8c26a5f9c8c4e3c81af3471b93439e7",
            "b2c92df0332a4020904ace5920e1f05c",
            "a1bd042edc9d45fcbaccbe761fee6ba7",
            "b2aa9a336271456eae9dba5a08b61b38",
            "53648ae120fc4c08946418c423646a36",
            "d442e79d6e814656b88834476fe1fadb",
            "b99e2d35092a449885545998e0e77769",
            "6c0de72737fe40bd9908d6810a8fcfcc",
            "e999f630d9b3471d97cf3dbeb3d8c9ac",
            "b31893a1154f4a8e9ef84272167de5ac",
            "927f4e734a5546b182b56a0527bfa8d2",
            "51f4222300374b058e56b2398d68cf3f",
            "1b7035f983954903a4bc5a757eb8ec4c",
            "fc4ca29d7cd54c6dbf94905335c8d6a8",
            "d271ca11d9454d6aae75381408a32ef2",
            "2df2bfd23ad14b7babf515dfe6ef8ac7",
            "a894ce41f1a546069337721cda5a9e5c",
            "a2b2a2d47bcf4eada5ec957945c75c8b",
            "18bd0417d3fd4a4b90296881c520e946",
            "62af337c2ae04c5e9bcf6d57f0f4d7f7",
            "a0c94ca248ac47438b91329c56fa9706",
            "dd36af2964e447f7b9ac5fd24bc54ffe",
            "037c5139b0f44cf0ab503cbb17d0881c",
            "b80485493058400594e381c621ffec37",
            "a9d9e39064494d09848bc9c6aae5cafc",
            "2f72540dfb414a68b698fb0afd7d3412",
            "cf7fc9e0ac0c4e1b8089c1c409d6142f",
            "92d5b544d2e44bd9983660064db9eb64",
            "51569f8db8ab465fa2a5226b7a2a8072",
            "31d79d2112c3481da9ee28f83338c7a3",
            "ca2c07bac4ca4565a39c574e1a2c27ac",
            "1b72360faf1c423da5c63fd2ca80439c",
            "b1af3e8a3eae43258247df736864ee9d",
            "fff4d946c1c442c7aafdf3ef1f41ab56",
            "f080c3480bad4bdca7a2a4d0e3a3f000",
            "1a76257d0de142d29f0f54680ab9e84a",
            "8f7324ba9bd34770815bb14f104986d4",
            "a9f062a38587489e8f078e265cca5095",
            "f3e0a273bbe94d1a96ccba2c109a7c80",
            "4c703cc4199a4e68bc6127c7dbaed8e4",
            "2bd97dc9494f458b845c632fa8dccdb9"
          ]
        },
        "id": "3WKhG7DaUpLx",
        "outputId": "a69a4df4-79dc-4622-fc79-5fa711f7f860"
      },
      "execution_count": null,
      "outputs": [
        {
          "output_type": "display_data",
          "data": {
            "text/plain": [
              "Summarize dataset:   0%|          | 0/22 [00:00<?, ?it/s]"
            ],
            "application/vnd.jupyter.widget-view+json": {
              "version_major": 2,
              "version_minor": 0,
              "model_id": "ce76bf370af54a6f862e1f67f5f5274d"
            }
          },
          "metadata": {}
        },
        {
          "output_type": "display_data",
          "data": {
            "text/plain": [
              "Generate report structure:   0%|          | 0/1 [00:00<?, ?it/s]"
            ],
            "application/vnd.jupyter.widget-view+json": {
              "version_major": 2,
              "version_minor": 0,
              "model_id": "e999f630d9b3471d97cf3dbeb3d8c9ac"
            }
          },
          "metadata": {}
        },
        {
          "output_type": "display_data",
          "data": {
            "text/plain": [
              "Render HTML:   0%|          | 0/1 [00:00<?, ?it/s]"
            ],
            "application/vnd.jupyter.widget-view+json": {
              "version_major": 2,
              "version_minor": 0,
              "model_id": "62af337c2ae04c5e9bcf6d57f0f4d7f7"
            }
          },
          "metadata": {}
        },
        {
          "output_type": "display_data",
          "data": {
            "text/plain": [
              "Export report to file:   0%|          | 0/1 [00:00<?, ?it/s]"
            ],
            "application/vnd.jupyter.widget-view+json": {
              "version_major": 2,
              "version_minor": 0,
              "model_id": "ca2c07bac4ca4565a39c574e1a2c27ac"
            }
          },
          "metadata": {}
        }
      ]
    },
    {
      "cell_type": "markdown",
      "source": [
        "## Heuristic Baseline:\n",
        "### Macro f1\n",
        "reflections: need to get「正確」的品牌名\n"
      ],
      "metadata": {
        "id": "6gLRh5FC_sl-"
      }
    },
    {
      "cell_type": "code",
      "source": [
        "import numpy as np\n",
        "from sklearn.metrics import f1_score"
      ],
      "metadata": {
        "id": "y98uk1L1_vTR"
      },
      "execution_count": 10,
      "outputs": []
    },
    {
      "cell_type": "code",
      "source": [
        "y_true = branddf['brand']\n",
        "y_pred = branddf['heuristic_brand']\n",
        "f1_score(y_true, y_pred, average = 'macro') "
      ],
      "metadata": {
        "colab": {
          "base_uri": "https://localhost:8080/"
        },
        "id": "QcdjxM1uoXCu",
        "outputId": "09aa195f-6fc4-4e24-e227-d0d7bf08192c"
      },
      "execution_count": 11,
      "outputs": [
        {
          "output_type": "execute_result",
          "data": {
            "text/plain": [
              "0.19162285928911968"
            ]
          },
          "metadata": {},
          "execution_count": 11
        }
      ]
    },
    {
      "cell_type": "markdown",
      "source": [
        "### Jaccard"
      ],
      "metadata": {
        "id": "8Xd4OTJO7FIQ"
      }
    },
    {
      "cell_type": "code",
      "source": [
        "!pip -q install textdistance"
      ],
      "metadata": {
        "id": "JFPQJEyy7yvC"
      },
      "execution_count": 12,
      "outputs": []
    },
    {
      "cell_type": "code",
      "source": [
        "from textdistance import jaccard\n",
        "running_score = 0 \n",
        "for t, p in zip(y_true, y_pred):\n",
        "  running_score += jaccard(t, p)\n",
        "running_score/(len(y_true))"
      ],
      "metadata": {
        "colab": {
          "base_uri": "https://localhost:8080/"
        },
        "id": "ip9bFJ787G9K",
        "outputId": "705d4dab-1edd-415f-a958-c299c5534d14"
      },
      "execution_count": 13,
      "outputs": [
        {
          "output_type": "execute_result",
          "data": {
            "text/plain": [
              "0.6505755685570801"
            ]
          },
          "metadata": {},
          "execution_count": 13
        }
      ]
    }
  ]
}